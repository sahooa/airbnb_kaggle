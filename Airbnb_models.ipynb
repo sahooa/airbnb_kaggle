{
 "cells": [
  {
   "cell_type": "code",
   "execution_count": 1,
   "metadata": {
    "collapsed": true
   },
   "outputs": [],
   "source": [
    "import pandas as pd\n",
    "import numpy as np"
   ]
  },
  {
   "cell_type": "code",
   "execution_count": 2,
   "metadata": {
    "collapsed": false
   },
   "outputs": [],
   "source": [
    "train = pd.read_csv('data/train_users_2.csv')\n",
    "age_gender = pd.read_csv('data/age_gender_bkts.csv')\n",
    "countries = pd.read_csv('data/countries.csv')\n",
    "sess = pd.read_csv('data/sessions.csv')\n",
    "test = pd.read_csv('data/test_users.csv')"
   ]
  },
  {
   "cell_type": "code",
   "execution_count": 3,
   "metadata": {
    "collapsed": false
   },
   "outputs": [
    {
     "name": "stdout",
     "output_type": "stream",
     "text": [
      "Train data shape (213451, 16)\n",
      "Age Gender shape (420, 5)\n",
      "Countries Shape (10, 7)\n",
      "Session Shape (10567737, 6)\n",
      "Test Shape (62096, 15)\n"
     ]
    }
   ],
   "source": [
    "print 'Train data shape', train.shape\n",
    "print 'Age Gender shape', age_gender.shape\n",
    "print 'Countries Shape', countries.shape\n",
    "print 'Session Shape', sess.shape\n",
    "print 'Test Shape', test.shape"
   ]
  },
  {
   "cell_type": "code",
   "execution_count": 4,
   "metadata": {
    "collapsed": false
   },
   "outputs": [
    {
     "data": {
      "text/plain": [
       "Index([u'id', u'date_account_created', u'timestamp_first_active',\n",
       "       u'date_first_booking', u'gender', u'age', u'signup_method',\n",
       "       u'signup_flow', u'language', u'affiliate_channel',\n",
       "       u'affiliate_provider', u'first_affiliate_tracked', u'signup_app',\n",
       "       u'first_device_type', u'first_browser'],\n",
       "      dtype='object')"
      ]
     },
     "execution_count": 4,
     "metadata": {},
     "output_type": "execute_result"
    }
   ],
   "source": [
    "test.columns"
   ]
  },
  {
   "cell_type": "markdown",
   "metadata": {},
   "source": [
    "PREPROCESSING DATA"
   ]
  },
  {
   "cell_type": "code",
   "execution_count": 5,
   "metadata": {
    "collapsed": true
   },
   "outputs": [],
   "source": [
    "train_test = pd.concat((train, test), axis=0, ignore_index=True)"
   ]
  },
  {
   "cell_type": "code",
   "execution_count": 6,
   "metadata": {
    "collapsed": false
   },
   "outputs": [
    {
     "data": {
      "text/plain": [
       "(275547, 16)"
      ]
     },
     "execution_count": 6,
     "metadata": {},
     "output_type": "execute_result"
    }
   ],
   "source": [
    "train_test.shape"
   ]
  },
  {
   "cell_type": "code",
   "execution_count": 7,
   "metadata": {
    "collapsed": false
   },
   "outputs": [],
   "source": [
    "train_test = train_test.reindex_axis(train.columns, axis=1)"
   ]
  },
  {
   "cell_type": "code",
   "execution_count": 8,
   "metadata": {
    "collapsed": true
   },
   "outputs": [],
   "source": [
    "train_test['date_account_created']= pd.to_datetime(train_test['date_account_created'])"
   ]
  },
  {
   "cell_type": "code",
   "execution_count": 9,
   "metadata": {
    "collapsed": false
   },
   "outputs": [],
   "source": [
    "train_test['timestamp_first_active']=pd.to_datetime((train_test[\"timestamp_first_active\"] // 1000000), format='%Y%m%d')"
   ]
  },
  {
   "cell_type": "code",
   "execution_count": 10,
   "metadata": {
    "collapsed": true
   },
   "outputs": [],
   "source": [
    "train_test['date_first_booking']= pd.to_datetime(train_test['date_first_booking'])"
   ]
  },
  {
   "cell_type": "code",
   "execution_count": 11,
   "metadata": {
    "collapsed": false
   },
   "outputs": [],
   "source": [
    "train_test.loc[train_test.age > 99, 'age'] = np.nan\n",
    "train_test.loc[train_test.age < 18, 'age'] = np.nan"
   ]
  },
  {
   "cell_type": "code",
   "execution_count": 12,
   "metadata": {
    "collapsed": true
   },
   "outputs": [],
   "source": [
    "train_test.gender.replace('-unknown-', np.nan, inplace=True)"
   ]
  },
  {
   "cell_type": "code",
   "execution_count": 13,
   "metadata": {
    "collapsed": true
   },
   "outputs": [],
   "source": [
    "train_test.language.replace('-unknown-', np.nan, inplace=True)"
   ]
  },
  {
   "cell_type": "code",
   "execution_count": 14,
   "metadata": {
    "collapsed": true
   },
   "outputs": [],
   "source": [
    "train_test.first_browser.replace('-unknown-', np.nan, inplace=True)"
   ]
  },
  {
   "cell_type": "code",
   "execution_count": 15,
   "metadata": {
    "collapsed": false
   },
   "outputs": [],
   "source": [
    "def calc_date_features(df):\n",
    "    #date_field = [\"date_account_created\",\"timestamp_first_active\",\"date_first_booking\"]\n",
    "    #date_der = {}\n",
    "    for row in [\"month\",\"year\", \"day\", \"dayofweek\", \"quarter\"]:\n",
    "        df[\"date_accnt_created_{0}\".format(row)] = getattr(df[\"date_account_created\"].dt, row).astype('int',raise_on_error=False)\n",
    "        df[\"timestamp_first_active_{0}\".format(row)] = getattr(df[\"timestamp_first_active\"].dt, row).astype('int',raise_on_error=False)\n",
    "        df[\"date_first_booking_{0}\".format(row)] = getattr(df[\"date_first_booking\"].dt, row).astype('int',raise_on_error=False)\n",
    "    #return pd.DataFrame(df)"
   ]
  },
  {
   "cell_type": "code",
   "execution_count": 16,
   "metadata": {
    "collapsed": false
   },
   "outputs": [],
   "source": [
    "calc_date_features(train_test)"
   ]
  },
  {
   "cell_type": "code",
   "execution_count": 17,
   "metadata": {
    "collapsed": true
   },
   "outputs": [],
   "source": [
    "train_test.drop(\"date_account_created\", axis=1, inplace=True)\n",
    "train_test.drop(\"timestamp_first_active\", axis=1, inplace=True)\n",
    "train_test.drop(\"date_first_booking\", axis=1, inplace=True)"
   ]
  },
  {
   "cell_type": "code",
   "execution_count": 18,
   "metadata": {
    "collapsed": false
   },
   "outputs": [
    {
     "data": {
      "text/plain": [
       "(275547, 28)"
      ]
     },
     "execution_count": 18,
     "metadata": {},
     "output_type": "execute_result"
    }
   ],
   "source": [
    "train_test.shape"
   ]
  },
  {
   "cell_type": "code",
   "execution_count": 19,
   "metadata": {
    "collapsed": true
   },
   "outputs": [],
   "source": [
    "categorical_features = [\n",
    "    'gender', 'signup_method', 'signup_flow', 'language',\n",
    "    'affiliate_channel', 'affiliate_provider', 'first_affiliate_tracked',\n",
    "    'signup_app', 'first_device_type', 'first_browser']"
   ]
  },
  {
   "cell_type": "code",
   "execution_count": 20,
   "metadata": {
    "collapsed": false
   },
   "outputs": [
    {
     "data": {
      "text/plain": [
       "(275547, 168)"
      ]
     },
     "execution_count": 20,
     "metadata": {},
     "output_type": "execute_result"
    }
   ],
   "source": [
    "train_test = pd.get_dummies(train_test, columns=categorical_features)\n",
    "train_test.shape"
   ]
  },
  {
   "cell_type": "code",
   "execution_count": 21,
   "metadata": {
    "collapsed": false
   },
   "outputs": [],
   "source": [
    "train_test.set_index('id', inplace=True)\n",
    "test_final = train_test.loc[test['id']].drop('country_destination', axis=1)\n",
    "train_final = train_test.loc[train['id']]\n",
    "train_final = train_final.fillna(-1)"
   ]
  },
  {
   "cell_type": "code",
   "execution_count": 22,
   "metadata": {
    "collapsed": false
   },
   "outputs": [
    {
     "data": {
      "text/plain": [
       "(213451, 167)"
      ]
     },
     "execution_count": 22,
     "metadata": {},
     "output_type": "execute_result"
    }
   ],
   "source": [
    "train_final.shape"
   ]
  },
  {
   "cell_type": "code",
   "execution_count": 23,
   "metadata": {
    "collapsed": false
   },
   "outputs": [
    {
     "data": {
      "text/plain": [
       "(62096, 166)"
      ]
     },
     "execution_count": 23,
     "metadata": {},
     "output_type": "execute_result"
    }
   ],
   "source": [
    "test_final.shape"
   ]
  },
  {
   "cell_type": "code",
   "execution_count": 24,
   "metadata": {
    "collapsed": false
   },
   "outputs": [
    {
     "data": {
      "text/html": [
       "<div>\n",
       "<table border=\"1\" class=\"dataframe\">\n",
       "  <thead>\n",
       "    <tr style=\"text-align: right;\">\n",
       "      <th></th>\n",
       "      <th>age</th>\n",
       "      <th>country_destination</th>\n",
       "      <th>date_accnt_created_month</th>\n",
       "      <th>timestamp_first_active_month</th>\n",
       "      <th>date_first_booking_month</th>\n",
       "      <th>date_accnt_created_year</th>\n",
       "      <th>timestamp_first_active_year</th>\n",
       "      <th>date_first_booking_year</th>\n",
       "      <th>date_accnt_created_day</th>\n",
       "      <th>timestamp_first_active_day</th>\n",
       "      <th>...</th>\n",
       "      <th>first_browser_Silk</th>\n",
       "      <th>first_browser_SiteKiosk</th>\n",
       "      <th>first_browser_SlimBrowser</th>\n",
       "      <th>first_browser_Sogou Explorer</th>\n",
       "      <th>first_browser_Stainless</th>\n",
       "      <th>first_browser_TenFourFox</th>\n",
       "      <th>first_browser_TheWorld Browser</th>\n",
       "      <th>first_browser_UC Browser</th>\n",
       "      <th>first_browser_Yandex.Browser</th>\n",
       "      <th>first_browser_wOSBrowser</th>\n",
       "    </tr>\n",
       "    <tr>\n",
       "      <th>id</th>\n",
       "      <th></th>\n",
       "      <th></th>\n",
       "      <th></th>\n",
       "      <th></th>\n",
       "      <th></th>\n",
       "      <th></th>\n",
       "      <th></th>\n",
       "      <th></th>\n",
       "      <th></th>\n",
       "      <th></th>\n",
       "      <th></th>\n",
       "      <th></th>\n",
       "      <th></th>\n",
       "      <th></th>\n",
       "      <th></th>\n",
       "      <th></th>\n",
       "      <th></th>\n",
       "      <th></th>\n",
       "      <th></th>\n",
       "      <th></th>\n",
       "      <th></th>\n",
       "    </tr>\n",
       "  </thead>\n",
       "  <tbody>\n",
       "    <tr>\n",
       "      <th>gxn3p5htnn</th>\n",
       "      <td>-1.0</td>\n",
       "      <td>NDF</td>\n",
       "      <td>6</td>\n",
       "      <td>3</td>\n",
       "      <td>-1.0</td>\n",
       "      <td>2010</td>\n",
       "      <td>2009</td>\n",
       "      <td>-1.0</td>\n",
       "      <td>28</td>\n",
       "      <td>19</td>\n",
       "      <td>...</td>\n",
       "      <td>0</td>\n",
       "      <td>0</td>\n",
       "      <td>0</td>\n",
       "      <td>0</td>\n",
       "      <td>0</td>\n",
       "      <td>0</td>\n",
       "      <td>0</td>\n",
       "      <td>0</td>\n",
       "      <td>0</td>\n",
       "      <td>0</td>\n",
       "    </tr>\n",
       "    <tr>\n",
       "      <th>820tgsjxq7</th>\n",
       "      <td>38.0</td>\n",
       "      <td>NDF</td>\n",
       "      <td>5</td>\n",
       "      <td>5</td>\n",
       "      <td>-1.0</td>\n",
       "      <td>2011</td>\n",
       "      <td>2009</td>\n",
       "      <td>-1.0</td>\n",
       "      <td>25</td>\n",
       "      <td>23</td>\n",
       "      <td>...</td>\n",
       "      <td>0</td>\n",
       "      <td>0</td>\n",
       "      <td>0</td>\n",
       "      <td>0</td>\n",
       "      <td>0</td>\n",
       "      <td>0</td>\n",
       "      <td>0</td>\n",
       "      <td>0</td>\n",
       "      <td>0</td>\n",
       "      <td>0</td>\n",
       "    </tr>\n",
       "    <tr>\n",
       "      <th>4ft3gnwmtx</th>\n",
       "      <td>56.0</td>\n",
       "      <td>US</td>\n",
       "      <td>9</td>\n",
       "      <td>6</td>\n",
       "      <td>8.0</td>\n",
       "      <td>2010</td>\n",
       "      <td>2009</td>\n",
       "      <td>2010.0</td>\n",
       "      <td>28</td>\n",
       "      <td>9</td>\n",
       "      <td>...</td>\n",
       "      <td>0</td>\n",
       "      <td>0</td>\n",
       "      <td>0</td>\n",
       "      <td>0</td>\n",
       "      <td>0</td>\n",
       "      <td>0</td>\n",
       "      <td>0</td>\n",
       "      <td>0</td>\n",
       "      <td>0</td>\n",
       "      <td>0</td>\n",
       "    </tr>\n",
       "    <tr>\n",
       "      <th>bjjt8pjhuk</th>\n",
       "      <td>42.0</td>\n",
       "      <td>other</td>\n",
       "      <td>12</td>\n",
       "      <td>10</td>\n",
       "      <td>9.0</td>\n",
       "      <td>2011</td>\n",
       "      <td>2009</td>\n",
       "      <td>2012.0</td>\n",
       "      <td>5</td>\n",
       "      <td>31</td>\n",
       "      <td>...</td>\n",
       "      <td>0</td>\n",
       "      <td>0</td>\n",
       "      <td>0</td>\n",
       "      <td>0</td>\n",
       "      <td>0</td>\n",
       "      <td>0</td>\n",
       "      <td>0</td>\n",
       "      <td>0</td>\n",
       "      <td>0</td>\n",
       "      <td>0</td>\n",
       "    </tr>\n",
       "    <tr>\n",
       "      <th>87mebub9p4</th>\n",
       "      <td>41.0</td>\n",
       "      <td>US</td>\n",
       "      <td>9</td>\n",
       "      <td>12</td>\n",
       "      <td>2.0</td>\n",
       "      <td>2010</td>\n",
       "      <td>2009</td>\n",
       "      <td>2010.0</td>\n",
       "      <td>14</td>\n",
       "      <td>8</td>\n",
       "      <td>...</td>\n",
       "      <td>0</td>\n",
       "      <td>0</td>\n",
       "      <td>0</td>\n",
       "      <td>0</td>\n",
       "      <td>0</td>\n",
       "      <td>0</td>\n",
       "      <td>0</td>\n",
       "      <td>0</td>\n",
       "      <td>0</td>\n",
       "      <td>0</td>\n",
       "    </tr>\n",
       "  </tbody>\n",
       "</table>\n",
       "<p>5 rows × 167 columns</p>\n",
       "</div>"
      ],
      "text/plain": [
       "             age country_destination  date_accnt_created_month  \\\n",
       "id                                                               \n",
       "gxn3p5htnn  -1.0                 NDF                         6   \n",
       "820tgsjxq7  38.0                 NDF                         5   \n",
       "4ft3gnwmtx  56.0                  US                         9   \n",
       "bjjt8pjhuk  42.0               other                        12   \n",
       "87mebub9p4  41.0                  US                         9   \n",
       "\n",
       "            timestamp_first_active_month  date_first_booking_month  \\\n",
       "id                                                                   \n",
       "gxn3p5htnn                             3                      -1.0   \n",
       "820tgsjxq7                             5                      -1.0   \n",
       "4ft3gnwmtx                             6                       8.0   \n",
       "bjjt8pjhuk                            10                       9.0   \n",
       "87mebub9p4                            12                       2.0   \n",
       "\n",
       "            date_accnt_created_year  timestamp_first_active_year  \\\n",
       "id                                                                 \n",
       "gxn3p5htnn                     2010                         2009   \n",
       "820tgsjxq7                     2011                         2009   \n",
       "4ft3gnwmtx                     2010                         2009   \n",
       "bjjt8pjhuk                     2011                         2009   \n",
       "87mebub9p4                     2010                         2009   \n",
       "\n",
       "            date_first_booking_year  date_accnt_created_day  \\\n",
       "id                                                            \n",
       "gxn3p5htnn                     -1.0                      28   \n",
       "820tgsjxq7                     -1.0                      25   \n",
       "4ft3gnwmtx                   2010.0                      28   \n",
       "bjjt8pjhuk                   2012.0                       5   \n",
       "87mebub9p4                   2010.0                      14   \n",
       "\n",
       "            timestamp_first_active_day            ...             \\\n",
       "id                                                ...              \n",
       "gxn3p5htnn                          19            ...              \n",
       "820tgsjxq7                          23            ...              \n",
       "4ft3gnwmtx                           9            ...              \n",
       "bjjt8pjhuk                          31            ...              \n",
       "87mebub9p4                           8            ...              \n",
       "\n",
       "            first_browser_Silk  first_browser_SiteKiosk  \\\n",
       "id                                                        \n",
       "gxn3p5htnn                   0                        0   \n",
       "820tgsjxq7                   0                        0   \n",
       "4ft3gnwmtx                   0                        0   \n",
       "bjjt8pjhuk                   0                        0   \n",
       "87mebub9p4                   0                        0   \n",
       "\n",
       "            first_browser_SlimBrowser  first_browser_Sogou Explorer  \\\n",
       "id                                                                    \n",
       "gxn3p5htnn                          0                             0   \n",
       "820tgsjxq7                          0                             0   \n",
       "4ft3gnwmtx                          0                             0   \n",
       "bjjt8pjhuk                          0                             0   \n",
       "87mebub9p4                          0                             0   \n",
       "\n",
       "            first_browser_Stainless  first_browser_TenFourFox  \\\n",
       "id                                                              \n",
       "gxn3p5htnn                        0                         0   \n",
       "820tgsjxq7                        0                         0   \n",
       "4ft3gnwmtx                        0                         0   \n",
       "bjjt8pjhuk                        0                         0   \n",
       "87mebub9p4                        0                         0   \n",
       "\n",
       "            first_browser_TheWorld Browser  first_browser_UC Browser  \\\n",
       "id                                                                     \n",
       "gxn3p5htnn                               0                         0   \n",
       "820tgsjxq7                               0                         0   \n",
       "4ft3gnwmtx                               0                         0   \n",
       "bjjt8pjhuk                               0                         0   \n",
       "87mebub9p4                               0                         0   \n",
       "\n",
       "            first_browser_Yandex.Browser  first_browser_wOSBrowser  \n",
       "id                                                                  \n",
       "gxn3p5htnn                             0                         0  \n",
       "820tgsjxq7                             0                         0  \n",
       "4ft3gnwmtx                             0                         0  \n",
       "bjjt8pjhuk                             0                         0  \n",
       "87mebub9p4                             0                         0  \n",
       "\n",
       "[5 rows x 167 columns]"
      ]
     },
     "execution_count": 24,
     "metadata": {},
     "output_type": "execute_result"
    }
   ],
   "source": [
    "train_final.head()"
   ]
  },
  {
   "cell_type": "code",
   "execution_count": 25,
   "metadata": {
    "collapsed": false
   },
   "outputs": [
    {
     "data": {
      "text/html": [
       "<div>\n",
       "<table border=\"1\" class=\"dataframe\">\n",
       "  <thead>\n",
       "    <tr style=\"text-align: right;\">\n",
       "      <th></th>\n",
       "      <th>age</th>\n",
       "      <th>date_accnt_created_month</th>\n",
       "      <th>timestamp_first_active_month</th>\n",
       "      <th>date_first_booking_month</th>\n",
       "      <th>date_accnt_created_year</th>\n",
       "      <th>timestamp_first_active_year</th>\n",
       "      <th>date_first_booking_year</th>\n",
       "      <th>date_accnt_created_day</th>\n",
       "      <th>timestamp_first_active_day</th>\n",
       "      <th>date_first_booking_day</th>\n",
       "      <th>...</th>\n",
       "      <th>first_browser_Silk</th>\n",
       "      <th>first_browser_SiteKiosk</th>\n",
       "      <th>first_browser_SlimBrowser</th>\n",
       "      <th>first_browser_Sogou Explorer</th>\n",
       "      <th>first_browser_Stainless</th>\n",
       "      <th>first_browser_TenFourFox</th>\n",
       "      <th>first_browser_TheWorld Browser</th>\n",
       "      <th>first_browser_UC Browser</th>\n",
       "      <th>first_browser_Yandex.Browser</th>\n",
       "      <th>first_browser_wOSBrowser</th>\n",
       "    </tr>\n",
       "    <tr>\n",
       "      <th>id</th>\n",
       "      <th></th>\n",
       "      <th></th>\n",
       "      <th></th>\n",
       "      <th></th>\n",
       "      <th></th>\n",
       "      <th></th>\n",
       "      <th></th>\n",
       "      <th></th>\n",
       "      <th></th>\n",
       "      <th></th>\n",
       "      <th></th>\n",
       "      <th></th>\n",
       "      <th></th>\n",
       "      <th></th>\n",
       "      <th></th>\n",
       "      <th></th>\n",
       "      <th></th>\n",
       "      <th></th>\n",
       "      <th></th>\n",
       "      <th></th>\n",
       "      <th></th>\n",
       "    </tr>\n",
       "  </thead>\n",
       "  <tbody>\n",
       "    <tr>\n",
       "      <th>5uwns89zht</th>\n",
       "      <td>35.0</td>\n",
       "      <td>7</td>\n",
       "      <td>7</td>\n",
       "      <td>NaN</td>\n",
       "      <td>2014</td>\n",
       "      <td>2014</td>\n",
       "      <td>NaN</td>\n",
       "      <td>1</td>\n",
       "      <td>1</td>\n",
       "      <td>NaN</td>\n",
       "      <td>...</td>\n",
       "      <td>0</td>\n",
       "      <td>0</td>\n",
       "      <td>0</td>\n",
       "      <td>0</td>\n",
       "      <td>0</td>\n",
       "      <td>0</td>\n",
       "      <td>0</td>\n",
       "      <td>0</td>\n",
       "      <td>0</td>\n",
       "      <td>0</td>\n",
       "    </tr>\n",
       "    <tr>\n",
       "      <th>jtl0dijy2j</th>\n",
       "      <td>NaN</td>\n",
       "      <td>7</td>\n",
       "      <td>7</td>\n",
       "      <td>NaN</td>\n",
       "      <td>2014</td>\n",
       "      <td>2014</td>\n",
       "      <td>NaN</td>\n",
       "      <td>1</td>\n",
       "      <td>1</td>\n",
       "      <td>NaN</td>\n",
       "      <td>...</td>\n",
       "      <td>0</td>\n",
       "      <td>0</td>\n",
       "      <td>0</td>\n",
       "      <td>0</td>\n",
       "      <td>0</td>\n",
       "      <td>0</td>\n",
       "      <td>0</td>\n",
       "      <td>0</td>\n",
       "      <td>0</td>\n",
       "      <td>0</td>\n",
       "    </tr>\n",
       "    <tr>\n",
       "      <th>xx0ulgorjt</th>\n",
       "      <td>NaN</td>\n",
       "      <td>7</td>\n",
       "      <td>7</td>\n",
       "      <td>NaN</td>\n",
       "      <td>2014</td>\n",
       "      <td>2014</td>\n",
       "      <td>NaN</td>\n",
       "      <td>1</td>\n",
       "      <td>1</td>\n",
       "      <td>NaN</td>\n",
       "      <td>...</td>\n",
       "      <td>0</td>\n",
       "      <td>0</td>\n",
       "      <td>0</td>\n",
       "      <td>0</td>\n",
       "      <td>0</td>\n",
       "      <td>0</td>\n",
       "      <td>0</td>\n",
       "      <td>0</td>\n",
       "      <td>0</td>\n",
       "      <td>0</td>\n",
       "    </tr>\n",
       "    <tr>\n",
       "      <th>6c6puo6ix0</th>\n",
       "      <td>NaN</td>\n",
       "      <td>7</td>\n",
       "      <td>7</td>\n",
       "      <td>NaN</td>\n",
       "      <td>2014</td>\n",
       "      <td>2014</td>\n",
       "      <td>NaN</td>\n",
       "      <td>1</td>\n",
       "      <td>1</td>\n",
       "      <td>NaN</td>\n",
       "      <td>...</td>\n",
       "      <td>0</td>\n",
       "      <td>0</td>\n",
       "      <td>0</td>\n",
       "      <td>0</td>\n",
       "      <td>0</td>\n",
       "      <td>0</td>\n",
       "      <td>0</td>\n",
       "      <td>0</td>\n",
       "      <td>0</td>\n",
       "      <td>0</td>\n",
       "    </tr>\n",
       "    <tr>\n",
       "      <th>czqhjk3yfe</th>\n",
       "      <td>NaN</td>\n",
       "      <td>7</td>\n",
       "      <td>7</td>\n",
       "      <td>NaN</td>\n",
       "      <td>2014</td>\n",
       "      <td>2014</td>\n",
       "      <td>NaN</td>\n",
       "      <td>1</td>\n",
       "      <td>1</td>\n",
       "      <td>NaN</td>\n",
       "      <td>...</td>\n",
       "      <td>0</td>\n",
       "      <td>0</td>\n",
       "      <td>0</td>\n",
       "      <td>0</td>\n",
       "      <td>0</td>\n",
       "      <td>0</td>\n",
       "      <td>0</td>\n",
       "      <td>0</td>\n",
       "      <td>0</td>\n",
       "      <td>0</td>\n",
       "    </tr>\n",
       "  </tbody>\n",
       "</table>\n",
       "<p>5 rows × 166 columns</p>\n",
       "</div>"
      ],
      "text/plain": [
       "             age  date_accnt_created_month  timestamp_first_active_month  \\\n",
       "id                                                                         \n",
       "5uwns89zht  35.0                         7                             7   \n",
       "jtl0dijy2j   NaN                         7                             7   \n",
       "xx0ulgorjt   NaN                         7                             7   \n",
       "6c6puo6ix0   NaN                         7                             7   \n",
       "czqhjk3yfe   NaN                         7                             7   \n",
       "\n",
       "            date_first_booking_month  date_accnt_created_year  \\\n",
       "id                                                              \n",
       "5uwns89zht                       NaN                     2014   \n",
       "jtl0dijy2j                       NaN                     2014   \n",
       "xx0ulgorjt                       NaN                     2014   \n",
       "6c6puo6ix0                       NaN                     2014   \n",
       "czqhjk3yfe                       NaN                     2014   \n",
       "\n",
       "            timestamp_first_active_year  date_first_booking_year  \\\n",
       "id                                                                 \n",
       "5uwns89zht                         2014                      NaN   \n",
       "jtl0dijy2j                         2014                      NaN   \n",
       "xx0ulgorjt                         2014                      NaN   \n",
       "6c6puo6ix0                         2014                      NaN   \n",
       "czqhjk3yfe                         2014                      NaN   \n",
       "\n",
       "            date_accnt_created_day  timestamp_first_active_day  \\\n",
       "id                                                               \n",
       "5uwns89zht                       1                           1   \n",
       "jtl0dijy2j                       1                           1   \n",
       "xx0ulgorjt                       1                           1   \n",
       "6c6puo6ix0                       1                           1   \n",
       "czqhjk3yfe                       1                           1   \n",
       "\n",
       "            date_first_booking_day            ...             \\\n",
       "id                                            ...              \n",
       "5uwns89zht                     NaN            ...              \n",
       "jtl0dijy2j                     NaN            ...              \n",
       "xx0ulgorjt                     NaN            ...              \n",
       "6c6puo6ix0                     NaN            ...              \n",
       "czqhjk3yfe                     NaN            ...              \n",
       "\n",
       "            first_browser_Silk  first_browser_SiteKiosk  \\\n",
       "id                                                        \n",
       "5uwns89zht                   0                        0   \n",
       "jtl0dijy2j                   0                        0   \n",
       "xx0ulgorjt                   0                        0   \n",
       "6c6puo6ix0                   0                        0   \n",
       "czqhjk3yfe                   0                        0   \n",
       "\n",
       "            first_browser_SlimBrowser  first_browser_Sogou Explorer  \\\n",
       "id                                                                    \n",
       "5uwns89zht                          0                             0   \n",
       "jtl0dijy2j                          0                             0   \n",
       "xx0ulgorjt                          0                             0   \n",
       "6c6puo6ix0                          0                             0   \n",
       "czqhjk3yfe                          0                             0   \n",
       "\n",
       "            first_browser_Stainless  first_browser_TenFourFox  \\\n",
       "id                                                              \n",
       "5uwns89zht                        0                         0   \n",
       "jtl0dijy2j                        0                         0   \n",
       "xx0ulgorjt                        0                         0   \n",
       "6c6puo6ix0                        0                         0   \n",
       "czqhjk3yfe                        0                         0   \n",
       "\n",
       "            first_browser_TheWorld Browser  first_browser_UC Browser  \\\n",
       "id                                                                     \n",
       "5uwns89zht                               0                         0   \n",
       "jtl0dijy2j                               0                         0   \n",
       "xx0ulgorjt                               0                         0   \n",
       "6c6puo6ix0                               0                         0   \n",
       "czqhjk3yfe                               0                         0   \n",
       "\n",
       "            first_browser_Yandex.Browser  first_browser_wOSBrowser  \n",
       "id                                                                  \n",
       "5uwns89zht                             0                         0  \n",
       "jtl0dijy2j                             0                         0  \n",
       "xx0ulgorjt                             0                         0  \n",
       "6c6puo6ix0                             0                         0  \n",
       "czqhjk3yfe                             0                         0  \n",
       "\n",
       "[5 rows x 166 columns]"
      ]
     },
     "execution_count": 25,
     "metadata": {},
     "output_type": "execute_result"
    }
   ],
   "source": [
    "test_final.head()"
   ]
  },
  {
   "cell_type": "code",
   "execution_count": 26,
   "metadata": {
    "collapsed": true
   },
   "outputs": [],
   "source": [
    "test_final.reset_index(inplace=True)"
   ]
  },
  {
   "cell_type": "code",
   "execution_count": 27,
   "metadata": {
    "collapsed": false
   },
   "outputs": [
    {
     "data": {
      "text/html": [
       "<div>\n",
       "<table border=\"1\" class=\"dataframe\">\n",
       "  <thead>\n",
       "    <tr style=\"text-align: right;\">\n",
       "      <th></th>\n",
       "      <th>id</th>\n",
       "      <th>age</th>\n",
       "      <th>date_accnt_created_month</th>\n",
       "      <th>timestamp_first_active_month</th>\n",
       "      <th>date_first_booking_month</th>\n",
       "      <th>date_accnt_created_year</th>\n",
       "      <th>timestamp_first_active_year</th>\n",
       "      <th>date_first_booking_year</th>\n",
       "      <th>date_accnt_created_day</th>\n",
       "      <th>timestamp_first_active_day</th>\n",
       "      <th>...</th>\n",
       "      <th>first_browser_Silk</th>\n",
       "      <th>first_browser_SiteKiosk</th>\n",
       "      <th>first_browser_SlimBrowser</th>\n",
       "      <th>first_browser_Sogou Explorer</th>\n",
       "      <th>first_browser_Stainless</th>\n",
       "      <th>first_browser_TenFourFox</th>\n",
       "      <th>first_browser_TheWorld Browser</th>\n",
       "      <th>first_browser_UC Browser</th>\n",
       "      <th>first_browser_Yandex.Browser</th>\n",
       "      <th>first_browser_wOSBrowser</th>\n",
       "    </tr>\n",
       "  </thead>\n",
       "  <tbody>\n",
       "    <tr>\n",
       "      <th>0</th>\n",
       "      <td>5uwns89zht</td>\n",
       "      <td>35.0</td>\n",
       "      <td>7</td>\n",
       "      <td>7</td>\n",
       "      <td>NaN</td>\n",
       "      <td>2014</td>\n",
       "      <td>2014</td>\n",
       "      <td>NaN</td>\n",
       "      <td>1</td>\n",
       "      <td>1</td>\n",
       "      <td>...</td>\n",
       "      <td>0</td>\n",
       "      <td>0</td>\n",
       "      <td>0</td>\n",
       "      <td>0</td>\n",
       "      <td>0</td>\n",
       "      <td>0</td>\n",
       "      <td>0</td>\n",
       "      <td>0</td>\n",
       "      <td>0</td>\n",
       "      <td>0</td>\n",
       "    </tr>\n",
       "    <tr>\n",
       "      <th>1</th>\n",
       "      <td>jtl0dijy2j</td>\n",
       "      <td>NaN</td>\n",
       "      <td>7</td>\n",
       "      <td>7</td>\n",
       "      <td>NaN</td>\n",
       "      <td>2014</td>\n",
       "      <td>2014</td>\n",
       "      <td>NaN</td>\n",
       "      <td>1</td>\n",
       "      <td>1</td>\n",
       "      <td>...</td>\n",
       "      <td>0</td>\n",
       "      <td>0</td>\n",
       "      <td>0</td>\n",
       "      <td>0</td>\n",
       "      <td>0</td>\n",
       "      <td>0</td>\n",
       "      <td>0</td>\n",
       "      <td>0</td>\n",
       "      <td>0</td>\n",
       "      <td>0</td>\n",
       "    </tr>\n",
       "    <tr>\n",
       "      <th>2</th>\n",
       "      <td>xx0ulgorjt</td>\n",
       "      <td>NaN</td>\n",
       "      <td>7</td>\n",
       "      <td>7</td>\n",
       "      <td>NaN</td>\n",
       "      <td>2014</td>\n",
       "      <td>2014</td>\n",
       "      <td>NaN</td>\n",
       "      <td>1</td>\n",
       "      <td>1</td>\n",
       "      <td>...</td>\n",
       "      <td>0</td>\n",
       "      <td>0</td>\n",
       "      <td>0</td>\n",
       "      <td>0</td>\n",
       "      <td>0</td>\n",
       "      <td>0</td>\n",
       "      <td>0</td>\n",
       "      <td>0</td>\n",
       "      <td>0</td>\n",
       "      <td>0</td>\n",
       "    </tr>\n",
       "    <tr>\n",
       "      <th>3</th>\n",
       "      <td>6c6puo6ix0</td>\n",
       "      <td>NaN</td>\n",
       "      <td>7</td>\n",
       "      <td>7</td>\n",
       "      <td>NaN</td>\n",
       "      <td>2014</td>\n",
       "      <td>2014</td>\n",
       "      <td>NaN</td>\n",
       "      <td>1</td>\n",
       "      <td>1</td>\n",
       "      <td>...</td>\n",
       "      <td>0</td>\n",
       "      <td>0</td>\n",
       "      <td>0</td>\n",
       "      <td>0</td>\n",
       "      <td>0</td>\n",
       "      <td>0</td>\n",
       "      <td>0</td>\n",
       "      <td>0</td>\n",
       "      <td>0</td>\n",
       "      <td>0</td>\n",
       "    </tr>\n",
       "    <tr>\n",
       "      <th>4</th>\n",
       "      <td>czqhjk3yfe</td>\n",
       "      <td>NaN</td>\n",
       "      <td>7</td>\n",
       "      <td>7</td>\n",
       "      <td>NaN</td>\n",
       "      <td>2014</td>\n",
       "      <td>2014</td>\n",
       "      <td>NaN</td>\n",
       "      <td>1</td>\n",
       "      <td>1</td>\n",
       "      <td>...</td>\n",
       "      <td>0</td>\n",
       "      <td>0</td>\n",
       "      <td>0</td>\n",
       "      <td>0</td>\n",
       "      <td>0</td>\n",
       "      <td>0</td>\n",
       "      <td>0</td>\n",
       "      <td>0</td>\n",
       "      <td>0</td>\n",
       "      <td>0</td>\n",
       "    </tr>\n",
       "  </tbody>\n",
       "</table>\n",
       "<p>5 rows × 167 columns</p>\n",
       "</div>"
      ],
      "text/plain": [
       "           id   age  date_accnt_created_month  timestamp_first_active_month  \\\n",
       "0  5uwns89zht  35.0                         7                             7   \n",
       "1  jtl0dijy2j   NaN                         7                             7   \n",
       "2  xx0ulgorjt   NaN                         7                             7   \n",
       "3  6c6puo6ix0   NaN                         7                             7   \n",
       "4  czqhjk3yfe   NaN                         7                             7   \n",
       "\n",
       "   date_first_booking_month  date_accnt_created_year  \\\n",
       "0                       NaN                     2014   \n",
       "1                       NaN                     2014   \n",
       "2                       NaN                     2014   \n",
       "3                       NaN                     2014   \n",
       "4                       NaN                     2014   \n",
       "\n",
       "   timestamp_first_active_year  date_first_booking_year  \\\n",
       "0                         2014                      NaN   \n",
       "1                         2014                      NaN   \n",
       "2                         2014                      NaN   \n",
       "3                         2014                      NaN   \n",
       "4                         2014                      NaN   \n",
       "\n",
       "   date_accnt_created_day  timestamp_first_active_day  \\\n",
       "0                       1                           1   \n",
       "1                       1                           1   \n",
       "2                       1                           1   \n",
       "3                       1                           1   \n",
       "4                       1                           1   \n",
       "\n",
       "             ...             first_browser_Silk  first_browser_SiteKiosk  \\\n",
       "0            ...                              0                        0   \n",
       "1            ...                              0                        0   \n",
       "2            ...                              0                        0   \n",
       "3            ...                              0                        0   \n",
       "4            ...                              0                        0   \n",
       "\n",
       "   first_browser_SlimBrowser  first_browser_Sogou Explorer  \\\n",
       "0                          0                             0   \n",
       "1                          0                             0   \n",
       "2                          0                             0   \n",
       "3                          0                             0   \n",
       "4                          0                             0   \n",
       "\n",
       "   first_browser_Stainless  first_browser_TenFourFox  \\\n",
       "0                        0                         0   \n",
       "1                        0                         0   \n",
       "2                        0                         0   \n",
       "3                        0                         0   \n",
       "4                        0                         0   \n",
       "\n",
       "   first_browser_TheWorld Browser  first_browser_UC Browser  \\\n",
       "0                               0                         0   \n",
       "1                               0                         0   \n",
       "2                               0                         0   \n",
       "3                               0                         0   \n",
       "4                               0                         0   \n",
       "\n",
       "   first_browser_Yandex.Browser  first_browser_wOSBrowser  \n",
       "0                             0                         0  \n",
       "1                             0                         0  \n",
       "2                             0                         0  \n",
       "3                             0                         0  \n",
       "4                             0                         0  \n",
       "\n",
       "[5 rows x 167 columns]"
      ]
     },
     "execution_count": 27,
     "metadata": {},
     "output_type": "execute_result"
    }
   ],
   "source": [
    "test_final.head()"
   ]
  },
  {
   "cell_type": "code",
   "execution_count": 28,
   "metadata": {
    "collapsed": false
   },
   "outputs": [],
   "source": [
    "test_final_wo_sess=test_final.drop('id', axis=1)"
   ]
  },
  {
   "cell_type": "code",
   "execution_count": 29,
   "metadata": {
    "collapsed": true
   },
   "outputs": [],
   "source": [
    "train_final.reset_index(inplace=True)"
   ]
  },
  {
   "cell_type": "code",
   "execution_count": 30,
   "metadata": {
    "collapsed": true
   },
   "outputs": [],
   "source": [
    "train_final_wo_sess=train_final.drop('id', axis=1)"
   ]
  },
  {
   "cell_type": "code",
   "execution_count": 31,
   "metadata": {
    "collapsed": false
   },
   "outputs": [
    {
     "data": {
      "text/html": [
       "<div>\n",
       "<table border=\"1\" class=\"dataframe\">\n",
       "  <thead>\n",
       "    <tr style=\"text-align: right;\">\n",
       "      <th></th>\n",
       "      <th>age</th>\n",
       "      <th>date_accnt_created_month</th>\n",
       "      <th>timestamp_first_active_month</th>\n",
       "      <th>date_first_booking_month</th>\n",
       "      <th>date_accnt_created_year</th>\n",
       "      <th>timestamp_first_active_year</th>\n",
       "      <th>date_first_booking_year</th>\n",
       "      <th>date_accnt_created_day</th>\n",
       "      <th>timestamp_first_active_day</th>\n",
       "      <th>date_first_booking_day</th>\n",
       "      <th>...</th>\n",
       "      <th>first_browser_Silk</th>\n",
       "      <th>first_browser_SiteKiosk</th>\n",
       "      <th>first_browser_SlimBrowser</th>\n",
       "      <th>first_browser_Sogou Explorer</th>\n",
       "      <th>first_browser_Stainless</th>\n",
       "      <th>first_browser_TenFourFox</th>\n",
       "      <th>first_browser_TheWorld Browser</th>\n",
       "      <th>first_browser_UC Browser</th>\n",
       "      <th>first_browser_Yandex.Browser</th>\n",
       "      <th>first_browser_wOSBrowser</th>\n",
       "    </tr>\n",
       "  </thead>\n",
       "  <tbody>\n",
       "    <tr>\n",
       "      <th>0</th>\n",
       "      <td>35.0</td>\n",
       "      <td>7</td>\n",
       "      <td>7</td>\n",
       "      <td>NaN</td>\n",
       "      <td>2014</td>\n",
       "      <td>2014</td>\n",
       "      <td>NaN</td>\n",
       "      <td>1</td>\n",
       "      <td>1</td>\n",
       "      <td>NaN</td>\n",
       "      <td>...</td>\n",
       "      <td>0</td>\n",
       "      <td>0</td>\n",
       "      <td>0</td>\n",
       "      <td>0</td>\n",
       "      <td>0</td>\n",
       "      <td>0</td>\n",
       "      <td>0</td>\n",
       "      <td>0</td>\n",
       "      <td>0</td>\n",
       "      <td>0</td>\n",
       "    </tr>\n",
       "    <tr>\n",
       "      <th>1</th>\n",
       "      <td>NaN</td>\n",
       "      <td>7</td>\n",
       "      <td>7</td>\n",
       "      <td>NaN</td>\n",
       "      <td>2014</td>\n",
       "      <td>2014</td>\n",
       "      <td>NaN</td>\n",
       "      <td>1</td>\n",
       "      <td>1</td>\n",
       "      <td>NaN</td>\n",
       "      <td>...</td>\n",
       "      <td>0</td>\n",
       "      <td>0</td>\n",
       "      <td>0</td>\n",
       "      <td>0</td>\n",
       "      <td>0</td>\n",
       "      <td>0</td>\n",
       "      <td>0</td>\n",
       "      <td>0</td>\n",
       "      <td>0</td>\n",
       "      <td>0</td>\n",
       "    </tr>\n",
       "    <tr>\n",
       "      <th>2</th>\n",
       "      <td>NaN</td>\n",
       "      <td>7</td>\n",
       "      <td>7</td>\n",
       "      <td>NaN</td>\n",
       "      <td>2014</td>\n",
       "      <td>2014</td>\n",
       "      <td>NaN</td>\n",
       "      <td>1</td>\n",
       "      <td>1</td>\n",
       "      <td>NaN</td>\n",
       "      <td>...</td>\n",
       "      <td>0</td>\n",
       "      <td>0</td>\n",
       "      <td>0</td>\n",
       "      <td>0</td>\n",
       "      <td>0</td>\n",
       "      <td>0</td>\n",
       "      <td>0</td>\n",
       "      <td>0</td>\n",
       "      <td>0</td>\n",
       "      <td>0</td>\n",
       "    </tr>\n",
       "    <tr>\n",
       "      <th>3</th>\n",
       "      <td>NaN</td>\n",
       "      <td>7</td>\n",
       "      <td>7</td>\n",
       "      <td>NaN</td>\n",
       "      <td>2014</td>\n",
       "      <td>2014</td>\n",
       "      <td>NaN</td>\n",
       "      <td>1</td>\n",
       "      <td>1</td>\n",
       "      <td>NaN</td>\n",
       "      <td>...</td>\n",
       "      <td>0</td>\n",
       "      <td>0</td>\n",
       "      <td>0</td>\n",
       "      <td>0</td>\n",
       "      <td>0</td>\n",
       "      <td>0</td>\n",
       "      <td>0</td>\n",
       "      <td>0</td>\n",
       "      <td>0</td>\n",
       "      <td>0</td>\n",
       "    </tr>\n",
       "    <tr>\n",
       "      <th>4</th>\n",
       "      <td>NaN</td>\n",
       "      <td>7</td>\n",
       "      <td>7</td>\n",
       "      <td>NaN</td>\n",
       "      <td>2014</td>\n",
       "      <td>2014</td>\n",
       "      <td>NaN</td>\n",
       "      <td>1</td>\n",
       "      <td>1</td>\n",
       "      <td>NaN</td>\n",
       "      <td>...</td>\n",
       "      <td>0</td>\n",
       "      <td>0</td>\n",
       "      <td>0</td>\n",
       "      <td>0</td>\n",
       "      <td>0</td>\n",
       "      <td>0</td>\n",
       "      <td>0</td>\n",
       "      <td>0</td>\n",
       "      <td>0</td>\n",
       "      <td>0</td>\n",
       "    </tr>\n",
       "  </tbody>\n",
       "</table>\n",
       "<p>5 rows × 166 columns</p>\n",
       "</div>"
      ],
      "text/plain": [
       "    age  date_accnt_created_month  timestamp_first_active_month  \\\n",
       "0  35.0                         7                             7   \n",
       "1   NaN                         7                             7   \n",
       "2   NaN                         7                             7   \n",
       "3   NaN                         7                             7   \n",
       "4   NaN                         7                             7   \n",
       "\n",
       "   date_first_booking_month  date_accnt_created_year  \\\n",
       "0                       NaN                     2014   \n",
       "1                       NaN                     2014   \n",
       "2                       NaN                     2014   \n",
       "3                       NaN                     2014   \n",
       "4                       NaN                     2014   \n",
       "\n",
       "   timestamp_first_active_year  date_first_booking_year  \\\n",
       "0                         2014                      NaN   \n",
       "1                         2014                      NaN   \n",
       "2                         2014                      NaN   \n",
       "3                         2014                      NaN   \n",
       "4                         2014                      NaN   \n",
       "\n",
       "   date_accnt_created_day  timestamp_first_active_day  date_first_booking_day  \\\n",
       "0                       1                           1                     NaN   \n",
       "1                       1                           1                     NaN   \n",
       "2                       1                           1                     NaN   \n",
       "3                       1                           1                     NaN   \n",
       "4                       1                           1                     NaN   \n",
       "\n",
       "             ...             first_browser_Silk  first_browser_SiteKiosk  \\\n",
       "0            ...                              0                        0   \n",
       "1            ...                              0                        0   \n",
       "2            ...                              0                        0   \n",
       "3            ...                              0                        0   \n",
       "4            ...                              0                        0   \n",
       "\n",
       "   first_browser_SlimBrowser  first_browser_Sogou Explorer  \\\n",
       "0                          0                             0   \n",
       "1                          0                             0   \n",
       "2                          0                             0   \n",
       "3                          0                             0   \n",
       "4                          0                             0   \n",
       "\n",
       "   first_browser_Stainless  first_browser_TenFourFox  \\\n",
       "0                        0                         0   \n",
       "1                        0                         0   \n",
       "2                        0                         0   \n",
       "3                        0                         0   \n",
       "4                        0                         0   \n",
       "\n",
       "   first_browser_TheWorld Browser  first_browser_UC Browser  \\\n",
       "0                               0                         0   \n",
       "1                               0                         0   \n",
       "2                               0                         0   \n",
       "3                               0                         0   \n",
       "4                               0                         0   \n",
       "\n",
       "   first_browser_Yandex.Browser  first_browser_wOSBrowser  \n",
       "0                             0                         0  \n",
       "1                             0                         0  \n",
       "2                             0                         0  \n",
       "3                             0                         0  \n",
       "4                             0                         0  \n",
       "\n",
       "[5 rows x 166 columns]"
      ]
     },
     "execution_count": 31,
     "metadata": {},
     "output_type": "execute_result"
    }
   ],
   "source": [
    "test_final_wo_sess.head()"
   ]
  },
  {
   "cell_type": "code",
   "execution_count": 32,
   "metadata": {
    "collapsed": false
   },
   "outputs": [
    {
     "data": {
      "text/html": [
       "<div>\n",
       "<table border=\"1\" class=\"dataframe\">\n",
       "  <thead>\n",
       "    <tr style=\"text-align: right;\">\n",
       "      <th></th>\n",
       "      <th>age</th>\n",
       "      <th>country_destination</th>\n",
       "      <th>date_accnt_created_month</th>\n",
       "      <th>timestamp_first_active_month</th>\n",
       "      <th>date_first_booking_month</th>\n",
       "      <th>date_accnt_created_year</th>\n",
       "      <th>timestamp_first_active_year</th>\n",
       "      <th>date_first_booking_year</th>\n",
       "      <th>date_accnt_created_day</th>\n",
       "      <th>timestamp_first_active_day</th>\n",
       "      <th>...</th>\n",
       "      <th>first_browser_Silk</th>\n",
       "      <th>first_browser_SiteKiosk</th>\n",
       "      <th>first_browser_SlimBrowser</th>\n",
       "      <th>first_browser_Sogou Explorer</th>\n",
       "      <th>first_browser_Stainless</th>\n",
       "      <th>first_browser_TenFourFox</th>\n",
       "      <th>first_browser_TheWorld Browser</th>\n",
       "      <th>first_browser_UC Browser</th>\n",
       "      <th>first_browser_Yandex.Browser</th>\n",
       "      <th>first_browser_wOSBrowser</th>\n",
       "    </tr>\n",
       "  </thead>\n",
       "  <tbody>\n",
       "    <tr>\n",
       "      <th>0</th>\n",
       "      <td>-1.0</td>\n",
       "      <td>NDF</td>\n",
       "      <td>6</td>\n",
       "      <td>3</td>\n",
       "      <td>-1.0</td>\n",
       "      <td>2010</td>\n",
       "      <td>2009</td>\n",
       "      <td>-1.0</td>\n",
       "      <td>28</td>\n",
       "      <td>19</td>\n",
       "      <td>...</td>\n",
       "      <td>0</td>\n",
       "      <td>0</td>\n",
       "      <td>0</td>\n",
       "      <td>0</td>\n",
       "      <td>0</td>\n",
       "      <td>0</td>\n",
       "      <td>0</td>\n",
       "      <td>0</td>\n",
       "      <td>0</td>\n",
       "      <td>0</td>\n",
       "    </tr>\n",
       "    <tr>\n",
       "      <th>1</th>\n",
       "      <td>38.0</td>\n",
       "      <td>NDF</td>\n",
       "      <td>5</td>\n",
       "      <td>5</td>\n",
       "      <td>-1.0</td>\n",
       "      <td>2011</td>\n",
       "      <td>2009</td>\n",
       "      <td>-1.0</td>\n",
       "      <td>25</td>\n",
       "      <td>23</td>\n",
       "      <td>...</td>\n",
       "      <td>0</td>\n",
       "      <td>0</td>\n",
       "      <td>0</td>\n",
       "      <td>0</td>\n",
       "      <td>0</td>\n",
       "      <td>0</td>\n",
       "      <td>0</td>\n",
       "      <td>0</td>\n",
       "      <td>0</td>\n",
       "      <td>0</td>\n",
       "    </tr>\n",
       "    <tr>\n",
       "      <th>2</th>\n",
       "      <td>56.0</td>\n",
       "      <td>US</td>\n",
       "      <td>9</td>\n",
       "      <td>6</td>\n",
       "      <td>8.0</td>\n",
       "      <td>2010</td>\n",
       "      <td>2009</td>\n",
       "      <td>2010.0</td>\n",
       "      <td>28</td>\n",
       "      <td>9</td>\n",
       "      <td>...</td>\n",
       "      <td>0</td>\n",
       "      <td>0</td>\n",
       "      <td>0</td>\n",
       "      <td>0</td>\n",
       "      <td>0</td>\n",
       "      <td>0</td>\n",
       "      <td>0</td>\n",
       "      <td>0</td>\n",
       "      <td>0</td>\n",
       "      <td>0</td>\n",
       "    </tr>\n",
       "    <tr>\n",
       "      <th>3</th>\n",
       "      <td>42.0</td>\n",
       "      <td>other</td>\n",
       "      <td>12</td>\n",
       "      <td>10</td>\n",
       "      <td>9.0</td>\n",
       "      <td>2011</td>\n",
       "      <td>2009</td>\n",
       "      <td>2012.0</td>\n",
       "      <td>5</td>\n",
       "      <td>31</td>\n",
       "      <td>...</td>\n",
       "      <td>0</td>\n",
       "      <td>0</td>\n",
       "      <td>0</td>\n",
       "      <td>0</td>\n",
       "      <td>0</td>\n",
       "      <td>0</td>\n",
       "      <td>0</td>\n",
       "      <td>0</td>\n",
       "      <td>0</td>\n",
       "      <td>0</td>\n",
       "    </tr>\n",
       "    <tr>\n",
       "      <th>4</th>\n",
       "      <td>41.0</td>\n",
       "      <td>US</td>\n",
       "      <td>9</td>\n",
       "      <td>12</td>\n",
       "      <td>2.0</td>\n",
       "      <td>2010</td>\n",
       "      <td>2009</td>\n",
       "      <td>2010.0</td>\n",
       "      <td>14</td>\n",
       "      <td>8</td>\n",
       "      <td>...</td>\n",
       "      <td>0</td>\n",
       "      <td>0</td>\n",
       "      <td>0</td>\n",
       "      <td>0</td>\n",
       "      <td>0</td>\n",
       "      <td>0</td>\n",
       "      <td>0</td>\n",
       "      <td>0</td>\n",
       "      <td>0</td>\n",
       "      <td>0</td>\n",
       "    </tr>\n",
       "  </tbody>\n",
       "</table>\n",
       "<p>5 rows × 167 columns</p>\n",
       "</div>"
      ],
      "text/plain": [
       "    age country_destination  date_accnt_created_month  \\\n",
       "0  -1.0                 NDF                         6   \n",
       "1  38.0                 NDF                         5   \n",
       "2  56.0                  US                         9   \n",
       "3  42.0               other                        12   \n",
       "4  41.0                  US                         9   \n",
       "\n",
       "   timestamp_first_active_month  date_first_booking_month  \\\n",
       "0                             3                      -1.0   \n",
       "1                             5                      -1.0   \n",
       "2                             6                       8.0   \n",
       "3                            10                       9.0   \n",
       "4                            12                       2.0   \n",
       "\n",
       "   date_accnt_created_year  timestamp_first_active_year  \\\n",
       "0                     2010                         2009   \n",
       "1                     2011                         2009   \n",
       "2                     2010                         2009   \n",
       "3                     2011                         2009   \n",
       "4                     2010                         2009   \n",
       "\n",
       "   date_first_booking_year  date_accnt_created_day  \\\n",
       "0                     -1.0                      28   \n",
       "1                     -1.0                      25   \n",
       "2                   2010.0                      28   \n",
       "3                   2012.0                       5   \n",
       "4                   2010.0                      14   \n",
       "\n",
       "   timestamp_first_active_day            ...             first_browser_Silk  \\\n",
       "0                          19            ...                              0   \n",
       "1                          23            ...                              0   \n",
       "2                           9            ...                              0   \n",
       "3                          31            ...                              0   \n",
       "4                           8            ...                              0   \n",
       "\n",
       "   first_browser_SiteKiosk  first_browser_SlimBrowser  \\\n",
       "0                        0                          0   \n",
       "1                        0                          0   \n",
       "2                        0                          0   \n",
       "3                        0                          0   \n",
       "4                        0                          0   \n",
       "\n",
       "   first_browser_Sogou Explorer  first_browser_Stainless  \\\n",
       "0                             0                        0   \n",
       "1                             0                        0   \n",
       "2                             0                        0   \n",
       "3                             0                        0   \n",
       "4                             0                        0   \n",
       "\n",
       "   first_browser_TenFourFox  first_browser_TheWorld Browser  \\\n",
       "0                         0                               0   \n",
       "1                         0                               0   \n",
       "2                         0                               0   \n",
       "3                         0                               0   \n",
       "4                         0                               0   \n",
       "\n",
       "   first_browser_UC Browser  first_browser_Yandex.Browser  \\\n",
       "0                         0                             0   \n",
       "1                         0                             0   \n",
       "2                         0                             0   \n",
       "3                         0                             0   \n",
       "4                         0                             0   \n",
       "\n",
       "   first_browser_wOSBrowser  \n",
       "0                         0  \n",
       "1                         0  \n",
       "2                         0  \n",
       "3                         0  \n",
       "4                         0  \n",
       "\n",
       "[5 rows x 167 columns]"
      ]
     },
     "execution_count": 32,
     "metadata": {},
     "output_type": "execute_result"
    }
   ],
   "source": [
    "train_final_wo_sess.head()"
   ]
  },
  {
   "cell_type": "code",
   "execution_count": 33,
   "metadata": {
    "collapsed": false
   },
   "outputs": [
    {
     "data": {
      "text/plain": [
       "(213451, 167)"
      ]
     },
     "execution_count": 33,
     "metadata": {},
     "output_type": "execute_result"
    }
   ],
   "source": [
    "train_final_wo_sess.shape"
   ]
  },
  {
   "cell_type": "code",
   "execution_count": 34,
   "metadata": {
    "collapsed": false
   },
   "outputs": [
    {
     "data": {
      "text/plain": [
       "(62096, 166)"
      ]
     },
     "execution_count": 34,
     "metadata": {},
     "output_type": "execute_result"
    }
   ],
   "source": [
    "test_final_wo_sess.shape"
   ]
  },
  {
   "cell_type": "code",
   "execution_count": 35,
   "metadata": {
    "collapsed": true
   },
   "outputs": [],
   "source": [
    "test_final_wo_sess=test_final_wo_sess.fillna(-1)"
   ]
  },
  {
   "cell_type": "markdown",
   "metadata": {},
   "source": [
    "SESSIONS"
   ]
  },
  {
   "cell_type": "code",
   "execution_count": 36,
   "metadata": {
    "collapsed": false
   },
   "outputs": [],
   "source": [
    "action_count = sess.groupby(['user_id', 'action'])['secs_elapsed'].agg(len).unstack()"
   ]
  },
  {
   "cell_type": "code",
   "execution_count": 37,
   "metadata": {
    "collapsed": false
   },
   "outputs": [],
   "source": [
    "action_type_count = sess.groupby(['user_id', 'action_type'])['secs_elapsed'].agg(len).unstack()\n",
    "action_detail_count = sess.groupby(['user_id', 'action_detail'])['secs_elapsed'].agg(len).unstack()\n",
    "device_type_sum = sess.groupby(['user_id', 'device_type'])['secs_elapsed'].agg(sum).unstack()"
   ]
  },
  {
   "cell_type": "code",
   "execution_count": 38,
   "metadata": {
    "collapsed": false
   },
   "outputs": [],
   "source": [
    "action_count = pd.DataFrame(action_count)"
   ]
  },
  {
   "cell_type": "code",
   "execution_count": 39,
   "metadata": {
    "collapsed": true
   },
   "outputs": [],
   "source": [
    "sessions_data = pd.concat([action_count, action_type_count, action_detail_count, device_type_sum],axis=1)"
   ]
  },
  {
   "cell_type": "code",
   "execution_count": 40,
   "metadata": {
    "collapsed": false
   },
   "outputs": [
    {
     "data": {
      "text/plain": [
       "(135483, 538)"
      ]
     },
     "execution_count": 40,
     "metadata": {},
     "output_type": "execute_result"
    }
   ],
   "source": [
    "sessions_data.shape"
   ]
  },
  {
   "cell_type": "code",
   "execution_count": 41,
   "metadata": {
    "collapsed": true
   },
   "outputs": [],
   "source": [
    "sessions_data.columns = sessions_data.columns.map(lambda x: str(x) + '_count')"
   ]
  },
  {
   "cell_type": "code",
   "execution_count": 42,
   "metadata": {
    "collapsed": false
   },
   "outputs": [
    {
     "data": {
      "text/plain": [
       "Index([u'10_count', u'11_count', u'12_count', u'15_count', u'about_us_count',\n",
       "       u'accept_decline_count', u'account_count',\n",
       "       u'acculynk_bin_check_failed_count', u'acculynk_bin_check_success_count',\n",
       "       u'acculynk_load_pin_pad_count',\n",
       "       ...\n",
       "       u'Chromebook_count', u'Linux Desktop_count', u'Mac Desktop_count',\n",
       "       u'Opera Phone_count', u'Tablet_count', u'Windows Desktop_count',\n",
       "       u'Windows Phone_count', u'iPad Tablet_count', u'iPhone_count',\n",
       "       u'iPodtouch_count'],\n",
       "      dtype='object', length=538)"
      ]
     },
     "execution_count": 42,
     "metadata": {},
     "output_type": "execute_result"
    }
   ],
   "source": [
    "sessions_data.columns"
   ]
  },
  {
   "cell_type": "code",
   "execution_count": 43,
   "metadata": {
    "collapsed": false
   },
   "outputs": [],
   "source": [
    "sessions_data['most_used_device'] = sess.groupby('user_id')['device_type'].max()"
   ]
  },
  {
   "cell_type": "code",
   "execution_count": 44,
   "metadata": {
    "collapsed": true
   },
   "outputs": [],
   "source": [
    "train_test.reset_index(inplace=True)"
   ]
  },
  {
   "cell_type": "code",
   "execution_count": 45,
   "metadata": {
    "collapsed": false
   },
   "outputs": [
    {
     "data": {
      "text/plain": [
       "(275547, 168)"
      ]
     },
     "execution_count": 45,
     "metadata": {},
     "output_type": "execute_result"
    }
   ],
   "source": [
    "train_test.shape"
   ]
  },
  {
   "cell_type": "code",
   "execution_count": 46,
   "metadata": {
    "collapsed": false
   },
   "outputs": [],
   "source": [
    "train_test_sess = train_test.join(sessions_data, on='id')"
   ]
  },
  {
   "cell_type": "code",
   "execution_count": 47,
   "metadata": {
    "collapsed": false
   },
   "outputs": [
    {
     "data": {
      "text/html": [
       "<div>\n",
       "<table border=\"1\" class=\"dataframe\">\n",
       "  <thead>\n",
       "    <tr style=\"text-align: right;\">\n",
       "      <th></th>\n",
       "      <th>id</th>\n",
       "      <th>age</th>\n",
       "      <th>country_destination</th>\n",
       "      <th>date_accnt_created_month</th>\n",
       "      <th>timestamp_first_active_month</th>\n",
       "      <th>date_first_booking_month</th>\n",
       "      <th>date_accnt_created_year</th>\n",
       "      <th>timestamp_first_active_year</th>\n",
       "      <th>date_first_booking_year</th>\n",
       "      <th>date_accnt_created_day</th>\n",
       "      <th>...</th>\n",
       "      <th>Linux Desktop_count</th>\n",
       "      <th>Mac Desktop_count</th>\n",
       "      <th>Opera Phone_count</th>\n",
       "      <th>Tablet_count</th>\n",
       "      <th>Windows Desktop_count</th>\n",
       "      <th>Windows Phone_count</th>\n",
       "      <th>iPad Tablet_count</th>\n",
       "      <th>iPhone_count</th>\n",
       "      <th>iPodtouch_count</th>\n",
       "      <th>most_used_device</th>\n",
       "    </tr>\n",
       "  </thead>\n",
       "  <tbody>\n",
       "    <tr>\n",
       "      <th>0</th>\n",
       "      <td>gxn3p5htnn</td>\n",
       "      <td>NaN</td>\n",
       "      <td>NDF</td>\n",
       "      <td>6</td>\n",
       "      <td>3</td>\n",
       "      <td>NaN</td>\n",
       "      <td>2010</td>\n",
       "      <td>2009</td>\n",
       "      <td>NaN</td>\n",
       "      <td>28</td>\n",
       "      <td>...</td>\n",
       "      <td>NaN</td>\n",
       "      <td>NaN</td>\n",
       "      <td>NaN</td>\n",
       "      <td>NaN</td>\n",
       "      <td>NaN</td>\n",
       "      <td>NaN</td>\n",
       "      <td>NaN</td>\n",
       "      <td>NaN</td>\n",
       "      <td>NaN</td>\n",
       "      <td>NaN</td>\n",
       "    </tr>\n",
       "    <tr>\n",
       "      <th>1</th>\n",
       "      <td>820tgsjxq7</td>\n",
       "      <td>38.0</td>\n",
       "      <td>NDF</td>\n",
       "      <td>5</td>\n",
       "      <td>5</td>\n",
       "      <td>NaN</td>\n",
       "      <td>2011</td>\n",
       "      <td>2009</td>\n",
       "      <td>NaN</td>\n",
       "      <td>25</td>\n",
       "      <td>...</td>\n",
       "      <td>NaN</td>\n",
       "      <td>NaN</td>\n",
       "      <td>NaN</td>\n",
       "      <td>NaN</td>\n",
       "      <td>NaN</td>\n",
       "      <td>NaN</td>\n",
       "      <td>NaN</td>\n",
       "      <td>NaN</td>\n",
       "      <td>NaN</td>\n",
       "      <td>NaN</td>\n",
       "    </tr>\n",
       "    <tr>\n",
       "      <th>2</th>\n",
       "      <td>4ft3gnwmtx</td>\n",
       "      <td>56.0</td>\n",
       "      <td>US</td>\n",
       "      <td>9</td>\n",
       "      <td>6</td>\n",
       "      <td>8.0</td>\n",
       "      <td>2010</td>\n",
       "      <td>2009</td>\n",
       "      <td>2010.0</td>\n",
       "      <td>28</td>\n",
       "      <td>...</td>\n",
       "      <td>NaN</td>\n",
       "      <td>NaN</td>\n",
       "      <td>NaN</td>\n",
       "      <td>NaN</td>\n",
       "      <td>NaN</td>\n",
       "      <td>NaN</td>\n",
       "      <td>NaN</td>\n",
       "      <td>NaN</td>\n",
       "      <td>NaN</td>\n",
       "      <td>NaN</td>\n",
       "    </tr>\n",
       "    <tr>\n",
       "      <th>3</th>\n",
       "      <td>bjjt8pjhuk</td>\n",
       "      <td>42.0</td>\n",
       "      <td>other</td>\n",
       "      <td>12</td>\n",
       "      <td>10</td>\n",
       "      <td>9.0</td>\n",
       "      <td>2011</td>\n",
       "      <td>2009</td>\n",
       "      <td>2012.0</td>\n",
       "      <td>5</td>\n",
       "      <td>...</td>\n",
       "      <td>NaN</td>\n",
       "      <td>NaN</td>\n",
       "      <td>NaN</td>\n",
       "      <td>NaN</td>\n",
       "      <td>NaN</td>\n",
       "      <td>NaN</td>\n",
       "      <td>NaN</td>\n",
       "      <td>NaN</td>\n",
       "      <td>NaN</td>\n",
       "      <td>NaN</td>\n",
       "    </tr>\n",
       "    <tr>\n",
       "      <th>4</th>\n",
       "      <td>87mebub9p4</td>\n",
       "      <td>41.0</td>\n",
       "      <td>US</td>\n",
       "      <td>9</td>\n",
       "      <td>12</td>\n",
       "      <td>2.0</td>\n",
       "      <td>2010</td>\n",
       "      <td>2009</td>\n",
       "      <td>2010.0</td>\n",
       "      <td>14</td>\n",
       "      <td>...</td>\n",
       "      <td>NaN</td>\n",
       "      <td>NaN</td>\n",
       "      <td>NaN</td>\n",
       "      <td>NaN</td>\n",
       "      <td>NaN</td>\n",
       "      <td>NaN</td>\n",
       "      <td>NaN</td>\n",
       "      <td>NaN</td>\n",
       "      <td>NaN</td>\n",
       "      <td>NaN</td>\n",
       "    </tr>\n",
       "  </tbody>\n",
       "</table>\n",
       "<p>5 rows × 707 columns</p>\n",
       "</div>"
      ],
      "text/plain": [
       "           id   age country_destination  date_accnt_created_month  \\\n",
       "0  gxn3p5htnn   NaN                 NDF                         6   \n",
       "1  820tgsjxq7  38.0                 NDF                         5   \n",
       "2  4ft3gnwmtx  56.0                  US                         9   \n",
       "3  bjjt8pjhuk  42.0               other                        12   \n",
       "4  87mebub9p4  41.0                  US                         9   \n",
       "\n",
       "   timestamp_first_active_month  date_first_booking_month  \\\n",
       "0                             3                       NaN   \n",
       "1                             5                       NaN   \n",
       "2                             6                       8.0   \n",
       "3                            10                       9.0   \n",
       "4                            12                       2.0   \n",
       "\n",
       "   date_accnt_created_year  timestamp_first_active_year  \\\n",
       "0                     2010                         2009   \n",
       "1                     2011                         2009   \n",
       "2                     2010                         2009   \n",
       "3                     2011                         2009   \n",
       "4                     2010                         2009   \n",
       "\n",
       "   date_first_booking_year  date_accnt_created_day        ...         \\\n",
       "0                      NaN                      28        ...          \n",
       "1                      NaN                      25        ...          \n",
       "2                   2010.0                      28        ...          \n",
       "3                   2012.0                       5        ...          \n",
       "4                   2010.0                      14        ...          \n",
       "\n",
       "   Linux Desktop_count  Mac Desktop_count  Opera Phone_count  Tablet_count  \\\n",
       "0                  NaN                NaN                NaN           NaN   \n",
       "1                  NaN                NaN                NaN           NaN   \n",
       "2                  NaN                NaN                NaN           NaN   \n",
       "3                  NaN                NaN                NaN           NaN   \n",
       "4                  NaN                NaN                NaN           NaN   \n",
       "\n",
       "   Windows Desktop_count  Windows Phone_count  iPad Tablet_count  \\\n",
       "0                    NaN                  NaN                NaN   \n",
       "1                    NaN                  NaN                NaN   \n",
       "2                    NaN                  NaN                NaN   \n",
       "3                    NaN                  NaN                NaN   \n",
       "4                    NaN                  NaN                NaN   \n",
       "\n",
       "   iPhone_count  iPodtouch_count  most_used_device  \n",
       "0           NaN              NaN               NaN  \n",
       "1           NaN              NaN               NaN  \n",
       "2           NaN              NaN               NaN  \n",
       "3           NaN              NaN               NaN  \n",
       "4           NaN              NaN               NaN  \n",
       "\n",
       "[5 rows x 707 columns]"
      ]
     },
     "execution_count": 47,
     "metadata": {},
     "output_type": "execute_result"
    }
   ],
   "source": [
    "train_test_sess.head()"
   ]
  },
  {
   "cell_type": "code",
   "execution_count": 48,
   "metadata": {
    "collapsed": false
   },
   "outputs": [
    {
     "data": {
      "text/plain": [
       "(275547, 707)"
      ]
     },
     "execution_count": 48,
     "metadata": {},
     "output_type": "execute_result"
    }
   ],
   "source": [
    "train_test_sess.shape"
   ]
  },
  {
   "cell_type": "code",
   "execution_count": 49,
   "metadata": {
    "collapsed": false
   },
   "outputs": [
    {
     "data": {
      "text/plain": [
       "Index([u'id', u'age', u'country_destination', u'date_accnt_created_month',\n",
       "       u'timestamp_first_active_month', u'date_first_booking_month',\n",
       "       u'date_accnt_created_year', u'timestamp_first_active_year',\n",
       "       u'date_first_booking_year', u'date_accnt_created_day',\n",
       "       ...\n",
       "       u'Linux Desktop_count', u'Mac Desktop_count', u'Opera Phone_count',\n",
       "       u'Tablet_count', u'Windows Desktop_count', u'Windows Phone_count',\n",
       "       u'iPad Tablet_count', u'iPhone_count', u'iPodtouch_count',\n",
       "       u'most_used_device'],\n",
       "      dtype='object', length=707)"
      ]
     },
     "execution_count": 49,
     "metadata": {},
     "output_type": "execute_result"
    }
   ],
   "source": [
    "train_test_sess.columns"
   ]
  },
  {
   "cell_type": "code",
   "execution_count": 50,
   "metadata": {
    "collapsed": true
   },
   "outputs": [],
   "source": [
    "categorical_features1 = ['most_used_device']"
   ]
  },
  {
   "cell_type": "code",
   "execution_count": 51,
   "metadata": {
    "collapsed": false
   },
   "outputs": [
    {
     "data": {
      "text/html": [
       "<div>\n",
       "<table border=\"1\" class=\"dataframe\">\n",
       "  <thead>\n",
       "    <tr style=\"text-align: right;\">\n",
       "      <th></th>\n",
       "      <th>id</th>\n",
       "      <th>age</th>\n",
       "      <th>country_destination</th>\n",
       "      <th>date_accnt_created_month</th>\n",
       "      <th>timestamp_first_active_month</th>\n",
       "      <th>date_first_booking_month</th>\n",
       "      <th>date_accnt_created_year</th>\n",
       "      <th>timestamp_first_active_year</th>\n",
       "      <th>date_first_booking_year</th>\n",
       "      <th>date_accnt_created_day</th>\n",
       "      <th>...</th>\n",
       "      <th>Linux Desktop_count</th>\n",
       "      <th>Mac Desktop_count</th>\n",
       "      <th>Opera Phone_count</th>\n",
       "      <th>Tablet_count</th>\n",
       "      <th>Windows Desktop_count</th>\n",
       "      <th>Windows Phone_count</th>\n",
       "      <th>iPad Tablet_count</th>\n",
       "      <th>iPhone_count</th>\n",
       "      <th>iPodtouch_count</th>\n",
       "      <th>most_used_device</th>\n",
       "    </tr>\n",
       "  </thead>\n",
       "  <tbody>\n",
       "    <tr>\n",
       "      <th>0</th>\n",
       "      <td>gxn3p5htnn</td>\n",
       "      <td>NaN</td>\n",
       "      <td>NDF</td>\n",
       "      <td>6</td>\n",
       "      <td>3</td>\n",
       "      <td>NaN</td>\n",
       "      <td>2010</td>\n",
       "      <td>2009</td>\n",
       "      <td>NaN</td>\n",
       "      <td>28</td>\n",
       "      <td>...</td>\n",
       "      <td>NaN</td>\n",
       "      <td>NaN</td>\n",
       "      <td>NaN</td>\n",
       "      <td>NaN</td>\n",
       "      <td>NaN</td>\n",
       "      <td>NaN</td>\n",
       "      <td>NaN</td>\n",
       "      <td>NaN</td>\n",
       "      <td>NaN</td>\n",
       "      <td>NaN</td>\n",
       "    </tr>\n",
       "    <tr>\n",
       "      <th>1</th>\n",
       "      <td>820tgsjxq7</td>\n",
       "      <td>38.0</td>\n",
       "      <td>NDF</td>\n",
       "      <td>5</td>\n",
       "      <td>5</td>\n",
       "      <td>NaN</td>\n",
       "      <td>2011</td>\n",
       "      <td>2009</td>\n",
       "      <td>NaN</td>\n",
       "      <td>25</td>\n",
       "      <td>...</td>\n",
       "      <td>NaN</td>\n",
       "      <td>NaN</td>\n",
       "      <td>NaN</td>\n",
       "      <td>NaN</td>\n",
       "      <td>NaN</td>\n",
       "      <td>NaN</td>\n",
       "      <td>NaN</td>\n",
       "      <td>NaN</td>\n",
       "      <td>NaN</td>\n",
       "      <td>NaN</td>\n",
       "    </tr>\n",
       "    <tr>\n",
       "      <th>2</th>\n",
       "      <td>4ft3gnwmtx</td>\n",
       "      <td>56.0</td>\n",
       "      <td>US</td>\n",
       "      <td>9</td>\n",
       "      <td>6</td>\n",
       "      <td>8.0</td>\n",
       "      <td>2010</td>\n",
       "      <td>2009</td>\n",
       "      <td>2010.0</td>\n",
       "      <td>28</td>\n",
       "      <td>...</td>\n",
       "      <td>NaN</td>\n",
       "      <td>NaN</td>\n",
       "      <td>NaN</td>\n",
       "      <td>NaN</td>\n",
       "      <td>NaN</td>\n",
       "      <td>NaN</td>\n",
       "      <td>NaN</td>\n",
       "      <td>NaN</td>\n",
       "      <td>NaN</td>\n",
       "      <td>NaN</td>\n",
       "    </tr>\n",
       "    <tr>\n",
       "      <th>3</th>\n",
       "      <td>bjjt8pjhuk</td>\n",
       "      <td>42.0</td>\n",
       "      <td>other</td>\n",
       "      <td>12</td>\n",
       "      <td>10</td>\n",
       "      <td>9.0</td>\n",
       "      <td>2011</td>\n",
       "      <td>2009</td>\n",
       "      <td>2012.0</td>\n",
       "      <td>5</td>\n",
       "      <td>...</td>\n",
       "      <td>NaN</td>\n",
       "      <td>NaN</td>\n",
       "      <td>NaN</td>\n",
       "      <td>NaN</td>\n",
       "      <td>NaN</td>\n",
       "      <td>NaN</td>\n",
       "      <td>NaN</td>\n",
       "      <td>NaN</td>\n",
       "      <td>NaN</td>\n",
       "      <td>NaN</td>\n",
       "    </tr>\n",
       "    <tr>\n",
       "      <th>4</th>\n",
       "      <td>87mebub9p4</td>\n",
       "      <td>41.0</td>\n",
       "      <td>US</td>\n",
       "      <td>9</td>\n",
       "      <td>12</td>\n",
       "      <td>2.0</td>\n",
       "      <td>2010</td>\n",
       "      <td>2009</td>\n",
       "      <td>2010.0</td>\n",
       "      <td>14</td>\n",
       "      <td>...</td>\n",
       "      <td>NaN</td>\n",
       "      <td>NaN</td>\n",
       "      <td>NaN</td>\n",
       "      <td>NaN</td>\n",
       "      <td>NaN</td>\n",
       "      <td>NaN</td>\n",
       "      <td>NaN</td>\n",
       "      <td>NaN</td>\n",
       "      <td>NaN</td>\n",
       "      <td>NaN</td>\n",
       "    </tr>\n",
       "  </tbody>\n",
       "</table>\n",
       "<p>5 rows × 707 columns</p>\n",
       "</div>"
      ],
      "text/plain": [
       "           id   age country_destination  date_accnt_created_month  \\\n",
       "0  gxn3p5htnn   NaN                 NDF                         6   \n",
       "1  820tgsjxq7  38.0                 NDF                         5   \n",
       "2  4ft3gnwmtx  56.0                  US                         9   \n",
       "3  bjjt8pjhuk  42.0               other                        12   \n",
       "4  87mebub9p4  41.0                  US                         9   \n",
       "\n",
       "   timestamp_first_active_month  date_first_booking_month  \\\n",
       "0                             3                       NaN   \n",
       "1                             5                       NaN   \n",
       "2                             6                       8.0   \n",
       "3                            10                       9.0   \n",
       "4                            12                       2.0   \n",
       "\n",
       "   date_accnt_created_year  timestamp_first_active_year  \\\n",
       "0                     2010                         2009   \n",
       "1                     2011                         2009   \n",
       "2                     2010                         2009   \n",
       "3                     2011                         2009   \n",
       "4                     2010                         2009   \n",
       "\n",
       "   date_first_booking_year  date_accnt_created_day        ...         \\\n",
       "0                      NaN                      28        ...          \n",
       "1                      NaN                      25        ...          \n",
       "2                   2010.0                      28        ...          \n",
       "3                   2012.0                       5        ...          \n",
       "4                   2010.0                      14        ...          \n",
       "\n",
       "   Linux Desktop_count  Mac Desktop_count  Opera Phone_count  Tablet_count  \\\n",
       "0                  NaN                NaN                NaN           NaN   \n",
       "1                  NaN                NaN                NaN           NaN   \n",
       "2                  NaN                NaN                NaN           NaN   \n",
       "3                  NaN                NaN                NaN           NaN   \n",
       "4                  NaN                NaN                NaN           NaN   \n",
       "\n",
       "   Windows Desktop_count  Windows Phone_count  iPad Tablet_count  \\\n",
       "0                    NaN                  NaN                NaN   \n",
       "1                    NaN                  NaN                NaN   \n",
       "2                    NaN                  NaN                NaN   \n",
       "3                    NaN                  NaN                NaN   \n",
       "4                    NaN                  NaN                NaN   \n",
       "\n",
       "   iPhone_count  iPodtouch_count  most_used_device  \n",
       "0           NaN              NaN               NaN  \n",
       "1           NaN              NaN               NaN  \n",
       "2           NaN              NaN               NaN  \n",
       "3           NaN              NaN               NaN  \n",
       "4           NaN              NaN               NaN  \n",
       "\n",
       "[5 rows x 707 columns]"
      ]
     },
     "execution_count": 51,
     "metadata": {},
     "output_type": "execute_result"
    }
   ],
   "source": [
    "train_test_sess.head()"
   ]
  },
  {
   "cell_type": "code",
   "execution_count": 52,
   "metadata": {
    "collapsed": false
   },
   "outputs": [],
   "source": [
    "train_test_sess = pd.get_dummies(train_test_sess, columns=categorical_features1)"
   ]
  },
  {
   "cell_type": "code",
   "execution_count": 53,
   "metadata": {
    "collapsed": false
   },
   "outputs": [
    {
     "data": {
      "text/plain": [
       "(275547, 720)"
      ]
     },
     "execution_count": 53,
     "metadata": {},
     "output_type": "execute_result"
    }
   ],
   "source": [
    "train_test_sess.shape"
   ]
  },
  {
   "cell_type": "code",
   "execution_count": 104,
   "metadata": {
    "collapsed": false
   },
   "outputs": [
    {
     "data": {
      "text/plain": [
       "(62096, 718)"
      ]
     },
     "execution_count": 104,
     "metadata": {},
     "output_type": "execute_result"
    }
   ],
   "source": [
    "test_final_sess.shape"
   ]
  },
  {
   "cell_type": "code",
   "execution_count": 105,
   "metadata": {
    "collapsed": false
   },
   "outputs": [
    {
     "data": {
      "text/plain": [
       "(213451, 719)"
      ]
     },
     "execution_count": 105,
     "metadata": {},
     "output_type": "execute_result"
    }
   ],
   "source": [
    "train_final_sess.shape"
   ]
  },
  {
   "cell_type": "code",
   "execution_count": 106,
   "metadata": {
    "collapsed": false
   },
   "outputs": [
    {
     "name": "stdout",
     "output_type": "stream",
     "text": [
      "(275547, 718)\n",
      "(275547,)\n"
     ]
    }
   ],
   "source": [
    "print x_train_sess.shape\n",
    "print y_train_sess.shape"
   ]
  },
  {
   "cell_type": "code",
   "execution_count": 54,
   "metadata": {
    "collapsed": true
   },
   "outputs": [],
   "source": [
    "train_test_sess.set_index('id', inplace=True)\n",
    "test_final_sess = train_test_sess.loc[test['id']].drop('country_destination', axis=1)\n",
    "train_final_sess = train_test_sess.loc[train['id']]\n",
    "#train_final = train_final.fillna(-1)"
   ]
  },
  {
   "cell_type": "code",
   "execution_count": 55,
   "metadata": {
    "collapsed": false
   },
   "outputs": [
    {
     "name": "stdout",
     "output_type": "stream",
     "text": [
      "(213451, 719)\n",
      "(62096, 718)\n"
     ]
    }
   ],
   "source": [
    "print train_final_sess.shape\n",
    "print test_final_sess.shape"
   ]
  },
  {
   "cell_type": "code",
   "execution_count": 56,
   "metadata": {
    "collapsed": false
   },
   "outputs": [
    {
     "data": {
      "text/html": [
       "<div>\n",
       "<table border=\"1\" class=\"dataframe\">\n",
       "  <thead>\n",
       "    <tr style=\"text-align: right;\">\n",
       "      <th></th>\n",
       "      <th>age</th>\n",
       "      <th>date_accnt_created_month</th>\n",
       "      <th>timestamp_first_active_month</th>\n",
       "      <th>date_first_booking_month</th>\n",
       "      <th>date_accnt_created_year</th>\n",
       "      <th>timestamp_first_active_year</th>\n",
       "      <th>date_first_booking_year</th>\n",
       "      <th>date_accnt_created_day</th>\n",
       "      <th>timestamp_first_active_day</th>\n",
       "      <th>date_first_booking_day</th>\n",
       "      <th>...</th>\n",
       "      <th>most_used_device_Chromebook</th>\n",
       "      <th>most_used_device_Linux Desktop</th>\n",
       "      <th>most_used_device_Mac Desktop</th>\n",
       "      <th>most_used_device_Opera Phone</th>\n",
       "      <th>most_used_device_Tablet</th>\n",
       "      <th>most_used_device_Windows Desktop</th>\n",
       "      <th>most_used_device_Windows Phone</th>\n",
       "      <th>most_used_device_iPad Tablet</th>\n",
       "      <th>most_used_device_iPhone</th>\n",
       "      <th>most_used_device_iPodtouch</th>\n",
       "    </tr>\n",
       "    <tr>\n",
       "      <th>id</th>\n",
       "      <th></th>\n",
       "      <th></th>\n",
       "      <th></th>\n",
       "      <th></th>\n",
       "      <th></th>\n",
       "      <th></th>\n",
       "      <th></th>\n",
       "      <th></th>\n",
       "      <th></th>\n",
       "      <th></th>\n",
       "      <th></th>\n",
       "      <th></th>\n",
       "      <th></th>\n",
       "      <th></th>\n",
       "      <th></th>\n",
       "      <th></th>\n",
       "      <th></th>\n",
       "      <th></th>\n",
       "      <th></th>\n",
       "      <th></th>\n",
       "      <th></th>\n",
       "    </tr>\n",
       "  </thead>\n",
       "  <tbody>\n",
       "    <tr>\n",
       "      <th>5uwns89zht</th>\n",
       "      <td>35.0</td>\n",
       "      <td>7</td>\n",
       "      <td>7</td>\n",
       "      <td>NaN</td>\n",
       "      <td>2014</td>\n",
       "      <td>2014</td>\n",
       "      <td>NaN</td>\n",
       "      <td>1</td>\n",
       "      <td>1</td>\n",
       "      <td>NaN</td>\n",
       "      <td>...</td>\n",
       "      <td>0</td>\n",
       "      <td>0</td>\n",
       "      <td>0</td>\n",
       "      <td>0</td>\n",
       "      <td>0</td>\n",
       "      <td>0</td>\n",
       "      <td>0</td>\n",
       "      <td>0</td>\n",
       "      <td>1</td>\n",
       "      <td>0</td>\n",
       "    </tr>\n",
       "    <tr>\n",
       "      <th>jtl0dijy2j</th>\n",
       "      <td>NaN</td>\n",
       "      <td>7</td>\n",
       "      <td>7</td>\n",
       "      <td>NaN</td>\n",
       "      <td>2014</td>\n",
       "      <td>2014</td>\n",
       "      <td>NaN</td>\n",
       "      <td>1</td>\n",
       "      <td>1</td>\n",
       "      <td>NaN</td>\n",
       "      <td>...</td>\n",
       "      <td>0</td>\n",
       "      <td>0</td>\n",
       "      <td>0</td>\n",
       "      <td>0</td>\n",
       "      <td>0</td>\n",
       "      <td>0</td>\n",
       "      <td>0</td>\n",
       "      <td>0</td>\n",
       "      <td>1</td>\n",
       "      <td>0</td>\n",
       "    </tr>\n",
       "    <tr>\n",
       "      <th>xx0ulgorjt</th>\n",
       "      <td>NaN</td>\n",
       "      <td>7</td>\n",
       "      <td>7</td>\n",
       "      <td>NaN</td>\n",
       "      <td>2014</td>\n",
       "      <td>2014</td>\n",
       "      <td>NaN</td>\n",
       "      <td>1</td>\n",
       "      <td>1</td>\n",
       "      <td>NaN</td>\n",
       "      <td>...</td>\n",
       "      <td>0</td>\n",
       "      <td>0</td>\n",
       "      <td>0</td>\n",
       "      <td>0</td>\n",
       "      <td>0</td>\n",
       "      <td>1</td>\n",
       "      <td>0</td>\n",
       "      <td>0</td>\n",
       "      <td>0</td>\n",
       "      <td>0</td>\n",
       "    </tr>\n",
       "    <tr>\n",
       "      <th>6c6puo6ix0</th>\n",
       "      <td>NaN</td>\n",
       "      <td>7</td>\n",
       "      <td>7</td>\n",
       "      <td>NaN</td>\n",
       "      <td>2014</td>\n",
       "      <td>2014</td>\n",
       "      <td>NaN</td>\n",
       "      <td>1</td>\n",
       "      <td>1</td>\n",
       "      <td>NaN</td>\n",
       "      <td>...</td>\n",
       "      <td>0</td>\n",
       "      <td>0</td>\n",
       "      <td>0</td>\n",
       "      <td>0</td>\n",
       "      <td>0</td>\n",
       "      <td>1</td>\n",
       "      <td>0</td>\n",
       "      <td>0</td>\n",
       "      <td>0</td>\n",
       "      <td>0</td>\n",
       "    </tr>\n",
       "    <tr>\n",
       "      <th>czqhjk3yfe</th>\n",
       "      <td>NaN</td>\n",
       "      <td>7</td>\n",
       "      <td>7</td>\n",
       "      <td>NaN</td>\n",
       "      <td>2014</td>\n",
       "      <td>2014</td>\n",
       "      <td>NaN</td>\n",
       "      <td>1</td>\n",
       "      <td>1</td>\n",
       "      <td>NaN</td>\n",
       "      <td>...</td>\n",
       "      <td>0</td>\n",
       "      <td>0</td>\n",
       "      <td>1</td>\n",
       "      <td>0</td>\n",
       "      <td>0</td>\n",
       "      <td>0</td>\n",
       "      <td>0</td>\n",
       "      <td>0</td>\n",
       "      <td>0</td>\n",
       "      <td>0</td>\n",
       "    </tr>\n",
       "  </tbody>\n",
       "</table>\n",
       "<p>5 rows × 718 columns</p>\n",
       "</div>"
      ],
      "text/plain": [
       "             age  date_accnt_created_month  timestamp_first_active_month  \\\n",
       "id                                                                         \n",
       "5uwns89zht  35.0                         7                             7   \n",
       "jtl0dijy2j   NaN                         7                             7   \n",
       "xx0ulgorjt   NaN                         7                             7   \n",
       "6c6puo6ix0   NaN                         7                             7   \n",
       "czqhjk3yfe   NaN                         7                             7   \n",
       "\n",
       "            date_first_booking_month  date_accnt_created_year  \\\n",
       "id                                                              \n",
       "5uwns89zht                       NaN                     2014   \n",
       "jtl0dijy2j                       NaN                     2014   \n",
       "xx0ulgorjt                       NaN                     2014   \n",
       "6c6puo6ix0                       NaN                     2014   \n",
       "czqhjk3yfe                       NaN                     2014   \n",
       "\n",
       "            timestamp_first_active_year  date_first_booking_year  \\\n",
       "id                                                                 \n",
       "5uwns89zht                         2014                      NaN   \n",
       "jtl0dijy2j                         2014                      NaN   \n",
       "xx0ulgorjt                         2014                      NaN   \n",
       "6c6puo6ix0                         2014                      NaN   \n",
       "czqhjk3yfe                         2014                      NaN   \n",
       "\n",
       "            date_accnt_created_day  timestamp_first_active_day  \\\n",
       "id                                                               \n",
       "5uwns89zht                       1                           1   \n",
       "jtl0dijy2j                       1                           1   \n",
       "xx0ulgorjt                       1                           1   \n",
       "6c6puo6ix0                       1                           1   \n",
       "czqhjk3yfe                       1                           1   \n",
       "\n",
       "            date_first_booking_day             ...              \\\n",
       "id                                             ...               \n",
       "5uwns89zht                     NaN             ...               \n",
       "jtl0dijy2j                     NaN             ...               \n",
       "xx0ulgorjt                     NaN             ...               \n",
       "6c6puo6ix0                     NaN             ...               \n",
       "czqhjk3yfe                     NaN             ...               \n",
       "\n",
       "            most_used_device_Chromebook  most_used_device_Linux Desktop  \\\n",
       "id                                                                        \n",
       "5uwns89zht                            0                               0   \n",
       "jtl0dijy2j                            0                               0   \n",
       "xx0ulgorjt                            0                               0   \n",
       "6c6puo6ix0                            0                               0   \n",
       "czqhjk3yfe                            0                               0   \n",
       "\n",
       "            most_used_device_Mac Desktop  most_used_device_Opera Phone  \\\n",
       "id                                                                       \n",
       "5uwns89zht                             0                             0   \n",
       "jtl0dijy2j                             0                             0   \n",
       "xx0ulgorjt                             0                             0   \n",
       "6c6puo6ix0                             0                             0   \n",
       "czqhjk3yfe                             1                             0   \n",
       "\n",
       "            most_used_device_Tablet  most_used_device_Windows Desktop  \\\n",
       "id                                                                      \n",
       "5uwns89zht                        0                                 0   \n",
       "jtl0dijy2j                        0                                 0   \n",
       "xx0ulgorjt                        0                                 1   \n",
       "6c6puo6ix0                        0                                 1   \n",
       "czqhjk3yfe                        0                                 0   \n",
       "\n",
       "            most_used_device_Windows Phone  most_used_device_iPad Tablet  \\\n",
       "id                                                                         \n",
       "5uwns89zht                               0                             0   \n",
       "jtl0dijy2j                               0                             0   \n",
       "xx0ulgorjt                               0                             0   \n",
       "6c6puo6ix0                               0                             0   \n",
       "czqhjk3yfe                               0                             0   \n",
       "\n",
       "            most_used_device_iPhone  most_used_device_iPodtouch  \n",
       "id                                                               \n",
       "5uwns89zht                        1                           0  \n",
       "jtl0dijy2j                        1                           0  \n",
       "xx0ulgorjt                        0                           0  \n",
       "6c6puo6ix0                        0                           0  \n",
       "czqhjk3yfe                        0                           0  \n",
       "\n",
       "[5 rows x 718 columns]"
      ]
     },
     "execution_count": 56,
     "metadata": {},
     "output_type": "execute_result"
    }
   ],
   "source": [
    "test_final_sess.head()"
   ]
  },
  {
   "cell_type": "code",
   "execution_count": 57,
   "metadata": {
    "collapsed": false
   },
   "outputs": [
    {
     "data": {
      "text/html": [
       "<div>\n",
       "<table border=\"1\" class=\"dataframe\">\n",
       "  <thead>\n",
       "    <tr style=\"text-align: right;\">\n",
       "      <th></th>\n",
       "      <th>age</th>\n",
       "      <th>country_destination</th>\n",
       "      <th>date_accnt_created_month</th>\n",
       "      <th>timestamp_first_active_month</th>\n",
       "      <th>date_first_booking_month</th>\n",
       "      <th>date_accnt_created_year</th>\n",
       "      <th>timestamp_first_active_year</th>\n",
       "      <th>date_first_booking_year</th>\n",
       "      <th>date_accnt_created_day</th>\n",
       "      <th>timestamp_first_active_day</th>\n",
       "      <th>...</th>\n",
       "      <th>most_used_device_Chromebook</th>\n",
       "      <th>most_used_device_Linux Desktop</th>\n",
       "      <th>most_used_device_Mac Desktop</th>\n",
       "      <th>most_used_device_Opera Phone</th>\n",
       "      <th>most_used_device_Tablet</th>\n",
       "      <th>most_used_device_Windows Desktop</th>\n",
       "      <th>most_used_device_Windows Phone</th>\n",
       "      <th>most_used_device_iPad Tablet</th>\n",
       "      <th>most_used_device_iPhone</th>\n",
       "      <th>most_used_device_iPodtouch</th>\n",
       "    </tr>\n",
       "    <tr>\n",
       "      <th>id</th>\n",
       "      <th></th>\n",
       "      <th></th>\n",
       "      <th></th>\n",
       "      <th></th>\n",
       "      <th></th>\n",
       "      <th></th>\n",
       "      <th></th>\n",
       "      <th></th>\n",
       "      <th></th>\n",
       "      <th></th>\n",
       "      <th></th>\n",
       "      <th></th>\n",
       "      <th></th>\n",
       "      <th></th>\n",
       "      <th></th>\n",
       "      <th></th>\n",
       "      <th></th>\n",
       "      <th></th>\n",
       "      <th></th>\n",
       "      <th></th>\n",
       "      <th></th>\n",
       "    </tr>\n",
       "  </thead>\n",
       "  <tbody>\n",
       "    <tr>\n",
       "      <th>gxn3p5htnn</th>\n",
       "      <td>NaN</td>\n",
       "      <td>NDF</td>\n",
       "      <td>6</td>\n",
       "      <td>3</td>\n",
       "      <td>NaN</td>\n",
       "      <td>2010</td>\n",
       "      <td>2009</td>\n",
       "      <td>NaN</td>\n",
       "      <td>28</td>\n",
       "      <td>19</td>\n",
       "      <td>...</td>\n",
       "      <td>0</td>\n",
       "      <td>0</td>\n",
       "      <td>0</td>\n",
       "      <td>0</td>\n",
       "      <td>0</td>\n",
       "      <td>0</td>\n",
       "      <td>0</td>\n",
       "      <td>0</td>\n",
       "      <td>0</td>\n",
       "      <td>0</td>\n",
       "    </tr>\n",
       "    <tr>\n",
       "      <th>820tgsjxq7</th>\n",
       "      <td>38.0</td>\n",
       "      <td>NDF</td>\n",
       "      <td>5</td>\n",
       "      <td>5</td>\n",
       "      <td>NaN</td>\n",
       "      <td>2011</td>\n",
       "      <td>2009</td>\n",
       "      <td>NaN</td>\n",
       "      <td>25</td>\n",
       "      <td>23</td>\n",
       "      <td>...</td>\n",
       "      <td>0</td>\n",
       "      <td>0</td>\n",
       "      <td>0</td>\n",
       "      <td>0</td>\n",
       "      <td>0</td>\n",
       "      <td>0</td>\n",
       "      <td>0</td>\n",
       "      <td>0</td>\n",
       "      <td>0</td>\n",
       "      <td>0</td>\n",
       "    </tr>\n",
       "    <tr>\n",
       "      <th>4ft3gnwmtx</th>\n",
       "      <td>56.0</td>\n",
       "      <td>US</td>\n",
       "      <td>9</td>\n",
       "      <td>6</td>\n",
       "      <td>8.0</td>\n",
       "      <td>2010</td>\n",
       "      <td>2009</td>\n",
       "      <td>2010.0</td>\n",
       "      <td>28</td>\n",
       "      <td>9</td>\n",
       "      <td>...</td>\n",
       "      <td>0</td>\n",
       "      <td>0</td>\n",
       "      <td>0</td>\n",
       "      <td>0</td>\n",
       "      <td>0</td>\n",
       "      <td>0</td>\n",
       "      <td>0</td>\n",
       "      <td>0</td>\n",
       "      <td>0</td>\n",
       "      <td>0</td>\n",
       "    </tr>\n",
       "    <tr>\n",
       "      <th>bjjt8pjhuk</th>\n",
       "      <td>42.0</td>\n",
       "      <td>other</td>\n",
       "      <td>12</td>\n",
       "      <td>10</td>\n",
       "      <td>9.0</td>\n",
       "      <td>2011</td>\n",
       "      <td>2009</td>\n",
       "      <td>2012.0</td>\n",
       "      <td>5</td>\n",
       "      <td>31</td>\n",
       "      <td>...</td>\n",
       "      <td>0</td>\n",
       "      <td>0</td>\n",
       "      <td>0</td>\n",
       "      <td>0</td>\n",
       "      <td>0</td>\n",
       "      <td>0</td>\n",
       "      <td>0</td>\n",
       "      <td>0</td>\n",
       "      <td>0</td>\n",
       "      <td>0</td>\n",
       "    </tr>\n",
       "    <tr>\n",
       "      <th>87mebub9p4</th>\n",
       "      <td>41.0</td>\n",
       "      <td>US</td>\n",
       "      <td>9</td>\n",
       "      <td>12</td>\n",
       "      <td>2.0</td>\n",
       "      <td>2010</td>\n",
       "      <td>2009</td>\n",
       "      <td>2010.0</td>\n",
       "      <td>14</td>\n",
       "      <td>8</td>\n",
       "      <td>...</td>\n",
       "      <td>0</td>\n",
       "      <td>0</td>\n",
       "      <td>0</td>\n",
       "      <td>0</td>\n",
       "      <td>0</td>\n",
       "      <td>0</td>\n",
       "      <td>0</td>\n",
       "      <td>0</td>\n",
       "      <td>0</td>\n",
       "      <td>0</td>\n",
       "    </tr>\n",
       "  </tbody>\n",
       "</table>\n",
       "<p>5 rows × 719 columns</p>\n",
       "</div>"
      ],
      "text/plain": [
       "             age country_destination  date_accnt_created_month  \\\n",
       "id                                                               \n",
       "gxn3p5htnn   NaN                 NDF                         6   \n",
       "820tgsjxq7  38.0                 NDF                         5   \n",
       "4ft3gnwmtx  56.0                  US                         9   \n",
       "bjjt8pjhuk  42.0               other                        12   \n",
       "87mebub9p4  41.0                  US                         9   \n",
       "\n",
       "            timestamp_first_active_month  date_first_booking_month  \\\n",
       "id                                                                   \n",
       "gxn3p5htnn                             3                       NaN   \n",
       "820tgsjxq7                             5                       NaN   \n",
       "4ft3gnwmtx                             6                       8.0   \n",
       "bjjt8pjhuk                            10                       9.0   \n",
       "87mebub9p4                            12                       2.0   \n",
       "\n",
       "            date_accnt_created_year  timestamp_first_active_year  \\\n",
       "id                                                                 \n",
       "gxn3p5htnn                     2010                         2009   \n",
       "820tgsjxq7                     2011                         2009   \n",
       "4ft3gnwmtx                     2010                         2009   \n",
       "bjjt8pjhuk                     2011                         2009   \n",
       "87mebub9p4                     2010                         2009   \n",
       "\n",
       "            date_first_booking_year  date_accnt_created_day  \\\n",
       "id                                                            \n",
       "gxn3p5htnn                      NaN                      28   \n",
       "820tgsjxq7                      NaN                      25   \n",
       "4ft3gnwmtx                   2010.0                      28   \n",
       "bjjt8pjhuk                   2012.0                       5   \n",
       "87mebub9p4                   2010.0                      14   \n",
       "\n",
       "            timestamp_first_active_day             ...              \\\n",
       "id                                                 ...               \n",
       "gxn3p5htnn                          19             ...               \n",
       "820tgsjxq7                          23             ...               \n",
       "4ft3gnwmtx                           9             ...               \n",
       "bjjt8pjhuk                          31             ...               \n",
       "87mebub9p4                           8             ...               \n",
       "\n",
       "            most_used_device_Chromebook  most_used_device_Linux Desktop  \\\n",
       "id                                                                        \n",
       "gxn3p5htnn                            0                               0   \n",
       "820tgsjxq7                            0                               0   \n",
       "4ft3gnwmtx                            0                               0   \n",
       "bjjt8pjhuk                            0                               0   \n",
       "87mebub9p4                            0                               0   \n",
       "\n",
       "            most_used_device_Mac Desktop  most_used_device_Opera Phone  \\\n",
       "id                                                                       \n",
       "gxn3p5htnn                             0                             0   \n",
       "820tgsjxq7                             0                             0   \n",
       "4ft3gnwmtx                             0                             0   \n",
       "bjjt8pjhuk                             0                             0   \n",
       "87mebub9p4                             0                             0   \n",
       "\n",
       "            most_used_device_Tablet  most_used_device_Windows Desktop  \\\n",
       "id                                                                      \n",
       "gxn3p5htnn                        0                                 0   \n",
       "820tgsjxq7                        0                                 0   \n",
       "4ft3gnwmtx                        0                                 0   \n",
       "bjjt8pjhuk                        0                                 0   \n",
       "87mebub9p4                        0                                 0   \n",
       "\n",
       "            most_used_device_Windows Phone  most_used_device_iPad Tablet  \\\n",
       "id                                                                         \n",
       "gxn3p5htnn                               0                             0   \n",
       "820tgsjxq7                               0                             0   \n",
       "4ft3gnwmtx                               0                             0   \n",
       "bjjt8pjhuk                               0                             0   \n",
       "87mebub9p4                               0                             0   \n",
       "\n",
       "            most_used_device_iPhone  most_used_device_iPodtouch  \n",
       "id                                                               \n",
       "gxn3p5htnn                        0                           0  \n",
       "820tgsjxq7                        0                           0  \n",
       "4ft3gnwmtx                        0                           0  \n",
       "bjjt8pjhuk                        0                           0  \n",
       "87mebub9p4                        0                           0  \n",
       "\n",
       "[5 rows x 719 columns]"
      ]
     },
     "execution_count": 57,
     "metadata": {},
     "output_type": "execute_result"
    }
   ],
   "source": [
    "train_final_sess.head()"
   ]
  },
  {
   "cell_type": "code",
   "execution_count": 58,
   "metadata": {
    "collapsed": true
   },
   "outputs": [],
   "source": [
    "test_final_sess.reset_index(inplace=True)"
   ]
  },
  {
   "cell_type": "code",
   "execution_count": 59,
   "metadata": {
    "collapsed": true
   },
   "outputs": [],
   "source": [
    "test_final_sess=test_final_sess.drop('id', axis=1)"
   ]
  },
  {
   "cell_type": "code",
   "execution_count": 60,
   "metadata": {
    "collapsed": true
   },
   "outputs": [],
   "source": [
    "train_final_sess.reset_index(inplace=True)"
   ]
  },
  {
   "cell_type": "code",
   "execution_count": 61,
   "metadata": {
    "collapsed": true
   },
   "outputs": [],
   "source": [
    "train_final_sess=train_final_sess.drop('id', axis=1)"
   ]
  },
  {
   "cell_type": "code",
   "execution_count": 62,
   "metadata": {
    "collapsed": true
   },
   "outputs": [],
   "source": [
    "train_test_sess = train_test_sess.fillna(-1)"
   ]
  },
  {
   "cell_type": "code",
   "execution_count": 63,
   "metadata": {
    "collapsed": false
   },
   "outputs": [
    {
     "data": {
      "text/html": [
       "<div>\n",
       "<table border=\"1\" class=\"dataframe\">\n",
       "  <thead>\n",
       "    <tr style=\"text-align: right;\">\n",
       "      <th></th>\n",
       "      <th>age</th>\n",
       "      <th>country_destination</th>\n",
       "      <th>date_accnt_created_month</th>\n",
       "      <th>timestamp_first_active_month</th>\n",
       "      <th>date_first_booking_month</th>\n",
       "      <th>date_accnt_created_year</th>\n",
       "      <th>timestamp_first_active_year</th>\n",
       "      <th>date_first_booking_year</th>\n",
       "      <th>date_accnt_created_day</th>\n",
       "      <th>timestamp_first_active_day</th>\n",
       "      <th>...</th>\n",
       "      <th>most_used_device_Chromebook</th>\n",
       "      <th>most_used_device_Linux Desktop</th>\n",
       "      <th>most_used_device_Mac Desktop</th>\n",
       "      <th>most_used_device_Opera Phone</th>\n",
       "      <th>most_used_device_Tablet</th>\n",
       "      <th>most_used_device_Windows Desktop</th>\n",
       "      <th>most_used_device_Windows Phone</th>\n",
       "      <th>most_used_device_iPad Tablet</th>\n",
       "      <th>most_used_device_iPhone</th>\n",
       "      <th>most_used_device_iPodtouch</th>\n",
       "    </tr>\n",
       "    <tr>\n",
       "      <th>id</th>\n",
       "      <th></th>\n",
       "      <th></th>\n",
       "      <th></th>\n",
       "      <th></th>\n",
       "      <th></th>\n",
       "      <th></th>\n",
       "      <th></th>\n",
       "      <th></th>\n",
       "      <th></th>\n",
       "      <th></th>\n",
       "      <th></th>\n",
       "      <th></th>\n",
       "      <th></th>\n",
       "      <th></th>\n",
       "      <th></th>\n",
       "      <th></th>\n",
       "      <th></th>\n",
       "      <th></th>\n",
       "      <th></th>\n",
       "      <th></th>\n",
       "      <th></th>\n",
       "    </tr>\n",
       "  </thead>\n",
       "  <tbody>\n",
       "    <tr>\n",
       "      <th>gxn3p5htnn</th>\n",
       "      <td>-1.0</td>\n",
       "      <td>NDF</td>\n",
       "      <td>6</td>\n",
       "      <td>3</td>\n",
       "      <td>-1.0</td>\n",
       "      <td>2010</td>\n",
       "      <td>2009</td>\n",
       "      <td>-1.0</td>\n",
       "      <td>28</td>\n",
       "      <td>19</td>\n",
       "      <td>...</td>\n",
       "      <td>0</td>\n",
       "      <td>0</td>\n",
       "      <td>0</td>\n",
       "      <td>0</td>\n",
       "      <td>0</td>\n",
       "      <td>0</td>\n",
       "      <td>0</td>\n",
       "      <td>0</td>\n",
       "      <td>0</td>\n",
       "      <td>0</td>\n",
       "    </tr>\n",
       "    <tr>\n",
       "      <th>820tgsjxq7</th>\n",
       "      <td>38.0</td>\n",
       "      <td>NDF</td>\n",
       "      <td>5</td>\n",
       "      <td>5</td>\n",
       "      <td>-1.0</td>\n",
       "      <td>2011</td>\n",
       "      <td>2009</td>\n",
       "      <td>-1.0</td>\n",
       "      <td>25</td>\n",
       "      <td>23</td>\n",
       "      <td>...</td>\n",
       "      <td>0</td>\n",
       "      <td>0</td>\n",
       "      <td>0</td>\n",
       "      <td>0</td>\n",
       "      <td>0</td>\n",
       "      <td>0</td>\n",
       "      <td>0</td>\n",
       "      <td>0</td>\n",
       "      <td>0</td>\n",
       "      <td>0</td>\n",
       "    </tr>\n",
       "    <tr>\n",
       "      <th>4ft3gnwmtx</th>\n",
       "      <td>56.0</td>\n",
       "      <td>US</td>\n",
       "      <td>9</td>\n",
       "      <td>6</td>\n",
       "      <td>8.0</td>\n",
       "      <td>2010</td>\n",
       "      <td>2009</td>\n",
       "      <td>2010.0</td>\n",
       "      <td>28</td>\n",
       "      <td>9</td>\n",
       "      <td>...</td>\n",
       "      <td>0</td>\n",
       "      <td>0</td>\n",
       "      <td>0</td>\n",
       "      <td>0</td>\n",
       "      <td>0</td>\n",
       "      <td>0</td>\n",
       "      <td>0</td>\n",
       "      <td>0</td>\n",
       "      <td>0</td>\n",
       "      <td>0</td>\n",
       "    </tr>\n",
       "    <tr>\n",
       "      <th>bjjt8pjhuk</th>\n",
       "      <td>42.0</td>\n",
       "      <td>other</td>\n",
       "      <td>12</td>\n",
       "      <td>10</td>\n",
       "      <td>9.0</td>\n",
       "      <td>2011</td>\n",
       "      <td>2009</td>\n",
       "      <td>2012.0</td>\n",
       "      <td>5</td>\n",
       "      <td>31</td>\n",
       "      <td>...</td>\n",
       "      <td>0</td>\n",
       "      <td>0</td>\n",
       "      <td>0</td>\n",
       "      <td>0</td>\n",
       "      <td>0</td>\n",
       "      <td>0</td>\n",
       "      <td>0</td>\n",
       "      <td>0</td>\n",
       "      <td>0</td>\n",
       "      <td>0</td>\n",
       "    </tr>\n",
       "    <tr>\n",
       "      <th>87mebub9p4</th>\n",
       "      <td>41.0</td>\n",
       "      <td>US</td>\n",
       "      <td>9</td>\n",
       "      <td>12</td>\n",
       "      <td>2.0</td>\n",
       "      <td>2010</td>\n",
       "      <td>2009</td>\n",
       "      <td>2010.0</td>\n",
       "      <td>14</td>\n",
       "      <td>8</td>\n",
       "      <td>...</td>\n",
       "      <td>0</td>\n",
       "      <td>0</td>\n",
       "      <td>0</td>\n",
       "      <td>0</td>\n",
       "      <td>0</td>\n",
       "      <td>0</td>\n",
       "      <td>0</td>\n",
       "      <td>0</td>\n",
       "      <td>0</td>\n",
       "      <td>0</td>\n",
       "    </tr>\n",
       "  </tbody>\n",
       "</table>\n",
       "<p>5 rows × 719 columns</p>\n",
       "</div>"
      ],
      "text/plain": [
       "             age country_destination  date_accnt_created_month  \\\n",
       "id                                                               \n",
       "gxn3p5htnn  -1.0                 NDF                         6   \n",
       "820tgsjxq7  38.0                 NDF                         5   \n",
       "4ft3gnwmtx  56.0                  US                         9   \n",
       "bjjt8pjhuk  42.0               other                        12   \n",
       "87mebub9p4  41.0                  US                         9   \n",
       "\n",
       "            timestamp_first_active_month  date_first_booking_month  \\\n",
       "id                                                                   \n",
       "gxn3p5htnn                             3                      -1.0   \n",
       "820tgsjxq7                             5                      -1.0   \n",
       "4ft3gnwmtx                             6                       8.0   \n",
       "bjjt8pjhuk                            10                       9.0   \n",
       "87mebub9p4                            12                       2.0   \n",
       "\n",
       "            date_accnt_created_year  timestamp_first_active_year  \\\n",
       "id                                                                 \n",
       "gxn3p5htnn                     2010                         2009   \n",
       "820tgsjxq7                     2011                         2009   \n",
       "4ft3gnwmtx                     2010                         2009   \n",
       "bjjt8pjhuk                     2011                         2009   \n",
       "87mebub9p4                     2010                         2009   \n",
       "\n",
       "            date_first_booking_year  date_accnt_created_day  \\\n",
       "id                                                            \n",
       "gxn3p5htnn                     -1.0                      28   \n",
       "820tgsjxq7                     -1.0                      25   \n",
       "4ft3gnwmtx                   2010.0                      28   \n",
       "bjjt8pjhuk                   2012.0                       5   \n",
       "87mebub9p4                   2010.0                      14   \n",
       "\n",
       "            timestamp_first_active_day             ...              \\\n",
       "id                                                 ...               \n",
       "gxn3p5htnn                          19             ...               \n",
       "820tgsjxq7                          23             ...               \n",
       "4ft3gnwmtx                           9             ...               \n",
       "bjjt8pjhuk                          31             ...               \n",
       "87mebub9p4                           8             ...               \n",
       "\n",
       "            most_used_device_Chromebook  most_used_device_Linux Desktop  \\\n",
       "id                                                                        \n",
       "gxn3p5htnn                            0                               0   \n",
       "820tgsjxq7                            0                               0   \n",
       "4ft3gnwmtx                            0                               0   \n",
       "bjjt8pjhuk                            0                               0   \n",
       "87mebub9p4                            0                               0   \n",
       "\n",
       "            most_used_device_Mac Desktop  most_used_device_Opera Phone  \\\n",
       "id                                                                       \n",
       "gxn3p5htnn                             0                             0   \n",
       "820tgsjxq7                             0                             0   \n",
       "4ft3gnwmtx                             0                             0   \n",
       "bjjt8pjhuk                             0                             0   \n",
       "87mebub9p4                             0                             0   \n",
       "\n",
       "            most_used_device_Tablet  most_used_device_Windows Desktop  \\\n",
       "id                                                                      \n",
       "gxn3p5htnn                        0                                 0   \n",
       "820tgsjxq7                        0                                 0   \n",
       "4ft3gnwmtx                        0                                 0   \n",
       "bjjt8pjhuk                        0                                 0   \n",
       "87mebub9p4                        0                                 0   \n",
       "\n",
       "            most_used_device_Windows Phone  most_used_device_iPad Tablet  \\\n",
       "id                                                                         \n",
       "gxn3p5htnn                               0                             0   \n",
       "820tgsjxq7                               0                             0   \n",
       "4ft3gnwmtx                               0                             0   \n",
       "bjjt8pjhuk                               0                             0   \n",
       "87mebub9p4                               0                             0   \n",
       "\n",
       "            most_used_device_iPhone  most_used_device_iPodtouch  \n",
       "id                                                               \n",
       "gxn3p5htnn                        0                           0  \n",
       "820tgsjxq7                        0                           0  \n",
       "4ft3gnwmtx                        0                           0  \n",
       "bjjt8pjhuk                        0                           0  \n",
       "87mebub9p4                        0                           0  \n",
       "\n",
       "[5 rows x 719 columns]"
      ]
     },
     "execution_count": 63,
     "metadata": {},
     "output_type": "execute_result"
    }
   ],
   "source": [
    "train_test_sess.head()"
   ]
  },
  {
   "cell_type": "code",
   "execution_count": 107,
   "metadata": {
    "collapsed": false
   },
   "outputs": [],
   "source": [
    "train_test_sess.reset_index(inplace=True)\n",
    "x_train_sess = train_test_sess.drop(['country_destination', 'id'], axis=1)\n",
    "y_train_sess = train_test_sess['country_destination']"
   ]
  },
  {
   "cell_type": "code",
   "execution_count": 108,
   "metadata": {
    "collapsed": false
   },
   "outputs": [
    {
     "name": "stdout",
     "output_type": "stream",
     "text": [
      "(275547, 719)\n",
      "(275547,)\n"
     ]
    }
   ],
   "source": [
    "print x_train_sess.shape\n",
    "print y_train_sess.shape"
   ]
  },
  {
   "cell_type": "markdown",
   "metadata": {},
   "source": [
    "SUPPORT VECTOR MACHINE"
   ]
  },
  {
   "cell_type": "code",
   "execution_count": 260,
   "metadata": {
    "collapsed": true
   },
   "outputs": [],
   "source": [
    "y_train = train_final['country_destination']"
   ]
  },
  {
   "cell_type": "code",
   "execution_count": 289,
   "metadata": {
    "collapsed": false
   },
   "outputs": [
    {
     "data": {
      "text/plain": [
       "array([[  0.,   6.,   3., ...,   0.,   0.,   0.],\n",
       "       [ 38.,   5.,   5., ...,   0.,   0.,   0.],\n",
       "       [ 56.,   9.,   6., ...,   0.,   0.,   0.],\n",
       "       ..., \n",
       "       [ 32.,   6.,   6., ...,   0.,   0.,   0.],\n",
       "       [  0.,   6.,   6., ...,   0.,   1.,   0.],\n",
       "       [  0.,   6.,   6., ...,   0.,   1.,   0.]])"
      ]
     },
     "execution_count": 289,
     "metadata": {},
     "output_type": "execute_result"
    }
   ],
   "source": [
    "x_trnp.nan_to_num(x_train)"
   ]
  },
  {
   "cell_type": "code",
   "execution_count": 262,
   "metadata": {
    "collapsed": false
   },
   "outputs": [
    {
     "data": {
      "text/plain": [
       "id\n",
       "gxn3p5htnn      NDF\n",
       "820tgsjxq7      NDF\n",
       "4ft3gnwmtx       US\n",
       "bjjt8pjhuk    other\n",
       "87mebub9p4       US\n",
       "Name: country_destination, dtype: object"
      ]
     },
     "execution_count": 262,
     "metadata": {},
     "output_type": "execute_result"
    }
   ],
   "source": [
    "y_train.head()"
   ]
  },
  {
   "cell_type": "code",
   "execution_count": 268,
   "metadata": {
    "collapsed": true
   },
   "outputs": [],
   "source": [
    "x_train = train_final.drop(['country_destination', 'id'], axis=1)"
   ]
  },
  {
   "cell_type": "code",
   "execution_count": 275,
   "metadata": {
    "collapsed": false
   },
   "outputs": [
    {
     "data": {
      "text/plain": [
       "age                                                  float64\n",
       "date_accnt_created_month                               int64\n",
       "timestamp_first_active_month                           int64\n",
       "date_first_booking_month                             float64\n",
       "date_accnt_created_year                                int64\n",
       "timestamp_first_active_year                            int64\n",
       "date_first_booking_year                              float64\n",
       "date_accnt_created_day                                 int64\n",
       "timestamp_first_active_day                             int64\n",
       "date_first_booking_day                               float64\n",
       "date_accnt_created_dayofweek                           int64\n",
       "timestamp_first_active_dayofweek                       int64\n",
       "date_first_booking_dayofweek                         float64\n",
       "date_accnt_created_quarter                             int64\n",
       "timestamp_first_active_quarter                         int64\n",
       "date_first_booking_quarter                           float64\n",
       "10_count                                             float64\n",
       "11_count                                             float64\n",
       "12_count                                             float64\n",
       "15_count                                             float64\n",
       "about_us_count                                       float64\n",
       "accept_decline_count                                 float64\n",
       "account_count                                        float64\n",
       "acculynk_bin_check_failed_count                      float64\n",
       "acculynk_bin_check_success_count                     float64\n",
       "acculynk_load_pin_pad_count                          float64\n",
       "acculynk_pin_pad_error_count                         float64\n",
       "acculynk_pin_pad_inactive_count                      float64\n",
       "acculynk_pin_pad_success_count                       float64\n",
       "acculynk_session_obtained_count                      float64\n",
       "                                                      ...   \n",
       "first_browser_PS Vita browser                          uint8\n",
       "first_browser_Pale Moon                                uint8\n",
       "first_browser_Palm Pre web browser                     uint8\n",
       "first_browser_RockMelt                                 uint8\n",
       "first_browser_Safari                                   uint8\n",
       "first_browser_SeaMonkey                                uint8\n",
       "first_browser_Silk                                     uint8\n",
       "first_browser_SiteKiosk                                uint8\n",
       "first_browser_SlimBrowser                              uint8\n",
       "first_browser_Sogou Explorer                           uint8\n",
       "first_browser_Stainless                                uint8\n",
       "first_browser_TenFourFox                               uint8\n",
       "first_browser_TheWorld Browser                         uint8\n",
       "first_browser_UC Browser                               uint8\n",
       "first_browser_Yandex.Browser                           uint8\n",
       "first_browser_wOSBrowser                               uint8\n",
       "most_used_device_-unknown-                             uint8\n",
       "most_used_device_Android App Unknown Phone/Tablet      uint8\n",
       "most_used_device_Android Phone                         uint8\n",
       "most_used_device_Blackberry                            uint8\n",
       "most_used_device_Chromebook                            uint8\n",
       "most_used_device_Linux Desktop                         uint8\n",
       "most_used_device_Mac Desktop                           uint8\n",
       "most_used_device_Opera Phone                           uint8\n",
       "most_used_device_Tablet                                uint8\n",
       "most_used_device_Windows Desktop                       uint8\n",
       "most_used_device_Windows Phone                         uint8\n",
       "most_used_device_iPad Tablet                           uint8\n",
       "most_used_device_iPhone                                uint8\n",
       "most_used_device_iPodtouch                             uint8\n",
       "dtype: object"
      ]
     },
     "execution_count": 275,
     "metadata": {},
     "output_type": "execute_result"
    }
   ],
   "source": [
    "x_train.dtypes"
   ]
  },
  {
   "cell_type": "code",
   "execution_count": 272,
   "metadata": {
    "collapsed": true
   },
   "outputs": [],
   "source": [
    "from sklearn.preprocessing import LabelEncoder\n",
    "label_encoder = LabelEncoder()\n",
    "y_train_label = label_encoder.fit_transform(y_train)"
   ]
  },
  {
   "cell_type": "code",
   "execution_count": null,
   "metadata": {
    "collapsed": false
   },
   "outputs": [],
   "source": [
    "from sklearn import svm\n",
    "svm_model = svm.SVC(kernel ='poly', C = 1e5, degree=1)\n",
    "svm_model.fit(train_impute, y_train_label)"
   ]
  },
  {
   "cell_type": "code",
   "execution_count": 288,
   "metadata": {
    "collapsed": false
   },
   "outputs": [
    {
     "data": {
      "text/plain": [
       "age                                                   True\n",
       "date_accnt_created_month                             False\n",
       "timestamp_first_active_month                         False\n",
       "date_first_booking_month                              True\n",
       "date_accnt_created_year                              False\n",
       "timestamp_first_active_year                          False\n",
       "date_first_booking_year                               True\n",
       "date_accnt_created_day                               False\n",
       "timestamp_first_active_day                           False\n",
       "date_first_booking_day                                True\n",
       "date_accnt_created_dayofweek                         False\n",
       "timestamp_first_active_dayofweek                     False\n",
       "date_first_booking_dayofweek                          True\n",
       "date_accnt_created_quarter                           False\n",
       "timestamp_first_active_quarter                       False\n",
       "date_first_booking_quarter                            True\n",
       "10_count                                              True\n",
       "11_count                                              True\n",
       "12_count                                              True\n",
       "15_count                                              True\n",
       "about_us_count                                        True\n",
       "accept_decline_count                                  True\n",
       "account_count                                         True\n",
       "acculynk_bin_check_failed_count                       True\n",
       "acculynk_bin_check_success_count                      True\n",
       "acculynk_load_pin_pad_count                           True\n",
       "acculynk_pin_pad_error_count                          True\n",
       "acculynk_pin_pad_inactive_count                       True\n",
       "acculynk_pin_pad_success_count                        True\n",
       "acculynk_session_obtained_count                       True\n",
       "                                                     ...  \n",
       "first_browser_PS Vita browser                        False\n",
       "first_browser_Pale Moon                              False\n",
       "first_browser_Palm Pre web browser                   False\n",
       "first_browser_RockMelt                               False\n",
       "first_browser_Safari                                 False\n",
       "first_browser_SeaMonkey                              False\n",
       "first_browser_Silk                                   False\n",
       "first_browser_SiteKiosk                              False\n",
       "first_browser_SlimBrowser                            False\n",
       "first_browser_Sogou Explorer                         False\n",
       "first_browser_Stainless                              False\n",
       "first_browser_TenFourFox                             False\n",
       "first_browser_TheWorld Browser                       False\n",
       "first_browser_UC Browser                             False\n",
       "first_browser_Yandex.Browser                         False\n",
       "first_browser_wOSBrowser                             False\n",
       "most_used_device_-unknown-                           False\n",
       "most_used_device_Android App Unknown Phone/Tablet    False\n",
       "most_used_device_Android Phone                       False\n",
       "most_used_device_Blackberry                          False\n",
       "most_used_device_Chromebook                          False\n",
       "most_used_device_Linux Desktop                       False\n",
       "most_used_device_Mac Desktop                         False\n",
       "most_used_device_Opera Phone                         False\n",
       "most_used_device_Tablet                              False\n",
       "most_used_device_Windows Desktop                     False\n",
       "most_used_device_Windows Phone                       False\n",
       "most_used_device_iPad Tablet                         False\n",
       "most_used_device_iPhone                              False\n",
       "most_used_device_iPodtouch                           False\n",
       "dtype: bool"
      ]
     },
     "execution_count": 288,
     "metadata": {},
     "output_type": "execute_result"
    }
   ],
   "source": [
    "np.isnan(x_train).any()"
   ]
  },
  {
   "cell_type": "code",
   "execution_count": 285,
   "metadata": {
    "collapsed": false
   },
   "outputs": [
    {
     "data": {
      "text/plain": [
       "(array([     0,      5,     12, ..., 213447, 213449, 213450]),)"
      ]
     },
     "execution_count": 285,
     "metadata": {},
     "output_type": "execute_result"
    }
   ],
   "source": [
    "np.where(np.isnan(x_train[\"age\"]))"
   ]
  },
  {
   "cell_type": "code",
   "execution_count": 290,
   "metadata": {
    "collapsed": true
   },
   "outputs": [],
   "source": [
    "from sklearn.preprocessing import Imputer\n",
    "train_impute = Imputer().fit_transform(x_train)"
   ]
  },
  {
   "cell_type": "code",
   "execution_count": 294,
   "metadata": {
    "collapsed": false
   },
   "outputs": [],
   "source": [
    "train_impute=pd.DataFrame(train_impute)"
   ]
  },
  {
   "cell_type": "markdown",
   "metadata": {},
   "source": [
    "GRADIANT BOOSTING MODEL(GBM)"
   ]
  },
  {
   "cell_type": "code",
   "execution_count": 24,
   "metadata": {
    "collapsed": false
   },
   "outputs": [
    {
     "name": "stderr",
     "output_type": "stream",
     "text": [
      "/Users/amit/anaconda/lib/python2.7/site-packages/sklearn/cross_validation.py:44: DeprecationWarning: This module was deprecated in version 0.18 in favor of the model_selection module into which all the refactored classes and functions are moved. Also note that the interface of the new CV iterators are different from that of this module. This module will be removed in 0.20.\n",
      "  \"This module will be removed in 0.20.\", DeprecationWarning)\n",
      "/Users/amit/anaconda/lib/python2.7/site-packages/sklearn/grid_search.py:43: DeprecationWarning: This module was deprecated in version 0.18 in favor of the model_selection module into which all the refactored classes and functions are moved. This module will be removed in 0.20.\n",
      "  DeprecationWarning)\n"
     ]
    }
   ],
   "source": [
    "from sklearn.ensemble import GradientBoostingClassifier  #GBM algorithm\n",
    "from sklearn import cross_validation, metrics   #Additional scklearn functions\n",
    "from sklearn.grid_search import GridSearchCV   #Perforing grid search\n",
    "import matplotlib.pylab as plt\n",
    "from sklearn.model_selection import train_test_split\n",
    "%matplotlib inline\n",
    "from matplotlib.pylab import rcParams\n",
    "rcParams['figure.figsize'] = 12, 4\n"
   ]
  },
  {
   "cell_type": "code",
   "execution_count": 37,
   "metadata": {
    "collapsed": true
   },
   "outputs": [],
   "source": [
    "from imblearn.over_sampling import SMOTE"
   ]
  },
  {
   "cell_type": "code",
   "execution_count": 48,
   "metadata": {
    "collapsed": false
   },
   "outputs": [
    {
     "name": "stdout",
     "output_type": "stream",
     "text": [
      "(213451, 168)\n",
      "(62096, 166)\n"
     ]
    }
   ],
   "source": [
    "print train_final.shape\n",
    "print test_final.shape"
   ]
  },
  {
   "cell_type": "code",
   "execution_count": 207,
   "metadata": {
    "collapsed": false
   },
   "outputs": [
    {
     "data": {
      "text/html": [
       "<div>\n",
       "<table border=\"1\" class=\"dataframe\">\n",
       "  <thead>\n",
       "    <tr style=\"text-align: right;\">\n",
       "      <th></th>\n",
       "      <th>age</th>\n",
       "      <th>country_destination</th>\n",
       "      <th>date_accnt_created_month</th>\n",
       "      <th>timestamp_first_active_month</th>\n",
       "      <th>date_first_booking_month</th>\n",
       "      <th>date_accnt_created_year</th>\n",
       "      <th>timestamp_first_active_year</th>\n",
       "      <th>date_first_booking_year</th>\n",
       "      <th>date_accnt_created_day</th>\n",
       "      <th>timestamp_first_active_day</th>\n",
       "      <th>...</th>\n",
       "      <th>first_browser_Silk</th>\n",
       "      <th>first_browser_SiteKiosk</th>\n",
       "      <th>first_browser_SlimBrowser</th>\n",
       "      <th>first_browser_Sogou Explorer</th>\n",
       "      <th>first_browser_Stainless</th>\n",
       "      <th>first_browser_TenFourFox</th>\n",
       "      <th>first_browser_TheWorld Browser</th>\n",
       "      <th>first_browser_UC Browser</th>\n",
       "      <th>first_browser_Yandex.Browser</th>\n",
       "      <th>first_browser_wOSBrowser</th>\n",
       "    </tr>\n",
       "  </thead>\n",
       "  <tbody>\n",
       "    <tr>\n",
       "      <th>0</th>\n",
       "      <td>-1.0</td>\n",
       "      <td>NDF</td>\n",
       "      <td>6</td>\n",
       "      <td>3</td>\n",
       "      <td>-1.0</td>\n",
       "      <td>2010</td>\n",
       "      <td>2009</td>\n",
       "      <td>-1.0</td>\n",
       "      <td>28</td>\n",
       "      <td>19</td>\n",
       "      <td>...</td>\n",
       "      <td>0</td>\n",
       "      <td>0</td>\n",
       "      <td>0</td>\n",
       "      <td>0</td>\n",
       "      <td>0</td>\n",
       "      <td>0</td>\n",
       "      <td>0</td>\n",
       "      <td>0</td>\n",
       "      <td>0</td>\n",
       "      <td>0</td>\n",
       "    </tr>\n",
       "    <tr>\n",
       "      <th>1</th>\n",
       "      <td>38.0</td>\n",
       "      <td>NDF</td>\n",
       "      <td>5</td>\n",
       "      <td>5</td>\n",
       "      <td>-1.0</td>\n",
       "      <td>2011</td>\n",
       "      <td>2009</td>\n",
       "      <td>-1.0</td>\n",
       "      <td>25</td>\n",
       "      <td>23</td>\n",
       "      <td>...</td>\n",
       "      <td>0</td>\n",
       "      <td>0</td>\n",
       "      <td>0</td>\n",
       "      <td>0</td>\n",
       "      <td>0</td>\n",
       "      <td>0</td>\n",
       "      <td>0</td>\n",
       "      <td>0</td>\n",
       "      <td>0</td>\n",
       "      <td>0</td>\n",
       "    </tr>\n",
       "    <tr>\n",
       "      <th>2</th>\n",
       "      <td>56.0</td>\n",
       "      <td>US</td>\n",
       "      <td>9</td>\n",
       "      <td>6</td>\n",
       "      <td>8.0</td>\n",
       "      <td>2010</td>\n",
       "      <td>2009</td>\n",
       "      <td>2010.0</td>\n",
       "      <td>28</td>\n",
       "      <td>9</td>\n",
       "      <td>...</td>\n",
       "      <td>0</td>\n",
       "      <td>0</td>\n",
       "      <td>0</td>\n",
       "      <td>0</td>\n",
       "      <td>0</td>\n",
       "      <td>0</td>\n",
       "      <td>0</td>\n",
       "      <td>0</td>\n",
       "      <td>0</td>\n",
       "      <td>0</td>\n",
       "    </tr>\n",
       "    <tr>\n",
       "      <th>3</th>\n",
       "      <td>42.0</td>\n",
       "      <td>other</td>\n",
       "      <td>12</td>\n",
       "      <td>10</td>\n",
       "      <td>9.0</td>\n",
       "      <td>2011</td>\n",
       "      <td>2009</td>\n",
       "      <td>2012.0</td>\n",
       "      <td>5</td>\n",
       "      <td>31</td>\n",
       "      <td>...</td>\n",
       "      <td>0</td>\n",
       "      <td>0</td>\n",
       "      <td>0</td>\n",
       "      <td>0</td>\n",
       "      <td>0</td>\n",
       "      <td>0</td>\n",
       "      <td>0</td>\n",
       "      <td>0</td>\n",
       "      <td>0</td>\n",
       "      <td>0</td>\n",
       "    </tr>\n",
       "    <tr>\n",
       "      <th>4</th>\n",
       "      <td>41.0</td>\n",
       "      <td>US</td>\n",
       "      <td>9</td>\n",
       "      <td>12</td>\n",
       "      <td>2.0</td>\n",
       "      <td>2010</td>\n",
       "      <td>2009</td>\n",
       "      <td>2010.0</td>\n",
       "      <td>14</td>\n",
       "      <td>8</td>\n",
       "      <td>...</td>\n",
       "      <td>0</td>\n",
       "      <td>0</td>\n",
       "      <td>0</td>\n",
       "      <td>0</td>\n",
       "      <td>0</td>\n",
       "      <td>0</td>\n",
       "      <td>0</td>\n",
       "      <td>0</td>\n",
       "      <td>0</td>\n",
       "      <td>0</td>\n",
       "    </tr>\n",
       "  </tbody>\n",
       "</table>\n",
       "<p>5 rows × 167 columns</p>\n",
       "</div>"
      ],
      "text/plain": [
       "    age country_destination  date_accnt_created_month  \\\n",
       "0  -1.0                 NDF                         6   \n",
       "1  38.0                 NDF                         5   \n",
       "2  56.0                  US                         9   \n",
       "3  42.0               other                        12   \n",
       "4  41.0                  US                         9   \n",
       "\n",
       "   timestamp_first_active_month  date_first_booking_month  \\\n",
       "0                             3                      -1.0   \n",
       "1                             5                      -1.0   \n",
       "2                             6                       8.0   \n",
       "3                            10                       9.0   \n",
       "4                            12                       2.0   \n",
       "\n",
       "   date_accnt_created_year  timestamp_first_active_year  \\\n",
       "0                     2010                         2009   \n",
       "1                     2011                         2009   \n",
       "2                     2010                         2009   \n",
       "3                     2011                         2009   \n",
       "4                     2010                         2009   \n",
       "\n",
       "   date_first_booking_year  date_accnt_created_day  \\\n",
       "0                     -1.0                      28   \n",
       "1                     -1.0                      25   \n",
       "2                   2010.0                      28   \n",
       "3                   2012.0                       5   \n",
       "4                   2010.0                      14   \n",
       "\n",
       "   timestamp_first_active_day            ...             first_browser_Silk  \\\n",
       "0                          19            ...                              0   \n",
       "1                          23            ...                              0   \n",
       "2                           9            ...                              0   \n",
       "3                          31            ...                              0   \n",
       "4                           8            ...                              0   \n",
       "\n",
       "   first_browser_SiteKiosk  first_browser_SlimBrowser  \\\n",
       "0                        0                          0   \n",
       "1                        0                          0   \n",
       "2                        0                          0   \n",
       "3                        0                          0   \n",
       "4                        0                          0   \n",
       "\n",
       "   first_browser_Sogou Explorer  first_browser_Stainless  \\\n",
       "0                             0                        0   \n",
       "1                             0                        0   \n",
       "2                             0                        0   \n",
       "3                             0                        0   \n",
       "4                             0                        0   \n",
       "\n",
       "   first_browser_TenFourFox  first_browser_TheWorld Browser  \\\n",
       "0                         0                               0   \n",
       "1                         0                               0   \n",
       "2                         0                               0   \n",
       "3                         0                               0   \n",
       "4                         0                               0   \n",
       "\n",
       "   first_browser_UC Browser  first_browser_Yandex.Browser  \\\n",
       "0                         0                             0   \n",
       "1                         0                             0   \n",
       "2                         0                             0   \n",
       "3                         0                             0   \n",
       "4                         0                             0   \n",
       "\n",
       "   first_browser_wOSBrowser  \n",
       "0                         0  \n",
       "1                         0  \n",
       "2                         0  \n",
       "3                         0  \n",
       "4                         0  \n",
       "\n",
       "[5 rows x 167 columns]"
      ]
     },
     "execution_count": 207,
     "metadata": {},
     "output_type": "execute_result"
    }
   ],
   "source": [
    "train_final_wo_sess.head()"
   ]
  },
  {
   "cell_type": "code",
   "execution_count": 211,
   "metadata": {
    "collapsed": false
   },
   "outputs": [],
   "source": [
    "x_train_wo_sess = train_final_wo_sess.drop(['country_destination'], axis=1)"
   ]
  },
  {
   "cell_type": "code",
   "execution_count": 212,
   "metadata": {
    "collapsed": false
   },
   "outputs": [],
   "source": [
    "y_train_wo_sess = train_final_wo_sess['country_destination']\n"
   ]
  },
  {
   "cell_type": "code",
   "execution_count": 224,
   "metadata": {
    "collapsed": true
   },
   "outputs": [],
   "source": [
    "from imblearn.pipeline import make_pipeline\n",
    "from imblearn.metrics import classification_report_imbalanced\n",
    "from imblearn.under_sampling import NearMiss"
   ]
  },
  {
   "cell_type": "code",
   "execution_count": 232,
   "metadata": {
    "collapsed": true
   },
   "outputs": [],
   "source": [
    "RANDOM_STATE = 10\n",
    "X_train, X_test, y_train, y_test = train_test_split(x_train_wo_sess, y_train_wo_sess, test_size=0.8, random_state=RANDOM_STATE)\n",
    "pipeline = make_pipeline(NearMiss(version=2, random_state=RANDOM_STATE),\n",
    "                         GradientBoostingClassifier(random_state=RANDOM_STATE))"
   ]
  },
  {
   "cell_type": "code",
   "execution_count": 233,
   "metadata": {
    "collapsed": false
   },
   "outputs": [
    {
     "data": {
      "text/plain": [
       "Pipeline(steps=[('nearmiss', NearMiss(n_jobs=1, n_neighbors=3, n_neighbors_ver3=3, random_state=10,\n",
       "     ratio='auto', return_indices=False, size_ngh=None, ver3_samp_ngh=None,\n",
       "     version=2)), ('gradientboostingclassifier', GradientBoostingClassifier(criterion='friedman_mse', init=None,\n",
       "              learni...rs=100, presort='auto', random_state=10,\n",
       "              subsample=1.0, verbose=0, warm_start=False))])"
      ]
     },
     "execution_count": 233,
     "metadata": {},
     "output_type": "execute_result"
    }
   ],
   "source": [
    "pipeline.fit(X_train, y_train)"
   ]
  },
  {
   "cell_type": "code",
   "execution_count": null,
   "metadata": {
    "collapsed": true
   },
   "outputs": [],
   "source": []
  },
  {
   "cell_type": "code",
   "execution_count": null,
   "metadata": {
    "collapsed": true
   },
   "outputs": [],
   "source": [
    "print(classification_report_imbalanced(y_test, pipeline.predict(X_test)))"
   ]
  },
  {
   "cell_type": "code",
   "execution_count": 235,
   "metadata": {
    "collapsed": false
   },
   "outputs": [],
   "source": [
    "X_test_res= pipeline.predict(X_test)"
   ]
  },
  {
   "cell_type": "code",
   "execution_count": 236,
   "metadata": {
    "collapsed": false
   },
   "outputs": [
    {
     "name": "stdout",
     "output_type": "stream",
     "text": [
      "[['AU' 9423]\n",
      " ['CA' 3587]\n",
      " ['DE' 3937]\n",
      " ['ES' 1169]\n",
      " ['FR' 1071]\n",
      " ['GB' 2787]\n",
      " ['IT' 2206]\n",
      " ['NDF' 86254]\n",
      " ['NL' 3808]\n",
      " ['PT' 55109]\n",
      " ['US' 554]\n",
      " ['other' 856]]\n"
     ]
    }
   ],
   "source": [
    "unique, counts = np.unique(X_test_res, return_counts=True)\n",
    "\n",
    "print np.asarray((unique, counts)).T"
   ]
  },
  {
   "cell_type": "code",
   "execution_count": 237,
   "metadata": {
    "collapsed": false
   },
   "outputs": [
    {
     "data": {
      "text/plain": [
       "170761"
      ]
     },
     "execution_count": 237,
     "metadata": {},
     "output_type": "execute_result"
    }
   ],
   "source": [
    "len(X_test_res)"
   ]
  },
  {
   "cell_type": "code",
   "execution_count": 222,
   "metadata": {
    "collapsed": false
   },
   "outputs": [],
   "source": [
    "X_train, X_test, y_train, y_test = train_test_split(x_train_wo_sess, y_train_wo_sess, test_size=0.5, random_state=0)"
   ]
  },
  {
   "cell_type": "code",
   "execution_count": 215,
   "metadata": {
    "collapsed": false
   },
   "outputs": [
    {
     "data": {
      "text/plain": [
       "GradientBoostingClassifier(criterion='friedman_mse', init=None,\n",
       "              learning_rate=0.1, loss='deviance', max_depth=3,\n",
       "              max_features=None, max_leaf_nodes=None,\n",
       "              min_impurity_split=1e-07, min_samples_leaf=1,\n",
       "              min_samples_split=2, min_weight_fraction_leaf=0.0,\n",
       "              n_estimators=100, presort='auto', random_state=10,\n",
       "              subsample=1.0, verbose=0, warm_start=False)"
      ]
     },
     "execution_count": 215,
     "metadata": {},
     "output_type": "execute_result"
    }
   ],
   "source": [
    "gbm = GradientBoostingClassifier(random_state=10)\n",
    "gbm.fit(X_train,y_train)"
   ]
  },
  {
   "cell_type": "code",
   "execution_count": 223,
   "metadata": {
    "collapsed": false
   },
   "outputs": [
    {
     "data": {
      "text/plain": [
       "NDF      62245\n",
       "US       31196\n",
       "other     4996\n",
       "FR        2550\n",
       "IT        1452\n",
       "GB        1142\n",
       "ES        1133\n",
       "CA         738\n",
       "DE         529\n",
       "NL         365\n",
       "AU         279\n",
       "PT         100\n",
       "Name: country_destination, dtype: int64"
      ]
     },
     "execution_count": 223,
     "metadata": {},
     "output_type": "execute_result"
    }
   ],
   "source": [
    "y_train.value_counts()"
   ]
  },
  {
   "cell_type": "code",
   "execution_count": null,
   "metadata": {
    "collapsed": true
   },
   "outputs": [],
   "source": [
    "tuned_parameters = [{'learning_rate': np.linspace(, 'gamma': [1e-3, 1e-4],\n",
    "                     'C': [1, 10, 100, 1000]},\n",
    "                    {'kernel': ['linear'], 'C': [1, 10, 100, 1000]}]"
   ]
  },
  {
   "cell_type": "code",
   "execution_count": null,
   "metadata": {
    "collapsed": true
   },
   "outputs": [],
   "source": []
  },
  {
   "cell_type": "code",
   "execution_count": 217,
   "metadata": {
    "collapsed": false
   },
   "outputs": [],
   "source": [
    "train_predict = gbm.predict(X_train)"
   ]
  },
  {
   "cell_type": "code",
   "execution_count": 218,
   "metadata": {
    "collapsed": false
   },
   "outputs": [
    {
     "data": {
      "text/plain": [
       "0.87598383696416027"
      ]
     },
     "execution_count": 218,
     "metadata": {},
     "output_type": "execute_result"
    }
   ],
   "source": [
    "gbm.score(X_train,y_train)##Train Score"
   ]
  },
  {
   "cell_type": "code",
   "execution_count": 36,
   "metadata": {
    "collapsed": false
   },
   "outputs": [
    {
     "data": {
      "text/plain": [
       "0.8765782014944602"
      ]
     },
     "execution_count": 36,
     "metadata": {},
     "output_type": "execute_result"
    }
   ],
   "source": [
    "gbm.score(X_test,y_test)##Test Score"
   ]
  },
  {
   "cell_type": "code",
   "execution_count": 47,
   "metadata": {
    "collapsed": false
   },
   "outputs": [
    {
     "data": {
      "text/plain": [
       "array(['US', 'US', 'NDF', ..., 'US', 'NDF', 'NDF'], dtype=object)"
      ]
     },
     "execution_count": 47,
     "metadata": {},
     "output_type": "execute_result"
    }
   ],
   "source": [
    "gbm.predict(X_test)"
   ]
  },
  {
   "cell_type": "code",
   "execution_count": 221,
   "metadata": {
    "collapsed": false
   },
   "outputs": [
    {
     "data": {
      "text/plain": [
       "array(['NDF', 'NDF', 'NDF', ..., 'NDF', 'NDF', 'NDF'], dtype=object)"
      ]
     },
     "execution_count": 221,
     "metadata": {},
     "output_type": "execute_result"
    }
   ],
   "source": [
    "gbm.predict(test_final_wo_sess)"
   ]
  },
  {
   "cell_type": "code",
   "execution_count": 130,
   "metadata": {
    "collapsed": false
   },
   "outputs": [],
   "source": [
    "train_predprob = gbm.predict_proba(x_train)[:,1]"
   ]
  },
  {
   "cell_type": "code",
   "execution_count": 121,
   "metadata": {
    "collapsed": false
   },
   "outputs": [
    {
     "data": {
      "text/plain": [
       "(213451,)"
      ]
     },
     "execution_count": 121,
     "metadata": {},
     "output_type": "execute_result"
    }
   ],
   "source": [
    "train_predprob.shape"
   ]
  },
  {
   "cell_type": "code",
   "execution_count": 127,
   "metadata": {
    "collapsed": false
   },
   "outputs": [
    {
     "data": {
      "text/plain": [
       "date_first_booking_month            0.127256\n",
       "date_first_booking_year             0.117423\n",
       "date_first_booking_day              0.115243\n",
       "age                                 0.079579\n",
       "date_first_booking_dayofweek        0.076389\n",
       "date_first_booking_quarter          0.044570\n",
       "timestamp_first_active_day          0.018437\n",
       "date_accnt_created_day              0.016943\n",
       "timestamp_first_active_month        0.012382\n",
       "language_de                         0.011068\n",
       "timestamp_first_active_dayofweek    0.010605\n",
       "signup_flow_8                       0.009763\n",
       "gender_MALE                         0.009357\n",
       "timestamp_first_active_year         0.008646\n",
       "date_accnt_created_month            0.008613\n",
       "language_nl                         0.008099\n",
       "language_it                         0.007898\n",
       "first_browser_Apple Mail            0.007250\n",
       "date_accnt_created_dayofweek        0.006881\n",
       "affiliate_channel_content           0.006834\n",
       "first_affiliate_tracked_product     0.006790\n",
       "date_accnt_created_year             0.006110\n",
       "first_affiliate_tracked_omg         0.005781\n",
       "signup_flow_6                       0.005701\n",
       "language_pl                         0.005539\n",
       "affiliate_channel_remarketing       0.005514\n",
       "language_es                         0.005319\n",
       "language_fr                         0.005226\n",
       "first_browser_Firefox               0.004804\n",
       "first_browser_Chromium              0.004721\n",
       "dtype: float64"
      ]
     },
     "execution_count": 127,
     "metadata": {},
     "output_type": "execute_result"
    }
   ],
   "source": [
    "feat_imp[0:30]"
   ]
  },
  {
   "cell_type": "code",
   "execution_count": 276,
   "metadata": {
    "collapsed": false,
    "scrolled": true
   },
   "outputs": [
    {
     "ename": "ValueError",
     "evalue": "Wrong number of items passed 719, placement implies 166",
     "output_type": "error",
     "traceback": [
      "\u001b[0;31m---------------------------------------------------------------------------\u001b[0m",
      "\u001b[0;31mValueError\u001b[0m                                Traceback (most recent call last)",
      "\u001b[0;32m<ipython-input-276-d0d00e85bcdf>\u001b[0m in \u001b[0;36m<module>\u001b[0;34m()\u001b[0m\n\u001b[0;32m----> 1\u001b[0;31m \u001b[0mfeat_imp\u001b[0m \u001b[0;34m=\u001b[0m \u001b[0mpd\u001b[0m\u001b[0;34m.\u001b[0m\u001b[0mSeries\u001b[0m\u001b[0;34m(\u001b[0m\u001b[0mgbm\u001b[0m\u001b[0;34m.\u001b[0m\u001b[0mfeature_importances_\u001b[0m\u001b[0;34m,\u001b[0m \u001b[0mX_train\u001b[0m\u001b[0;34m.\u001b[0m\u001b[0mcolumns\u001b[0m\u001b[0;34m)\u001b[0m\u001b[0;34m.\u001b[0m\u001b[0msort_values\u001b[0m\u001b[0;34m(\u001b[0m\u001b[0mascending\u001b[0m\u001b[0;34m=\u001b[0m\u001b[0mFalse\u001b[0m\u001b[0;34m)\u001b[0m\u001b[0;34m\u001b[0m\u001b[0m\n\u001b[0m\u001b[1;32m      2\u001b[0m \u001b[0mfeat_imp\u001b[0m\u001b[0;34m[\u001b[0m\u001b[0;36m0\u001b[0m\u001b[0;34m:\u001b[0m\u001b[0;36m30\u001b[0m\u001b[0;34m]\u001b[0m\u001b[0;34m.\u001b[0m\u001b[0mplot\u001b[0m\u001b[0;34m(\u001b[0m\u001b[0mkind\u001b[0m\u001b[0;34m=\u001b[0m\u001b[0;34m'bar'\u001b[0m\u001b[0;34m,\u001b[0m \u001b[0mtitle\u001b[0m\u001b[0;34m=\u001b[0m\u001b[0;34m'Feature Importances'\u001b[0m\u001b[0;34m)\u001b[0m\u001b[0;34m\u001b[0m\u001b[0m\n\u001b[1;32m      3\u001b[0m \u001b[0mplt\u001b[0m\u001b[0;34m.\u001b[0m\u001b[0mylabel\u001b[0m\u001b[0;34m(\u001b[0m\u001b[0;34m'Feature Importance Score'\u001b[0m\u001b[0;34m)\u001b[0m\u001b[0;34m\u001b[0m\u001b[0m\n",
      "\u001b[0;32m/Users/amit/anaconda/lib/python2.7/site-packages/pandas/core/series.pyc\u001b[0m in \u001b[0;36m__init__\u001b[0;34m(self, data, index, dtype, name, copy, fastpath)\u001b[0m\n\u001b[1;32m    243\u001b[0m                                        raise_cast_failure=True)\n\u001b[1;32m    244\u001b[0m \u001b[0;34m\u001b[0m\u001b[0m\n\u001b[0;32m--> 245\u001b[0;31m                 \u001b[0mdata\u001b[0m \u001b[0;34m=\u001b[0m \u001b[0mSingleBlockManager\u001b[0m\u001b[0;34m(\u001b[0m\u001b[0mdata\u001b[0m\u001b[0;34m,\u001b[0m \u001b[0mindex\u001b[0m\u001b[0;34m,\u001b[0m \u001b[0mfastpath\u001b[0m\u001b[0;34m=\u001b[0m\u001b[0mTrue\u001b[0m\u001b[0;34m)\u001b[0m\u001b[0;34m\u001b[0m\u001b[0m\n\u001b[0m\u001b[1;32m    246\u001b[0m \u001b[0;34m\u001b[0m\u001b[0m\n\u001b[1;32m    247\u001b[0m         \u001b[0mgeneric\u001b[0m\u001b[0;34m.\u001b[0m\u001b[0mNDFrame\u001b[0m\u001b[0;34m.\u001b[0m\u001b[0m__init__\u001b[0m\u001b[0;34m(\u001b[0m\u001b[0mself\u001b[0m\u001b[0;34m,\u001b[0m \u001b[0mdata\u001b[0m\u001b[0;34m,\u001b[0m \u001b[0mfastpath\u001b[0m\u001b[0;34m=\u001b[0m\u001b[0mTrue\u001b[0m\u001b[0;34m)\u001b[0m\u001b[0;34m\u001b[0m\u001b[0m\n",
      "\u001b[0;32m/Users/amit/anaconda/lib/python2.7/site-packages/pandas/core/internals.pyc\u001b[0m in \u001b[0;36m__init__\u001b[0;34m(self, block, axis, do_integrity_check, fastpath)\u001b[0m\n\u001b[1;32m   4068\u001b[0m         \u001b[0;32mif\u001b[0m \u001b[0;32mnot\u001b[0m \u001b[0misinstance\u001b[0m\u001b[0;34m(\u001b[0m\u001b[0mblock\u001b[0m\u001b[0;34m,\u001b[0m \u001b[0mBlock\u001b[0m\u001b[0;34m)\u001b[0m\u001b[0;34m:\u001b[0m\u001b[0;34m\u001b[0m\u001b[0m\n\u001b[1;32m   4069\u001b[0m             block = make_block(block, placement=slice(0, len(axis)), ndim=1,\n\u001b[0;32m-> 4070\u001b[0;31m                                fastpath=True)\n\u001b[0m\u001b[1;32m   4071\u001b[0m \u001b[0;34m\u001b[0m\u001b[0m\n\u001b[1;32m   4072\u001b[0m         \u001b[0mself\u001b[0m\u001b[0;34m.\u001b[0m\u001b[0mblocks\u001b[0m \u001b[0;34m=\u001b[0m \u001b[0;34m[\u001b[0m\u001b[0mblock\u001b[0m\u001b[0;34m]\u001b[0m\u001b[0;34m\u001b[0m\u001b[0m\n",
      "\u001b[0;32m/Users/amit/anaconda/lib/python2.7/site-packages/pandas/core/internals.pyc\u001b[0m in \u001b[0;36mmake_block\u001b[0;34m(values, placement, klass, ndim, dtype, fastpath)\u001b[0m\n\u001b[1;32m   2683\u001b[0m                      placement=placement, dtype=dtype)\n\u001b[1;32m   2684\u001b[0m \u001b[0;34m\u001b[0m\u001b[0m\n\u001b[0;32m-> 2685\u001b[0;31m     \u001b[0;32mreturn\u001b[0m \u001b[0mklass\u001b[0m\u001b[0;34m(\u001b[0m\u001b[0mvalues\u001b[0m\u001b[0;34m,\u001b[0m \u001b[0mndim\u001b[0m\u001b[0;34m=\u001b[0m\u001b[0mndim\u001b[0m\u001b[0;34m,\u001b[0m \u001b[0mfastpath\u001b[0m\u001b[0;34m=\u001b[0m\u001b[0mfastpath\u001b[0m\u001b[0;34m,\u001b[0m \u001b[0mplacement\u001b[0m\u001b[0;34m=\u001b[0m\u001b[0mplacement\u001b[0m\u001b[0;34m)\u001b[0m\u001b[0;34m\u001b[0m\u001b[0m\n\u001b[0m\u001b[1;32m   2686\u001b[0m \u001b[0;34m\u001b[0m\u001b[0m\n\u001b[1;32m   2687\u001b[0m \u001b[0;31m# TODO: flexible with index=None and/or items=None\u001b[0m\u001b[0;34m\u001b[0m\u001b[0;34m\u001b[0m\u001b[0m\n",
      "\u001b[0;32m/Users/amit/anaconda/lib/python2.7/site-packages/pandas/core/internals.pyc\u001b[0m in \u001b[0;36m__init__\u001b[0;34m(self, values, placement, ndim, fastpath)\u001b[0m\n\u001b[1;32m    107\u001b[0m             raise ValueError('Wrong number of items passed %d, placement '\n\u001b[1;32m    108\u001b[0m                              'implies %d' % (len(self.values),\n\u001b[0;32m--> 109\u001b[0;31m                                              len(self.mgr_locs)))\n\u001b[0m\u001b[1;32m    110\u001b[0m \u001b[0;34m\u001b[0m\u001b[0m\n\u001b[1;32m    111\u001b[0m     \u001b[0;34m@\u001b[0m\u001b[0mproperty\u001b[0m\u001b[0;34m\u001b[0m\u001b[0m\n",
      "\u001b[0;31mValueError\u001b[0m: Wrong number of items passed 719, placement implies 166"
     ]
    }
   ],
   "source": [
    "feat_imp = pd.Series(gbm.feature_importances_, X_train_sess.columns).sort_values(ascending=False)\n",
    "feat_imp[0:30].plot(kind='bar', title='Feature Importances')\n",
    "plt.ylabel('Feature Importance Score')"
   ]
  },
  {
   "cell_type": "code",
   "execution_count": 139,
   "metadata": {
    "collapsed": false
   },
   "outputs": [
    {
     "data": {
      "text/plain": [
       "array([  3.16881382e-05,   2.62565579e-05,   2.84316507e-02, ...,\n",
       "         2.60340717e-05,   1.86697053e-05,   2.27268880e-05])"
      ]
     },
     "execution_count": 139,
     "metadata": {},
     "output_type": "execute_result"
    }
   ],
   "source": [
    "train_predprob"
   ]
  },
  {
   "cell_type": "code",
   "execution_count": 140,
   "metadata": {
    "collapsed": false
   },
   "outputs": [
    {
     "name": "stdout",
     "output_type": "stream",
     "text": [
      "\n",
      "Model Report\n",
      "Accuracy : 0.8762\n"
     ]
    },
    {
     "ename": "ValueError",
     "evalue": "multiclass format is not supported",
     "output_type": "error",
     "traceback": [
      "\u001b[0;31m---------------------------------------------------------------------------\u001b[0m",
      "\u001b[0;31mValueError\u001b[0m                                Traceback (most recent call last)",
      "\u001b[0;32m<ipython-input-140-ea156ca81371>\u001b[0m in \u001b[0;36m<module>\u001b[0;34m()\u001b[0m\n\u001b[1;32m      1\u001b[0m \u001b[0;32mprint\u001b[0m \u001b[0;34m\"\\nModel Report\"\u001b[0m\u001b[0;34m\u001b[0m\u001b[0m\n\u001b[1;32m      2\u001b[0m \u001b[0;32mprint\u001b[0m \u001b[0;34m\"Accuracy : %.4g\"\u001b[0m \u001b[0;34m%\u001b[0m \u001b[0mmetrics\u001b[0m\u001b[0;34m.\u001b[0m\u001b[0maccuracy_score\u001b[0m\u001b[0;34m(\u001b[0m\u001b[0my_train\u001b[0m\u001b[0;34m.\u001b[0m\u001b[0mvalues\u001b[0m\u001b[0;34m,\u001b[0m \u001b[0mtrain_predict\u001b[0m\u001b[0;34m)\u001b[0m\u001b[0;34m\u001b[0m\u001b[0m\n\u001b[0;32m----> 3\u001b[0;31m \u001b[0;32mprint\u001b[0m \u001b[0;34m\"AUC Score (Train): %f\"\u001b[0m \u001b[0;34m%\u001b[0m \u001b[0mmetrics\u001b[0m\u001b[0;34m.\u001b[0m\u001b[0mroc_auc_score\u001b[0m\u001b[0;34m(\u001b[0m\u001b[0my_train\u001b[0m\u001b[0;34m,\u001b[0m \u001b[0mtrain_predprob\u001b[0m\u001b[0;34m)\u001b[0m\u001b[0;34m\u001b[0m\u001b[0m\n\u001b[0m",
      "\u001b[0;32m/Users/amit/anaconda/lib/python2.7/site-packages/sklearn/metrics/ranking.pyc\u001b[0m in \u001b[0;36mroc_auc_score\u001b[0;34m(y_true, y_score, average, sample_weight)\u001b[0m\n\u001b[1;32m    258\u001b[0m     return _average_binary_score(\n\u001b[1;32m    259\u001b[0m         \u001b[0m_binary_roc_auc_score\u001b[0m\u001b[0;34m,\u001b[0m \u001b[0my_true\u001b[0m\u001b[0;34m,\u001b[0m \u001b[0my_score\u001b[0m\u001b[0;34m,\u001b[0m \u001b[0maverage\u001b[0m\u001b[0;34m,\u001b[0m\u001b[0;34m\u001b[0m\u001b[0m\n\u001b[0;32m--> 260\u001b[0;31m         sample_weight=sample_weight)\n\u001b[0m\u001b[1;32m    261\u001b[0m \u001b[0;34m\u001b[0m\u001b[0m\n\u001b[1;32m    262\u001b[0m \u001b[0;34m\u001b[0m\u001b[0m\n",
      "\u001b[0;32m/Users/amit/anaconda/lib/python2.7/site-packages/sklearn/metrics/base.pyc\u001b[0m in \u001b[0;36m_average_binary_score\u001b[0;34m(binary_metric, y_true, y_score, average, sample_weight)\u001b[0m\n\u001b[1;32m     79\u001b[0m     \u001b[0my_type\u001b[0m \u001b[0;34m=\u001b[0m \u001b[0mtype_of_target\u001b[0m\u001b[0;34m(\u001b[0m\u001b[0my_true\u001b[0m\u001b[0;34m)\u001b[0m\u001b[0;34m\u001b[0m\u001b[0m\n\u001b[1;32m     80\u001b[0m     \u001b[0;32mif\u001b[0m \u001b[0my_type\u001b[0m \u001b[0;32mnot\u001b[0m \u001b[0;32min\u001b[0m \u001b[0;34m(\u001b[0m\u001b[0;34m\"binary\"\u001b[0m\u001b[0;34m,\u001b[0m \u001b[0;34m\"multilabel-indicator\"\u001b[0m\u001b[0;34m)\u001b[0m\u001b[0;34m:\u001b[0m\u001b[0;34m\u001b[0m\u001b[0m\n\u001b[0;32m---> 81\u001b[0;31m         \u001b[0;32mraise\u001b[0m \u001b[0mValueError\u001b[0m\u001b[0;34m(\u001b[0m\u001b[0;34m\"{0} format is not supported\"\u001b[0m\u001b[0;34m.\u001b[0m\u001b[0mformat\u001b[0m\u001b[0;34m(\u001b[0m\u001b[0my_type\u001b[0m\u001b[0;34m)\u001b[0m\u001b[0;34m)\u001b[0m\u001b[0;34m\u001b[0m\u001b[0m\n\u001b[0m\u001b[1;32m     82\u001b[0m \u001b[0;34m\u001b[0m\u001b[0m\n\u001b[1;32m     83\u001b[0m     \u001b[0;32mif\u001b[0m \u001b[0my_type\u001b[0m \u001b[0;34m==\u001b[0m \u001b[0;34m\"binary\"\u001b[0m\u001b[0;34m:\u001b[0m\u001b[0;34m\u001b[0m\u001b[0m\n",
      "\u001b[0;31mValueError\u001b[0m: multiclass format is not supported"
     ]
    }
   ],
   "source": [
    "print \"\\nModel Report\"\n",
    "print \"Accuracy : %.4g\" % metrics.accuracy_score(y_train.values, train_predict)\n",
    "print \"AUC Score (Train): %f\" % metrics.roc_auc_score(y_train, train_predprob)"
   ]
  },
  {
   "cell_type": "code",
   "execution_count": 278,
   "metadata": {
    "collapsed": false
   },
   "outputs": [],
   "source": [
    "cv_score = model_selection.cross_val_score(gbm, x_train_wo_sess, y_train_wo_sess, cv=5, scoring='accuracy')\n"
   ]
  },
  {
   "cell_type": "code",
   "execution_count": 279,
   "metadata": {
    "collapsed": false
   },
   "outputs": [
    {
     "name": "stdout",
     "output_type": "stream",
     "text": [
      "CV Score : Mean - 0.7764407 | Std - 0.06263844 | Min - 0.6885584 | Max - 0.8612595\n"
     ]
    }
   ],
   "source": [
    "print \"CV Score : Mean - %.7g | Std - %.7g | Min - %.7g | Max - %.7g\" % (np.mean(cv_score),np.std(cv_score),np.min(cv_score),np.max(cv_score))"
   ]
  },
  {
   "cell_type": "code",
   "execution_count": 274,
   "metadata": {
    "collapsed": false
   },
   "outputs": [
    {
     "data": {
      "text/plain": [
       "(213451, 166)"
      ]
     },
     "execution_count": 274,
     "metadata": {},
     "output_type": "execute_result"
    }
   ],
   "source": [
    "x_train.shape"
   ]
  },
  {
   "cell_type": "code",
   "execution_count": 275,
   "metadata": {
    "collapsed": false
   },
   "outputs": [
    {
     "data": {
      "text/plain": [
       "(213451,)"
      ]
     },
     "execution_count": 275,
     "metadata": {},
     "output_type": "execute_result"
    }
   ],
   "source": [
    "y_train.shape"
   ]
  },
  {
   "cell_type": "code",
   "execution_count": 192,
   "metadata": {
    "collapsed": false
   },
   "outputs": [],
   "source": [
    "import sklearn\n",
    "from sklearn import model_selection\n"
   ]
  },
  {
   "cell_type": "code",
   "execution_count": 203,
   "metadata": {
    "collapsed": false
   },
   "outputs": [
    {
     "name": "stderr",
     "output_type": "stream",
     "text": [
      "/Users/amit/anaconda/lib/python2.7/site-packages/ipykernel/__main__.py:1: SettingWithCopyWarning: \n",
      "A value is trying to be set on a copy of a slice from a DataFrame\n",
      "\n",
      "See the caveats in the documentation: http://pandas.pydata.org/pandas-docs/stable/indexing.html#indexing-view-versus-copy\n",
      "  if __name__ == '__main__':\n"
     ]
    }
   ],
   "source": [
    "x_train_sess.drop(['index'],axis=1,inplace=True)"
   ]
  },
  {
   "cell_type": "code",
   "execution_count": 65,
   "metadata": {
    "collapsed": false
   },
   "outputs": [
    {
     "data": {
      "text/plain": [
       "(275547, 718)"
      ]
     },
     "execution_count": 65,
     "metadata": {},
     "output_type": "execute_result"
    }
   ],
   "source": [
    "x_train_sess.shape"
   ]
  },
  {
   "cell_type": "code",
   "execution_count": 66,
   "metadata": {
    "collapsed": false
   },
   "outputs": [
    {
     "data": {
      "text/plain": [
       "(275547,)"
      ]
     },
     "execution_count": 66,
     "metadata": {},
     "output_type": "execute_result"
    }
   ],
   "source": [
    "y_train_sess.shape"
   ]
  },
  {
   "cell_type": "code",
   "execution_count": 67,
   "metadata": {
    "collapsed": false
   },
   "outputs": [
    {
     "data": {
      "text/html": [
       "<div>\n",
       "<table border=\"1\" class=\"dataframe\">\n",
       "  <thead>\n",
       "    <tr style=\"text-align: right;\">\n",
       "      <th></th>\n",
       "      <th>age</th>\n",
       "      <th>date_accnt_created_month</th>\n",
       "      <th>timestamp_first_active_month</th>\n",
       "      <th>date_first_booking_month</th>\n",
       "      <th>date_accnt_created_year</th>\n",
       "      <th>timestamp_first_active_year</th>\n",
       "      <th>date_first_booking_year</th>\n",
       "      <th>date_accnt_created_day</th>\n",
       "      <th>timestamp_first_active_day</th>\n",
       "      <th>date_first_booking_day</th>\n",
       "      <th>...</th>\n",
       "      <th>most_used_device_Chromebook</th>\n",
       "      <th>most_used_device_Linux Desktop</th>\n",
       "      <th>most_used_device_Mac Desktop</th>\n",
       "      <th>most_used_device_Opera Phone</th>\n",
       "      <th>most_used_device_Tablet</th>\n",
       "      <th>most_used_device_Windows Desktop</th>\n",
       "      <th>most_used_device_Windows Phone</th>\n",
       "      <th>most_used_device_iPad Tablet</th>\n",
       "      <th>most_used_device_iPhone</th>\n",
       "      <th>most_used_device_iPodtouch</th>\n",
       "    </tr>\n",
       "  </thead>\n",
       "  <tbody>\n",
       "    <tr>\n",
       "      <th>0</th>\n",
       "      <td>-1.0</td>\n",
       "      <td>6</td>\n",
       "      <td>3</td>\n",
       "      <td>-1.0</td>\n",
       "      <td>2010</td>\n",
       "      <td>2009</td>\n",
       "      <td>-1.0</td>\n",
       "      <td>28</td>\n",
       "      <td>19</td>\n",
       "      <td>-1.0</td>\n",
       "      <td>...</td>\n",
       "      <td>0</td>\n",
       "      <td>0</td>\n",
       "      <td>0</td>\n",
       "      <td>0</td>\n",
       "      <td>0</td>\n",
       "      <td>0</td>\n",
       "      <td>0</td>\n",
       "      <td>0</td>\n",
       "      <td>0</td>\n",
       "      <td>0</td>\n",
       "    </tr>\n",
       "    <tr>\n",
       "      <th>1</th>\n",
       "      <td>38.0</td>\n",
       "      <td>5</td>\n",
       "      <td>5</td>\n",
       "      <td>-1.0</td>\n",
       "      <td>2011</td>\n",
       "      <td>2009</td>\n",
       "      <td>-1.0</td>\n",
       "      <td>25</td>\n",
       "      <td>23</td>\n",
       "      <td>-1.0</td>\n",
       "      <td>...</td>\n",
       "      <td>0</td>\n",
       "      <td>0</td>\n",
       "      <td>0</td>\n",
       "      <td>0</td>\n",
       "      <td>0</td>\n",
       "      <td>0</td>\n",
       "      <td>0</td>\n",
       "      <td>0</td>\n",
       "      <td>0</td>\n",
       "      <td>0</td>\n",
       "    </tr>\n",
       "    <tr>\n",
       "      <th>2</th>\n",
       "      <td>56.0</td>\n",
       "      <td>9</td>\n",
       "      <td>6</td>\n",
       "      <td>8.0</td>\n",
       "      <td>2010</td>\n",
       "      <td>2009</td>\n",
       "      <td>2010.0</td>\n",
       "      <td>28</td>\n",
       "      <td>9</td>\n",
       "      <td>2.0</td>\n",
       "      <td>...</td>\n",
       "      <td>0</td>\n",
       "      <td>0</td>\n",
       "      <td>0</td>\n",
       "      <td>0</td>\n",
       "      <td>0</td>\n",
       "      <td>0</td>\n",
       "      <td>0</td>\n",
       "      <td>0</td>\n",
       "      <td>0</td>\n",
       "      <td>0</td>\n",
       "    </tr>\n",
       "    <tr>\n",
       "      <th>3</th>\n",
       "      <td>42.0</td>\n",
       "      <td>12</td>\n",
       "      <td>10</td>\n",
       "      <td>9.0</td>\n",
       "      <td>2011</td>\n",
       "      <td>2009</td>\n",
       "      <td>2012.0</td>\n",
       "      <td>5</td>\n",
       "      <td>31</td>\n",
       "      <td>8.0</td>\n",
       "      <td>...</td>\n",
       "      <td>0</td>\n",
       "      <td>0</td>\n",
       "      <td>0</td>\n",
       "      <td>0</td>\n",
       "      <td>0</td>\n",
       "      <td>0</td>\n",
       "      <td>0</td>\n",
       "      <td>0</td>\n",
       "      <td>0</td>\n",
       "      <td>0</td>\n",
       "    </tr>\n",
       "    <tr>\n",
       "      <th>4</th>\n",
       "      <td>41.0</td>\n",
       "      <td>9</td>\n",
       "      <td>12</td>\n",
       "      <td>2.0</td>\n",
       "      <td>2010</td>\n",
       "      <td>2009</td>\n",
       "      <td>2010.0</td>\n",
       "      <td>14</td>\n",
       "      <td>8</td>\n",
       "      <td>18.0</td>\n",
       "      <td>...</td>\n",
       "      <td>0</td>\n",
       "      <td>0</td>\n",
       "      <td>0</td>\n",
       "      <td>0</td>\n",
       "      <td>0</td>\n",
       "      <td>0</td>\n",
       "      <td>0</td>\n",
       "      <td>0</td>\n",
       "      <td>0</td>\n",
       "      <td>0</td>\n",
       "    </tr>\n",
       "  </tbody>\n",
       "</table>\n",
       "<p>5 rows × 718 columns</p>\n",
       "</div>"
      ],
      "text/plain": [
       "    age  date_accnt_created_month  timestamp_first_active_month  \\\n",
       "0  -1.0                         6                             3   \n",
       "1  38.0                         5                             5   \n",
       "2  56.0                         9                             6   \n",
       "3  42.0                        12                            10   \n",
       "4  41.0                         9                            12   \n",
       "\n",
       "   date_first_booking_month  date_accnt_created_year  \\\n",
       "0                      -1.0                     2010   \n",
       "1                      -1.0                     2011   \n",
       "2                       8.0                     2010   \n",
       "3                       9.0                     2011   \n",
       "4                       2.0                     2010   \n",
       "\n",
       "   timestamp_first_active_year  date_first_booking_year  \\\n",
       "0                         2009                     -1.0   \n",
       "1                         2009                     -1.0   \n",
       "2                         2009                   2010.0   \n",
       "3                         2009                   2012.0   \n",
       "4                         2009                   2010.0   \n",
       "\n",
       "   date_accnt_created_day  timestamp_first_active_day  date_first_booking_day  \\\n",
       "0                      28                          19                    -1.0   \n",
       "1                      25                          23                    -1.0   \n",
       "2                      28                           9                     2.0   \n",
       "3                       5                          31                     8.0   \n",
       "4                      14                           8                    18.0   \n",
       "\n",
       "              ...              most_used_device_Chromebook  \\\n",
       "0             ...                                        0   \n",
       "1             ...                                        0   \n",
       "2             ...                                        0   \n",
       "3             ...                                        0   \n",
       "4             ...                                        0   \n",
       "\n",
       "   most_used_device_Linux Desktop  most_used_device_Mac Desktop  \\\n",
       "0                               0                             0   \n",
       "1                               0                             0   \n",
       "2                               0                             0   \n",
       "3                               0                             0   \n",
       "4                               0                             0   \n",
       "\n",
       "   most_used_device_Opera Phone  most_used_device_Tablet  \\\n",
       "0                             0                        0   \n",
       "1                             0                        0   \n",
       "2                             0                        0   \n",
       "3                             0                        0   \n",
       "4                             0                        0   \n",
       "\n",
       "   most_used_device_Windows Desktop  most_used_device_Windows Phone  \\\n",
       "0                                 0                               0   \n",
       "1                                 0                               0   \n",
       "2                                 0                               0   \n",
       "3                                 0                               0   \n",
       "4                                 0                               0   \n",
       "\n",
       "   most_used_device_iPad Tablet  most_used_device_iPhone  \\\n",
       "0                             0                        0   \n",
       "1                             0                        0   \n",
       "2                             0                        0   \n",
       "3                             0                        0   \n",
       "4                             0                        0   \n",
       "\n",
       "   most_used_device_iPodtouch  \n",
       "0                           0  \n",
       "1                           0  \n",
       "2                           0  \n",
       "3                           0  \n",
       "4                           0  \n",
       "\n",
       "[5 rows x 718 columns]"
      ]
     },
     "execution_count": 67,
     "metadata": {},
     "output_type": "execute_result"
    }
   ],
   "source": [
    "x_train_sess.head()"
   ]
  },
  {
   "cell_type": "code",
   "execution_count": 68,
   "metadata": {
    "collapsed": true
   },
   "outputs": [],
   "source": [
    "x_train_sess=x_train_sess.fillna(-1)"
   ]
  },
  {
   "cell_type": "code",
   "execution_count": 69,
   "metadata": {
    "collapsed": true
   },
   "outputs": [],
   "source": [
    "test_final_sess = test_final_sess.fillna(-1)"
   ]
  },
  {
   "cell_type": "code",
   "execution_count": 470,
   "metadata": {
    "collapsed": false
   },
   "outputs": [
    {
     "data": {
      "text/plain": [
       "GradientBoostingClassifier(criterion='friedman_mse', init=None,\n",
       "              learning_rate=0.1, loss='deviance', max_depth=3,\n",
       "              max_features=None, max_leaf_nodes=None,\n",
       "              min_impurity_split=1e-07, min_samples_leaf=1,\n",
       "              min_samples_split=2, min_weight_fraction_leaf=0.0,\n",
       "              n_estimators=100, presort='auto', random_state=10,\n",
       "              subsample=1.0, verbose=0, warm_start=False)"
      ]
     },
     "execution_count": 470,
     "metadata": {},
     "output_type": "execute_result"
    }
   ],
   "source": [
    "#X_train, X_test, y_train, y_test = train_test_split(x_train_sess, y_train_sess, test_size=0.2, random_state=0)\n",
    "gbm = GradientBoostingClassifier(random_state=10)\n",
    "gbm.fit(x_train_sess,encoded_y_train_sess)"
   ]
  },
  {
   "cell_type": "code",
   "execution_count": 472,
   "metadata": {
    "collapsed": false
   },
   "outputs": [
    {
     "data": {
      "text/plain": [
       "0.87792982932851105"
      ]
     },
     "execution_count": 472,
     "metadata": {},
     "output_type": "execute_result"
    }
   ],
   "source": [
    "gbm.score(x_train_sess,encoded_y_train_sess)##Train Score"
   ]
  },
  {
   "cell_type": "code",
   "execution_count": 475,
   "metadata": {
    "collapsed": false
   },
   "outputs": [],
   "source": [
    "pred3=gbm.predict_proba(test_final_sess)"
   ]
  },
  {
   "cell_type": "code",
   "execution_count": 476,
   "metadata": {
    "collapsed": true
   },
   "outputs": [],
   "source": [
    "ids = []  #list of ids\n",
    "cts = []  #list of countries\n",
    "for i in range(len(id_test)):\n",
    "    idx = id_test[i]\n",
    "    ids += [idx] * 5\n",
    "    cts += label_encoder1.inverse_transform(np.argsort(pred3[i])[::-1])[:5].tolist()\n",
    "\n",
    "pred_final = pd.DataFrame(np.column_stack((ids, cts)), columns=['id', 'country'])\n",
    "\n",
    "pred_final.to_csv(\"gbm_amit_w_sess.csv\", index=False)"
   ]
  },
  {
   "cell_type": "code",
   "execution_count": 471,
   "metadata": {
    "collapsed": false
   },
   "outputs": [
    {
     "data": {
      "text/plain": [
       "<matplotlib.text.Text at 0x168938390>"
      ]
     },
     "execution_count": 471,
     "metadata": {},
     "output_type": "execute_result"
    },
    {
     "data": {
      "image/png": "[encoded data removed]",
      "text/plain": [
       "<matplotlib.figure.Figure at 0x1488f3e10>"
      ]
     },
     "metadata": {},
     "output_type": "display_data"
    }
   ],
   "source": [
    "feat_imp_sess = pd.Series(gbm.feature_importances_, x_train_sess.columns).sort_values(ascending=False)\n",
    "feat_imp_sess[0:30].plot(kind='bar', title='Feature Importances')\n",
    "plt.ylabel('Feature Importance Score')"
   ]
  },
  {
   "cell_type": "code",
   "execution_count": 199,
   "metadata": {
    "collapsed": false
   },
   "outputs": [
    {
     "data": {
      "text/plain": [
       "Index([u'index', u'age', u'date_accnt_created_month',\n",
       "       u'timestamp_first_active_month', u'date_first_booking_month',\n",
       "       u'date_accnt_created_year', u'timestamp_first_active_year',\n",
       "       u'date_first_booking_year', u'date_accnt_created_day',\n",
       "       u'timestamp_first_active_day',\n",
       "       ...\n",
       "       u'most_used_device_Chromebook', u'most_used_device_Linux Desktop',\n",
       "       u'most_used_device_Mac Desktop', u'most_used_device_Opera Phone',\n",
       "       u'most_used_device_Tablet', u'most_used_device_Windows Desktop',\n",
       "       u'most_used_device_Windows Phone', u'most_used_device_iPad Tablet',\n",
       "       u'most_used_device_iPhone', u'most_used_device_iPodtouch'],\n",
       "      dtype='object', length=719)"
      ]
     },
     "execution_count": 199,
     "metadata": {},
     "output_type": "execute_result"
    }
   ],
   "source": [
    "X_train.columns"
   ]
  },
  {
   "cell_type": "code",
   "execution_count": null,
   "metadata": {
    "collapsed": true
   },
   "outputs": [],
   "source": [
    "train_predict = gbm.predict(x_train)"
   ]
  },
  {
   "cell_type": "markdown",
   "metadata": {},
   "source": [
    "XGBoost(Without Session)"
   ]
  },
  {
   "cell_type": "code",
   "execution_count": null,
   "metadata": {
    "collapsed": true
   },
   "outputs": [],
   "source": [
    "from xgboost.sklearn import XGBClassifier\n",
    "from sklearn.preprocessing import LabelEncoder\n",
    "from sklearn.cross_validation import cross_val_score\n",
    "from sklearn.cross_validation import KFold"
   ]
  },
  {
   "cell_type": "code",
   "execution_count": 488,
   "metadata": {
    "collapsed": false
   },
   "outputs": [],
   "source": [
    "label_encoder = LabelEncoder()\n",
    "encoded_y_train = label_encoder.fit_transform(y_train_wo_sess)"
   ]
  },
  {
   "cell_type": "code",
   "execution_count": 301,
   "metadata": {
    "collapsed": false
   },
   "outputs": [
    {
     "data": {
      "text/plain": [
       "'NDF'"
      ]
     },
     "execution_count": 301,
     "metadata": {},
     "output_type": "execute_result"
    }
   ],
   "source": [
    "label_encoder.inverse_transform(7)"
   ]
  },
  {
   "cell_type": "code",
   "execution_count": 274,
   "metadata": {
    "collapsed": true
   },
   "outputs": [],
   "source": [
    "import pandas as pd\n",
    "import numpy as np\n",
    "import xgboost as xgb\n",
    "from xgboost.sklearn import XGBClassifier\n",
    "from sklearn import cross_validation, metrics   #Additional scklearn functions\n",
    "from sklearn.grid_search import GridSearchCV   #Perforing grid search\n",
    "import xgboost\n",
    "from sklearn import preprocessing, model_selection"
   ]
  },
  {
   "cell_type": "code",
   "execution_count": 271,
   "metadata": {
    "collapsed": true
   },
   "outputs": [],
   "source": [
    "def modelfit(alg, x_train, y_train,useTrainCV=True, cv_folds=5, early_stopping_rounds=50):\n",
    "    \n",
    "    if useTrainCV:\n",
    "        xgb_param = alg.get_xgb_params()\n",
    "        xgtrain = xgboost.DMatrix(x_train, label=y_train)\n",
    "        cvresult = xgboost.cv(xgb_param, xgtrain, num_boost_round=alg.get_params()['n_estimators'], nfold=cv_folds,\n",
    "            metrics='mlogloss')\n",
    "        alg.set_params(n_estimators=cvresult.shape[0])\n",
    "    \n",
    "    #Fit the algorithm on the data\n",
    "    alg.fit(x_train, y_train,eval_metric='mlogloss')\n",
    "        \n",
    "    #Predict training set:\n",
    "    dtrain_predictions = alg.predict(x_train)\n",
    "    dtrain_predprob = alg.predict_proba(x_train)[:,1]\n",
    "        \n",
    "    #Print model report:\n",
    "    print \"\\nModel Report\"\n",
    "    print \"Accuracy : %.4g\" % metrics.accuracy_score(y_train, dtrain_predictions)\n",
    "    print \"AUC Score (Train): %f\" % metrics.roc_auc_score(y_train, dtrain_predprob)\n",
    "                    \n",
    "    feat_imp = pd.Series(alg.booster().get_fscore()).sort_values(ascending=False)\n",
    "    feat_imp.plot(kind='bar', title='Feature Importances')\n",
    "    plt.ylabel('Feature Importance Score')"
   ]
  },
  {
   "cell_type": "code",
   "execution_count": 262,
   "metadata": {
    "collapsed": false
   },
   "outputs": [
    {
     "data": {
      "text/plain": [
       "<xgboost.core.DMatrix at 0x116156dd0>"
      ]
     },
     "execution_count": 262,
     "metadata": {},
     "output_type": "execute_result"
    }
   ],
   "source": [
    "xgboost.DMatrix(x_train_wo_sess, label=encoded_y_train )"
   ]
  },
  {
   "cell_type": "code",
   "execution_count": 272,
   "metadata": {
    "collapsed": false
   },
   "outputs": [
    {
     "ename": "XGBoostError",
     "evalue": "unknown evaluation metric type: m",
     "output_type": "error",
     "traceback": [
      "\u001b[0;31m---------------------------------------------------------------------------\u001b[0m",
      "\u001b[0;31mXGBoostError\u001b[0m                              Traceback (most recent call last)",
      "\u001b[0;32m<ipython-input-272-cf6def5adb2b>\u001b[0m in \u001b[0;36m<module>\u001b[0;34m()\u001b[0m\n\u001b[1;32m     15\u001b[0m     \u001b[0mseed\u001b[0m\u001b[0;34m=\u001b[0m \u001b[0;36m42\u001b[0m\u001b[0;34m\u001b[0m\u001b[0m\n\u001b[1;32m     16\u001b[0m )\n\u001b[0;32m---> 17\u001b[0;31m \u001b[0mmodelfit\u001b[0m\u001b[0;34m(\u001b[0m\u001b[0mxgb1\u001b[0m\u001b[0;34m,\u001b[0m \u001b[0mx_train_wo_sess\u001b[0m\u001b[0;34m,\u001b[0m\u001b[0mencoded_y_train\u001b[0m \u001b[0;34m)\u001b[0m\u001b[0;34m\u001b[0m\u001b[0m\n\u001b[0m",
      "\u001b[0;32m<ipython-input-271-12350ed6e6f2>\u001b[0m in \u001b[0;36mmodelfit\u001b[0;34m(alg, x_train, y_train, useTrainCV, cv_folds, early_stopping_rounds)\u001b[0m\n\u001b[1;32m      5\u001b[0m         \u001b[0mxgtrain\u001b[0m \u001b[0;34m=\u001b[0m \u001b[0mxgboost\u001b[0m\u001b[0;34m.\u001b[0m\u001b[0mDMatrix\u001b[0m\u001b[0;34m(\u001b[0m\u001b[0mx_train\u001b[0m\u001b[0;34m,\u001b[0m \u001b[0mlabel\u001b[0m\u001b[0;34m=\u001b[0m\u001b[0my_train\u001b[0m\u001b[0;34m)\u001b[0m\u001b[0;34m\u001b[0m\u001b[0m\n\u001b[1;32m      6\u001b[0m         cvresult = xgboost.cv(xgb_param, xgtrain, num_boost_round=alg.get_params()['n_estimators'], nfold=cv_folds,\n\u001b[0;32m----> 7\u001b[0;31m             metrics='mlogloss')\n\u001b[0m\u001b[1;32m      8\u001b[0m         \u001b[0malg\u001b[0m\u001b[0;34m.\u001b[0m\u001b[0mset_params\u001b[0m\u001b[0;34m(\u001b[0m\u001b[0mn_estimators\u001b[0m\u001b[0;34m=\u001b[0m\u001b[0mcvresult\u001b[0m\u001b[0;34m.\u001b[0m\u001b[0mshape\u001b[0m\u001b[0;34m[\u001b[0m\u001b[0;36m0\u001b[0m\u001b[0;34m]\u001b[0m\u001b[0;34m)\u001b[0m\u001b[0;34m\u001b[0m\u001b[0m\n\u001b[1;32m      9\u001b[0m \u001b[0;34m\u001b[0m\u001b[0m\n",
      "\u001b[0;32m/Users/amit/anaconda/lib/python2.7/site-packages/xgboost/training.pyc\u001b[0m in \u001b[0;36mcv\u001b[0;34m(params, dtrain, num_boost_round, nfold, metrics, obj, feval, fpreproc, show_stdv, seed)\u001b[0m\n\u001b[1;32m    242\u001b[0m     \"\"\"\n\u001b[1;32m    243\u001b[0m     \u001b[0mresults\u001b[0m \u001b[0;34m=\u001b[0m \u001b[0;34m[\u001b[0m\u001b[0;34m]\u001b[0m\u001b[0;34m\u001b[0m\u001b[0m\n\u001b[0;32m--> 244\u001b[0;31m     \u001b[0mcvfolds\u001b[0m \u001b[0;34m=\u001b[0m \u001b[0mmknfold\u001b[0m\u001b[0;34m(\u001b[0m\u001b[0mdtrain\u001b[0m\u001b[0;34m,\u001b[0m \u001b[0mnfold\u001b[0m\u001b[0;34m,\u001b[0m \u001b[0mparams\u001b[0m\u001b[0;34m,\u001b[0m \u001b[0mseed\u001b[0m\u001b[0;34m,\u001b[0m \u001b[0mmetrics\u001b[0m\u001b[0;34m,\u001b[0m \u001b[0mfpreproc\u001b[0m\u001b[0;34m)\u001b[0m\u001b[0;34m\u001b[0m\u001b[0m\n\u001b[0m\u001b[1;32m    245\u001b[0m     \u001b[0;32mfor\u001b[0m \u001b[0mi\u001b[0m \u001b[0;32min\u001b[0m \u001b[0mrange\u001b[0m\u001b[0;34m(\u001b[0m\u001b[0mnum_boost_round\u001b[0m\u001b[0;34m)\u001b[0m\u001b[0;34m:\u001b[0m\u001b[0;34m\u001b[0m\u001b[0m\n\u001b[1;32m    246\u001b[0m         \u001b[0;32mfor\u001b[0m \u001b[0mfold\u001b[0m \u001b[0;32min\u001b[0m \u001b[0mcvfolds\u001b[0m\u001b[0;34m:\u001b[0m\u001b[0;34m\u001b[0m\u001b[0m\n",
      "\u001b[0;32m/Users/amit/anaconda/lib/python2.7/site-packages/xgboost/training.pyc\u001b[0m in \u001b[0;36mmknfold\u001b[0;34m(dall, nfold, param, seed, evals, fpreproc)\u001b[0m\n\u001b[1;32m    176\u001b[0m             \u001b[0mtparam\u001b[0m \u001b[0;34m=\u001b[0m \u001b[0mparam\u001b[0m\u001b[0;34m\u001b[0m\u001b[0m\n\u001b[1;32m    177\u001b[0m         \u001b[0mplst\u001b[0m \u001b[0;34m=\u001b[0m \u001b[0mlist\u001b[0m\u001b[0;34m(\u001b[0m\u001b[0mtparam\u001b[0m\u001b[0;34m.\u001b[0m\u001b[0mitems\u001b[0m\u001b[0;34m(\u001b[0m\u001b[0;34m)\u001b[0m\u001b[0;34m)\u001b[0m \u001b[0;34m+\u001b[0m \u001b[0;34m[\u001b[0m\u001b[0;34m(\u001b[0m\u001b[0;34m'eval_metric'\u001b[0m\u001b[0;34m,\u001b[0m \u001b[0mitm\u001b[0m\u001b[0;34m)\u001b[0m \u001b[0;32mfor\u001b[0m \u001b[0mitm\u001b[0m \u001b[0;32min\u001b[0m \u001b[0mevals\u001b[0m\u001b[0;34m]\u001b[0m\u001b[0;34m\u001b[0m\u001b[0m\n\u001b[0;32m--> 178\u001b[0;31m         \u001b[0mret\u001b[0m\u001b[0;34m.\u001b[0m\u001b[0mappend\u001b[0m\u001b[0;34m(\u001b[0m\u001b[0mCVPack\u001b[0m\u001b[0;34m(\u001b[0m\u001b[0mdtrain\u001b[0m\u001b[0;34m,\u001b[0m \u001b[0mdtest\u001b[0m\u001b[0;34m,\u001b[0m \u001b[0mplst\u001b[0m\u001b[0;34m)\u001b[0m\u001b[0;34m)\u001b[0m\u001b[0;34m\u001b[0m\u001b[0m\n\u001b[0m\u001b[1;32m    179\u001b[0m     \u001b[0;32mreturn\u001b[0m \u001b[0mret\u001b[0m\u001b[0;34m\u001b[0m\u001b[0m\n\u001b[1;32m    180\u001b[0m \u001b[0;34m\u001b[0m\u001b[0m\n",
      "\u001b[0;32m/Users/amit/anaconda/lib/python2.7/site-packages/xgboost/training.pyc\u001b[0m in \u001b[0;36m__init__\u001b[0;34m(self, dtrain, dtest, param)\u001b[0m\n\u001b[1;32m    146\u001b[0m         \u001b[0mself\u001b[0m\u001b[0;34m.\u001b[0m\u001b[0mdtest\u001b[0m \u001b[0;34m=\u001b[0m \u001b[0mdtest\u001b[0m\u001b[0;34m\u001b[0m\u001b[0m\n\u001b[1;32m    147\u001b[0m         \u001b[0mself\u001b[0m\u001b[0;34m.\u001b[0m\u001b[0mwatchlist\u001b[0m \u001b[0;34m=\u001b[0m \u001b[0;34m[\u001b[0m\u001b[0;34m(\u001b[0m\u001b[0mdtrain\u001b[0m\u001b[0;34m,\u001b[0m \u001b[0;34m'train'\u001b[0m\u001b[0;34m)\u001b[0m\u001b[0;34m,\u001b[0m \u001b[0;34m(\u001b[0m\u001b[0mdtest\u001b[0m\u001b[0;34m,\u001b[0m \u001b[0;34m'test'\u001b[0m\u001b[0;34m)\u001b[0m\u001b[0;34m]\u001b[0m\u001b[0;34m\u001b[0m\u001b[0m\n\u001b[0;32m--> 148\u001b[0;31m         \u001b[0mself\u001b[0m\u001b[0;34m.\u001b[0m\u001b[0mbst\u001b[0m \u001b[0;34m=\u001b[0m \u001b[0mBooster\u001b[0m\u001b[0;34m(\u001b[0m\u001b[0mparam\u001b[0m\u001b[0;34m,\u001b[0m \u001b[0;34m[\u001b[0m\u001b[0mdtrain\u001b[0m\u001b[0;34m,\u001b[0m \u001b[0mdtest\u001b[0m\u001b[0;34m]\u001b[0m\u001b[0;34m)\u001b[0m\u001b[0;34m\u001b[0m\u001b[0m\n\u001b[0m\u001b[1;32m    149\u001b[0m \u001b[0;34m\u001b[0m\u001b[0m\n\u001b[1;32m    150\u001b[0m     \u001b[0;32mdef\u001b[0m \u001b[0mupdate\u001b[0m\u001b[0;34m(\u001b[0m\u001b[0mself\u001b[0m\u001b[0;34m,\u001b[0m \u001b[0miteration\u001b[0m\u001b[0;34m,\u001b[0m \u001b[0mfobj\u001b[0m\u001b[0;34m)\u001b[0m\u001b[0;34m:\u001b[0m\u001b[0;34m\u001b[0m\u001b[0m\n",
      "\u001b[0;32m/Users/amit/anaconda/lib/python2.7/site-packages/xgboost/core.pyc\u001b[0m in \u001b[0;36m__init__\u001b[0;34m(self, params, cache, model_file)\u001b[0m\n\u001b[1;32m    440\u001b[0m         \u001b[0m_check_call\u001b[0m\u001b[0;34m(\u001b[0m\u001b[0m_LIB\u001b[0m\u001b[0;34m.\u001b[0m\u001b[0mXGBoosterCreate\u001b[0m\u001b[0;34m(\u001b[0m\u001b[0mdmats\u001b[0m\u001b[0;34m,\u001b[0m \u001b[0mlen\u001b[0m\u001b[0;34m(\u001b[0m\u001b[0mcache\u001b[0m\u001b[0;34m)\u001b[0m\u001b[0;34m,\u001b[0m \u001b[0mctypes\u001b[0m\u001b[0;34m.\u001b[0m\u001b[0mbyref\u001b[0m\u001b[0;34m(\u001b[0m\u001b[0mself\u001b[0m\u001b[0;34m.\u001b[0m\u001b[0mhandle\u001b[0m\u001b[0;34m)\u001b[0m\u001b[0;34m)\u001b[0m\u001b[0;34m)\u001b[0m\u001b[0;34m\u001b[0m\u001b[0m\n\u001b[1;32m    441\u001b[0m         \u001b[0mself\u001b[0m\u001b[0;34m.\u001b[0m\u001b[0mset_param\u001b[0m\u001b[0;34m(\u001b[0m\u001b[0;34m{\u001b[0m\u001b[0;34m'seed'\u001b[0m\u001b[0;34m:\u001b[0m \u001b[0;36m0\u001b[0m\u001b[0;34m}\u001b[0m\u001b[0;34m)\u001b[0m\u001b[0;34m\u001b[0m\u001b[0m\n\u001b[0;32m--> 442\u001b[0;31m         \u001b[0mself\u001b[0m\u001b[0;34m.\u001b[0m\u001b[0mset_param\u001b[0m\u001b[0;34m(\u001b[0m\u001b[0mparams\u001b[0m \u001b[0;32mor\u001b[0m \u001b[0;34m{\u001b[0m\u001b[0;34m}\u001b[0m\u001b[0;34m)\u001b[0m\u001b[0;34m\u001b[0m\u001b[0m\n\u001b[0m\u001b[1;32m    443\u001b[0m         \u001b[0;32mif\u001b[0m \u001b[0mmodel_file\u001b[0m \u001b[0;32mis\u001b[0m \u001b[0;32mnot\u001b[0m \u001b[0mNone\u001b[0m\u001b[0;34m:\u001b[0m\u001b[0;34m\u001b[0m\u001b[0m\n\u001b[1;32m    444\u001b[0m             \u001b[0mself\u001b[0m\u001b[0;34m.\u001b[0m\u001b[0mload_model\u001b[0m\u001b[0;34m(\u001b[0m\u001b[0mmodel_file\u001b[0m\u001b[0;34m)\u001b[0m\u001b[0;34m\u001b[0m\u001b[0m\n",
      "\u001b[0;32m/Users/amit/anaconda/lib/python2.7/site-packages/xgboost/core.pyc\u001b[0m in \u001b[0;36mset_param\u001b[0;34m(self, params, value)\u001b[0m\n\u001b[1;32m    503\u001b[0m             \u001b[0mparams\u001b[0m \u001b[0;34m=\u001b[0m \u001b[0;34m[\u001b[0m\u001b[0;34m(\u001b[0m\u001b[0mparams\u001b[0m\u001b[0;34m,\u001b[0m \u001b[0mvalue\u001b[0m\u001b[0;34m)\u001b[0m\u001b[0;34m]\u001b[0m\u001b[0;34m\u001b[0m\u001b[0m\n\u001b[1;32m    504\u001b[0m         \u001b[0;32mfor\u001b[0m \u001b[0mkey\u001b[0m\u001b[0;34m,\u001b[0m \u001b[0mval\u001b[0m \u001b[0;32min\u001b[0m \u001b[0mparams\u001b[0m\u001b[0;34m:\u001b[0m\u001b[0;34m\u001b[0m\u001b[0m\n\u001b[0;32m--> 505\u001b[0;31m             \u001b[0m_check_call\u001b[0m\u001b[0;34m(\u001b[0m\u001b[0m_LIB\u001b[0m\u001b[0;34m.\u001b[0m\u001b[0mXGBoosterSetParam\u001b[0m\u001b[0;34m(\u001b[0m\u001b[0mself\u001b[0m\u001b[0;34m.\u001b[0m\u001b[0mhandle\u001b[0m\u001b[0;34m,\u001b[0m \u001b[0mc_str\u001b[0m\u001b[0;34m(\u001b[0m\u001b[0mkey\u001b[0m\u001b[0;34m)\u001b[0m\u001b[0;34m,\u001b[0m \u001b[0mc_str\u001b[0m\u001b[0;34m(\u001b[0m\u001b[0mstr\u001b[0m\u001b[0;34m(\u001b[0m\u001b[0mval\u001b[0m\u001b[0;34m)\u001b[0m\u001b[0;34m)\u001b[0m\u001b[0;34m)\u001b[0m\u001b[0;34m)\u001b[0m\u001b[0;34m\u001b[0m\u001b[0m\n\u001b[0m\u001b[1;32m    506\u001b[0m \u001b[0;34m\u001b[0m\u001b[0m\n\u001b[1;32m    507\u001b[0m     \u001b[0;32mdef\u001b[0m \u001b[0mupdate\u001b[0m\u001b[0;34m(\u001b[0m\u001b[0mself\u001b[0m\u001b[0;34m,\u001b[0m \u001b[0mdtrain\u001b[0m\u001b[0;34m,\u001b[0m \u001b[0miteration\u001b[0m\u001b[0;34m,\u001b[0m \u001b[0mfobj\u001b[0m\u001b[0;34m=\u001b[0m\u001b[0mNone\u001b[0m\u001b[0;34m)\u001b[0m\u001b[0;34m:\u001b[0m\u001b[0;34m\u001b[0m\u001b[0m\n",
      "\u001b[0;32m/Users/amit/anaconda/lib/python2.7/site-packages/xgboost/core.pyc\u001b[0m in \u001b[0;36m_check_call\u001b[0;34m(ret)\u001b[0m\n\u001b[1;32m     90\u001b[0m     \"\"\"\n\u001b[1;32m     91\u001b[0m     \u001b[0;32mif\u001b[0m \u001b[0mret\u001b[0m \u001b[0;34m!=\u001b[0m \u001b[0;36m0\u001b[0m\u001b[0;34m:\u001b[0m\u001b[0;34m\u001b[0m\u001b[0m\n\u001b[0;32m---> 92\u001b[0;31m         \u001b[0;32mraise\u001b[0m \u001b[0mXGBoostError\u001b[0m\u001b[0;34m(\u001b[0m\u001b[0m_LIB\u001b[0m\u001b[0;34m.\u001b[0m\u001b[0mXGBGetLastError\u001b[0m\u001b[0;34m(\u001b[0m\u001b[0;34m)\u001b[0m\u001b[0;34m)\u001b[0m\u001b[0;34m\u001b[0m\u001b[0m\n\u001b[0m\u001b[1;32m     93\u001b[0m \u001b[0;34m\u001b[0m\u001b[0m\n\u001b[1;32m     94\u001b[0m \u001b[0;34m\u001b[0m\u001b[0m\n",
      "\u001b[0;31mXGBoostError\u001b[0m: unknown evaluation metric type: m"
     ]
    }
   ],
   "source": [
    "xgb1 = XGBClassifier(\n",
    "    max_depth= 10,\n",
    "    learning_rate= 0.01,\n",
    "    n_estimators= 5,\n",
    "    objective= 'multi:softprob',\n",
    "    gamma = 0,\n",
    "    min_child_weight = 1,\n",
    "    max_delta_step= 0,\n",
    "    subsample = 1,\n",
    "    colsample_bytree = 1,\n",
    "    base_score = 0.5,\n",
    "    missing = None,\n",
    "    silent= True,\n",
    "    nthread= 4,\n",
    "    seed= 42\n",
    ")\n",
    "modelfit(xgb1, x_train_wo_sess,encoded_y_train )"
   ]
  },
  {
   "cell_type": "code",
   "execution_count": null,
   "metadata": {
    "collapsed": true
   },
   "outputs": [],
   "source": [
    "xgtrain = xgb.DMatrix(x_train, label=y_train)"
   ]
  },
  {
   "cell_type": "code",
   "execution_count": null,
   "metadata": {
    "collapsed": true
   },
   "outputs": [],
   "source": [
    "max_depth=6, learning_rate=0.01, n_estimators=10000,\n",
    "                    objective='multi:softprob', gamma=1., min_child_weight=1.,\n",
    "                    max_delta_step=5., subsample=0.7, colsample_bytree=0.7,\n",
    "                    reg_alpha=0., reg_lambda=1., seed=random_state"
   ]
  },
  {
   "cell_type": "code",
   "execution_count": null,
   "metadata": {
    "collapsed": true
   },
   "outputs": [],
   "source": [
    "param = {\n",
    "    'max_depth': 10,\n",
    "    'learning_rate': 0.1,\n",
    "    'n_estimators': 5,\n",
    "    'objective': 'multi:softprob',\n",
    "    'num_class': 12,\n",
    "    'gamma': 0,\n",
    "    'min_child_weight': 1,\n",
    "    'max_delta_step': 0,\n",
    "    'subsample': 1,\n",
    "    'colsample_bytree': 1,\n",
    "    'colsample_bylevel': 1,\n",
    "    'reg_alpha': 0,\n",
    "    'reg_lambda': 1,\n",
    "    'scale_pos_weight': 1,\n",
    "    'base_score': 0.5,\n",
    "    'missing': None,\n",
    "    'silent': True,\n",
    "    'nthread': 4,\n",
    "    'seed': 42\n",
    "}\n",
    "\n",
    "kf = KFold(len(x_train), n_folds=10, random_state=42)\n",
    "\n",
    "score = cross_val_score(xgb, x_train, encoded_y_train,\n",
    "                        cv=kf, scoring=ndcg_scorer)\n",
    "\n",
    "print(xgb.get_params(), score.mean())"
   ]
  },
  {
   "cell_type": "code",
   "execution_count": 391,
   "metadata": {
    "collapsed": false
   },
   "outputs": [],
   "source": [
    "def runXGB(train_X, train_y, test_X, test_y=None, feature_names=None, seed_val=0, num_rounds=1000):\n",
    "#     param = {}\n",
    "#     param['n_estimators']=25\n",
    "#     param['objective'] = 'multi:softprob'\n",
    "#     param['eta'] = 0.1\n",
    "#     param['max_depth'] = 4\n",
    "#     param['silent'] = 1\n",
    "#     param['num_class'] = 12\n",
    "#     param['eval_metric'] = \"mlogloss\"\n",
    "#     param['min_child_weight'] = 1\n",
    "#     param['subsample'] = 0.7\n",
    "#     param['colsample_bytree'] = 0.7\n",
    "#     param['seed'] = seed_val\n",
    "#    num_rounds = num_rounds\n",
    "    xgb1 = XGBClassifier(\n",
    "            learning_rate =0.1,\n",
    "            n_estimators=1000,\n",
    "            max_depth=5,\n",
    "            min_child_weight=1,\n",
    "            gamma=0,\n",
    "            subsample=0.8,\n",
    "            colsample_bytree=0.8,\n",
    "            objective='multi:softprob',\n",
    "            nthread=4,\n",
    "            seed=27)\n",
    "\n",
    "#    plst = list(param.items())\n",
    "#    xgtrain = xgb.DMatrix(train_X, label=train_y)\n",
    "    \n",
    "\n",
    "    if test_y is not None:\n",
    "#        xgtest = xgb.DMatrix(test_X, label=test_y)\n",
    "#        watchlist = [ (xgtrain,'train'), (xgtest, 'test') ]\n",
    "        model = xgb1.fit(train_X, train_Y, early_stopping_rounds=20)\n",
    "    else:\n",
    "#        xgtest = xgb.DMatrix(test_X)\n",
    "        model = xgb1.fit(xgtrain, num_rounds)\n",
    "\n",
    "    pred_test_y = model.predict_proba(xgtest)\n",
    "    return pred_test_y, model"
   ]
  },
  {
   "cell_type": "code",
   "execution_count": 383,
   "metadata": {
    "collapsed": false
   },
   "outputs": [
    {
     "name": "stdout",
     "output_type": "stream",
     "text": [
      "(213451, 166) (62096, 166)\n"
     ]
    }
   ],
   "source": [
    "print x_train_wo_sess.shape,test_final_wo_sess.shape"
   ]
  },
  {
   "cell_type": "code",
   "execution_count": 381,
   "metadata": {
    "collapsed": true
   },
   "outputs": [],
   "source": [
    "from sklearn.utils import compute_sample_weight\n",
    "from sklearn.metrics import log_loss"
   ]
  },
  {
   "cell_type": "code",
   "execution_count": null,
   "metadata": {
    "collapsed": true
   },
   "outputs": [],
   "source": [
    "sw = compute_sample_weight(class_weight=cl_weight, y=encoded_y_train)"
   ]
  },
  {
   "cell_type": "code",
   "execution_count": 393,
   "metadata": {
    "collapsed": true
   },
   "outputs": [],
   "source": [
    " xgb2 = XGBClassifier(\n",
    "            learning_rate =0.1,\n",
    "            n_estimators=1000,\n",
    "            max_depth=5,\n",
    "            min_child_weight=1,\n",
    "            gamma=0,\n",
    "            subsample=0.8,\n",
    "            colsample_bytree=0.8,\n",
    "            objective='multi:softprob',\n",
    "            nthread=4,\n",
    "            seed=27)"
   ]
  },
  {
   "cell_type": "code",
   "execution_count": 395,
   "metadata": {
    "collapsed": false
   },
   "outputs": [
    {
     "ename": "KeyboardInterrupt",
     "evalue": "",
     "output_type": "error",
     "traceback": [
      "\u001b[0;31m---------------------------------------------------------------------------\u001b[0m",
      "\u001b[0;31mKeyboardInterrupt\u001b[0m                         Traceback (most recent call last)",
      "\u001b[0;32m<ipython-input-395-6e915625282d>\u001b[0m in \u001b[0;36m<module>\u001b[0;34m()\u001b[0m\n\u001b[1;32m      4\u001b[0m         \u001b[0mdev_X\u001b[0m\u001b[0;34m,\u001b[0m \u001b[0mval_X\u001b[0m \u001b[0;34m=\u001b[0m \u001b[0mx_train_wo_sess\u001b[0m\u001b[0;34m.\u001b[0m\u001b[0mloc\u001b[0m\u001b[0;34m[\u001b[0m\u001b[0mdev_index\u001b[0m\u001b[0;34m]\u001b[0m\u001b[0;34m,\u001b[0m \u001b[0mx_train_wo_sess\u001b[0m\u001b[0;34m.\u001b[0m\u001b[0mloc\u001b[0m\u001b[0;34m[\u001b[0m\u001b[0mval_index\u001b[0m\u001b[0;34m,\u001b[0m\u001b[0;34m:\u001b[0m\u001b[0;34m]\u001b[0m\u001b[0;34m\u001b[0m\u001b[0m\n\u001b[1;32m      5\u001b[0m         \u001b[0mdev_y\u001b[0m\u001b[0;34m,\u001b[0m \u001b[0mval_y\u001b[0m \u001b[0;34m=\u001b[0m \u001b[0mencoded_y_train\u001b[0m\u001b[0;34m[\u001b[0m\u001b[0mdev_index\u001b[0m\u001b[0;34m]\u001b[0m\u001b[0;34m,\u001b[0m \u001b[0mencoded_y_train\u001b[0m\u001b[0;34m[\u001b[0m\u001b[0mval_index\u001b[0m\u001b[0;34m]\u001b[0m\u001b[0;34m\u001b[0m\u001b[0m\n\u001b[0;32m----> 6\u001b[0;31m         \u001b[0mmodel\u001b[0m \u001b[0;34m=\u001b[0m \u001b[0mxgb2\u001b[0m\u001b[0;34m.\u001b[0m\u001b[0mfit\u001b[0m\u001b[0;34m(\u001b[0m\u001b[0mdev_X\u001b[0m\u001b[0;34m,\u001b[0m\u001b[0mdev_y\u001b[0m\u001b[0;34m)\u001b[0m\u001b[0;34m\u001b[0m\u001b[0m\n\u001b[0m\u001b[1;32m      7\u001b[0m         \u001b[0mpreds\u001b[0m \u001b[0;34m=\u001b[0m \u001b[0mmodel\u001b[0m\u001b[0;34m.\u001b[0m\u001b[0mpredict_proba\u001b[0m\u001b[0;34m(\u001b[0m\u001b[0mval_X\u001b[0m \u001b[0;34m)\u001b[0m\u001b[0;34m\u001b[0m\u001b[0m\n\u001b[1;32m      8\u001b[0m         \u001b[0mcv_scores\u001b[0m\u001b[0;34m.\u001b[0m\u001b[0mappend\u001b[0m\u001b[0;34m(\u001b[0m\u001b[0mlog_loss\u001b[0m\u001b[0;34m(\u001b[0m\u001b[0mval_y\u001b[0m\u001b[0;34m,\u001b[0m \u001b[0mpreds\u001b[0m\u001b[0;34m)\u001b[0m\u001b[0;34m)\u001b[0m\u001b[0;34m\u001b[0m\u001b[0m\n",
      "\u001b[0;32m/Users/amit/anaconda/lib/python2.7/site-packages/xgboost/sklearn.pyc\u001b[0m in \u001b[0;36mfit\u001b[0;34m(self, X, y, sample_weight, eval_set, eval_metric, early_stopping_rounds, verbose)\u001b[0m\n\u001b[1;32m    301\u001b[0m                               \u001b[0mearly_stopping_rounds\u001b[0m\u001b[0;34m=\u001b[0m\u001b[0mearly_stopping_rounds\u001b[0m\u001b[0;34m,\u001b[0m\u001b[0;34m\u001b[0m\u001b[0m\n\u001b[1;32m    302\u001b[0m                               \u001b[0mevals_result\u001b[0m\u001b[0;34m=\u001b[0m\u001b[0meval_results\u001b[0m\u001b[0;34m,\u001b[0m \u001b[0mfeval\u001b[0m\u001b[0;34m=\u001b[0m\u001b[0mfeval\u001b[0m\u001b[0;34m,\u001b[0m\u001b[0;34m\u001b[0m\u001b[0m\n\u001b[0;32m--> 303\u001b[0;31m                               verbose_eval=verbose)\n\u001b[0m\u001b[1;32m    304\u001b[0m \u001b[0;34m\u001b[0m\u001b[0m\n\u001b[1;32m    305\u001b[0m         \u001b[0;32mif\u001b[0m \u001b[0meval_results\u001b[0m\u001b[0;34m:\u001b[0m\u001b[0;34m\u001b[0m\u001b[0m\n",
      "\u001b[0;32m/Users/amit/anaconda/lib/python2.7/site-packages/xgboost/training.pyc\u001b[0m in \u001b[0;36mtrain\u001b[0;34m(params, dtrain, num_boost_round, evals, obj, feval, early_stopping_rounds, evals_result, verbose_eval)\u001b[0m\n\u001b[1;32m     60\u001b[0m     \u001b[0;32mif\u001b[0m \u001b[0;32mnot\u001b[0m \u001b[0mearly_stopping_rounds\u001b[0m\u001b[0;34m:\u001b[0m\u001b[0;34m\u001b[0m\u001b[0m\n\u001b[1;32m     61\u001b[0m         \u001b[0;32mfor\u001b[0m \u001b[0mi\u001b[0m \u001b[0;32min\u001b[0m \u001b[0mrange\u001b[0m\u001b[0;34m(\u001b[0m\u001b[0mnum_boost_round\u001b[0m\u001b[0;34m)\u001b[0m\u001b[0;34m:\u001b[0m\u001b[0;34m\u001b[0m\u001b[0m\n\u001b[0;32m---> 62\u001b[0;31m             \u001b[0mbst\u001b[0m\u001b[0;34m.\u001b[0m\u001b[0mupdate\u001b[0m\u001b[0;34m(\u001b[0m\u001b[0mdtrain\u001b[0m\u001b[0;34m,\u001b[0m \u001b[0mi\u001b[0m\u001b[0;34m,\u001b[0m \u001b[0mobj\u001b[0m\u001b[0;34m)\u001b[0m\u001b[0;34m\u001b[0m\u001b[0m\n\u001b[0m\u001b[1;32m     63\u001b[0m             \u001b[0;32mif\u001b[0m \u001b[0mlen\u001b[0m\u001b[0;34m(\u001b[0m\u001b[0mevals\u001b[0m\u001b[0;34m)\u001b[0m \u001b[0;34m!=\u001b[0m \u001b[0;36m0\u001b[0m\u001b[0;34m:\u001b[0m\u001b[0;34m\u001b[0m\u001b[0m\n\u001b[1;32m     64\u001b[0m                 \u001b[0mbst_eval_set\u001b[0m \u001b[0;34m=\u001b[0m \u001b[0mbst\u001b[0m\u001b[0;34m.\u001b[0m\u001b[0meval_set\u001b[0m\u001b[0;34m(\u001b[0m\u001b[0mevals\u001b[0m\u001b[0;34m,\u001b[0m \u001b[0mi\u001b[0m\u001b[0;34m,\u001b[0m \u001b[0mfeval\u001b[0m\u001b[0;34m)\u001b[0m\u001b[0;34m\u001b[0m\u001b[0m\n",
      "\u001b[0;32m/Users/amit/anaconda/lib/python2.7/site-packages/xgboost/core.pyc\u001b[0m in \u001b[0;36mupdate\u001b[0;34m(self, dtrain, iteration, fobj)\u001b[0m\n\u001b[1;32m    521\u001b[0m             \u001b[0;32mraise\u001b[0m \u001b[0mTypeError\u001b[0m\u001b[0;34m(\u001b[0m\u001b[0;34m'invalid training matrix: {}'\u001b[0m\u001b[0;34m.\u001b[0m\u001b[0mformat\u001b[0m\u001b[0;34m(\u001b[0m\u001b[0mtype\u001b[0m\u001b[0;34m(\u001b[0m\u001b[0mdtrain\u001b[0m\u001b[0;34m)\u001b[0m\u001b[0;34m.\u001b[0m\u001b[0m__name__\u001b[0m\u001b[0;34m)\u001b[0m\u001b[0;34m)\u001b[0m\u001b[0;34m\u001b[0m\u001b[0m\n\u001b[1;32m    522\u001b[0m         \u001b[0;32mif\u001b[0m \u001b[0mfobj\u001b[0m \u001b[0;32mis\u001b[0m \u001b[0mNone\u001b[0m\u001b[0;34m:\u001b[0m\u001b[0;34m\u001b[0m\u001b[0m\n\u001b[0;32m--> 523\u001b[0;31m             \u001b[0m_check_call\u001b[0m\u001b[0;34m(\u001b[0m\u001b[0m_LIB\u001b[0m\u001b[0;34m.\u001b[0m\u001b[0mXGBoosterUpdateOneIter\u001b[0m\u001b[0;34m(\u001b[0m\u001b[0mself\u001b[0m\u001b[0;34m.\u001b[0m\u001b[0mhandle\u001b[0m\u001b[0;34m,\u001b[0m \u001b[0miteration\u001b[0m\u001b[0;34m,\u001b[0m \u001b[0mdtrain\u001b[0m\u001b[0;34m.\u001b[0m\u001b[0mhandle\u001b[0m\u001b[0;34m)\u001b[0m\u001b[0;34m)\u001b[0m\u001b[0;34m\u001b[0m\u001b[0m\n\u001b[0m\u001b[1;32m    524\u001b[0m         \u001b[0;32melse\u001b[0m\u001b[0;34m:\u001b[0m\u001b[0;34m\u001b[0m\u001b[0m\n\u001b[1;32m    525\u001b[0m             \u001b[0mpred\u001b[0m \u001b[0;34m=\u001b[0m \u001b[0mself\u001b[0m\u001b[0;34m.\u001b[0m\u001b[0mpredict\u001b[0m\u001b[0;34m(\u001b[0m\u001b[0mdtrain\u001b[0m\u001b[0;34m)\u001b[0m\u001b[0;34m\u001b[0m\u001b[0m\n",
      "\u001b[0;31mKeyboardInterrupt\u001b[0m: "
     ]
    }
   ],
   "source": [
    "cv_scores = []\n",
    "kf = model_selection.KFold(n_splits=5, shuffle=True, random_state=20)\n",
    "for dev_index, val_index in kf.split(range(x_train_wo_sess.shape[0])):\n",
    "        dev_X, val_X = x_train_wo_sess.loc[dev_index], x_train_wo_sess.loc[val_index,:]\n",
    "        dev_y, val_y = encoded_y_train[dev_index], encoded_y_train[val_index]\n",
    "        model = xgb2.fit(dev_X,dev_y)\n",
    "        preds = model.predict_proba(val_X )\n",
    "        cv_scores.append(log_loss(val_y, preds))\n",
    "        print(cv_scores)\n",
    "        break"
   ]
  },
  {
   "cell_type": "code",
   "execution_count": 384,
   "metadata": {
    "collapsed": false
   },
   "outputs": [
    {
     "ename": "AttributeError",
     "evalue": "'Booster' object has no attribute 'predict_proba'",
     "output_type": "error",
     "traceback": [
      "\u001b[0;31m---------------------------------------------------------------------------\u001b[0m",
      "\u001b[0;31mAttributeError\u001b[0m                            Traceback (most recent call last)",
      "\u001b[0;32m<ipython-input-384-e37a8b44b2e5>\u001b[0m in \u001b[0;36m<module>\u001b[0;34m()\u001b[0m\n\u001b[0;32m----> 1\u001b[0;31m \u001b[0mpreds\u001b[0m\u001b[0;34m,\u001b[0m \u001b[0mmodel\u001b[0m \u001b[0;34m=\u001b[0m \u001b[0mrunXGB\u001b[0m\u001b[0;34m(\u001b[0m\u001b[0mx_train_wo_sess\u001b[0m\u001b[0;34m,\u001b[0m \u001b[0mencoded_y_train\u001b[0m\u001b[0;34m,\u001b[0m \u001b[0mtest_final_wo_sess\u001b[0m\u001b[0;34m,\u001b[0m \u001b[0mnum_rounds\u001b[0m\u001b[0;34m=\u001b[0m\u001b[0;36m125\u001b[0m\u001b[0;34m)\u001b[0m\u001b[0;34m\u001b[0m\u001b[0m\n\u001b[0m",
      "\u001b[0;32m<ipython-input-382-03b89469f786>\u001b[0m in \u001b[0;36mrunXGB\u001b[0;34m(train_X, train_y, test_X, test_y, feature_names, seed_val, num_rounds)\u001b[0m\n\u001b[1;32m     25\u001b[0m         \u001b[0mmodel\u001b[0m \u001b[0;34m=\u001b[0m \u001b[0mxgb\u001b[0m\u001b[0;34m.\u001b[0m\u001b[0mtrain\u001b[0m\u001b[0;34m(\u001b[0m\u001b[0mplst\u001b[0m\u001b[0;34m,\u001b[0m \u001b[0mxgtrain\u001b[0m\u001b[0;34m,\u001b[0m \u001b[0mnum_rounds\u001b[0m\u001b[0;34m)\u001b[0m\u001b[0;34m\u001b[0m\u001b[0m\n\u001b[1;32m     26\u001b[0m \u001b[0;34m\u001b[0m\u001b[0m\n\u001b[0;32m---> 27\u001b[0;31m     \u001b[0mpred_test_y\u001b[0m \u001b[0;34m=\u001b[0m \u001b[0mmodel\u001b[0m\u001b[0;34m.\u001b[0m\u001b[0mpredict_proba\u001b[0m\u001b[0;34m(\u001b[0m\u001b[0mxgtest\u001b[0m\u001b[0;34m)\u001b[0m\u001b[0;34m\u001b[0m\u001b[0m\n\u001b[0m\u001b[1;32m     28\u001b[0m     \u001b[0;32mreturn\u001b[0m \u001b[0mpred_test_y\u001b[0m\u001b[0;34m,\u001b[0m \u001b[0mmodel\u001b[0m\u001b[0;34m\u001b[0m\u001b[0m\n",
      "\u001b[0;31mAttributeError\u001b[0m: 'Booster' object has no attribute 'predict_proba'"
     ]
    }
   ],
   "source": [
    "preds, model = runXGB(x_train_wo_sess, encoded_y_train, test_final_wo_sess, num_rounds=125)"
   ]
  },
  {
   "cell_type": "code",
   "execution_count": 310,
   "metadata": {
    "collapsed": false
   },
   "outputs": [],
   "source": [
    "preds_out=pd.DataFrame(preds)"
   ]
  },
  {
   "cell_type": "code",
   "execution_count": 311,
   "metadata": {
    "collapsed": false
   },
   "outputs": [
    {
     "data": {
      "text/plain": [
       "array([ 7,  7, 10, ...,  7,  7,  7])"
      ]
     },
     "execution_count": 311,
     "metadata": {},
     "output_type": "execute_result"
    }
   ],
   "source": [
    "encoded_y_train"
   ]
  },
  {
   "cell_type": "code",
   "execution_count": 312,
   "metadata": {
    "collapsed": false
   },
   "outputs": [
    {
     "data": {
      "text/plain": [
       "0        0.999944\n",
       "1        0.999945\n",
       "2        0.999944\n",
       "3        0.999943\n",
       "4        0.999943\n",
       "5        0.999942\n",
       "6        0.999940\n",
       "7        0.999943\n",
       "8        0.999943\n",
       "9        0.999938\n",
       "10       0.999939\n",
       "11       0.999942\n",
       "12       0.999941\n",
       "13       0.999944\n",
       "14       0.999941\n",
       "15       0.999941\n",
       "16       0.999944\n",
       "17       0.999944\n",
       "18       0.999943\n",
       "19       0.999942\n",
       "20       0.999937\n",
       "21       0.999940\n",
       "22       0.999941\n",
       "23       0.999940\n",
       "24       0.999941\n",
       "25       0.999945\n",
       "26       0.999941\n",
       "27       0.999933\n",
       "28       0.999939\n",
       "29       0.999937\n",
       "           ...   \n",
       "62066    0.999942\n",
       "62067    0.999936\n",
       "62068    0.999943\n",
       "62069    0.999939\n",
       "62070    0.999935\n",
       "62071    0.999940\n",
       "62072    0.999942\n",
       "62073    0.999942\n",
       "62074    0.999943\n",
       "62075    0.999933\n",
       "62076    0.999939\n",
       "62077    0.999943\n",
       "62078    0.999939\n",
       "62079    0.999939\n",
       "62080    0.999937\n",
       "62081    0.999941\n",
       "62082    0.999942\n",
       "62083    0.999943\n",
       "62084    0.999940\n",
       "62085    0.999941\n",
       "62086    0.999942\n",
       "62087    0.999935\n",
       "62088    0.999941\n",
       "62089    0.999940\n",
       "62090    0.999943\n",
       "62091    0.999939\n",
       "62092    0.999941\n",
       "62093    0.999943\n",
       "62094    0.999940\n",
       "62095    0.999936\n",
       "Name: 7, dtype: float32"
      ]
     },
     "execution_count": 312,
     "metadata": {},
     "output_type": "execute_result"
    }
   ],
   "source": [
    "preds_out[7]"
   ]
  },
  {
   "cell_type": "code",
   "execution_count": 284,
   "metadata": {
    "collapsed": false
   },
   "outputs": [
    {
     "data": {
      "text/plain": [
       "213451"
      ]
     },
     "execution_count": 284,
     "metadata": {},
     "output_type": "execute_result"
    }
   ],
   "source": [
    "len(range(x_train_wo_sess.shape[0]))"
   ]
  },
  {
   "cell_type": "code",
   "execution_count": 281,
   "metadata": {
    "collapsed": false
   },
   "outputs": [
    {
     "data": {
      "text/plain": [
       "166"
      ]
     },
     "execution_count": 281,
     "metadata": {},
     "output_type": "execute_result"
    }
   ],
   "source": [
    "len(set(x_train_wo_sess.columns))"
   ]
  },
  {
   "cell_type": "code",
   "execution_count": 291,
   "metadata": {
    "collapsed": false
   },
   "outputs": [
    {
     "data": {
      "text/plain": [
       "<xgboost.core.DMatrix at 0x11247e710>"
      ]
     },
     "execution_count": 291,
     "metadata": {},
     "output_type": "execute_result"
    }
   ],
   "source": [
    "xgb.DMatrix(test_final_wo_sess)"
   ]
  },
  {
   "cell_type": "code",
   "execution_count": 282,
   "metadata": {
    "collapsed": false
   },
   "outputs": [
    {
     "data": {
      "text/plain": [
       "166"
      ]
     },
     "execution_count": 282,
     "metadata": {},
     "output_type": "execute_result"
    }
   ],
   "source": [
    "x_train_wo_sess.columns"
   ]
  },
  {
   "cell_type": "code",
   "execution_count": 286,
   "metadata": {
    "collapsed": false
   },
   "outputs": [
    {
     "data": {
      "text/html": [
       "<div>\n",
       "<table border=\"1\" class=\"dataframe\">\n",
       "  <thead>\n",
       "    <tr style=\"text-align: right;\">\n",
       "      <th></th>\n",
       "      <th>age</th>\n",
       "      <th>date_accnt_created_month</th>\n",
       "      <th>timestamp_first_active_month</th>\n",
       "      <th>date_first_booking_month</th>\n",
       "      <th>date_accnt_created_year</th>\n",
       "      <th>timestamp_first_active_year</th>\n",
       "      <th>date_first_booking_year</th>\n",
       "      <th>date_accnt_created_day</th>\n",
       "      <th>timestamp_first_active_day</th>\n",
       "      <th>date_first_booking_day</th>\n",
       "      <th>...</th>\n",
       "      <th>first_browser_Silk</th>\n",
       "      <th>first_browser_SiteKiosk</th>\n",
       "      <th>first_browser_SlimBrowser</th>\n",
       "      <th>first_browser_Sogou Explorer</th>\n",
       "      <th>first_browser_Stainless</th>\n",
       "      <th>first_browser_TenFourFox</th>\n",
       "      <th>first_browser_TheWorld Browser</th>\n",
       "      <th>first_browser_UC Browser</th>\n",
       "      <th>first_browser_Yandex.Browser</th>\n",
       "      <th>first_browser_wOSBrowser</th>\n",
       "    </tr>\n",
       "  </thead>\n",
       "  <tbody>\n",
       "    <tr>\n",
       "      <th>0</th>\n",
       "      <td>-1.0</td>\n",
       "      <td>6</td>\n",
       "      <td>3</td>\n",
       "      <td>-1.0</td>\n",
       "      <td>2010</td>\n",
       "      <td>2009</td>\n",
       "      <td>-1.0</td>\n",
       "      <td>28</td>\n",
       "      <td>19</td>\n",
       "      <td>-1.0</td>\n",
       "      <td>...</td>\n",
       "      <td>0</td>\n",
       "      <td>0</td>\n",
       "      <td>0</td>\n",
       "      <td>0</td>\n",
       "      <td>0</td>\n",
       "      <td>0</td>\n",
       "      <td>0</td>\n",
       "      <td>0</td>\n",
       "      <td>0</td>\n",
       "      <td>0</td>\n",
       "    </tr>\n",
       "    <tr>\n",
       "      <th>1</th>\n",
       "      <td>38.0</td>\n",
       "      <td>5</td>\n",
       "      <td>5</td>\n",
       "      <td>-1.0</td>\n",
       "      <td>2011</td>\n",
       "      <td>2009</td>\n",
       "      <td>-1.0</td>\n",
       "      <td>25</td>\n",
       "      <td>23</td>\n",
       "      <td>-1.0</td>\n",
       "      <td>...</td>\n",
       "      <td>0</td>\n",
       "      <td>0</td>\n",
       "      <td>0</td>\n",
       "      <td>0</td>\n",
       "      <td>0</td>\n",
       "      <td>0</td>\n",
       "      <td>0</td>\n",
       "      <td>0</td>\n",
       "      <td>0</td>\n",
       "      <td>0</td>\n",
       "    </tr>\n",
       "    <tr>\n",
       "      <th>2</th>\n",
       "      <td>56.0</td>\n",
       "      <td>9</td>\n",
       "      <td>6</td>\n",
       "      <td>8.0</td>\n",
       "      <td>2010</td>\n",
       "      <td>2009</td>\n",
       "      <td>2010.0</td>\n",
       "      <td>28</td>\n",
       "      <td>9</td>\n",
       "      <td>2.0</td>\n",
       "      <td>...</td>\n",
       "      <td>0</td>\n",
       "      <td>0</td>\n",
       "      <td>0</td>\n",
       "      <td>0</td>\n",
       "      <td>0</td>\n",
       "      <td>0</td>\n",
       "      <td>0</td>\n",
       "      <td>0</td>\n",
       "      <td>0</td>\n",
       "      <td>0</td>\n",
       "    </tr>\n",
       "    <tr>\n",
       "      <th>3</th>\n",
       "      <td>42.0</td>\n",
       "      <td>12</td>\n",
       "      <td>10</td>\n",
       "      <td>9.0</td>\n",
       "      <td>2011</td>\n",
       "      <td>2009</td>\n",
       "      <td>2012.0</td>\n",
       "      <td>5</td>\n",
       "      <td>31</td>\n",
       "      <td>8.0</td>\n",
       "      <td>...</td>\n",
       "      <td>0</td>\n",
       "      <td>0</td>\n",
       "      <td>0</td>\n",
       "      <td>0</td>\n",
       "      <td>0</td>\n",
       "      <td>0</td>\n",
       "      <td>0</td>\n",
       "      <td>0</td>\n",
       "      <td>0</td>\n",
       "      <td>0</td>\n",
       "    </tr>\n",
       "    <tr>\n",
       "      <th>4</th>\n",
       "      <td>41.0</td>\n",
       "      <td>9</td>\n",
       "      <td>12</td>\n",
       "      <td>2.0</td>\n",
       "      <td>2010</td>\n",
       "      <td>2009</td>\n",
       "      <td>2010.0</td>\n",
       "      <td>14</td>\n",
       "      <td>8</td>\n",
       "      <td>18.0</td>\n",
       "      <td>...</td>\n",
       "      <td>0</td>\n",
       "      <td>0</td>\n",
       "      <td>0</td>\n",
       "      <td>0</td>\n",
       "      <td>0</td>\n",
       "      <td>0</td>\n",
       "      <td>0</td>\n",
       "      <td>0</td>\n",
       "      <td>0</td>\n",
       "      <td>0</td>\n",
       "    </tr>\n",
       "    <tr>\n",
       "      <th>5</th>\n",
       "      <td>-1.0</td>\n",
       "      <td>1</td>\n",
       "      <td>1</td>\n",
       "      <td>1.0</td>\n",
       "      <td>2010</td>\n",
       "      <td>2010</td>\n",
       "      <td>2010.0</td>\n",
       "      <td>1</td>\n",
       "      <td>1</td>\n",
       "      <td>2.0</td>\n",
       "      <td>...</td>\n",
       "      <td>0</td>\n",
       "      <td>0</td>\n",
       "      <td>0</td>\n",
       "      <td>0</td>\n",
       "      <td>0</td>\n",
       "      <td>0</td>\n",
       "      <td>0</td>\n",
       "      <td>0</td>\n",
       "      <td>0</td>\n",
       "      <td>0</td>\n",
       "    </tr>\n",
       "    <tr>\n",
       "      <th>6</th>\n",
       "      <td>46.0</td>\n",
       "      <td>1</td>\n",
       "      <td>1</td>\n",
       "      <td>1.0</td>\n",
       "      <td>2010</td>\n",
       "      <td>2010</td>\n",
       "      <td>2010.0</td>\n",
       "      <td>2</td>\n",
       "      <td>2</td>\n",
       "      <td>5.0</td>\n",
       "      <td>...</td>\n",
       "      <td>0</td>\n",
       "      <td>0</td>\n",
       "      <td>0</td>\n",
       "      <td>0</td>\n",
       "      <td>0</td>\n",
       "      <td>0</td>\n",
       "      <td>0</td>\n",
       "      <td>0</td>\n",
       "      <td>0</td>\n",
       "      <td>0</td>\n",
       "    </tr>\n",
       "    <tr>\n",
       "      <th>7</th>\n",
       "      <td>47.0</td>\n",
       "      <td>1</td>\n",
       "      <td>1</td>\n",
       "      <td>1.0</td>\n",
       "      <td>2010</td>\n",
       "      <td>2010</td>\n",
       "      <td>2010.0</td>\n",
       "      <td>3</td>\n",
       "      <td>3</td>\n",
       "      <td>13.0</td>\n",
       "      <td>...</td>\n",
       "      <td>0</td>\n",
       "      <td>0</td>\n",
       "      <td>0</td>\n",
       "      <td>0</td>\n",
       "      <td>0</td>\n",
       "      <td>0</td>\n",
       "      <td>0</td>\n",
       "      <td>0</td>\n",
       "      <td>0</td>\n",
       "      <td>0</td>\n",
       "    </tr>\n",
       "    <tr>\n",
       "      <th>8</th>\n",
       "      <td>50.0</td>\n",
       "      <td>1</td>\n",
       "      <td>1</td>\n",
       "      <td>7.0</td>\n",
       "      <td>2010</td>\n",
       "      <td>2010</td>\n",
       "      <td>2010.0</td>\n",
       "      <td>4</td>\n",
       "      <td>4</td>\n",
       "      <td>29.0</td>\n",
       "      <td>...</td>\n",
       "      <td>0</td>\n",
       "      <td>0</td>\n",
       "      <td>0</td>\n",
       "      <td>0</td>\n",
       "      <td>0</td>\n",
       "      <td>0</td>\n",
       "      <td>0</td>\n",
       "      <td>0</td>\n",
       "      <td>0</td>\n",
       "      <td>0</td>\n",
       "    </tr>\n",
       "    <tr>\n",
       "      <th>9</th>\n",
       "      <td>46.0</td>\n",
       "      <td>1</td>\n",
       "      <td>1</td>\n",
       "      <td>1.0</td>\n",
       "      <td>2010</td>\n",
       "      <td>2010</td>\n",
       "      <td>2010.0</td>\n",
       "      <td>4</td>\n",
       "      <td>4</td>\n",
       "      <td>4.0</td>\n",
       "      <td>...</td>\n",
       "      <td>0</td>\n",
       "      <td>0</td>\n",
       "      <td>0</td>\n",
       "      <td>0</td>\n",
       "      <td>0</td>\n",
       "      <td>0</td>\n",
       "      <td>0</td>\n",
       "      <td>0</td>\n",
       "      <td>0</td>\n",
       "      <td>0</td>\n",
       "    </tr>\n",
       "    <tr>\n",
       "      <th>10</th>\n",
       "      <td>36.0</td>\n",
       "      <td>1</td>\n",
       "      <td>1</td>\n",
       "      <td>1.0</td>\n",
       "      <td>2010</td>\n",
       "      <td>2010</td>\n",
       "      <td>2010.0</td>\n",
       "      <td>4</td>\n",
       "      <td>4</td>\n",
       "      <td>6.0</td>\n",
       "      <td>...</td>\n",
       "      <td>0</td>\n",
       "      <td>0</td>\n",
       "      <td>0</td>\n",
       "      <td>0</td>\n",
       "      <td>0</td>\n",
       "      <td>0</td>\n",
       "      <td>0</td>\n",
       "      <td>0</td>\n",
       "      <td>0</td>\n",
       "      <td>0</td>\n",
       "    </tr>\n",
       "    <tr>\n",
       "      <th>11</th>\n",
       "      <td>47.0</td>\n",
       "      <td>1</td>\n",
       "      <td>1</td>\n",
       "      <td>-1.0</td>\n",
       "      <td>2010</td>\n",
       "      <td>2010</td>\n",
       "      <td>-1.0</td>\n",
       "      <td>5</td>\n",
       "      <td>5</td>\n",
       "      <td>-1.0</td>\n",
       "      <td>...</td>\n",
       "      <td>0</td>\n",
       "      <td>0</td>\n",
       "      <td>0</td>\n",
       "      <td>0</td>\n",
       "      <td>0</td>\n",
       "      <td>0</td>\n",
       "      <td>0</td>\n",
       "      <td>0</td>\n",
       "      <td>0</td>\n",
       "      <td>0</td>\n",
       "    </tr>\n",
       "    <tr>\n",
       "      <th>12</th>\n",
       "      <td>-1.0</td>\n",
       "      <td>1</td>\n",
       "      <td>1</td>\n",
       "      <td>1.0</td>\n",
       "      <td>2010</td>\n",
       "      <td>2010</td>\n",
       "      <td>2010.0</td>\n",
       "      <td>5</td>\n",
       "      <td>5</td>\n",
       "      <td>18.0</td>\n",
       "      <td>...</td>\n",
       "      <td>0</td>\n",
       "      <td>0</td>\n",
       "      <td>0</td>\n",
       "      <td>0</td>\n",
       "      <td>0</td>\n",
       "      <td>0</td>\n",
       "      <td>0</td>\n",
       "      <td>0</td>\n",
       "      <td>0</td>\n",
       "      <td>0</td>\n",
       "    </tr>\n",
       "    <tr>\n",
       "      <th>13</th>\n",
       "      <td>37.0</td>\n",
       "      <td>1</td>\n",
       "      <td>1</td>\n",
       "      <td>-1.0</td>\n",
       "      <td>2010</td>\n",
       "      <td>2010</td>\n",
       "      <td>-1.0</td>\n",
       "      <td>5</td>\n",
       "      <td>5</td>\n",
       "      <td>-1.0</td>\n",
       "      <td>...</td>\n",
       "      <td>0</td>\n",
       "      <td>0</td>\n",
       "      <td>0</td>\n",
       "      <td>0</td>\n",
       "      <td>0</td>\n",
       "      <td>0</td>\n",
       "      <td>0</td>\n",
       "      <td>0</td>\n",
       "      <td>0</td>\n",
       "      <td>0</td>\n",
       "    </tr>\n",
       "    <tr>\n",
       "      <th>14</th>\n",
       "      <td>36.0</td>\n",
       "      <td>1</td>\n",
       "      <td>1</td>\n",
       "      <td>-1.0</td>\n",
       "      <td>2010</td>\n",
       "      <td>2010</td>\n",
       "      <td>-1.0</td>\n",
       "      <td>7</td>\n",
       "      <td>7</td>\n",
       "      <td>-1.0</td>\n",
       "      <td>...</td>\n",
       "      <td>0</td>\n",
       "      <td>0</td>\n",
       "      <td>0</td>\n",
       "      <td>0</td>\n",
       "      <td>0</td>\n",
       "      <td>0</td>\n",
       "      <td>0</td>\n",
       "      <td>0</td>\n",
       "      <td>0</td>\n",
       "      <td>0</td>\n",
       "    </tr>\n",
       "    <tr>\n",
       "      <th>15</th>\n",
       "      <td>33.0</td>\n",
       "      <td>1</td>\n",
       "      <td>1</td>\n",
       "      <td>1.0</td>\n",
       "      <td>2010</td>\n",
       "      <td>2010</td>\n",
       "      <td>2010.0</td>\n",
       "      <td>7</td>\n",
       "      <td>7</td>\n",
       "      <td>8.0</td>\n",
       "      <td>...</td>\n",
       "      <td>0</td>\n",
       "      <td>0</td>\n",
       "      <td>0</td>\n",
       "      <td>0</td>\n",
       "      <td>0</td>\n",
       "      <td>0</td>\n",
       "      <td>0</td>\n",
       "      <td>0</td>\n",
       "      <td>0</td>\n",
       "      <td>0</td>\n",
       "    </tr>\n",
       "    <tr>\n",
       "      <th>16</th>\n",
       "      <td>-1.0</td>\n",
       "      <td>1</td>\n",
       "      <td>1</td>\n",
       "      <td>-1.0</td>\n",
       "      <td>2010</td>\n",
       "      <td>2010</td>\n",
       "      <td>-1.0</td>\n",
       "      <td>7</td>\n",
       "      <td>7</td>\n",
       "      <td>-1.0</td>\n",
       "      <td>...</td>\n",
       "      <td>0</td>\n",
       "      <td>0</td>\n",
       "      <td>0</td>\n",
       "      <td>0</td>\n",
       "      <td>0</td>\n",
       "      <td>0</td>\n",
       "      <td>0</td>\n",
       "      <td>0</td>\n",
       "      <td>0</td>\n",
       "      <td>0</td>\n",
       "    </tr>\n",
       "    <tr>\n",
       "      <th>19</th>\n",
       "      <td>29.0</td>\n",
       "      <td>1</td>\n",
       "      <td>1</td>\n",
       "      <td>1.0</td>\n",
       "      <td>2010</td>\n",
       "      <td>2010</td>\n",
       "      <td>2010.0</td>\n",
       "      <td>10</td>\n",
       "      <td>10</td>\n",
       "      <td>10.0</td>\n",
       "      <td>...</td>\n",
       "      <td>0</td>\n",
       "      <td>0</td>\n",
       "      <td>0</td>\n",
       "      <td>0</td>\n",
       "      <td>0</td>\n",
       "      <td>0</td>\n",
       "      <td>0</td>\n",
       "      <td>0</td>\n",
       "      <td>0</td>\n",
       "      <td>0</td>\n",
       "    </tr>\n",
       "    <tr>\n",
       "      <th>22</th>\n",
       "      <td>40.0</td>\n",
       "      <td>1</td>\n",
       "      <td>1</td>\n",
       "      <td>1.0</td>\n",
       "      <td>2010</td>\n",
       "      <td>2010</td>\n",
       "      <td>2010.0</td>\n",
       "      <td>11</td>\n",
       "      <td>11</td>\n",
       "      <td>11.0</td>\n",
       "      <td>...</td>\n",
       "      <td>0</td>\n",
       "      <td>0</td>\n",
       "      <td>0</td>\n",
       "      <td>0</td>\n",
       "      <td>0</td>\n",
       "      <td>0</td>\n",
       "      <td>0</td>\n",
       "      <td>0</td>\n",
       "      <td>0</td>\n",
       "      <td>0</td>\n",
       "    </tr>\n",
       "    <tr>\n",
       "      <th>23</th>\n",
       "      <td>-1.0</td>\n",
       "      <td>1</td>\n",
       "      <td>1</td>\n",
       "      <td>-1.0</td>\n",
       "      <td>2010</td>\n",
       "      <td>2010</td>\n",
       "      <td>-1.0</td>\n",
       "      <td>11</td>\n",
       "      <td>11</td>\n",
       "      <td>-1.0</td>\n",
       "      <td>...</td>\n",
       "      <td>0</td>\n",
       "      <td>0</td>\n",
       "      <td>0</td>\n",
       "      <td>0</td>\n",
       "      <td>0</td>\n",
       "      <td>0</td>\n",
       "      <td>0</td>\n",
       "      <td>0</td>\n",
       "      <td>0</td>\n",
       "      <td>0</td>\n",
       "    </tr>\n",
       "    <tr>\n",
       "      <th>24</th>\n",
       "      <td>40.0</td>\n",
       "      <td>1</td>\n",
       "      <td>1</td>\n",
       "      <td>-1.0</td>\n",
       "      <td>2010</td>\n",
       "      <td>2010</td>\n",
       "      <td>-1.0</td>\n",
       "      <td>11</td>\n",
       "      <td>11</td>\n",
       "      <td>-1.0</td>\n",
       "      <td>...</td>\n",
       "      <td>0</td>\n",
       "      <td>0</td>\n",
       "      <td>0</td>\n",
       "      <td>0</td>\n",
       "      <td>0</td>\n",
       "      <td>0</td>\n",
       "      <td>0</td>\n",
       "      <td>0</td>\n",
       "      <td>0</td>\n",
       "      <td>0</td>\n",
       "    </tr>\n",
       "    <tr>\n",
       "      <th>26</th>\n",
       "      <td>-1.0</td>\n",
       "      <td>1</td>\n",
       "      <td>1</td>\n",
       "      <td>-1.0</td>\n",
       "      <td>2010</td>\n",
       "      <td>2010</td>\n",
       "      <td>-1.0</td>\n",
       "      <td>12</td>\n",
       "      <td>12</td>\n",
       "      <td>-1.0</td>\n",
       "      <td>...</td>\n",
       "      <td>0</td>\n",
       "      <td>0</td>\n",
       "      <td>0</td>\n",
       "      <td>0</td>\n",
       "      <td>0</td>\n",
       "      <td>0</td>\n",
       "      <td>0</td>\n",
       "      <td>0</td>\n",
       "      <td>0</td>\n",
       "      <td>0</td>\n",
       "    </tr>\n",
       "    <tr>\n",
       "      <th>27</th>\n",
       "      <td>32.0</td>\n",
       "      <td>1</td>\n",
       "      <td>1</td>\n",
       "      <td>1.0</td>\n",
       "      <td>2010</td>\n",
       "      <td>2010</td>\n",
       "      <td>2010.0</td>\n",
       "      <td>12</td>\n",
       "      <td>12</td>\n",
       "      <td>22.0</td>\n",
       "      <td>...</td>\n",
       "      <td>0</td>\n",
       "      <td>0</td>\n",
       "      <td>0</td>\n",
       "      <td>0</td>\n",
       "      <td>0</td>\n",
       "      <td>0</td>\n",
       "      <td>0</td>\n",
       "      <td>0</td>\n",
       "      <td>0</td>\n",
       "      <td>0</td>\n",
       "    </tr>\n",
       "    <tr>\n",
       "      <th>28</th>\n",
       "      <td>35.0</td>\n",
       "      <td>1</td>\n",
       "      <td>1</td>\n",
       "      <td>1.0</td>\n",
       "      <td>2010</td>\n",
       "      <td>2010</td>\n",
       "      <td>2010.0</td>\n",
       "      <td>13</td>\n",
       "      <td>13</td>\n",
       "      <td>13.0</td>\n",
       "      <td>...</td>\n",
       "      <td>0</td>\n",
       "      <td>0</td>\n",
       "      <td>0</td>\n",
       "      <td>0</td>\n",
       "      <td>0</td>\n",
       "      <td>0</td>\n",
       "      <td>0</td>\n",
       "      <td>0</td>\n",
       "      <td>0</td>\n",
       "      <td>0</td>\n",
       "    </tr>\n",
       "    <tr>\n",
       "      <th>29</th>\n",
       "      <td>37.0</td>\n",
       "      <td>1</td>\n",
       "      <td>1</td>\n",
       "      <td>1.0</td>\n",
       "      <td>2010</td>\n",
       "      <td>2010</td>\n",
       "      <td>2010.0</td>\n",
       "      <td>13</td>\n",
       "      <td>13</td>\n",
       "      <td>19.0</td>\n",
       "      <td>...</td>\n",
       "      <td>0</td>\n",
       "      <td>0</td>\n",
       "      <td>0</td>\n",
       "      <td>0</td>\n",
       "      <td>0</td>\n",
       "      <td>0</td>\n",
       "      <td>0</td>\n",
       "      <td>0</td>\n",
       "      <td>0</td>\n",
       "      <td>0</td>\n",
       "    </tr>\n",
       "    <tr>\n",
       "      <th>33</th>\n",
       "      <td>29.0</td>\n",
       "      <td>1</td>\n",
       "      <td>1</td>\n",
       "      <td>-1.0</td>\n",
       "      <td>2010</td>\n",
       "      <td>2010</td>\n",
       "      <td>-1.0</td>\n",
       "      <td>14</td>\n",
       "      <td>14</td>\n",
       "      <td>-1.0</td>\n",
       "      <td>...</td>\n",
       "      <td>0</td>\n",
       "      <td>0</td>\n",
       "      <td>0</td>\n",
       "      <td>0</td>\n",
       "      <td>0</td>\n",
       "      <td>0</td>\n",
       "      <td>0</td>\n",
       "      <td>0</td>\n",
       "      <td>0</td>\n",
       "      <td>0</td>\n",
       "    </tr>\n",
       "    <tr>\n",
       "      <th>34</th>\n",
       "      <td>59.0</td>\n",
       "      <td>1</td>\n",
       "      <td>1</td>\n",
       "      <td>-1.0</td>\n",
       "      <td>2010</td>\n",
       "      <td>2010</td>\n",
       "      <td>-1.0</td>\n",
       "      <td>15</td>\n",
       "      <td>15</td>\n",
       "      <td>-1.0</td>\n",
       "      <td>...</td>\n",
       "      <td>0</td>\n",
       "      <td>0</td>\n",
       "      <td>0</td>\n",
       "      <td>0</td>\n",
       "      <td>0</td>\n",
       "      <td>0</td>\n",
       "      <td>0</td>\n",
       "      <td>0</td>\n",
       "      <td>0</td>\n",
       "      <td>0</td>\n",
       "    </tr>\n",
       "    <tr>\n",
       "      <th>36</th>\n",
       "      <td>31.0</td>\n",
       "      <td>1</td>\n",
       "      <td>1</td>\n",
       "      <td>1.0</td>\n",
       "      <td>2010</td>\n",
       "      <td>2010</td>\n",
       "      <td>2010.0</td>\n",
       "      <td>15</td>\n",
       "      <td>15</td>\n",
       "      <td>15.0</td>\n",
       "      <td>...</td>\n",
       "      <td>0</td>\n",
       "      <td>0</td>\n",
       "      <td>0</td>\n",
       "      <td>0</td>\n",
       "      <td>0</td>\n",
       "      <td>0</td>\n",
       "      <td>0</td>\n",
       "      <td>0</td>\n",
       "      <td>0</td>\n",
       "      <td>0</td>\n",
       "    </tr>\n",
       "    <tr>\n",
       "      <th>37</th>\n",
       "      <td>30.0</td>\n",
       "      <td>1</td>\n",
       "      <td>1</td>\n",
       "      <td>-1.0</td>\n",
       "      <td>2010</td>\n",
       "      <td>2010</td>\n",
       "      <td>-1.0</td>\n",
       "      <td>15</td>\n",
       "      <td>15</td>\n",
       "      <td>-1.0</td>\n",
       "      <td>...</td>\n",
       "      <td>0</td>\n",
       "      <td>0</td>\n",
       "      <td>0</td>\n",
       "      <td>0</td>\n",
       "      <td>0</td>\n",
       "      <td>0</td>\n",
       "      <td>0</td>\n",
       "      <td>0</td>\n",
       "      <td>0</td>\n",
       "      <td>0</td>\n",
       "    </tr>\n",
       "    <tr>\n",
       "      <th>38</th>\n",
       "      <td>-1.0</td>\n",
       "      <td>1</td>\n",
       "      <td>1</td>\n",
       "      <td>-1.0</td>\n",
       "      <td>2010</td>\n",
       "      <td>2010</td>\n",
       "      <td>-1.0</td>\n",
       "      <td>15</td>\n",
       "      <td>15</td>\n",
       "      <td>-1.0</td>\n",
       "      <td>...</td>\n",
       "      <td>0</td>\n",
       "      <td>0</td>\n",
       "      <td>0</td>\n",
       "      <td>0</td>\n",
       "      <td>0</td>\n",
       "      <td>0</td>\n",
       "      <td>0</td>\n",
       "      <td>0</td>\n",
       "      <td>0</td>\n",
       "      <td>0</td>\n",
       "    </tr>\n",
       "    <tr>\n",
       "      <th>...</th>\n",
       "      <td>...</td>\n",
       "      <td>...</td>\n",
       "      <td>...</td>\n",
       "      <td>...</td>\n",
       "      <td>...</td>\n",
       "      <td>...</td>\n",
       "      <td>...</td>\n",
       "      <td>...</td>\n",
       "      <td>...</td>\n",
       "      <td>...</td>\n",
       "      <td>...</td>\n",
       "      <td>...</td>\n",
       "      <td>...</td>\n",
       "      <td>...</td>\n",
       "      <td>...</td>\n",
       "      <td>...</td>\n",
       "      <td>...</td>\n",
       "      <td>...</td>\n",
       "      <td>...</td>\n",
       "      <td>...</td>\n",
       "      <td>...</td>\n",
       "    </tr>\n",
       "    <tr>\n",
       "      <th>213416</th>\n",
       "      <td>-1.0</td>\n",
       "      <td>6</td>\n",
       "      <td>6</td>\n",
       "      <td>-1.0</td>\n",
       "      <td>2014</td>\n",
       "      <td>2014</td>\n",
       "      <td>-1.0</td>\n",
       "      <td>30</td>\n",
       "      <td>30</td>\n",
       "      <td>-1.0</td>\n",
       "      <td>...</td>\n",
       "      <td>0</td>\n",
       "      <td>0</td>\n",
       "      <td>0</td>\n",
       "      <td>0</td>\n",
       "      <td>0</td>\n",
       "      <td>0</td>\n",
       "      <td>0</td>\n",
       "      <td>0</td>\n",
       "      <td>0</td>\n",
       "      <td>0</td>\n",
       "    </tr>\n",
       "    <tr>\n",
       "      <th>213417</th>\n",
       "      <td>46.0</td>\n",
       "      <td>6</td>\n",
       "      <td>6</td>\n",
       "      <td>-1.0</td>\n",
       "      <td>2014</td>\n",
       "      <td>2014</td>\n",
       "      <td>-1.0</td>\n",
       "      <td>30</td>\n",
       "      <td>30</td>\n",
       "      <td>-1.0</td>\n",
       "      <td>...</td>\n",
       "      <td>0</td>\n",
       "      <td>0</td>\n",
       "      <td>0</td>\n",
       "      <td>0</td>\n",
       "      <td>0</td>\n",
       "      <td>0</td>\n",
       "      <td>0</td>\n",
       "      <td>0</td>\n",
       "      <td>0</td>\n",
       "      <td>0</td>\n",
       "    </tr>\n",
       "    <tr>\n",
       "      <th>213418</th>\n",
       "      <td>-1.0</td>\n",
       "      <td>6</td>\n",
       "      <td>6</td>\n",
       "      <td>-1.0</td>\n",
       "      <td>2014</td>\n",
       "      <td>2014</td>\n",
       "      <td>-1.0</td>\n",
       "      <td>30</td>\n",
       "      <td>30</td>\n",
       "      <td>-1.0</td>\n",
       "      <td>...</td>\n",
       "      <td>0</td>\n",
       "      <td>0</td>\n",
       "      <td>0</td>\n",
       "      <td>0</td>\n",
       "      <td>0</td>\n",
       "      <td>0</td>\n",
       "      <td>0</td>\n",
       "      <td>0</td>\n",
       "      <td>0</td>\n",
       "      <td>0</td>\n",
       "    </tr>\n",
       "    <tr>\n",
       "      <th>213419</th>\n",
       "      <td>-1.0</td>\n",
       "      <td>6</td>\n",
       "      <td>6</td>\n",
       "      <td>-1.0</td>\n",
       "      <td>2014</td>\n",
       "      <td>2014</td>\n",
       "      <td>-1.0</td>\n",
       "      <td>30</td>\n",
       "      <td>30</td>\n",
       "      <td>-1.0</td>\n",
       "      <td>...</td>\n",
       "      <td>0</td>\n",
       "      <td>0</td>\n",
       "      <td>0</td>\n",
       "      <td>0</td>\n",
       "      <td>0</td>\n",
       "      <td>0</td>\n",
       "      <td>0</td>\n",
       "      <td>0</td>\n",
       "      <td>0</td>\n",
       "      <td>0</td>\n",
       "    </tr>\n",
       "    <tr>\n",
       "      <th>213420</th>\n",
       "      <td>-1.0</td>\n",
       "      <td>6</td>\n",
       "      <td>6</td>\n",
       "      <td>-1.0</td>\n",
       "      <td>2014</td>\n",
       "      <td>2014</td>\n",
       "      <td>-1.0</td>\n",
       "      <td>30</td>\n",
       "      <td>30</td>\n",
       "      <td>-1.0</td>\n",
       "      <td>...</td>\n",
       "      <td>0</td>\n",
       "      <td>0</td>\n",
       "      <td>0</td>\n",
       "      <td>0</td>\n",
       "      <td>0</td>\n",
       "      <td>0</td>\n",
       "      <td>0</td>\n",
       "      <td>0</td>\n",
       "      <td>0</td>\n",
       "      <td>0</td>\n",
       "    </tr>\n",
       "    <tr>\n",
       "      <th>213422</th>\n",
       "      <td>-1.0</td>\n",
       "      <td>6</td>\n",
       "      <td>6</td>\n",
       "      <td>-1.0</td>\n",
       "      <td>2014</td>\n",
       "      <td>2014</td>\n",
       "      <td>-1.0</td>\n",
       "      <td>30</td>\n",
       "      <td>30</td>\n",
       "      <td>-1.0</td>\n",
       "      <td>...</td>\n",
       "      <td>0</td>\n",
       "      <td>0</td>\n",
       "      <td>0</td>\n",
       "      <td>0</td>\n",
       "      <td>0</td>\n",
       "      <td>0</td>\n",
       "      <td>0</td>\n",
       "      <td>0</td>\n",
       "      <td>0</td>\n",
       "      <td>0</td>\n",
       "    </tr>\n",
       "    <tr>\n",
       "      <th>213425</th>\n",
       "      <td>30.0</td>\n",
       "      <td>6</td>\n",
       "      <td>6</td>\n",
       "      <td>-1.0</td>\n",
       "      <td>2014</td>\n",
       "      <td>2014</td>\n",
       "      <td>-1.0</td>\n",
       "      <td>30</td>\n",
       "      <td>30</td>\n",
       "      <td>-1.0</td>\n",
       "      <td>...</td>\n",
       "      <td>0</td>\n",
       "      <td>0</td>\n",
       "      <td>0</td>\n",
       "      <td>0</td>\n",
       "      <td>0</td>\n",
       "      <td>0</td>\n",
       "      <td>0</td>\n",
       "      <td>0</td>\n",
       "      <td>0</td>\n",
       "      <td>0</td>\n",
       "    </tr>\n",
       "    <tr>\n",
       "      <th>213426</th>\n",
       "      <td>-1.0</td>\n",
       "      <td>6</td>\n",
       "      <td>6</td>\n",
       "      <td>-1.0</td>\n",
       "      <td>2014</td>\n",
       "      <td>2014</td>\n",
       "      <td>-1.0</td>\n",
       "      <td>30</td>\n",
       "      <td>30</td>\n",
       "      <td>-1.0</td>\n",
       "      <td>...</td>\n",
       "      <td>0</td>\n",
       "      <td>0</td>\n",
       "      <td>0</td>\n",
       "      <td>0</td>\n",
       "      <td>0</td>\n",
       "      <td>0</td>\n",
       "      <td>0</td>\n",
       "      <td>0</td>\n",
       "      <td>0</td>\n",
       "      <td>0</td>\n",
       "    </tr>\n",
       "    <tr>\n",
       "      <th>213427</th>\n",
       "      <td>-1.0</td>\n",
       "      <td>6</td>\n",
       "      <td>6</td>\n",
       "      <td>-1.0</td>\n",
       "      <td>2014</td>\n",
       "      <td>2014</td>\n",
       "      <td>-1.0</td>\n",
       "      <td>30</td>\n",
       "      <td>30</td>\n",
       "      <td>-1.0</td>\n",
       "      <td>...</td>\n",
       "      <td>0</td>\n",
       "      <td>0</td>\n",
       "      <td>0</td>\n",
       "      <td>0</td>\n",
       "      <td>0</td>\n",
       "      <td>0</td>\n",
       "      <td>0</td>\n",
       "      <td>0</td>\n",
       "      <td>0</td>\n",
       "      <td>0</td>\n",
       "    </tr>\n",
       "    <tr>\n",
       "      <th>213428</th>\n",
       "      <td>-1.0</td>\n",
       "      <td>6</td>\n",
       "      <td>6</td>\n",
       "      <td>-1.0</td>\n",
       "      <td>2014</td>\n",
       "      <td>2014</td>\n",
       "      <td>-1.0</td>\n",
       "      <td>30</td>\n",
       "      <td>30</td>\n",
       "      <td>-1.0</td>\n",
       "      <td>...</td>\n",
       "      <td>0</td>\n",
       "      <td>0</td>\n",
       "      <td>0</td>\n",
       "      <td>0</td>\n",
       "      <td>0</td>\n",
       "      <td>0</td>\n",
       "      <td>0</td>\n",
       "      <td>0</td>\n",
       "      <td>0</td>\n",
       "      <td>0</td>\n",
       "    </tr>\n",
       "    <tr>\n",
       "      <th>213429</th>\n",
       "      <td>-1.0</td>\n",
       "      <td>6</td>\n",
       "      <td>6</td>\n",
       "      <td>-1.0</td>\n",
       "      <td>2014</td>\n",
       "      <td>2014</td>\n",
       "      <td>-1.0</td>\n",
       "      <td>30</td>\n",
       "      <td>30</td>\n",
       "      <td>-1.0</td>\n",
       "      <td>...</td>\n",
       "      <td>0</td>\n",
       "      <td>0</td>\n",
       "      <td>0</td>\n",
       "      <td>0</td>\n",
       "      <td>0</td>\n",
       "      <td>0</td>\n",
       "      <td>0</td>\n",
       "      <td>0</td>\n",
       "      <td>0</td>\n",
       "      <td>0</td>\n",
       "    </tr>\n",
       "    <tr>\n",
       "      <th>213430</th>\n",
       "      <td>19.0</td>\n",
       "      <td>6</td>\n",
       "      <td>6</td>\n",
       "      <td>-1.0</td>\n",
       "      <td>2014</td>\n",
       "      <td>2014</td>\n",
       "      <td>-1.0</td>\n",
       "      <td>30</td>\n",
       "      <td>30</td>\n",
       "      <td>-1.0</td>\n",
       "      <td>...</td>\n",
       "      <td>0</td>\n",
       "      <td>0</td>\n",
       "      <td>0</td>\n",
       "      <td>0</td>\n",
       "      <td>0</td>\n",
       "      <td>0</td>\n",
       "      <td>0</td>\n",
       "      <td>0</td>\n",
       "      <td>0</td>\n",
       "      <td>0</td>\n",
       "    </tr>\n",
       "    <tr>\n",
       "      <th>213431</th>\n",
       "      <td>-1.0</td>\n",
       "      <td>6</td>\n",
       "      <td>6</td>\n",
       "      <td>-1.0</td>\n",
       "      <td>2014</td>\n",
       "      <td>2014</td>\n",
       "      <td>-1.0</td>\n",
       "      <td>30</td>\n",
       "      <td>30</td>\n",
       "      <td>-1.0</td>\n",
       "      <td>...</td>\n",
       "      <td>0</td>\n",
       "      <td>0</td>\n",
       "      <td>0</td>\n",
       "      <td>0</td>\n",
       "      <td>0</td>\n",
       "      <td>0</td>\n",
       "      <td>0</td>\n",
       "      <td>0</td>\n",
       "      <td>0</td>\n",
       "      <td>0</td>\n",
       "    </tr>\n",
       "    <tr>\n",
       "      <th>213432</th>\n",
       "      <td>31.0</td>\n",
       "      <td>6</td>\n",
       "      <td>6</td>\n",
       "      <td>-1.0</td>\n",
       "      <td>2014</td>\n",
       "      <td>2014</td>\n",
       "      <td>-1.0</td>\n",
       "      <td>30</td>\n",
       "      <td>30</td>\n",
       "      <td>-1.0</td>\n",
       "      <td>...</td>\n",
       "      <td>0</td>\n",
       "      <td>0</td>\n",
       "      <td>0</td>\n",
       "      <td>0</td>\n",
       "      <td>0</td>\n",
       "      <td>0</td>\n",
       "      <td>0</td>\n",
       "      <td>0</td>\n",
       "      <td>0</td>\n",
       "      <td>0</td>\n",
       "    </tr>\n",
       "    <tr>\n",
       "      <th>213433</th>\n",
       "      <td>-1.0</td>\n",
       "      <td>6</td>\n",
       "      <td>6</td>\n",
       "      <td>-1.0</td>\n",
       "      <td>2014</td>\n",
       "      <td>2014</td>\n",
       "      <td>-1.0</td>\n",
       "      <td>30</td>\n",
       "      <td>30</td>\n",
       "      <td>-1.0</td>\n",
       "      <td>...</td>\n",
       "      <td>0</td>\n",
       "      <td>0</td>\n",
       "      <td>0</td>\n",
       "      <td>0</td>\n",
       "      <td>0</td>\n",
       "      <td>0</td>\n",
       "      <td>0</td>\n",
       "      <td>0</td>\n",
       "      <td>0</td>\n",
       "      <td>0</td>\n",
       "    </tr>\n",
       "    <tr>\n",
       "      <th>213434</th>\n",
       "      <td>-1.0</td>\n",
       "      <td>6</td>\n",
       "      <td>6</td>\n",
       "      <td>-1.0</td>\n",
       "      <td>2014</td>\n",
       "      <td>2014</td>\n",
       "      <td>-1.0</td>\n",
       "      <td>30</td>\n",
       "      <td>30</td>\n",
       "      <td>-1.0</td>\n",
       "      <td>...</td>\n",
       "      <td>0</td>\n",
       "      <td>0</td>\n",
       "      <td>0</td>\n",
       "      <td>0</td>\n",
       "      <td>0</td>\n",
       "      <td>0</td>\n",
       "      <td>0</td>\n",
       "      <td>0</td>\n",
       "      <td>0</td>\n",
       "      <td>0</td>\n",
       "    </tr>\n",
       "    <tr>\n",
       "      <th>213435</th>\n",
       "      <td>-1.0</td>\n",
       "      <td>6</td>\n",
       "      <td>6</td>\n",
       "      <td>-1.0</td>\n",
       "      <td>2014</td>\n",
       "      <td>2014</td>\n",
       "      <td>-1.0</td>\n",
       "      <td>30</td>\n",
       "      <td>30</td>\n",
       "      <td>-1.0</td>\n",
       "      <td>...</td>\n",
       "      <td>0</td>\n",
       "      <td>0</td>\n",
       "      <td>0</td>\n",
       "      <td>0</td>\n",
       "      <td>0</td>\n",
       "      <td>0</td>\n",
       "      <td>0</td>\n",
       "      <td>0</td>\n",
       "      <td>0</td>\n",
       "      <td>0</td>\n",
       "    </tr>\n",
       "    <tr>\n",
       "      <th>213436</th>\n",
       "      <td>-1.0</td>\n",
       "      <td>6</td>\n",
       "      <td>6</td>\n",
       "      <td>-1.0</td>\n",
       "      <td>2014</td>\n",
       "      <td>2014</td>\n",
       "      <td>-1.0</td>\n",
       "      <td>30</td>\n",
       "      <td>30</td>\n",
       "      <td>-1.0</td>\n",
       "      <td>...</td>\n",
       "      <td>0</td>\n",
       "      <td>0</td>\n",
       "      <td>0</td>\n",
       "      <td>0</td>\n",
       "      <td>0</td>\n",
       "      <td>0</td>\n",
       "      <td>0</td>\n",
       "      <td>0</td>\n",
       "      <td>0</td>\n",
       "      <td>0</td>\n",
       "    </tr>\n",
       "    <tr>\n",
       "      <th>213437</th>\n",
       "      <td>-1.0</td>\n",
       "      <td>6</td>\n",
       "      <td>6</td>\n",
       "      <td>-1.0</td>\n",
       "      <td>2014</td>\n",
       "      <td>2014</td>\n",
       "      <td>-1.0</td>\n",
       "      <td>30</td>\n",
       "      <td>30</td>\n",
       "      <td>-1.0</td>\n",
       "      <td>...</td>\n",
       "      <td>0</td>\n",
       "      <td>0</td>\n",
       "      <td>0</td>\n",
       "      <td>0</td>\n",
       "      <td>0</td>\n",
       "      <td>0</td>\n",
       "      <td>0</td>\n",
       "      <td>0</td>\n",
       "      <td>0</td>\n",
       "      <td>0</td>\n",
       "    </tr>\n",
       "    <tr>\n",
       "      <th>213438</th>\n",
       "      <td>-1.0</td>\n",
       "      <td>6</td>\n",
       "      <td>6</td>\n",
       "      <td>-1.0</td>\n",
       "      <td>2014</td>\n",
       "      <td>2014</td>\n",
       "      <td>-1.0</td>\n",
       "      <td>30</td>\n",
       "      <td>30</td>\n",
       "      <td>-1.0</td>\n",
       "      <td>...</td>\n",
       "      <td>0</td>\n",
       "      <td>0</td>\n",
       "      <td>0</td>\n",
       "      <td>0</td>\n",
       "      <td>0</td>\n",
       "      <td>0</td>\n",
       "      <td>0</td>\n",
       "      <td>0</td>\n",
       "      <td>0</td>\n",
       "      <td>0</td>\n",
       "    </tr>\n",
       "    <tr>\n",
       "      <th>213440</th>\n",
       "      <td>24.0</td>\n",
       "      <td>6</td>\n",
       "      <td>6</td>\n",
       "      <td>-1.0</td>\n",
       "      <td>2014</td>\n",
       "      <td>2014</td>\n",
       "      <td>-1.0</td>\n",
       "      <td>30</td>\n",
       "      <td>30</td>\n",
       "      <td>-1.0</td>\n",
       "      <td>...</td>\n",
       "      <td>0</td>\n",
       "      <td>0</td>\n",
       "      <td>0</td>\n",
       "      <td>0</td>\n",
       "      <td>0</td>\n",
       "      <td>0</td>\n",
       "      <td>0</td>\n",
       "      <td>0</td>\n",
       "      <td>0</td>\n",
       "      <td>0</td>\n",
       "    </tr>\n",
       "    <tr>\n",
       "      <th>213441</th>\n",
       "      <td>34.0</td>\n",
       "      <td>6</td>\n",
       "      <td>6</td>\n",
       "      <td>8.0</td>\n",
       "      <td>2014</td>\n",
       "      <td>2014</td>\n",
       "      <td>2014.0</td>\n",
       "      <td>30</td>\n",
       "      <td>30</td>\n",
       "      <td>13.0</td>\n",
       "      <td>...</td>\n",
       "      <td>0</td>\n",
       "      <td>0</td>\n",
       "      <td>0</td>\n",
       "      <td>0</td>\n",
       "      <td>0</td>\n",
       "      <td>0</td>\n",
       "      <td>0</td>\n",
       "      <td>0</td>\n",
       "      <td>0</td>\n",
       "      <td>0</td>\n",
       "    </tr>\n",
       "    <tr>\n",
       "      <th>213442</th>\n",
       "      <td>-1.0</td>\n",
       "      <td>6</td>\n",
       "      <td>6</td>\n",
       "      <td>-1.0</td>\n",
       "      <td>2014</td>\n",
       "      <td>2014</td>\n",
       "      <td>-1.0</td>\n",
       "      <td>30</td>\n",
       "      <td>30</td>\n",
       "      <td>-1.0</td>\n",
       "      <td>...</td>\n",
       "      <td>0</td>\n",
       "      <td>0</td>\n",
       "      <td>0</td>\n",
       "      <td>0</td>\n",
       "      <td>0</td>\n",
       "      <td>0</td>\n",
       "      <td>0</td>\n",
       "      <td>0</td>\n",
       "      <td>0</td>\n",
       "      <td>0</td>\n",
       "    </tr>\n",
       "    <tr>\n",
       "      <th>213443</th>\n",
       "      <td>36.0</td>\n",
       "      <td>6</td>\n",
       "      <td>6</td>\n",
       "      <td>7.0</td>\n",
       "      <td>2014</td>\n",
       "      <td>2014</td>\n",
       "      <td>2014.0</td>\n",
       "      <td>30</td>\n",
       "      <td>30</td>\n",
       "      <td>13.0</td>\n",
       "      <td>...</td>\n",
       "      <td>0</td>\n",
       "      <td>0</td>\n",
       "      <td>0</td>\n",
       "      <td>0</td>\n",
       "      <td>0</td>\n",
       "      <td>0</td>\n",
       "      <td>0</td>\n",
       "      <td>0</td>\n",
       "      <td>0</td>\n",
       "      <td>0</td>\n",
       "    </tr>\n",
       "    <tr>\n",
       "      <th>213444</th>\n",
       "      <td>-1.0</td>\n",
       "      <td>6</td>\n",
       "      <td>6</td>\n",
       "      <td>-1.0</td>\n",
       "      <td>2014</td>\n",
       "      <td>2014</td>\n",
       "      <td>-1.0</td>\n",
       "      <td>30</td>\n",
       "      <td>30</td>\n",
       "      <td>-1.0</td>\n",
       "      <td>...</td>\n",
       "      <td>0</td>\n",
       "      <td>0</td>\n",
       "      <td>0</td>\n",
       "      <td>0</td>\n",
       "      <td>0</td>\n",
       "      <td>0</td>\n",
       "      <td>0</td>\n",
       "      <td>0</td>\n",
       "      <td>0</td>\n",
       "      <td>0</td>\n",
       "    </tr>\n",
       "    <tr>\n",
       "      <th>213445</th>\n",
       "      <td>23.0</td>\n",
       "      <td>6</td>\n",
       "      <td>6</td>\n",
       "      <td>7.0</td>\n",
       "      <td>2014</td>\n",
       "      <td>2014</td>\n",
       "      <td>2014.0</td>\n",
       "      <td>30</td>\n",
       "      <td>30</td>\n",
       "      <td>2.0</td>\n",
       "      <td>...</td>\n",
       "      <td>0</td>\n",
       "      <td>0</td>\n",
       "      <td>0</td>\n",
       "      <td>0</td>\n",
       "      <td>0</td>\n",
       "      <td>0</td>\n",
       "      <td>0</td>\n",
       "      <td>0</td>\n",
       "      <td>0</td>\n",
       "      <td>0</td>\n",
       "    </tr>\n",
       "    <tr>\n",
       "      <th>213447</th>\n",
       "      <td>-1.0</td>\n",
       "      <td>6</td>\n",
       "      <td>6</td>\n",
       "      <td>-1.0</td>\n",
       "      <td>2014</td>\n",
       "      <td>2014</td>\n",
       "      <td>-1.0</td>\n",
       "      <td>30</td>\n",
       "      <td>30</td>\n",
       "      <td>-1.0</td>\n",
       "      <td>...</td>\n",
       "      <td>0</td>\n",
       "      <td>0</td>\n",
       "      <td>0</td>\n",
       "      <td>0</td>\n",
       "      <td>0</td>\n",
       "      <td>0</td>\n",
       "      <td>0</td>\n",
       "      <td>0</td>\n",
       "      <td>0</td>\n",
       "      <td>0</td>\n",
       "    </tr>\n",
       "    <tr>\n",
       "      <th>213448</th>\n",
       "      <td>32.0</td>\n",
       "      <td>6</td>\n",
       "      <td>6</td>\n",
       "      <td>-1.0</td>\n",
       "      <td>2014</td>\n",
       "      <td>2014</td>\n",
       "      <td>-1.0</td>\n",
       "      <td>30</td>\n",
       "      <td>30</td>\n",
       "      <td>-1.0</td>\n",
       "      <td>...</td>\n",
       "      <td>0</td>\n",
       "      <td>0</td>\n",
       "      <td>0</td>\n",
       "      <td>0</td>\n",
       "      <td>0</td>\n",
       "      <td>0</td>\n",
       "      <td>0</td>\n",
       "      <td>0</td>\n",
       "      <td>0</td>\n",
       "      <td>0</td>\n",
       "    </tr>\n",
       "    <tr>\n",
       "      <th>213449</th>\n",
       "      <td>-1.0</td>\n",
       "      <td>6</td>\n",
       "      <td>6</td>\n",
       "      <td>-1.0</td>\n",
       "      <td>2014</td>\n",
       "      <td>2014</td>\n",
       "      <td>-1.0</td>\n",
       "      <td>30</td>\n",
       "      <td>30</td>\n",
       "      <td>-1.0</td>\n",
       "      <td>...</td>\n",
       "      <td>0</td>\n",
       "      <td>0</td>\n",
       "      <td>0</td>\n",
       "      <td>0</td>\n",
       "      <td>0</td>\n",
       "      <td>0</td>\n",
       "      <td>0</td>\n",
       "      <td>0</td>\n",
       "      <td>0</td>\n",
       "      <td>0</td>\n",
       "    </tr>\n",
       "    <tr>\n",
       "      <th>213450</th>\n",
       "      <td>-1.0</td>\n",
       "      <td>6</td>\n",
       "      <td>6</td>\n",
       "      <td>-1.0</td>\n",
       "      <td>2014</td>\n",
       "      <td>2014</td>\n",
       "      <td>-1.0</td>\n",
       "      <td>30</td>\n",
       "      <td>30</td>\n",
       "      <td>-1.0</td>\n",
       "      <td>...</td>\n",
       "      <td>0</td>\n",
       "      <td>0</td>\n",
       "      <td>0</td>\n",
       "      <td>0</td>\n",
       "      <td>0</td>\n",
       "      <td>0</td>\n",
       "      <td>0</td>\n",
       "      <td>0</td>\n",
       "      <td>0</td>\n",
       "      <td>0</td>\n",
       "    </tr>\n",
       "  </tbody>\n",
       "</table>\n",
       "<p>170760 rows × 166 columns</p>\n",
       "</div>"
      ],
      "text/plain": [
       "         age  date_accnt_created_month  timestamp_first_active_month  \\\n",
       "0       -1.0                         6                             3   \n",
       "1       38.0                         5                             5   \n",
       "2       56.0                         9                             6   \n",
       "3       42.0                        12                            10   \n",
       "4       41.0                         9                            12   \n",
       "5       -1.0                         1                             1   \n",
       "6       46.0                         1                             1   \n",
       "7       47.0                         1                             1   \n",
       "8       50.0                         1                             1   \n",
       "9       46.0                         1                             1   \n",
       "10      36.0                         1                             1   \n",
       "11      47.0                         1                             1   \n",
       "12      -1.0                         1                             1   \n",
       "13      37.0                         1                             1   \n",
       "14      36.0                         1                             1   \n",
       "15      33.0                         1                             1   \n",
       "16      -1.0                         1                             1   \n",
       "19      29.0                         1                             1   \n",
       "22      40.0                         1                             1   \n",
       "23      -1.0                         1                             1   \n",
       "24      40.0                         1                             1   \n",
       "26      -1.0                         1                             1   \n",
       "27      32.0                         1                             1   \n",
       "28      35.0                         1                             1   \n",
       "29      37.0                         1                             1   \n",
       "33      29.0                         1                             1   \n",
       "34      59.0                         1                             1   \n",
       "36      31.0                         1                             1   \n",
       "37      30.0                         1                             1   \n",
       "38      -1.0                         1                             1   \n",
       "...      ...                       ...                           ...   \n",
       "213416  -1.0                         6                             6   \n",
       "213417  46.0                         6                             6   \n",
       "213418  -1.0                         6                             6   \n",
       "213419  -1.0                         6                             6   \n",
       "213420  -1.0                         6                             6   \n",
       "213422  -1.0                         6                             6   \n",
       "213425  30.0                         6                             6   \n",
       "213426  -1.0                         6                             6   \n",
       "213427  -1.0                         6                             6   \n",
       "213428  -1.0                         6                             6   \n",
       "213429  -1.0                         6                             6   \n",
       "213430  19.0                         6                             6   \n",
       "213431  -1.0                         6                             6   \n",
       "213432  31.0                         6                             6   \n",
       "213433  -1.0                         6                             6   \n",
       "213434  -1.0                         6                             6   \n",
       "213435  -1.0                         6                             6   \n",
       "213436  -1.0                         6                             6   \n",
       "213437  -1.0                         6                             6   \n",
       "213438  -1.0                         6                             6   \n",
       "213440  24.0                         6                             6   \n",
       "213441  34.0                         6                             6   \n",
       "213442  -1.0                         6                             6   \n",
       "213443  36.0                         6                             6   \n",
       "213444  -1.0                         6                             6   \n",
       "213445  23.0                         6                             6   \n",
       "213447  -1.0                         6                             6   \n",
       "213448  32.0                         6                             6   \n",
       "213449  -1.0                         6                             6   \n",
       "213450  -1.0                         6                             6   \n",
       "\n",
       "        date_first_booking_month  date_accnt_created_year  \\\n",
       "0                           -1.0                     2010   \n",
       "1                           -1.0                     2011   \n",
       "2                            8.0                     2010   \n",
       "3                            9.0                     2011   \n",
       "4                            2.0                     2010   \n",
       "5                            1.0                     2010   \n",
       "6                            1.0                     2010   \n",
       "7                            1.0                     2010   \n",
       "8                            7.0                     2010   \n",
       "9                            1.0                     2010   \n",
       "10                           1.0                     2010   \n",
       "11                          -1.0                     2010   \n",
       "12                           1.0                     2010   \n",
       "13                          -1.0                     2010   \n",
       "14                          -1.0                     2010   \n",
       "15                           1.0                     2010   \n",
       "16                          -1.0                     2010   \n",
       "19                           1.0                     2010   \n",
       "22                           1.0                     2010   \n",
       "23                          -1.0                     2010   \n",
       "24                          -1.0                     2010   \n",
       "26                          -1.0                     2010   \n",
       "27                           1.0                     2010   \n",
       "28                           1.0                     2010   \n",
       "29                           1.0                     2010   \n",
       "33                          -1.0                     2010   \n",
       "34                          -1.0                     2010   \n",
       "36                           1.0                     2010   \n",
       "37                          -1.0                     2010   \n",
       "38                          -1.0                     2010   \n",
       "...                          ...                      ...   \n",
       "213416                      -1.0                     2014   \n",
       "213417                      -1.0                     2014   \n",
       "213418                      -1.0                     2014   \n",
       "213419                      -1.0                     2014   \n",
       "213420                      -1.0                     2014   \n",
       "213422                      -1.0                     2014   \n",
       "213425                      -1.0                     2014   \n",
       "213426                      -1.0                     2014   \n",
       "213427                      -1.0                     2014   \n",
       "213428                      -1.0                     2014   \n",
       "213429                      -1.0                     2014   \n",
       "213430                      -1.0                     2014   \n",
       "213431                      -1.0                     2014   \n",
       "213432                      -1.0                     2014   \n",
       "213433                      -1.0                     2014   \n",
       "213434                      -1.0                     2014   \n",
       "213435                      -1.0                     2014   \n",
       "213436                      -1.0                     2014   \n",
       "213437                      -1.0                     2014   \n",
       "213438                      -1.0                     2014   \n",
       "213440                      -1.0                     2014   \n",
       "213441                       8.0                     2014   \n",
       "213442                      -1.0                     2014   \n",
       "213443                       7.0                     2014   \n",
       "213444                      -1.0                     2014   \n",
       "213445                       7.0                     2014   \n",
       "213447                      -1.0                     2014   \n",
       "213448                      -1.0                     2014   \n",
       "213449                      -1.0                     2014   \n",
       "213450                      -1.0                     2014   \n",
       "\n",
       "        timestamp_first_active_year  date_first_booking_year  \\\n",
       "0                              2009                     -1.0   \n",
       "1                              2009                     -1.0   \n",
       "2                              2009                   2010.0   \n",
       "3                              2009                   2012.0   \n",
       "4                              2009                   2010.0   \n",
       "5                              2010                   2010.0   \n",
       "6                              2010                   2010.0   \n",
       "7                              2010                   2010.0   \n",
       "8                              2010                   2010.0   \n",
       "9                              2010                   2010.0   \n",
       "10                             2010                   2010.0   \n",
       "11                             2010                     -1.0   \n",
       "12                             2010                   2010.0   \n",
       "13                             2010                     -1.0   \n",
       "14                             2010                     -1.0   \n",
       "15                             2010                   2010.0   \n",
       "16                             2010                     -1.0   \n",
       "19                             2010                   2010.0   \n",
       "22                             2010                   2010.0   \n",
       "23                             2010                     -1.0   \n",
       "24                             2010                     -1.0   \n",
       "26                             2010                     -1.0   \n",
       "27                             2010                   2010.0   \n",
       "28                             2010                   2010.0   \n",
       "29                             2010                   2010.0   \n",
       "33                             2010                     -1.0   \n",
       "34                             2010                     -1.0   \n",
       "36                             2010                   2010.0   \n",
       "37                             2010                     -1.0   \n",
       "38                             2010                     -1.0   \n",
       "...                             ...                      ...   \n",
       "213416                         2014                     -1.0   \n",
       "213417                         2014                     -1.0   \n",
       "213418                         2014                     -1.0   \n",
       "213419                         2014                     -1.0   \n",
       "213420                         2014                     -1.0   \n",
       "213422                         2014                     -1.0   \n",
       "213425                         2014                     -1.0   \n",
       "213426                         2014                     -1.0   \n",
       "213427                         2014                     -1.0   \n",
       "213428                         2014                     -1.0   \n",
       "213429                         2014                     -1.0   \n",
       "213430                         2014                     -1.0   \n",
       "213431                         2014                     -1.0   \n",
       "213432                         2014                     -1.0   \n",
       "213433                         2014                     -1.0   \n",
       "213434                         2014                     -1.0   \n",
       "213435                         2014                     -1.0   \n",
       "213436                         2014                     -1.0   \n",
       "213437                         2014                     -1.0   \n",
       "213438                         2014                     -1.0   \n",
       "213440                         2014                     -1.0   \n",
       "213441                         2014                   2014.0   \n",
       "213442                         2014                     -1.0   \n",
       "213443                         2014                   2014.0   \n",
       "213444                         2014                     -1.0   \n",
       "213445                         2014                   2014.0   \n",
       "213447                         2014                     -1.0   \n",
       "213448                         2014                     -1.0   \n",
       "213449                         2014                     -1.0   \n",
       "213450                         2014                     -1.0   \n",
       "\n",
       "        date_accnt_created_day  timestamp_first_active_day  \\\n",
       "0                           28                          19   \n",
       "1                           25                          23   \n",
       "2                           28                           9   \n",
       "3                            5                          31   \n",
       "4                           14                           8   \n",
       "5                            1                           1   \n",
       "6                            2                           2   \n",
       "7                            3                           3   \n",
       "8                            4                           4   \n",
       "9                            4                           4   \n",
       "10                           4                           4   \n",
       "11                           5                           5   \n",
       "12                           5                           5   \n",
       "13                           5                           5   \n",
       "14                           7                           7   \n",
       "15                           7                           7   \n",
       "16                           7                           7   \n",
       "19                          10                          10   \n",
       "22                          11                          11   \n",
       "23                          11                          11   \n",
       "24                          11                          11   \n",
       "26                          12                          12   \n",
       "27                          12                          12   \n",
       "28                          13                          13   \n",
       "29                          13                          13   \n",
       "33                          14                          14   \n",
       "34                          15                          15   \n",
       "36                          15                          15   \n",
       "37                          15                          15   \n",
       "38                          15                          15   \n",
       "...                        ...                         ...   \n",
       "213416                      30                          30   \n",
       "213417                      30                          30   \n",
       "213418                      30                          30   \n",
       "213419                      30                          30   \n",
       "213420                      30                          30   \n",
       "213422                      30                          30   \n",
       "213425                      30                          30   \n",
       "213426                      30                          30   \n",
       "213427                      30                          30   \n",
       "213428                      30                          30   \n",
       "213429                      30                          30   \n",
       "213430                      30                          30   \n",
       "213431                      30                          30   \n",
       "213432                      30                          30   \n",
       "213433                      30                          30   \n",
       "213434                      30                          30   \n",
       "213435                      30                          30   \n",
       "213436                      30                          30   \n",
       "213437                      30                          30   \n",
       "213438                      30                          30   \n",
       "213440                      30                          30   \n",
       "213441                      30                          30   \n",
       "213442                      30                          30   \n",
       "213443                      30                          30   \n",
       "213444                      30                          30   \n",
       "213445                      30                          30   \n",
       "213447                      30                          30   \n",
       "213448                      30                          30   \n",
       "213449                      30                          30   \n",
       "213450                      30                          30   \n",
       "\n",
       "        date_first_booking_day            ...             first_browser_Silk  \\\n",
       "0                         -1.0            ...                              0   \n",
       "1                         -1.0            ...                              0   \n",
       "2                          2.0            ...                              0   \n",
       "3                          8.0            ...                              0   \n",
       "4                         18.0            ...                              0   \n",
       "5                          2.0            ...                              0   \n",
       "6                          5.0            ...                              0   \n",
       "7                         13.0            ...                              0   \n",
       "8                         29.0            ...                              0   \n",
       "9                          4.0            ...                              0   \n",
       "10                         6.0            ...                              0   \n",
       "11                        -1.0            ...                              0   \n",
       "12                        18.0            ...                              0   \n",
       "13                        -1.0            ...                              0   \n",
       "14                        -1.0            ...                              0   \n",
       "15                         8.0            ...                              0   \n",
       "16                        -1.0            ...                              0   \n",
       "19                        10.0            ...                              0   \n",
       "22                        11.0            ...                              0   \n",
       "23                        -1.0            ...                              0   \n",
       "24                        -1.0            ...                              0   \n",
       "26                        -1.0            ...                              0   \n",
       "27                        22.0            ...                              0   \n",
       "28                        13.0            ...                              0   \n",
       "29                        19.0            ...                              0   \n",
       "33                        -1.0            ...                              0   \n",
       "34                        -1.0            ...                              0   \n",
       "36                        15.0            ...                              0   \n",
       "37                        -1.0            ...                              0   \n",
       "38                        -1.0            ...                              0   \n",
       "...                        ...            ...                            ...   \n",
       "213416                    -1.0            ...                              0   \n",
       "213417                    -1.0            ...                              0   \n",
       "213418                    -1.0            ...                              0   \n",
       "213419                    -1.0            ...                              0   \n",
       "213420                    -1.0            ...                              0   \n",
       "213422                    -1.0            ...                              0   \n",
       "213425                    -1.0            ...                              0   \n",
       "213426                    -1.0            ...                              0   \n",
       "213427                    -1.0            ...                              0   \n",
       "213428                    -1.0            ...                              0   \n",
       "213429                    -1.0            ...                              0   \n",
       "213430                    -1.0            ...                              0   \n",
       "213431                    -1.0            ...                              0   \n",
       "213432                    -1.0            ...                              0   \n",
       "213433                    -1.0            ...                              0   \n",
       "213434                    -1.0            ...                              0   \n",
       "213435                    -1.0            ...                              0   \n",
       "213436                    -1.0            ...                              0   \n",
       "213437                    -1.0            ...                              0   \n",
       "213438                    -1.0            ...                              0   \n",
       "213440                    -1.0            ...                              0   \n",
       "213441                    13.0            ...                              0   \n",
       "213442                    -1.0            ...                              0   \n",
       "213443                    13.0            ...                              0   \n",
       "213444                    -1.0            ...                              0   \n",
       "213445                     2.0            ...                              0   \n",
       "213447                    -1.0            ...                              0   \n",
       "213448                    -1.0            ...                              0   \n",
       "213449                    -1.0            ...                              0   \n",
       "213450                    -1.0            ...                              0   \n",
       "\n",
       "        first_browser_SiteKiosk  first_browser_SlimBrowser  \\\n",
       "0                             0                          0   \n",
       "1                             0                          0   \n",
       "2                             0                          0   \n",
       "3                             0                          0   \n",
       "4                             0                          0   \n",
       "5                             0                          0   \n",
       "6                             0                          0   \n",
       "7                             0                          0   \n",
       "8                             0                          0   \n",
       "9                             0                          0   \n",
       "10                            0                          0   \n",
       "11                            0                          0   \n",
       "12                            0                          0   \n",
       "13                            0                          0   \n",
       "14                            0                          0   \n",
       "15                            0                          0   \n",
       "16                            0                          0   \n",
       "19                            0                          0   \n",
       "22                            0                          0   \n",
       "23                            0                          0   \n",
       "24                            0                          0   \n",
       "26                            0                          0   \n",
       "27                            0                          0   \n",
       "28                            0                          0   \n",
       "29                            0                          0   \n",
       "33                            0                          0   \n",
       "34                            0                          0   \n",
       "36                            0                          0   \n",
       "37                            0                          0   \n",
       "38                            0                          0   \n",
       "...                         ...                        ...   \n",
       "213416                        0                          0   \n",
       "213417                        0                          0   \n",
       "213418                        0                          0   \n",
       "213419                        0                          0   \n",
       "213420                        0                          0   \n",
       "213422                        0                          0   \n",
       "213425                        0                          0   \n",
       "213426                        0                          0   \n",
       "213427                        0                          0   \n",
       "213428                        0                          0   \n",
       "213429                        0                          0   \n",
       "213430                        0                          0   \n",
       "213431                        0                          0   \n",
       "213432                        0                          0   \n",
       "213433                        0                          0   \n",
       "213434                        0                          0   \n",
       "213435                        0                          0   \n",
       "213436                        0                          0   \n",
       "213437                        0                          0   \n",
       "213438                        0                          0   \n",
       "213440                        0                          0   \n",
       "213441                        0                          0   \n",
       "213442                        0                          0   \n",
       "213443                        0                          0   \n",
       "213444                        0                          0   \n",
       "213445                        0                          0   \n",
       "213447                        0                          0   \n",
       "213448                        0                          0   \n",
       "213449                        0                          0   \n",
       "213450                        0                          0   \n",
       "\n",
       "        first_browser_Sogou Explorer  first_browser_Stainless  \\\n",
       "0                                  0                        0   \n",
       "1                                  0                        0   \n",
       "2                                  0                        0   \n",
       "3                                  0                        0   \n",
       "4                                  0                        0   \n",
       "5                                  0                        0   \n",
       "6                                  0                        0   \n",
       "7                                  0                        0   \n",
       "8                                  0                        0   \n",
       "9                                  0                        0   \n",
       "10                                 0                        0   \n",
       "11                                 0                        0   \n",
       "12                                 0                        0   \n",
       "13                                 0                        0   \n",
       "14                                 0                        0   \n",
       "15                                 0                        0   \n",
       "16                                 0                        0   \n",
       "19                                 0                        0   \n",
       "22                                 0                        0   \n",
       "23                                 0                        0   \n",
       "24                                 0                        0   \n",
       "26                                 0                        0   \n",
       "27                                 0                        0   \n",
       "28                                 0                        0   \n",
       "29                                 0                        0   \n",
       "33                                 0                        0   \n",
       "34                                 0                        0   \n",
       "36                                 0                        0   \n",
       "37                                 0                        0   \n",
       "38                                 0                        0   \n",
       "...                              ...                      ...   \n",
       "213416                             0                        0   \n",
       "213417                             0                        0   \n",
       "213418                             0                        0   \n",
       "213419                             0                        0   \n",
       "213420                             0                        0   \n",
       "213422                             0                        0   \n",
       "213425                             0                        0   \n",
       "213426                             0                        0   \n",
       "213427                             0                        0   \n",
       "213428                             0                        0   \n",
       "213429                             0                        0   \n",
       "213430                             0                        0   \n",
       "213431                             0                        0   \n",
       "213432                             0                        0   \n",
       "213433                             0                        0   \n",
       "213434                             0                        0   \n",
       "213435                             0                        0   \n",
       "213436                             0                        0   \n",
       "213437                             0                        0   \n",
       "213438                             0                        0   \n",
       "213440                             0                        0   \n",
       "213441                             0                        0   \n",
       "213442                             0                        0   \n",
       "213443                             0                        0   \n",
       "213444                             0                        0   \n",
       "213445                             0                        0   \n",
       "213447                             0                        0   \n",
       "213448                             0                        0   \n",
       "213449                             0                        0   \n",
       "213450                             0                        0   \n",
       "\n",
       "        first_browser_TenFourFox  first_browser_TheWorld Browser  \\\n",
       "0                              0                               0   \n",
       "1                              0                               0   \n",
       "2                              0                               0   \n",
       "3                              0                               0   \n",
       "4                              0                               0   \n",
       "5                              0                               0   \n",
       "6                              0                               0   \n",
       "7                              0                               0   \n",
       "8                              0                               0   \n",
       "9                              0                               0   \n",
       "10                             0                               0   \n",
       "11                             0                               0   \n",
       "12                             0                               0   \n",
       "13                             0                               0   \n",
       "14                             0                               0   \n",
       "15                             0                               0   \n",
       "16                             0                               0   \n",
       "19                             0                               0   \n",
       "22                             0                               0   \n",
       "23                             0                               0   \n",
       "24                             0                               0   \n",
       "26                             0                               0   \n",
       "27                             0                               0   \n",
       "28                             0                               0   \n",
       "29                             0                               0   \n",
       "33                             0                               0   \n",
       "34                             0                               0   \n",
       "36                             0                               0   \n",
       "37                             0                               0   \n",
       "38                             0                               0   \n",
       "...                          ...                             ...   \n",
       "213416                         0                               0   \n",
       "213417                         0                               0   \n",
       "213418                         0                               0   \n",
       "213419                         0                               0   \n",
       "213420                         0                               0   \n",
       "213422                         0                               0   \n",
       "213425                         0                               0   \n",
       "213426                         0                               0   \n",
       "213427                         0                               0   \n",
       "213428                         0                               0   \n",
       "213429                         0                               0   \n",
       "213430                         0                               0   \n",
       "213431                         0                               0   \n",
       "213432                         0                               0   \n",
       "213433                         0                               0   \n",
       "213434                         0                               0   \n",
       "213435                         0                               0   \n",
       "213436                         0                               0   \n",
       "213437                         0                               0   \n",
       "213438                         0                               0   \n",
       "213440                         0                               0   \n",
       "213441                         0                               0   \n",
       "213442                         0                               0   \n",
       "213443                         0                               0   \n",
       "213444                         0                               0   \n",
       "213445                         0                               0   \n",
       "213447                         0                               0   \n",
       "213448                         0                               0   \n",
       "213449                         0                               0   \n",
       "213450                         0                               0   \n",
       "\n",
       "        first_browser_UC Browser  first_browser_Yandex.Browser  \\\n",
       "0                              0                             0   \n",
       "1                              0                             0   \n",
       "2                              0                             0   \n",
       "3                              0                             0   \n",
       "4                              0                             0   \n",
       "5                              0                             0   \n",
       "6                              0                             0   \n",
       "7                              0                             0   \n",
       "8                              0                             0   \n",
       "9                              0                             0   \n",
       "10                             0                             0   \n",
       "11                             0                             0   \n",
       "12                             0                             0   \n",
       "13                             0                             0   \n",
       "14                             0                             0   \n",
       "15                             0                             0   \n",
       "16                             0                             0   \n",
       "19                             0                             0   \n",
       "22                             0                             0   \n",
       "23                             0                             0   \n",
       "24                             0                             0   \n",
       "26                             0                             0   \n",
       "27                             0                             0   \n",
       "28                             0                             0   \n",
       "29                             0                             0   \n",
       "33                             0                             0   \n",
       "34                             0                             0   \n",
       "36                             0                             0   \n",
       "37                             0                             0   \n",
       "38                             0                             0   \n",
       "...                          ...                           ...   \n",
       "213416                         0                             0   \n",
       "213417                         0                             0   \n",
       "213418                         0                             0   \n",
       "213419                         0                             0   \n",
       "213420                         0                             0   \n",
       "213422                         0                             0   \n",
       "213425                         0                             0   \n",
       "213426                         0                             0   \n",
       "213427                         0                             0   \n",
       "213428                         0                             0   \n",
       "213429                         0                             0   \n",
       "213430                         0                             0   \n",
       "213431                         0                             0   \n",
       "213432                         0                             0   \n",
       "213433                         0                             0   \n",
       "213434                         0                             0   \n",
       "213435                         0                             0   \n",
       "213436                         0                             0   \n",
       "213437                         0                             0   \n",
       "213438                         0                             0   \n",
       "213440                         0                             0   \n",
       "213441                         0                             0   \n",
       "213442                         0                             0   \n",
       "213443                         0                             0   \n",
       "213444                         0                             0   \n",
       "213445                         0                             0   \n",
       "213447                         0                             0   \n",
       "213448                         0                             0   \n",
       "213449                         0                             0   \n",
       "213450                         0                             0   \n",
       "\n",
       "        first_browser_wOSBrowser  \n",
       "0                              0  \n",
       "1                              0  \n",
       "2                              0  \n",
       "3                              0  \n",
       "4                              0  \n",
       "5                              0  \n",
       "6                              0  \n",
       "7                              0  \n",
       "8                              0  \n",
       "9                              0  \n",
       "10                             0  \n",
       "11                             0  \n",
       "12                             0  \n",
       "13                             0  \n",
       "14                             0  \n",
       "15                             0  \n",
       "16                             0  \n",
       "19                             0  \n",
       "22                             0  \n",
       "23                             0  \n",
       "24                             0  \n",
       "26                             0  \n",
       "27                             0  \n",
       "28                             0  \n",
       "29                             0  \n",
       "33                             0  \n",
       "34                             0  \n",
       "36                             0  \n",
       "37                             0  \n",
       "38                             0  \n",
       "...                          ...  \n",
       "213416                         0  \n",
       "213417                         0  \n",
       "213418                         0  \n",
       "213419                         0  \n",
       "213420                         0  \n",
       "213422                         0  \n",
       "213425                         0  \n",
       "213426                         0  \n",
       "213427                         0  \n",
       "213428                         0  \n",
       "213429                         0  \n",
       "213430                         0  \n",
       "213431                         0  \n",
       "213432                         0  \n",
       "213433                         0  \n",
       "213434                         0  \n",
       "213435                         0  \n",
       "213436                         0  \n",
       "213437                         0  \n",
       "213438                         0  \n",
       "213440                         0  \n",
       "213441                         0  \n",
       "213442                         0  \n",
       "213443                         0  \n",
       "213444                         0  \n",
       "213445                         0  \n",
       "213447                         0  \n",
       "213448                         0  \n",
       "213449                         0  \n",
       "213450                         0  \n",
       "\n",
       "[170760 rows x 166 columns]"
      ]
     },
     "execution_count": 286,
     "metadata": {},
     "output_type": "execute_result"
    }
   ],
   "source": [
    "x_train_wo_sess.loc[dev_index]"
   ]
  },
  {
   "cell_type": "code",
   "execution_count": 313,
   "metadata": {
    "collapsed": true
   },
   "outputs": [],
   "source": [
    "xgb1 = XGBClassifier(max_depth=6, learning_rate=0.3, n_estimators=25,\n",
    "                    objective='multi:softprob', subsample=0.5, colsample_bytree=0.5, seed=0)"
   ]
  },
  {
   "cell_type": "code",
   "execution_count": 315,
   "metadata": {
    "collapsed": false
   },
   "outputs": [
    {
     "ename": "AttributeError",
     "evalue": "'module' object has no attribute 'predict_proba'",
     "output_type": "error",
     "traceback": [
      "\u001b[0;31m---------------------------------------------------------------------------\u001b[0m",
      "\u001b[0;31mAttributeError\u001b[0m                            Traceback (most recent call last)",
      "\u001b[0;32m<ipython-input-315-226fb7b0749c>\u001b[0m in \u001b[0;36m<module>\u001b[0;34m()\u001b[0m\n\u001b[1;32m      1\u001b[0m \u001b[0mxgb1\u001b[0m\u001b[0;34m.\u001b[0m\u001b[0mfit\u001b[0m\u001b[0;34m(\u001b[0m\u001b[0mx_train_wo_sess\u001b[0m\u001b[0;34m,\u001b[0m \u001b[0mencoded_y_train\u001b[0m\u001b[0;34m)\u001b[0m\u001b[0;34m\u001b[0m\u001b[0m\n\u001b[0;32m----> 2\u001b[0;31m \u001b[0my_pred\u001b[0m \u001b[0;34m=\u001b[0m \u001b[0mxgb\u001b[0m\u001b[0;34m.\u001b[0m\u001b[0mpredict_proba\u001b[0m\u001b[0;34m(\u001b[0m\u001b[0mtest_final_wo_sess\u001b[0m\u001b[0;34m)\u001b[0m\u001b[0;34m\u001b[0m\u001b[0m\n\u001b[0m",
      "\u001b[0;31mAttributeError\u001b[0m: 'module' object has no attribute 'predict_proba'"
     ]
    }
   ],
   "source": [
    "xgb1.fit(x_train_wo_sess, encoded_y_train)\n",
    "y_pred = xgb.predict_proba(test_final_wo_sess)"
   ]
  },
  {
   "cell_type": "code",
   "execution_count": 368,
   "metadata": {
    "collapsed": false
   },
   "outputs": [
    {
     "data": {
      "text/plain": [
       "array([ 7,  7, 10, ...,  7,  7,  7])"
      ]
     },
     "execution_count": 368,
     "metadata": {},
     "output_type": "execute_result"
    }
   ],
   "source": [
    "encoded_y_train"
   ]
  },
  {
   "cell_type": "code",
   "execution_count": 316,
   "metadata": {
    "collapsed": true
   },
   "outputs": [],
   "source": [
    "y_pred = xgb1.predict_proba(test_final_wo_sess)"
   ]
  },
  {
   "cell_type": "code",
   "execution_count": null,
   "metadata": {
    "collapsed": true
   },
   "outputs": [],
   "source": [
    "xgb1.fe"
   ]
  },
  {
   "cell_type": "code",
   "execution_count": 317,
   "metadata": {
    "collapsed": false
   },
   "outputs": [
    {
     "data": {
      "text/plain": [
       "array([[  9.79781471e-05,   6.30472641e-05,   5.52886413e-05, ...,\n",
       "          5.72797871e-05,   7.10939858e-05,   5.59701439e-05],\n",
       "       [  9.79770266e-05,   6.30465438e-05,   5.52880083e-05, ...,\n",
       "          5.72791323e-05,   7.10931781e-05,   5.59695036e-05],\n",
       "       [  8.51634977e-05,   6.30469949e-05,   5.52884012e-05, ...,\n",
       "          5.51288686e-05,   7.49543833e-05,   5.59699038e-05],\n",
       "       ..., \n",
       "       [  7.67493475e-05,   6.30470386e-05,   5.66660019e-05, ...,\n",
       "          5.54542530e-05,   7.36380607e-05,   5.59699438e-05],\n",
       "       [  8.23503942e-05,   6.30454742e-05,   5.81030363e-05, ...,\n",
       "          5.54528815e-05,   7.36362417e-05,   6.18379709e-05],\n",
       "       [  8.23519294e-05,   6.30466457e-05,   5.66656527e-05, ...,\n",
       "          5.69456788e-05,   7.20889220e-05,   5.96715581e-05]], dtype=float32)"
      ]
     },
     "execution_count": 317,
     "metadata": {},
     "output_type": "execute_result"
    }
   ],
   "source": [
    "y_pred"
   ]
  },
  {
   "cell_type": "code",
   "execution_count": 320,
   "metadata": {
    "collapsed": true
   },
   "outputs": [],
   "source": [
    "id_test = test['id']"
   ]
  },
  {
   "cell_type": "code",
   "execution_count": 374,
   "metadata": {
    "collapsed": false
   },
   "outputs": [],
   "source": [
    "ids = []  #list of ids\n",
    "cts = []  #list of countries\n",
    "for i in range(len(id_test)):\n",
    "    idx = id_test[i]\n",
    "    ids += [idx] * 5\n",
    "    cts += label_encoder.inverse_transform(np.argsort(y_pred[i])[::-1])[:5].tolist()\n"
   ]
  },
  {
   "cell_type": "code",
   "execution_count": 400,
   "metadata": {
    "collapsed": true
   },
   "outputs": [],
   "source": [
    "def runXGB(train_X, train_y, test_X, test_y=None, feature_names=None, seed_val=0, num_rounds=1000):\n",
    "    param = {}\n",
    "    param['objective'] = 'multi:softprob'\n",
    "    param['eta'] = 0.1\n",
    "    param['max_depth'] = 4\n",
    "    param['silent'] = 1\n",
    "    param['num_class'] = 12\n",
    "    param['eval_metric'] = \"mlogloss\"\n",
    "    param['min_child_weight'] = 1\n",
    "    param['subsample'] = 0.7\n",
    "    param['colsample_bytree'] = 0.7\n",
    "    param['seed'] = seed_val\n",
    "    num_rounds = num_rounds\n",
    "\n",
    "    plst = list(param.items())\n",
    "    xgtrain = xgb.DMatrix(train_X, label=train_y)\n",
    "\n",
    "    if test_y is not None:\n",
    "        xgtest = xgb.DMatrix(test_X, label=test_y)\n",
    "        watchlist = [ (xgtrain,'train'), (xgtest, 'test') ]\n",
    "        model = xgb.train(plst, xgtrain, num_rounds, watchlist, early_stopping_rounds=20)\n",
    "    else:\n",
    "        xgtest = xgb.DMatrix(test_X)\n",
    "        model = xgb.train(plst, xgtrain, num_rounds)\n",
    "\n",
    "    pred_test_y = model.predict(xgtest)\n",
    "    return pred_test_y, model"
   ]
  },
  {
   "cell_type": "code",
   "execution_count": 401,
   "metadata": {
    "collapsed": false
   },
   "outputs": [
    {
     "name": "stderr",
     "output_type": "stream",
     "text": [
      "Will train until test error hasn't decreased in 20 rounds.\n",
      "[0]\ttrain-mlogloss:2.033823\ttest-mlogloss:2.034323\n",
      "[1]\ttrain-mlogloss:1.771121\ttest-mlogloss:1.773070\n",
      "[2]\ttrain-mlogloss:1.584169\ttest-mlogloss:1.585778\n",
      "[3]\ttrain-mlogloss:1.435386\ttest-mlogloss:1.439152\n",
      "[4]\ttrain-mlogloss:1.316652\ttest-mlogloss:1.320278\n",
      "[5]\ttrain-mlogloss:1.216949\ttest-mlogloss:1.221850\n",
      "[6]\ttrain-mlogloss:1.134215\ttest-mlogloss:1.137057\n",
      "[7]\ttrain-mlogloss:1.059648\ttest-mlogloss:1.065179\n",
      "[8]\ttrain-mlogloss:0.997709\ttest-mlogloss:1.001775\n",
      "[9]\ttrain-mlogloss:0.942663\ttest-mlogloss:0.947185\n",
      "[10]\ttrain-mlogloss:0.892984\ttest-mlogloss:0.898572\n",
      "[11]\ttrain-mlogloss:0.851859\ttest-mlogloss:0.855600\n",
      "[12]\ttrain-mlogloss:0.813673\ttest-mlogloss:0.817658\n",
      "[13]\ttrain-mlogloss:0.777887\ttest-mlogloss:0.784125\n",
      "[14]\ttrain-mlogloss:0.747421\ttest-mlogloss:0.754176\n",
      "[15]\ttrain-mlogloss:0.720873\ttest-mlogloss:0.727260\n",
      "[16]\ttrain-mlogloss:0.696672\ttest-mlogloss:0.702962\n",
      "[17]\ttrain-mlogloss:0.675920\ttest-mlogloss:0.681274\n",
      "[18]\ttrain-mlogloss:0.656858\ttest-mlogloss:0.662222\n",
      "[19]\ttrain-mlogloss:0.638679\ttest-mlogloss:0.644973\n",
      "[20]\ttrain-mlogloss:0.622132\ttest-mlogloss:0.629486\n",
      "[21]\ttrain-mlogloss:0.608155\ttest-mlogloss:0.615540\n",
      "[22]\ttrain-mlogloss:0.595558\ttest-mlogloss:0.602903\n",
      "[23]\ttrain-mlogloss:0.584234\ttest-mlogloss:0.591329\n",
      "[24]\ttrain-mlogloss:0.574569\ttest-mlogloss:0.581297\n",
      "[25]\ttrain-mlogloss:0.564387\ttest-mlogloss:0.572095\n",
      "[26]\ttrain-mlogloss:0.556979\ttest-mlogloss:0.563488\n",
      "[27]\ttrain-mlogloss:0.549180\ttest-mlogloss:0.556022\n",
      "[28]\ttrain-mlogloss:0.541155\ttest-mlogloss:0.549411\n",
      "[29]\ttrain-mlogloss:0.534889\ttest-mlogloss:0.543247\n",
      "[30]\ttrain-mlogloss:0.530222\ttest-mlogloss:0.537374\n",
      "[31]\ttrain-mlogloss:0.524533\ttest-mlogloss:0.532551\n",
      "[32]\ttrain-mlogloss:0.519895\ttest-mlogloss:0.527932\n",
      "[33]\ttrain-mlogloss:0.515476\ttest-mlogloss:0.523751\n",
      "[34]\ttrain-mlogloss:0.511712\ttest-mlogloss:0.520150\n",
      "[35]\ttrain-mlogloss:0.507699\ttest-mlogloss:0.516623\n",
      "[36]\ttrain-mlogloss:0.505103\ttest-mlogloss:0.513537\n",
      "[37]\ttrain-mlogloss:0.501388\ttest-mlogloss:0.510803\n",
      "[38]\ttrain-mlogloss:0.499934\ttest-mlogloss:0.508183\n",
      "[39]\ttrain-mlogloss:0.496590\ttest-mlogloss:0.506021\n",
      "[40]\ttrain-mlogloss:0.494450\ttest-mlogloss:0.503900\n",
      "[41]\ttrain-mlogloss:0.493212\ttest-mlogloss:0.501861\n",
      "[42]\ttrain-mlogloss:0.491204\ttest-mlogloss:0.500175\n",
      "[43]\ttrain-mlogloss:0.489147\ttest-mlogloss:0.498586\n",
      "[44]\ttrain-mlogloss:0.487237\ttest-mlogloss:0.497047\n",
      "[45]\ttrain-mlogloss:0.486569\ttest-mlogloss:0.495838\n",
      "[46]\ttrain-mlogloss:0.484772\ttest-mlogloss:0.494723\n",
      "[47]\ttrain-mlogloss:0.483980\ttest-mlogloss:0.493375\n",
      "[48]\ttrain-mlogloss:0.482402\ttest-mlogloss:0.492613\n",
      "[49]\ttrain-mlogloss:0.481711\ttest-mlogloss:0.491550\n",
      "[50]\ttrain-mlogloss:0.480222\ttest-mlogloss:0.490904\n",
      "[51]\ttrain-mlogloss:0.479564\ttest-mlogloss:0.489959\n",
      "[52]\ttrain-mlogloss:0.479194\ttest-mlogloss:0.489574\n",
      "[53]\ttrain-mlogloss:0.478572\ttest-mlogloss:0.488702\n",
      "[54]\ttrain-mlogloss:0.478187\ttest-mlogloss:0.488102\n",
      "[55]\ttrain-mlogloss:0.476828\ttest-mlogloss:0.487814\n",
      "[56]\ttrain-mlogloss:0.476490\ttest-mlogloss:0.487276\n",
      "[57]\ttrain-mlogloss:0.475969\ttest-mlogloss:0.486744\n",
      "[58]\ttrain-mlogloss:0.475641\ttest-mlogloss:0.486251\n",
      "[59]\ttrain-mlogloss:0.474385\ttest-mlogloss:0.486065\n",
      "[60]\ttrain-mlogloss:0.474084\ttest-mlogloss:0.485619\n",
      "[61]\ttrain-mlogloss:0.473836\ttest-mlogloss:0.485390\n",
      "[62]\ttrain-mlogloss:0.473397\ttest-mlogloss:0.484968\n",
      "[63]\ttrain-mlogloss:0.473173\ttest-mlogloss:0.484766\n",
      "[64]\ttrain-mlogloss:0.472915\ttest-mlogloss:0.484409\n",
      "[65]\ttrain-mlogloss:0.472680\ttest-mlogloss:0.484222\n",
      "[66]\ttrain-mlogloss:0.471421\ttest-mlogloss:0.484099\n",
      "[67]\ttrain-mlogloss:0.471189\ttest-mlogloss:0.483945\n",
      "[68]\ttrain-mlogloss:0.470972\ttest-mlogloss:0.483854\n",
      "[69]\ttrain-mlogloss:0.470738\ttest-mlogloss:0.483511\n",
      "[70]\ttrain-mlogloss:0.470539\ttest-mlogloss:0.483412\n",
      "[71]\ttrain-mlogloss:0.470328\ttest-mlogloss:0.483301\n",
      "[72]\ttrain-mlogloss:0.470126\ttest-mlogloss:0.483211\n",
      "[73]\ttrain-mlogloss:0.469733\ttest-mlogloss:0.482938\n",
      "[74]\ttrain-mlogloss:0.469438\ttest-mlogloss:0.482849\n",
      "[75]\ttrain-mlogloss:0.469211\ttest-mlogloss:0.482774\n",
      "[76]\ttrain-mlogloss:0.468978\ttest-mlogloss:0.482681\n",
      "[77]\ttrain-mlogloss:0.468799\ttest-mlogloss:0.482576\n",
      "[78]\ttrain-mlogloss:0.468532\ttest-mlogloss:0.482531\n",
      "[79]\ttrain-mlogloss:0.468287\ttest-mlogloss:0.482486\n",
      "[80]\ttrain-mlogloss:0.468017\ttest-mlogloss:0.482389\n",
      "[81]\ttrain-mlogloss:0.467800\ttest-mlogloss:0.482346\n",
      "[82]\ttrain-mlogloss:0.467564\ttest-mlogloss:0.482304\n",
      "[83]\ttrain-mlogloss:0.467362\ttest-mlogloss:0.482250\n",
      "[84]\ttrain-mlogloss:0.467119\ttest-mlogloss:0.482024\n",
      "[85]\ttrain-mlogloss:0.466874\ttest-mlogloss:0.481942\n",
      "[86]\ttrain-mlogloss:0.466619\ttest-mlogloss:0.481912\n",
      "[87]\ttrain-mlogloss:0.466403\ttest-mlogloss:0.481893\n",
      "[88]\ttrain-mlogloss:0.466185\ttest-mlogloss:0.481879\n",
      "[89]\ttrain-mlogloss:0.465967\ttest-mlogloss:0.481844\n",
      "[90]\ttrain-mlogloss:0.465737\ttest-mlogloss:0.481765\n",
      "[91]\ttrain-mlogloss:0.465518\ttest-mlogloss:0.481783\n",
      "[92]\ttrain-mlogloss:0.465306\ttest-mlogloss:0.481736\n",
      "[93]\ttrain-mlogloss:0.465132\ttest-mlogloss:0.481720\n",
      "[94]\ttrain-mlogloss:0.464918\ttest-mlogloss:0.481681\n",
      "[95]\ttrain-mlogloss:0.464716\ttest-mlogloss:0.481684\n",
      "[96]\ttrain-mlogloss:0.464520\ttest-mlogloss:0.481672\n",
      "[97]\ttrain-mlogloss:0.464326\ttest-mlogloss:0.481616\n",
      "[98]\ttrain-mlogloss:0.464168\ttest-mlogloss:0.481548\n",
      "[99]\ttrain-mlogloss:0.463989\ttest-mlogloss:0.481553\n",
      "[100]\ttrain-mlogloss:0.463806\ttest-mlogloss:0.481601\n",
      "[101]\ttrain-mlogloss:0.463590\ttest-mlogloss:0.481591\n",
      "[102]\ttrain-mlogloss:0.463345\ttest-mlogloss:0.481542\n",
      "[103]\ttrain-mlogloss:0.463173\ttest-mlogloss:0.481520\n",
      "[104]\ttrain-mlogloss:0.462989\ttest-mlogloss:0.481502\n",
      "[105]\ttrain-mlogloss:0.462831\ttest-mlogloss:0.481502\n",
      "[106]\ttrain-mlogloss:0.462673\ttest-mlogloss:0.481515\n",
      "[107]\ttrain-mlogloss:0.462509\ttest-mlogloss:0.481507\n",
      "[108]\ttrain-mlogloss:0.462343\ttest-mlogloss:0.481511\n",
      "[109]\ttrain-mlogloss:0.462172\ttest-mlogloss:0.481515\n",
      "[110]\ttrain-mlogloss:0.461983\ttest-mlogloss:0.481539\n",
      "[111]\ttrain-mlogloss:0.461819\ttest-mlogloss:0.481544\n",
      "[112]\ttrain-mlogloss:0.461643\ttest-mlogloss:0.481549\n",
      "[113]\ttrain-mlogloss:0.461432\ttest-mlogloss:0.481559\n",
      "[114]\ttrain-mlogloss:0.461296\ttest-mlogloss:0.481550\n",
      "[115]\ttrain-mlogloss:0.461127\ttest-mlogloss:0.481550\n",
      "[116]\ttrain-mlogloss:0.460937\ttest-mlogloss:0.481599\n",
      "[117]\ttrain-mlogloss:0.460778\ttest-mlogloss:0.481604\n",
      "[118]\ttrain-mlogloss:0.460634\ttest-mlogloss:0.481594\n",
      "[119]\ttrain-mlogloss:0.460489\ttest-mlogloss:0.481553\n",
      "[120]\ttrain-mlogloss:0.460342\ttest-mlogloss:0.481558\n",
      "[121]\ttrain-mlogloss:0.460161\ttest-mlogloss:0.481583\n",
      "[122]\ttrain-mlogloss:0.460005\ttest-mlogloss:0.481574\n",
      "[123]\ttrain-mlogloss:0.459854\ttest-mlogloss:0.481572\n"
     ]
    },
    {
     "name": "stdout",
     "output_type": "stream",
     "text": [
      "[0.48161690652377914]\n"
     ]
    },
    {
     "name": "stderr",
     "output_type": "stream",
     "text": [
      "[124]\ttrain-mlogloss:0.459693\ttest-mlogloss:0.481582\n",
      "Stopping. Best iteration:\n",
      "[104]\ttrain-mlogloss:0.462989\ttest-mlogloss:0.481502\n",
      "\n"
     ]
    }
   ],
   "source": [
    "cv_scores = []\n",
    "kf = model_selection.KFold(n_splits=5, shuffle=True, random_state=2017)\n",
    "for dev_index, val_index in kf.split(range(x_train_wo_sess.shape[0])):\n",
    "        dev_X, val_X = x_train_wo_sess.loc[dev_index], x_train_wo_sess.loc[val_index,:]\n",
    "        dev_y, val_y = encoded_y_train[dev_index], encoded_y_train[val_index]\n",
    "        preds, model = runXGB(dev_X, dev_y, val_X, val_y)\n",
    "        cv_scores.append(log_loss(val_y, preds))\n",
    "        print(cv_scores)\n",
    "        break"
   ]
  },
  {
   "cell_type": "code",
   "execution_count": null,
   "metadata": {
    "collapsed": true
   },
   "outputs": [],
   "source": [
    "cv_scores = []\n",
    "kf = model_selection.KFold(n_splits=5, shuffle=True, random_state=20)\n",
    "for dev_index, val_index in kf.split(range(x_train_wo_sess.shape[0])):\n",
    "        dev_X, val_X = x_train_wo_sess.loc[dev_index], x_train_wo_sess.loc[val_index,:]\n",
    "        dev_y, val_y = encoded_y_train[dev_index], encoded_y_train[val_index]\n",
    "        model = xgb2.fit(dev_X,dev_y)\n",
    "        preds = model.predict_proba(val_X )\n",
    "        cv_scores.append(log_loss(val_y, preds))\n",
    "        print(cv_scores)\n",
    "        break"
   ]
  },
  {
   "cell_type": "code",
   "execution_count": 414,
   "metadata": {
    "collapsed": false
   },
   "outputs": [
    {
     "ename": "ValueError",
     "evalue": "Found input variables with inconsistent numbers of samples: [62096, 42691]",
     "output_type": "error",
     "traceback": [
      "\u001b[0;31m---------------------------------------------------------------------------\u001b[0m",
      "\u001b[0;31mValueError\u001b[0m                                Traceback (most recent call last)",
      "\u001b[0;32m<ipython-input-414-3416dfb62a76>\u001b[0m in \u001b[0;36m<module>\u001b[0;34m()\u001b[0m\n\u001b[0;32m----> 1\u001b[0;31m \u001b[0mcv_scores\u001b[0m\u001b[0;34m.\u001b[0m\u001b[0mappend\u001b[0m\u001b[0;34m(\u001b[0m\u001b[0mlog_loss\u001b[0m\u001b[0;34m(\u001b[0m\u001b[0mval_y\u001b[0m\u001b[0;34m,\u001b[0m \u001b[0mpreds\u001b[0m\u001b[0;34m)\u001b[0m\u001b[0;34m)\u001b[0m\u001b[0;34m\u001b[0m\u001b[0m\n\u001b[0m",
      "\u001b[0;32m/Users/amit/anaconda/lib/python2.7/site-packages/sklearn/metrics/classification.pyc\u001b[0m in \u001b[0;36mlog_loss\u001b[0;34m(y_true, y_pred, eps, normalize, sample_weight, labels)\u001b[0m\n\u001b[1;32m   1607\u001b[0m     \"\"\"\n\u001b[1;32m   1608\u001b[0m     \u001b[0my_pred\u001b[0m \u001b[0;34m=\u001b[0m \u001b[0mcheck_array\u001b[0m\u001b[0;34m(\u001b[0m\u001b[0my_pred\u001b[0m\u001b[0;34m,\u001b[0m \u001b[0mensure_2d\u001b[0m\u001b[0;34m=\u001b[0m\u001b[0mFalse\u001b[0m\u001b[0;34m)\u001b[0m\u001b[0;34m\u001b[0m\u001b[0m\n\u001b[0;32m-> 1609\u001b[0;31m     \u001b[0mcheck_consistent_length\u001b[0m\u001b[0;34m(\u001b[0m\u001b[0my_pred\u001b[0m\u001b[0;34m,\u001b[0m \u001b[0my_true\u001b[0m\u001b[0;34m)\u001b[0m\u001b[0;34m\u001b[0m\u001b[0m\n\u001b[0m\u001b[1;32m   1610\u001b[0m \u001b[0;34m\u001b[0m\u001b[0m\n\u001b[1;32m   1611\u001b[0m     \u001b[0mlb\u001b[0m \u001b[0;34m=\u001b[0m \u001b[0mLabelBinarizer\u001b[0m\u001b[0;34m(\u001b[0m\u001b[0;34m)\u001b[0m\u001b[0;34m\u001b[0m\u001b[0m\n",
      "\u001b[0;32m/Users/amit/anaconda/lib/python2.7/site-packages/sklearn/utils/validation.pyc\u001b[0m in \u001b[0;36mcheck_consistent_length\u001b[0;34m(*arrays)\u001b[0m\n\u001b[1;32m    179\u001b[0m     \u001b[0;32mif\u001b[0m \u001b[0mlen\u001b[0m\u001b[0;34m(\u001b[0m\u001b[0muniques\u001b[0m\u001b[0;34m)\u001b[0m \u001b[0;34m>\u001b[0m \u001b[0;36m1\u001b[0m\u001b[0;34m:\u001b[0m\u001b[0;34m\u001b[0m\u001b[0m\n\u001b[1;32m    180\u001b[0m         raise ValueError(\"Found input variables with inconsistent numbers of\"\n\u001b[0;32m--> 181\u001b[0;31m                          \" samples: %r\" % [int(l) for l in lengths])\n\u001b[0m\u001b[1;32m    182\u001b[0m \u001b[0;34m\u001b[0m\u001b[0m\n\u001b[1;32m    183\u001b[0m \u001b[0;34m\u001b[0m\u001b[0m\n",
      "\u001b[0;31mValueError\u001b[0m: Found input variables with inconsistent numbers of samples: [62096, 42691]"
     ]
    }
   ],
   "source": [
    "cv_scores.append(log_loss(val_y, preds))"
   ]
  },
  {
   "cell_type": "code",
   "execution_count": 402,
   "metadata": {
    "collapsed": true
   },
   "outputs": [],
   "source": [
    "preds, model = runXGB(x_train_wo_sess,encoded_y_train,test_final_wo_sess,num_rounds=100)\n",
    "out_df = pd.DataFrame(preds)\n"
   ]
  },
  {
   "cell_type": "code",
   "execution_count": 411,
   "metadata": {
    "collapsed": false
   },
   "outputs": [
    {
     "data": {
      "text/plain": [
       "<bound method Booster.get_fscore of <xgboost.core.Booster object at 0x136ad4e10>>"
      ]
     },
     "execution_count": 411,
     "metadata": {},
     "output_type": "execute_result"
    }
   ],
   "source": [
    "model.get_fscore"
   ]
  },
  {
   "cell_type": "code",
   "execution_count": 406,
   "metadata": {
    "collapsed": false
   },
   "outputs": [
    {
     "data": {
      "text/plain": [
       "array([[  1.94604199e-05,   1.73746084e-05,   1.53329220e-05, ...,\n",
       "          1.65463171e-05,   2.26114989e-05,   1.77243728e-05],\n",
       "       [  2.23670777e-05,   1.49397401e-05,   1.53202272e-05, ...,\n",
       "          1.55678390e-05,   2.29927282e-05,   1.74343058e-05],\n",
       "       [  1.72361506e-05,   1.47300170e-05,   1.57422764e-05, ...,\n",
       "          1.56166407e-05,   2.35143580e-05,   1.88215181e-05],\n",
       "       ..., \n",
       "       [  1.77466518e-05,   1.53825767e-05,   1.94846034e-05, ...,\n",
       "          1.35481996e-05,   2.43533377e-05,   1.86967827e-05],\n",
       "       [  1.87855239e-05,   1.66652862e-05,   1.73161570e-05, ...,\n",
       "          1.79892359e-05,   2.35448715e-05,   1.86153520e-05],\n",
       "       [  2.36366886e-05,   1.76989597e-05,   1.66793925e-05, ...,\n",
       "          1.34311094e-05,   2.58526743e-05,   2.02195770e-05]], dtype=float32)"
      ]
     },
     "execution_count": 406,
     "metadata": {},
     "output_type": "execute_result"
    }
   ],
   "source": [
    "preds"
   ]
  },
  {
   "cell_type": "code",
   "execution_count": 407,
   "metadata": {
    "collapsed": false
   },
   "outputs": [],
   "source": [
    "ids = []  #list of ids\n",
    "cts = []  #list of countries\n",
    "for i in range(len(id_test)):\n",
    "    idx = id_test[i]\n",
    "    ids += [idx] * 5\n",
    "    cts += label_encoder.inverse_transform(np.argsort(preds[i])[::-1])[:5].tolist()"
   ]
  },
  {
   "cell_type": "code",
   "execution_count": 409,
   "metadata": {
    "collapsed": false
   },
   "outputs": [],
   "source": [
    "pred_final = pd.DataFrame(np.column_stack((ids, cts)), columns=['id', 'country'])"
   ]
  },
  {
   "cell_type": "code",
   "execution_count": 410,
   "metadata": {
    "collapsed": true
   },
   "outputs": [],
   "source": [
    "pred_final.to_csv(\"xgb_amit.csv\", index=False)"
   ]
  },
  {
   "cell_type": "code",
   "execution_count": null,
   "metadata": {
    "collapsed": true
   },
   "outputs": [],
   "source": [
    "out_df.columns = [\"high\", \"medium\", \"low\"]\n",
    "out_df[\"listing_id\"] = test_df.listing_id.values\n",
    "out_df.to_csv(\"xgb_amit.csv\", index=False)"
   ]
  },
  {
   "cell_type": "code",
   "execution_count": null,
   "metadata": {
    "collapsed": true
   },
   "outputs": [],
   "source": [
    "#train_final_sess--Training\n",
    "#test_final_sess"
   ]
  },
  {
   "cell_type": "code",
   "execution_count": 440,
   "metadata": {
    "collapsed": true
   },
   "outputs": [],
   "source": [
    "x_train_sess = train_final_sess.drop(['country_destination'], axis=1)\n",
    "y_train_sess = train_final_sess['country_destination']"
   ]
  },
  {
   "cell_type": "code",
   "execution_count": 445,
   "metadata": {
    "collapsed": true
   },
   "outputs": [],
   "source": [
    "label_encoder1 = LabelEncoder()\n",
    "encoded_y_train_sess = label_encoder1.fit_transform(y_train_sess)"
   ]
  },
  {
   "cell_type": "code",
   "execution_count": 443,
   "metadata": {
    "collapsed": false
   },
   "outputs": [
    {
     "data": {
      "text/plain": [
       "Index([u'age', u'date_accnt_created_month', u'timestamp_first_active_month',\n",
       "       u'date_first_booking_month', u'date_accnt_created_year',\n",
       "       u'timestamp_first_active_year', u'date_first_booking_year',\n",
       "       u'date_accnt_created_day', u'timestamp_first_active_day',\n",
       "       u'date_first_booking_day',\n",
       "       ...\n",
       "       u'most_used_device_Chromebook', u'most_used_device_Linux Desktop',\n",
       "       u'most_used_device_Mac Desktop', u'most_used_device_Opera Phone',\n",
       "       u'most_used_device_Tablet', u'most_used_device_Windows Desktop',\n",
       "       u'most_used_device_Windows Phone', u'most_used_device_iPad Tablet',\n",
       "       u'most_used_device_iPhone', u'most_used_device_iPodtouch'],\n",
       "      dtype='object', length=718)"
      ]
     },
     "execution_count": 443,
     "metadata": {},
     "output_type": "execute_result"
    }
   ],
   "source": [
    "x_train_sess.columns"
   ]
  },
  {
   "cell_type": "code",
   "execution_count": 446,
   "metadata": {
    "collapsed": false
   },
   "outputs": [
    {
     "name": "stderr",
     "output_type": "stream",
     "text": [
      "Will train until test error hasn't decreased in 20 rounds.\n",
      "[0]\ttrain-mlogloss:2.070022\ttest-mlogloss:2.069161\n",
      "[1]\ttrain-mlogloss:1.805160\ttest-mlogloss:1.807370\n",
      "[2]\ttrain-mlogloss:1.615839\ttest-mlogloss:1.618630\n",
      "[3]\ttrain-mlogloss:1.472743\ttest-mlogloss:1.472702\n",
      "[4]\ttrain-mlogloss:1.357109\ttest-mlogloss:1.358185\n",
      "[5]\ttrain-mlogloss:1.256054\ttest-mlogloss:1.258298\n",
      "[6]\ttrain-mlogloss:1.172909\ttest-mlogloss:1.177028\n",
      "[7]\ttrain-mlogloss:1.100482\ttest-mlogloss:1.104056\n",
      "[8]\ttrain-mlogloss:1.041319\ttest-mlogloss:1.043470\n",
      "[9]\ttrain-mlogloss:0.983162\ttest-mlogloss:0.987749\n",
      "[10]\ttrain-mlogloss:0.934951\ttest-mlogloss:0.938849\n",
      "[11]\ttrain-mlogloss:0.893569\ttest-mlogloss:0.897674\n",
      "[12]\ttrain-mlogloss:0.854944\ttest-mlogloss:0.858571\n",
      "[13]\ttrain-mlogloss:0.819647\ttest-mlogloss:0.824468\n",
      "[14]\ttrain-mlogloss:0.790267\ttest-mlogloss:0.795235\n",
      "[15]\ttrain-mlogloss:0.762968\ttest-mlogloss:0.766946\n",
      "[16]\ttrain-mlogloss:0.739082\ttest-mlogloss:0.743858\n",
      "[17]\ttrain-mlogloss:0.719692\ttest-mlogloss:0.723916\n",
      "[18]\ttrain-mlogloss:0.700814\ttest-mlogloss:0.705189\n",
      "[19]\ttrain-mlogloss:0.683515\ttest-mlogloss:0.688891\n",
      "[20]\ttrain-mlogloss:0.667915\ttest-mlogloss:0.673286\n",
      "[21]\ttrain-mlogloss:0.652373\ttest-mlogloss:0.657891\n",
      "[22]\ttrain-mlogloss:0.637294\ttest-mlogloss:0.642336\n",
      "[23]\ttrain-mlogloss:0.624449\ttest-mlogloss:0.629462\n",
      "[24]\ttrain-mlogloss:0.613040\ttest-mlogloss:0.618456\n",
      "[25]\ttrain-mlogloss:0.602622\ttest-mlogloss:0.608870\n",
      "[26]\ttrain-mlogloss:0.593249\ttest-mlogloss:0.599171\n",
      "[27]\ttrain-mlogloss:0.583361\ttest-mlogloss:0.589905\n",
      "[28]\ttrain-mlogloss:0.575085\ttest-mlogloss:0.581659\n",
      "[29]\ttrain-mlogloss:0.568910\ttest-mlogloss:0.575621\n",
      "[30]\ttrain-mlogloss:0.561906\ttest-mlogloss:0.568612\n",
      "[31]\ttrain-mlogloss:0.556367\ttest-mlogloss:0.563671\n",
      "[32]\ttrain-mlogloss:0.551208\ttest-mlogloss:0.558373\n",
      "[33]\ttrain-mlogloss:0.547270\ttest-mlogloss:0.554072\n",
      "[34]\ttrain-mlogloss:0.542899\ttest-mlogloss:0.550370\n",
      "[35]\ttrain-mlogloss:0.539699\ttest-mlogloss:0.546403\n",
      "[36]\ttrain-mlogloss:0.535518\ttest-mlogloss:0.542990\n",
      "[37]\ttrain-mlogloss:0.532935\ttest-mlogloss:0.539881\n",
      "[38]\ttrain-mlogloss:0.528326\ttest-mlogloss:0.536020\n",
      "[39]\ttrain-mlogloss:0.526513\ttest-mlogloss:0.533896\n",
      "[40]\ttrain-mlogloss:0.522221\ttest-mlogloss:0.530550\n",
      "[41]\ttrain-mlogloss:0.520865\ttest-mlogloss:0.528848\n",
      "[42]\ttrain-mlogloss:0.518956\ttest-mlogloss:0.526817\n",
      "[43]\ttrain-mlogloss:0.516821\ttest-mlogloss:0.525373\n",
      "[44]\ttrain-mlogloss:0.514978\ttest-mlogloss:0.523795\n",
      "[45]\ttrain-mlogloss:0.514006\ttest-mlogloss:0.522492\n",
      "[46]\ttrain-mlogloss:0.513197\ttest-mlogloss:0.521284\n",
      "[47]\ttrain-mlogloss:0.511661\ttest-mlogloss:0.520050\n",
      "[48]\ttrain-mlogloss:0.508980\ttest-mlogloss:0.518033\n",
      "[49]\ttrain-mlogloss:0.507879\ttest-mlogloss:0.517129\n",
      "[50]\ttrain-mlogloss:0.506798\ttest-mlogloss:0.515900\n",
      "[51]\ttrain-mlogloss:0.506163\ttest-mlogloss:0.515121\n",
      "[52]\ttrain-mlogloss:0.505368\ttest-mlogloss:0.514011\n",
      "[53]\ttrain-mlogloss:0.503252\ttest-mlogloss:0.512207\n",
      "[54]\ttrain-mlogloss:0.500820\ttest-mlogloss:0.510649\n",
      "[55]\ttrain-mlogloss:0.500114\ttest-mlogloss:0.509994\n",
      "[56]\ttrain-mlogloss:0.499636\ttest-mlogloss:0.509508\n",
      "[57]\ttrain-mlogloss:0.498135\ttest-mlogloss:0.508311\n",
      "[58]\ttrain-mlogloss:0.497656\ttest-mlogloss:0.507729\n",
      "[59]\ttrain-mlogloss:0.496574\ttest-mlogloss:0.506604\n",
      "[60]\ttrain-mlogloss:0.496231\ttest-mlogloss:0.506275\n",
      "[61]\ttrain-mlogloss:0.495218\ttest-mlogloss:0.505028\n",
      "[62]\ttrain-mlogloss:0.493850\ttest-mlogloss:0.504043\n",
      "[63]\ttrain-mlogloss:0.492919\ttest-mlogloss:0.503073\n",
      "[64]\ttrain-mlogloss:0.491307\ttest-mlogloss:0.502154\n",
      "[65]\ttrain-mlogloss:0.490012\ttest-mlogloss:0.501276\n",
      "[66]\ttrain-mlogloss:0.489679\ttest-mlogloss:0.500972\n",
      "[67]\ttrain-mlogloss:0.489365\ttest-mlogloss:0.500702\n",
      "[68]\ttrain-mlogloss:0.488602\ttest-mlogloss:0.499892\n",
      "[69]\ttrain-mlogloss:0.488184\ttest-mlogloss:0.499707\n",
      "[70]\ttrain-mlogloss:0.487285\ttest-mlogloss:0.499118\n",
      "[71]\ttrain-mlogloss:0.486661\ttest-mlogloss:0.498725\n",
      "[72]\ttrain-mlogloss:0.486280\ttest-mlogloss:0.498425\n",
      "[73]\ttrain-mlogloss:0.485989\ttest-mlogloss:0.498202\n",
      "[74]\ttrain-mlogloss:0.485655\ttest-mlogloss:0.498001\n",
      "[75]\ttrain-mlogloss:0.485383\ttest-mlogloss:0.497807\n",
      "[76]\ttrain-mlogloss:0.485168\ttest-mlogloss:0.497655\n",
      "[77]\ttrain-mlogloss:0.484490\ttest-mlogloss:0.496989\n",
      "[78]\ttrain-mlogloss:0.484180\ttest-mlogloss:0.496794\n",
      "[79]\ttrain-mlogloss:0.483982\ttest-mlogloss:0.496697\n",
      "[80]\ttrain-mlogloss:0.483727\ttest-mlogloss:0.496537\n",
      "[81]\ttrain-mlogloss:0.483447\ttest-mlogloss:0.496385\n",
      "[82]\ttrain-mlogloss:0.483263\ttest-mlogloss:0.496309\n",
      "[83]\ttrain-mlogloss:0.482826\ttest-mlogloss:0.495833\n",
      "[84]\ttrain-mlogloss:0.482652\ttest-mlogloss:0.495756\n",
      "[85]\ttrain-mlogloss:0.482141\ttest-mlogloss:0.495198\n",
      "[86]\ttrain-mlogloss:0.481600\ttest-mlogloss:0.494616\n",
      "[87]\ttrain-mlogloss:0.481380\ttest-mlogloss:0.494489\n",
      "[88]\ttrain-mlogloss:0.481088\ttest-mlogloss:0.494294\n",
      "[89]\ttrain-mlogloss:0.480554\ttest-mlogloss:0.493916\n",
      "[90]\ttrain-mlogloss:0.480355\ttest-mlogloss:0.493853\n",
      "[91]\ttrain-mlogloss:0.480147\ttest-mlogloss:0.493769\n",
      "[92]\ttrain-mlogloss:0.479970\ttest-mlogloss:0.493671\n",
      "[93]\ttrain-mlogloss:0.479144\ttest-mlogloss:0.493166\n",
      "[94]\ttrain-mlogloss:0.478622\ttest-mlogloss:0.492864\n",
      "[95]\ttrain-mlogloss:0.478114\ttest-mlogloss:0.492502\n",
      "[96]\ttrain-mlogloss:0.477770\ttest-mlogloss:0.492307\n",
      "[97]\ttrain-mlogloss:0.477578\ttest-mlogloss:0.492230\n",
      "[98]\ttrain-mlogloss:0.477354\ttest-mlogloss:0.492080\n",
      "[99]\ttrain-mlogloss:0.477153\ttest-mlogloss:0.491993\n",
      "[100]\ttrain-mlogloss:0.476947\ttest-mlogloss:0.491947\n",
      "[101]\ttrain-mlogloss:0.476539\ttest-mlogloss:0.491600\n",
      "[102]\ttrain-mlogloss:0.476132\ttest-mlogloss:0.491222\n",
      "[103]\ttrain-mlogloss:0.475919\ttest-mlogloss:0.491095\n",
      "[104]\ttrain-mlogloss:0.475738\ttest-mlogloss:0.490994\n",
      "[105]\ttrain-mlogloss:0.475527\ttest-mlogloss:0.490866\n",
      "[106]\ttrain-mlogloss:0.475368\ttest-mlogloss:0.490787\n",
      "[107]\ttrain-mlogloss:0.475224\ttest-mlogloss:0.490751\n",
      "[108]\ttrain-mlogloss:0.475018\ttest-mlogloss:0.490657\n",
      "[109]\ttrain-mlogloss:0.474857\ttest-mlogloss:0.490629\n",
      "[110]\ttrain-mlogloss:0.474522\ttest-mlogloss:0.490402\n",
      "[111]\ttrain-mlogloss:0.474360\ttest-mlogloss:0.490355\n",
      "[112]\ttrain-mlogloss:0.473576\ttest-mlogloss:0.490012\n",
      "[113]\ttrain-mlogloss:0.473385\ttest-mlogloss:0.489930\n",
      "[114]\ttrain-mlogloss:0.473236\ttest-mlogloss:0.489898\n",
      "[115]\ttrain-mlogloss:0.473107\ttest-mlogloss:0.489856\n",
      "[116]\ttrain-mlogloss:0.472930\ttest-mlogloss:0.489834\n",
      "[117]\ttrain-mlogloss:0.472653\ttest-mlogloss:0.489766\n",
      "[118]\ttrain-mlogloss:0.472442\ttest-mlogloss:0.489705\n",
      "[119]\ttrain-mlogloss:0.472311\ttest-mlogloss:0.489658\n",
      "[120]\ttrain-mlogloss:0.472178\ttest-mlogloss:0.489615\n",
      "[121]\ttrain-mlogloss:0.471973\ttest-mlogloss:0.489545\n",
      "[122]\ttrain-mlogloss:0.471518\ttest-mlogloss:0.489342\n",
      "[123]\ttrain-mlogloss:0.471381\ttest-mlogloss:0.489316\n",
      "[124]\ttrain-mlogloss:0.471229\ttest-mlogloss:0.489262\n",
      "[125]\ttrain-mlogloss:0.471074\ttest-mlogloss:0.489196\n",
      "[126]\ttrain-mlogloss:0.470964\ttest-mlogloss:0.489167\n",
      "[127]\ttrain-mlogloss:0.470617\ttest-mlogloss:0.488940\n",
      "[128]\ttrain-mlogloss:0.470510\ttest-mlogloss:0.488903\n",
      "[129]\ttrain-mlogloss:0.470291\ttest-mlogloss:0.488836\n",
      "[130]\ttrain-mlogloss:0.469970\ttest-mlogloss:0.488663\n",
      "[131]\ttrain-mlogloss:0.469692\ttest-mlogloss:0.488454\n",
      "[132]\ttrain-mlogloss:0.469572\ttest-mlogloss:0.488443\n",
      "[133]\ttrain-mlogloss:0.469432\ttest-mlogloss:0.488389\n",
      "[134]\ttrain-mlogloss:0.469303\ttest-mlogloss:0.488344\n",
      "[135]\ttrain-mlogloss:0.469041\ttest-mlogloss:0.488151\n",
      "[136]\ttrain-mlogloss:0.468888\ttest-mlogloss:0.488128\n",
      "[137]\ttrain-mlogloss:0.468748\ttest-mlogloss:0.488086\n",
      "[138]\ttrain-mlogloss:0.468630\ttest-mlogloss:0.488085\n",
      "[139]\ttrain-mlogloss:0.468514\ttest-mlogloss:0.488061\n",
      "[140]\ttrain-mlogloss:0.468371\ttest-mlogloss:0.488057\n",
      "[141]\ttrain-mlogloss:0.468235\ttest-mlogloss:0.488034\n",
      "[142]\ttrain-mlogloss:0.468022\ttest-mlogloss:0.487897\n",
      "[143]\ttrain-mlogloss:0.467873\ttest-mlogloss:0.487858\n",
      "[144]\ttrain-mlogloss:0.467735\ttest-mlogloss:0.487816\n",
      "[145]\ttrain-mlogloss:0.467475\ttest-mlogloss:0.487590\n",
      "[146]\ttrain-mlogloss:0.467333\ttest-mlogloss:0.487571\n",
      "[147]\ttrain-mlogloss:0.467224\ttest-mlogloss:0.487561\n",
      "[148]\ttrain-mlogloss:0.467106\ttest-mlogloss:0.487559\n",
      "[149]\ttrain-mlogloss:0.466990\ttest-mlogloss:0.487544\n",
      "[150]\ttrain-mlogloss:0.466821\ttest-mlogloss:0.487490\n",
      "[151]\ttrain-mlogloss:0.466700\ttest-mlogloss:0.487421\n",
      "[152]\ttrain-mlogloss:0.466578\ttest-mlogloss:0.487394\n",
      "[153]\ttrain-mlogloss:0.466452\ttest-mlogloss:0.487330\n",
      "[154]\ttrain-mlogloss:0.466331\ttest-mlogloss:0.487338\n",
      "[155]\ttrain-mlogloss:0.466200\ttest-mlogloss:0.487304\n",
      "[156]\ttrain-mlogloss:0.466055\ttest-mlogloss:0.487265\n",
      "[157]\ttrain-mlogloss:0.465939\ttest-mlogloss:0.487254\n",
      "[158]\ttrain-mlogloss:0.465719\ttest-mlogloss:0.487063\n",
      "[159]\ttrain-mlogloss:0.465590\ttest-mlogloss:0.487033\n",
      "[160]\ttrain-mlogloss:0.465476\ttest-mlogloss:0.487028\n",
      "[161]\ttrain-mlogloss:0.465332\ttest-mlogloss:0.486993\n",
      "[162]\ttrain-mlogloss:0.465222\ttest-mlogloss:0.486987\n",
      "[163]\ttrain-mlogloss:0.465102\ttest-mlogloss:0.486930\n",
      "[164]\ttrain-mlogloss:0.464949\ttest-mlogloss:0.486879\n",
      "[165]\ttrain-mlogloss:0.464831\ttest-mlogloss:0.486884\n",
      "[166]\ttrain-mlogloss:0.464695\ttest-mlogloss:0.486859\n",
      "[167]\ttrain-mlogloss:0.464563\ttest-mlogloss:0.486828\n",
      "[168]\ttrain-mlogloss:0.464448\ttest-mlogloss:0.486833\n",
      "[169]\ttrain-mlogloss:0.464327\ttest-mlogloss:0.486800\n",
      "[170]\ttrain-mlogloss:0.464218\ttest-mlogloss:0.486805\n",
      "[171]\ttrain-mlogloss:0.464103\ttest-mlogloss:0.486805\n",
      "[172]\ttrain-mlogloss:0.463973\ttest-mlogloss:0.486771\n",
      "[173]\ttrain-mlogloss:0.463866\ttest-mlogloss:0.486770\n",
      "[174]\ttrain-mlogloss:0.463633\ttest-mlogloss:0.486593\n",
      "[175]\ttrain-mlogloss:0.463531\ttest-mlogloss:0.486595\n",
      "[176]\ttrain-mlogloss:0.463372\ttest-mlogloss:0.486568\n",
      "[177]\ttrain-mlogloss:0.463247\ttest-mlogloss:0.486534\n",
      "[178]\ttrain-mlogloss:0.463151\ttest-mlogloss:0.486541\n",
      "[179]\ttrain-mlogloss:0.463062\ttest-mlogloss:0.486552\n",
      "[180]\ttrain-mlogloss:0.462935\ttest-mlogloss:0.486522\n",
      "[181]\ttrain-mlogloss:0.462851\ttest-mlogloss:0.486540\n",
      "[182]\ttrain-mlogloss:0.462754\ttest-mlogloss:0.486563\n",
      "[183]\ttrain-mlogloss:0.462639\ttest-mlogloss:0.486563\n",
      "[184]\ttrain-mlogloss:0.462539\ttest-mlogloss:0.486571\n",
      "[185]\ttrain-mlogloss:0.462438\ttest-mlogloss:0.486559\n",
      "[186]\ttrain-mlogloss:0.462344\ttest-mlogloss:0.486546\n",
      "[187]\ttrain-mlogloss:0.462216\ttest-mlogloss:0.486544\n",
      "[188]\ttrain-mlogloss:0.462108\ttest-mlogloss:0.486539\n",
      "[189]\ttrain-mlogloss:0.461997\ttest-mlogloss:0.486534\n",
      "[190]\ttrain-mlogloss:0.461885\ttest-mlogloss:0.486510\n",
      "[191]\ttrain-mlogloss:0.461753\ttest-mlogloss:0.486494\n",
      "[192]\ttrain-mlogloss:0.461579\ttest-mlogloss:0.486443\n",
      "[193]\ttrain-mlogloss:0.461483\ttest-mlogloss:0.486437\n",
      "[194]\ttrain-mlogloss:0.461292\ttest-mlogloss:0.486396\n",
      "[195]\ttrain-mlogloss:0.461194\ttest-mlogloss:0.486374\n",
      "[196]\ttrain-mlogloss:0.461107\ttest-mlogloss:0.486352\n",
      "[197]\ttrain-mlogloss:0.461002\ttest-mlogloss:0.486339\n",
      "[198]\ttrain-mlogloss:0.460919\ttest-mlogloss:0.486329\n",
      "[199]\ttrain-mlogloss:0.460802\ttest-mlogloss:0.486312\n",
      "[200]\ttrain-mlogloss:0.460699\ttest-mlogloss:0.486319\n",
      "[201]\ttrain-mlogloss:0.460475\ttest-mlogloss:0.486268\n",
      "[202]\ttrain-mlogloss:0.460358\ttest-mlogloss:0.486262\n",
      "[203]\ttrain-mlogloss:0.460281\ttest-mlogloss:0.486263\n",
      "[204]\ttrain-mlogloss:0.460197\ttest-mlogloss:0.486279\n",
      "[205]\ttrain-mlogloss:0.459988\ttest-mlogloss:0.486224\n",
      "[206]\ttrain-mlogloss:0.459859\ttest-mlogloss:0.486214\n",
      "[207]\ttrain-mlogloss:0.459771\ttest-mlogloss:0.486173\n",
      "[208]\ttrain-mlogloss:0.459666\ttest-mlogloss:0.486177\n",
      "[209]\ttrain-mlogloss:0.459574\ttest-mlogloss:0.486184\n",
      "[210]\ttrain-mlogloss:0.459493\ttest-mlogloss:0.486183\n",
      "[211]\ttrain-mlogloss:0.459363\ttest-mlogloss:0.486147\n",
      "[212]\ttrain-mlogloss:0.459261\ttest-mlogloss:0.486135\n",
      "[213]\ttrain-mlogloss:0.459160\ttest-mlogloss:0.486142\n",
      "[214]\ttrain-mlogloss:0.459040\ttest-mlogloss:0.486128\n",
      "[215]\ttrain-mlogloss:0.458954\ttest-mlogloss:0.486118\n",
      "[216]\ttrain-mlogloss:0.458870\ttest-mlogloss:0.486110\n",
      "[217]\ttrain-mlogloss:0.458766\ttest-mlogloss:0.486094\n",
      "[218]\ttrain-mlogloss:0.458673\ttest-mlogloss:0.486088\n",
      "[219]\ttrain-mlogloss:0.458602\ttest-mlogloss:0.486078\n",
      "[220]\ttrain-mlogloss:0.458509\ttest-mlogloss:0.486068\n",
      "[221]\ttrain-mlogloss:0.458405\ttest-mlogloss:0.486058\n",
      "[222]\ttrain-mlogloss:0.458235\ttest-mlogloss:0.486008\n",
      "[223]\ttrain-mlogloss:0.458160\ttest-mlogloss:0.486015\n",
      "[224]\ttrain-mlogloss:0.458063\ttest-mlogloss:0.486003\n",
      "[225]\ttrain-mlogloss:0.457974\ttest-mlogloss:0.485993\n",
      "[226]\ttrain-mlogloss:0.457870\ttest-mlogloss:0.485953\n",
      "[227]\ttrain-mlogloss:0.457802\ttest-mlogloss:0.485951\n",
      "[228]\ttrain-mlogloss:0.457716\ttest-mlogloss:0.485935\n",
      "[229]\ttrain-mlogloss:0.457559\ttest-mlogloss:0.485884\n",
      "[230]\ttrain-mlogloss:0.457461\ttest-mlogloss:0.485897\n",
      "[231]\ttrain-mlogloss:0.457271\ttest-mlogloss:0.485825\n",
      "[232]\ttrain-mlogloss:0.457186\ttest-mlogloss:0.485819\n",
      "[233]\ttrain-mlogloss:0.457120\ttest-mlogloss:0.485808\n",
      "[234]\ttrain-mlogloss:0.457034\ttest-mlogloss:0.485810\n",
      "[235]\ttrain-mlogloss:0.456911\ttest-mlogloss:0.485789\n",
      "[236]\ttrain-mlogloss:0.456764\ttest-mlogloss:0.485736\n",
      "[237]\ttrain-mlogloss:0.456661\ttest-mlogloss:0.485729\n",
      "[238]\ttrain-mlogloss:0.456570\ttest-mlogloss:0.485731\n",
      "[239]\ttrain-mlogloss:0.456488\ttest-mlogloss:0.485743\n",
      "[240]\ttrain-mlogloss:0.456399\ttest-mlogloss:0.485750\n",
      "[241]\ttrain-mlogloss:0.456254\ttest-mlogloss:0.485707\n",
      "[242]\ttrain-mlogloss:0.456173\ttest-mlogloss:0.485697\n",
      "[243]\ttrain-mlogloss:0.456093\ttest-mlogloss:0.485686\n",
      "[244]\ttrain-mlogloss:0.455986\ttest-mlogloss:0.485686\n",
      "[245]\ttrain-mlogloss:0.455870\ttest-mlogloss:0.485676\n",
      "[246]\ttrain-mlogloss:0.455791\ttest-mlogloss:0.485659\n",
      "[247]\ttrain-mlogloss:0.455704\ttest-mlogloss:0.485664\n",
      "[248]\ttrain-mlogloss:0.455552\ttest-mlogloss:0.485591\n",
      "[249]\ttrain-mlogloss:0.455431\ttest-mlogloss:0.485559\n",
      "[250]\ttrain-mlogloss:0.455350\ttest-mlogloss:0.485571\n",
      "[251]\ttrain-mlogloss:0.455246\ttest-mlogloss:0.485539\n",
      "[252]\ttrain-mlogloss:0.455134\ttest-mlogloss:0.485552\n",
      "[253]\ttrain-mlogloss:0.455049\ttest-mlogloss:0.485525\n",
      "[254]\ttrain-mlogloss:0.454961\ttest-mlogloss:0.485527\n",
      "[255]\ttrain-mlogloss:0.454848\ttest-mlogloss:0.485527\n",
      "[256]\ttrain-mlogloss:0.454754\ttest-mlogloss:0.485498\n",
      "[257]\ttrain-mlogloss:0.454681\ttest-mlogloss:0.485511\n",
      "[258]\ttrain-mlogloss:0.454589\ttest-mlogloss:0.485513\n",
      "[259]\ttrain-mlogloss:0.454477\ttest-mlogloss:0.485521\n",
      "[260]\ttrain-mlogloss:0.454402\ttest-mlogloss:0.485532\n",
      "[261]\ttrain-mlogloss:0.454281\ttest-mlogloss:0.485511\n",
      "[262]\ttrain-mlogloss:0.454190\ttest-mlogloss:0.485511\n",
      "[263]\ttrain-mlogloss:0.454104\ttest-mlogloss:0.485516\n",
      "[264]\ttrain-mlogloss:0.453988\ttest-mlogloss:0.485501\n",
      "[265]\ttrain-mlogloss:0.453894\ttest-mlogloss:0.485485\n",
      "[266]\ttrain-mlogloss:0.453818\ttest-mlogloss:0.485486\n",
      "[267]\ttrain-mlogloss:0.453721\ttest-mlogloss:0.485484\n",
      "[268]\ttrain-mlogloss:0.453642\ttest-mlogloss:0.485470\n",
      "[269]\ttrain-mlogloss:0.453566\ttest-mlogloss:0.485470\n",
      "[270]\ttrain-mlogloss:0.453464\ttest-mlogloss:0.485487\n",
      "[271]\ttrain-mlogloss:0.453400\ttest-mlogloss:0.485505\n",
      "[272]\ttrain-mlogloss:0.453305\ttest-mlogloss:0.485490\n",
      "[273]\ttrain-mlogloss:0.453225\ttest-mlogloss:0.485484\n",
      "[274]\ttrain-mlogloss:0.453146\ttest-mlogloss:0.485493\n",
      "[275]\ttrain-mlogloss:0.453068\ttest-mlogloss:0.485513\n",
      "[276]\ttrain-mlogloss:0.452988\ttest-mlogloss:0.485519\n",
      "[277]\ttrain-mlogloss:0.452908\ttest-mlogloss:0.485490\n",
      "[278]\ttrain-mlogloss:0.452827\ttest-mlogloss:0.485474\n",
      "[279]\ttrain-mlogloss:0.452724\ttest-mlogloss:0.485486\n",
      "[280]\ttrain-mlogloss:0.452655\ttest-mlogloss:0.485469\n",
      "[281]\ttrain-mlogloss:0.452565\ttest-mlogloss:0.485489\n",
      "[282]\ttrain-mlogloss:0.452461\ttest-mlogloss:0.485470\n",
      "[283]\ttrain-mlogloss:0.452371\ttest-mlogloss:0.485461\n",
      "[284]\ttrain-mlogloss:0.452310\ttest-mlogloss:0.485457\n",
      "[285]\ttrain-mlogloss:0.452191\ttest-mlogloss:0.485448\n",
      "[286]\ttrain-mlogloss:0.452114\ttest-mlogloss:0.485463\n",
      "[287]\ttrain-mlogloss:0.452033\ttest-mlogloss:0.485472\n",
      "[288]\ttrain-mlogloss:0.451967\ttest-mlogloss:0.485477\n",
      "[289]\ttrain-mlogloss:0.451865\ttest-mlogloss:0.485451\n",
      "[290]\ttrain-mlogloss:0.451777\ttest-mlogloss:0.485456\n",
      "[291]\ttrain-mlogloss:0.451708\ttest-mlogloss:0.485465\n",
      "[292]\ttrain-mlogloss:0.451634\ttest-mlogloss:0.485453\n",
      "[293]\ttrain-mlogloss:0.451552\ttest-mlogloss:0.485445\n",
      "[294]\ttrain-mlogloss:0.451474\ttest-mlogloss:0.485443\n",
      "[295]\ttrain-mlogloss:0.451378\ttest-mlogloss:0.485469\n",
      "[296]\ttrain-mlogloss:0.451288\ttest-mlogloss:0.485480\n",
      "[297]\ttrain-mlogloss:0.451208\ttest-mlogloss:0.485472\n",
      "[298]\ttrain-mlogloss:0.451123\ttest-mlogloss:0.485459\n",
      "[299]\ttrain-mlogloss:0.451029\ttest-mlogloss:0.485452\n",
      "[300]\ttrain-mlogloss:0.450936\ttest-mlogloss:0.485482\n",
      "[301]\ttrain-mlogloss:0.450881\ttest-mlogloss:0.485464\n",
      "[302]\ttrain-mlogloss:0.450803\ttest-mlogloss:0.485472\n",
      "[303]\ttrain-mlogloss:0.450734\ttest-mlogloss:0.485477\n",
      "[304]\ttrain-mlogloss:0.450645\ttest-mlogloss:0.485470\n",
      "[305]\ttrain-mlogloss:0.450561\ttest-mlogloss:0.485476\n",
      "[306]\ttrain-mlogloss:0.450487\ttest-mlogloss:0.485474\n",
      "[307]\ttrain-mlogloss:0.450393\ttest-mlogloss:0.485490\n",
      "[308]\ttrain-mlogloss:0.450319\ttest-mlogloss:0.485485\n",
      "[309]\ttrain-mlogloss:0.450231\ttest-mlogloss:0.485478\n",
      "[310]\ttrain-mlogloss:0.450153\ttest-mlogloss:0.485465\n",
      "[311]\ttrain-mlogloss:0.450088\ttest-mlogloss:0.485479\n",
      "[312]\ttrain-mlogloss:0.450018\ttest-mlogloss:0.485460\n",
      "[313]\ttrain-mlogloss:0.449936\ttest-mlogloss:0.485428\n",
      "[314]\ttrain-mlogloss:0.449795\ttest-mlogloss:0.485426\n",
      "[315]\ttrain-mlogloss:0.449702\ttest-mlogloss:0.485428\n",
      "[316]\ttrain-mlogloss:0.449626\ttest-mlogloss:0.485439\n",
      "[317]\ttrain-mlogloss:0.449543\ttest-mlogloss:0.485435\n",
      "[318]\ttrain-mlogloss:0.449441\ttest-mlogloss:0.485462\n",
      "[319]\ttrain-mlogloss:0.449356\ttest-mlogloss:0.485474\n",
      "[320]\ttrain-mlogloss:0.449275\ttest-mlogloss:0.485464\n",
      "[321]\ttrain-mlogloss:0.449214\ttest-mlogloss:0.485466\n",
      "[322]\ttrain-mlogloss:0.449139\ttest-mlogloss:0.485469\n",
      "[323]\ttrain-mlogloss:0.449070\ttest-mlogloss:0.485474\n",
      "[324]\ttrain-mlogloss:0.448996\ttest-mlogloss:0.485458\n",
      "[325]\ttrain-mlogloss:0.448918\ttest-mlogloss:0.485449\n",
      "[326]\ttrain-mlogloss:0.448836\ttest-mlogloss:0.485442\n",
      "[327]\ttrain-mlogloss:0.448765\ttest-mlogloss:0.485460\n",
      "[328]\ttrain-mlogloss:0.448702\ttest-mlogloss:0.485482\n",
      "[329]\ttrain-mlogloss:0.448643\ttest-mlogloss:0.485488\n",
      "[330]\ttrain-mlogloss:0.448534\ttest-mlogloss:0.485517\n",
      "[331]\ttrain-mlogloss:0.448461\ttest-mlogloss:0.485518\n",
      "[332]\ttrain-mlogloss:0.448387\ttest-mlogloss:0.485519\n",
      "[333]\ttrain-mlogloss:0.448307\ttest-mlogloss:0.485539\n",
      "[334]\ttrain-mlogloss:0.448237\ttest-mlogloss:0.485544\n",
      "Stopping. Best iteration:\n",
      "[314]\ttrain-mlogloss:0.449795\ttest-mlogloss:0.485426\n",
      "\n"
     ]
    },
    {
     "name": "stdout",
     "output_type": "stream",
     "text": [
      "[0.48546397006918079]\n"
     ]
    }
   ],
   "source": [
    "cv_scores = []\n",
    "kf = model_selection.KFold(n_splits=5, shuffle=True, random_state=2017)\n",
    "for dev_index, val_index in kf.split(range(x_train_sess.shape[0])):\n",
    "        dev_X, val_X = x_train_sess.loc[dev_index], x_train_sess.loc[val_index,:]\n",
    "        dev_y, val_y = encoded_y_train_sess[dev_index], encoded_y_train_sess[val_index]\n",
    "        preds, model = runXGB(dev_X, dev_y, val_X, val_y)\n",
    "        cv_scores.append(log_loss(val_y, preds))\n",
    "        print(cv_scores)\n",
    "        break"
   ]
  },
  {
   "cell_type": "code",
   "execution_count": 462,
   "metadata": {
    "collapsed": false
   },
   "outputs": [],
   "source": [
    "preds1, model1 = runXGB(x_train_sess,encoded_y_train_sess,test_final_sess,num_rounds=250)\n",
    "out_df = pd.DataFrame(preds1)"
   ]
  },
  {
   "cell_type": "code",
   "execution_count": 463,
   "metadata": {
    "collapsed": false
   },
   "outputs": [
    {
     "data": {
      "text/plain": [
       "array([[  1.12716596e-04,   6.75768417e-04,   4.48818988e-04, ...,\n",
       "          7.35918074e-05,   2.05456931e-02,   4.16654721e-03],\n",
       "       [  9.68591557e-05,   5.39873086e-04,   3.02495435e-04, ...,\n",
       "          6.46443004e-05,   1.69127025e-02,   3.34557751e-03],\n",
       "       [  8.45513714e-05,   6.10057206e-04,   3.71652830e-04, ...,\n",
       "          9.34760246e-05,   1.72928032e-02,   3.34144826e-03],\n",
       "       ..., \n",
       "       [  1.17853255e-04,   6.31776988e-04,   9.29332920e-04, ...,\n",
       "          2.43392235e-04,   1.73759144e-02,   3.76377860e-03],\n",
       "       [  1.36410090e-04,   4.72393003e-04,   6.57128054e-04, ...,\n",
       "          3.32226569e-04,   1.73319671e-02,   3.76557582e-03],\n",
       "       [  2.35367785e-04,   7.81683950e-04,   6.54007075e-04, ...,\n",
       "          1.44316917e-04,   2.23258622e-02,   4.84450161e-03]], dtype=float32)"
      ]
     },
     "execution_count": 463,
     "metadata": {},
     "output_type": "execute_result"
    }
   ],
   "source": [
    "preds1"
   ]
  },
  {
   "cell_type": "code",
   "execution_count": 464,
   "metadata": {
    "collapsed": true
   },
   "outputs": [],
   "source": [
    "ids = []  #list of ids\n",
    "cts = []  #list of countries\n",
    "for i in range(len(id_test)):\n",
    "    idx = id_test[i]\n",
    "    ids += [idx] * 5\n",
    "    cts += label_encoder1.inverse_transform(np.argsort(preds1[i])[::-1])[:5].tolist()"
   ]
  },
  {
   "cell_type": "code",
   "execution_count": 465,
   "metadata": {
    "collapsed": true
   },
   "outputs": [],
   "source": [
    "pred_final = pd.DataFrame(np.column_stack((ids, cts)), columns=['id', 'country'])"
   ]
  },
  {
   "cell_type": "code",
   "execution_count": 466,
   "metadata": {
    "collapsed": true
   },
   "outputs": [],
   "source": [
    "pred_final.to_csv(\"xgb_amit_w_sess.csv\", index=False)"
   ]
  },
  {
   "cell_type": "markdown",
   "metadata": {},
   "source": [
    "# STACKING"
   ]
  },
  {
   "cell_type": "code",
   "execution_count": 477,
   "metadata": {
    "collapsed": true
   },
   "outputs": [],
   "source": [
    "import_features = pd.read_csv(\"data/Feature.csv\")"
   ]
  },
  {
   "cell_type": "code",
   "execution_count": 478,
   "metadata": {
    "collapsed": false
   },
   "outputs": [
    {
     "data": {
      "text/html": [
       "<div>\n",
       "<table border=\"1\" class=\"dataframe\">\n",
       "  <thead>\n",
       "    <tr style=\"text-align: right;\">\n",
       "      <th></th>\n",
       "      <th>Unnamed: 0</th>\n",
       "      <th>Feature</th>\n",
       "      <th>Importance</th>\n",
       "    </tr>\n",
       "  </thead>\n",
       "  <tbody>\n",
       "    <tr>\n",
       "      <th>0</th>\n",
       "      <td>date_first_booking_year</td>\n",
       "      <td>date_first_booking_year</td>\n",
       "      <td>0.073207</td>\n",
       "    </tr>\n",
       "    <tr>\n",
       "      <th>1</th>\n",
       "      <td>date_first_booking_day</td>\n",
       "      <td>date_first_booking_day</td>\n",
       "      <td>0.065000</td>\n",
       "    </tr>\n",
       "    <tr>\n",
       "      <th>2</th>\n",
       "      <td>date_first_booking_dayofweek</td>\n",
       "      <td>date_first_booking_dayofweek</td>\n",
       "      <td>0.063739</td>\n",
       "    </tr>\n",
       "    <tr>\n",
       "      <th>3</th>\n",
       "      <td>age</td>\n",
       "      <td>age</td>\n",
       "      <td>0.058238</td>\n",
       "    </tr>\n",
       "    <tr>\n",
       "      <th>4</th>\n",
       "      <td>timestamp_first_active_day</td>\n",
       "      <td>timestamp_first_active_day</td>\n",
       "      <td>0.057404</td>\n",
       "    </tr>\n",
       "  </tbody>\n",
       "</table>\n",
       "</div>"
      ],
      "text/plain": [
       "                     Unnamed: 0                       Feature  Importance\n",
       "0       date_first_booking_year       date_first_booking_year    0.073207\n",
       "1        date_first_booking_day        date_first_booking_day    0.065000\n",
       "2  date_first_booking_dayofweek  date_first_booking_dayofweek    0.063739\n",
       "3                           age                           age    0.058238\n",
       "4    timestamp_first_active_day    timestamp_first_active_day    0.057404"
      ]
     },
     "execution_count": 478,
     "metadata": {},
     "output_type": "execute_result"
    }
   ],
   "source": [
    "import_features.head()"
   ]
  },
  {
   "cell_type": "code",
   "execution_count": null,
   "metadata": {
    "collapsed": true
   },
   "outputs": [],
   "source": [
    "train_final_sess"
   ]
  },
  {
   "cell_type": "code",
   "execution_count": 72,
   "metadata": {
    "collapsed": true
   },
   "outputs": [],
   "source": [
    "from sklearn.ensemble import RandomForestClassifier\n",
    "rndm = RandomForestClassifier(min_samples_leaf =5,class_weight = 'balanced', random_state = 20, max_depth = 100)"
   ]
  },
  {
   "cell_type": "code",
   "execution_count": 73,
   "metadata": {
    "collapsed": true
   },
   "outputs": [],
   "source": [
    "from sklearn.ensemble import AdaBoostClassifier\n",
    "adboost = AdaBoostClassifier(n_estimators=25, learning_rate=.8,random_state = 20)"
   ]
  },
  {
   "cell_type": "code",
   "execution_count": 74,
   "metadata": {
    "collapsed": false
   },
   "outputs": [],
   "source": [
    "from xgboost.sklearn import XGBClassifier\n",
    "xbgstack = XGBClassifier(max_depth=4, learning_rate=0.3, n_estimators=25,\n",
    "                    objective='multi:softprob', subsample=0.7, colsample_bytree=0.7, seed=1)"
   ]
  },
  {
   "cell_type": "code",
   "execution_count": 75,
   "metadata": {
    "collapsed": true
   },
   "outputs": [],
   "source": [
    "from sklearn.ensemble import GradientBoostingClassifier\n",
    "gbm = GradientBoostingClassifier(random_state=10)\n"
   ]
  },
  {
   "cell_type": "code",
   "execution_count": 76,
   "metadata": {
    "collapsed": false
   },
   "outputs": [],
   "source": [
    "from mlxtend.classifier import StackingClassifier\n",
    "sclf = StackingClassifier(classifiers=[rndm, adboost,gbm], \n",
    "                          meta_classifier= xbgstack)"
   ]
  },
  {
   "cell_type": "code",
   "execution_count": null,
   "metadata": {
    "collapsed": true
   },
   "outputs": [],
   "source": [
    "x_train_wo_sess_imp=x_train_wo_sess[import_features[import_features.Importance > 0]['Feature'].tolist()]"
   ]
  },
  {
   "cell_type": "code",
   "execution_count": 528,
   "metadata": {
    "collapsed": false
   },
   "outputs": [],
   "source": [
    "import itertools\n",
    "\n",
    "\n",
    "for clf, lab, grd in zip([rndm, adboost,gbm,sclf], \n",
    "                         ['Random Forest', \n",
    "                          'Ada Boost',\n",
    "                          'Gradient Boosting Model',\n",
    "                          'Stacking Classifier'],\n",
    "                          itertools.product([0, 1], repeat=2)):\n",
    "    clf.fit(x_train_wo_sess_imp, encoded_y_train)\n"
   ]
  },
  {
   "cell_type": "code",
   "execution_count": 531,
   "metadata": {
    "collapsed": false
   },
   "outputs": [
    {
     "data": {
      "text/plain": [
       "(62096, 166)"
      ]
     },
     "execution_count": 531,
     "metadata": {},
     "output_type": "execute_result"
    }
   ],
   "source": [
    "test_final_sess_imp=test_final_sess[import_features[import_features.Importance > 0]['Feature'].tolist()]"
   ]
  },
  {
   "cell_type": "code",
   "execution_count": 533,
   "metadata": {
    "collapsed": false
   },
   "outputs": [],
   "source": [
    "pred1_stck = clf.predict_proba(test_final_sess_imp)"
   ]
  },
  {
   "cell_type": "code",
   "execution_count": 535,
   "metadata": {
    "collapsed": true
   },
   "outputs": [],
   "source": [
    "ids = []  #list of ids\n",
    "cts = []  #list of countries\n",
    "for i in range(len(id_test)):\n",
    "    idx = id_test[i]\n",
    "    ids += [idx] * 5\n",
    "    cts += label_encoder1.inverse_transform(np.argsort(pred1_stck[i])[::-1])[:5].tolist()"
   ]
  },
  {
   "cell_type": "code",
   "execution_count": 536,
   "metadata": {
    "collapsed": true
   },
   "outputs": [],
   "source": [
    "pred_final_stk = pd.DataFrame(np.column_stack((ids, cts)), columns=['id', 'country'])"
   ]
  },
  {
   "cell_type": "code",
   "execution_count": 538,
   "metadata": {
    "collapsed": true
   },
   "outputs": [],
   "source": [
    "pred_final_stk.to_csv(\"stack_amit_w_sess.csv\", index=False)"
   ]
  },
  {
   "cell_type": "markdown",
   "metadata": {},
   "source": [
    "# Voting Classifier"
   ]
  },
  {
   "cell_type": "code",
   "execution_count": 70,
   "metadata": {
    "collapsed": true
   },
   "outputs": [],
   "source": [
    "from sklearn.ensemble import VotingClassifier"
   ]
  },
  {
   "cell_type": "code",
   "execution_count": 77,
   "metadata": {
    "collapsed": false
   },
   "outputs": [],
   "source": [
    "eclf1 = VotingClassifier(estimators=[\n",
    "    ('rnd', rndm), ('ada', adboost), ('gbm', gbm), ('xgb',xbgstack)], voting='soft')"
   ]
  },
  {
   "cell_type": "code",
   "execution_count": 80,
   "metadata": {
    "collapsed": false
   },
   "outputs": [],
   "source": [
    "from sklearn.preprocessing import LabelEncoder\n",
    "label_encoder_vtng = LabelEncoder()\n",
    "y_train_sess_vt = label_encoder_vtng.fit_transform(y_train_sess)"
   ]
  },
  {
   "cell_type": "code",
   "execution_count": 82,
   "metadata": {
    "collapsed": false
   },
   "outputs": [],
   "source": [
    "eclf1 = eclf1.fit(x_train_sess, y_train_sess_vt)"
   ]
  },
  {
   "cell_type": "code",
   "execution_count": 83,
   "metadata": {
    "collapsed": false
   },
   "outputs": [],
   "source": [
    "vtng_class_pred = eclf1.predict_proba(test_final_sess)"
   ]
  },
  {
   "cell_type": "code",
   "execution_count": 88,
   "metadata": {
    "collapsed": true
   },
   "outputs": [],
   "source": [
    "id_test = test['id']"
   ]
  },
  {
   "cell_type": "code",
   "execution_count": 89,
   "metadata": {
    "collapsed": false
   },
   "outputs": [],
   "source": [
    "ids = []  #list of ids\n",
    "cts = []  #list of countries\n",
    "for i in range(len(id_test)):\n",
    "    idx = id_test[i]\n",
    "    ids += [idx] * 5\n",
    "    cts += label_encoder_vtng.inverse_transform(np.argsort(vtng_class_pred[i])[::-1])[:5].tolist()"
   ]
  },
  {
   "cell_type": "code",
   "execution_count": 90,
   "metadata": {
    "collapsed": true
   },
   "outputs": [],
   "source": [
    "pred_final_vtng = pd.DataFrame(np.column_stack((ids, cts)), columns=['id', 'country'])"
   ]
  },
  {
   "cell_type": "code",
   "execution_count": 91,
   "metadata": {
    "collapsed": true
   },
   "outputs": [],
   "source": [
    "pred_final_vtng.to_csv(\"vtng_amit_w_sess.csv\", index=False)"
   ]
  },
  {
   "cell_type": "code",
   "execution_count": 98,
   "metadata": {
    "collapsed": false
   },
   "outputs": [
    {
     "data": {
      "text/plain": [
       "[0, 8, 11, 7, 5]"
      ]
     },
     "execution_count": 98,
     "metadata": {},
     "output_type": "execute_result"
    }
   ],
   "source": [
    "(np.argsort(vtng_class_pred[1])[::-1])[:5].tolist()"
   ]
  },
  {
   "cell_type": "code",
   "execution_count": 97,
   "metadata": {
    "collapsed": false
   },
   "outputs": [
    {
     "data": {
      "text/plain": [
       "{0, 1, 2, 3, 4, 5, 6, 7, 8, 9, 10, 11, 12}"
      ]
     },
     "execution_count": 97,
     "metadata": {},
     "output_type": "execute_result"
    }
   ],
   "source": [
    "set(y_train_sess_vt)"
   ]
  },
  {
   "cell_type": "code",
   "execution_count": 99,
   "metadata": {
    "collapsed": false
   },
   "outputs": [
    {
     "data": {
      "text/plain": [
       "-1"
      ]
     },
     "execution_count": 99,
     "metadata": {},
     "output_type": "execute_result"
    }
   ],
   "source": [
    "label_encoder_vtng.inverse_transform(0)"
   ]
  },
  {
   "cell_type": "code",
   "execution_count": 103,
   "metadata": {
    "collapsed": false
   },
   "outputs": [
    {
     "data": {
      "text/plain": [
       "(275547,)"
      ]
     },
     "execution_count": 103,
     "metadata": {},
     "output_type": "execute_result"
    }
   ],
   "source": [
    "y_train_sess.shape"
   ]
  },
  {
   "cell_type": "code",
   "execution_count": 496,
   "metadata": {
    "collapsed": false
   },
   "outputs": [],
   "source": [
    "x_train_wo_sess_imp = x_train_wo_sess[import_features.Feature.tolist()]"
   ]
  },
  {
   "cell_type": "code",
   "execution_count": 527,
   "metadata": {
    "collapsed": false
   },
   "outputs": [
    {
     "data": {
      "text/plain": [
       "0           NDF\n",
       "1           NDF\n",
       "2            US\n",
       "3         other\n",
       "4            US\n",
       "5            US\n",
       "6            US\n",
       "7            US\n",
       "8            US\n",
       "9            US\n",
       "10           US\n",
       "11          NDF\n",
       "12           FR\n",
       "13          NDF\n",
       "14          NDF\n",
       "15           CA\n",
       "16          NDF\n",
       "17           US\n",
       "18          NDF\n",
       "19           FR\n",
       "20           US\n",
       "21           US\n",
       "22           US\n",
       "23          NDF\n",
       "24          NDF\n",
       "25           FR\n",
       "26          NDF\n",
       "27           US\n",
       "28           FR\n",
       "29           US\n",
       "          ...  \n",
       "213421      NDF\n",
       "213422      NDF\n",
       "213423      NDF\n",
       "213424      NDF\n",
       "213425      NDF\n",
       "213426      NDF\n",
       "213427      NDF\n",
       "213428      NDF\n",
       "213429      NDF\n",
       "213430      NDF\n",
       "213431      NDF\n",
       "213432      NDF\n",
       "213433      NDF\n",
       "213434      NDF\n",
       "213435      NDF\n",
       "213436      NDF\n",
       "213437      NDF\n",
       "213438      NDF\n",
       "213439       US\n",
       "213440      NDF\n",
       "213441       ES\n",
       "213442      NDF\n",
       "213443       US\n",
       "213444      NDF\n",
       "213445       US\n",
       "213446      NDF\n",
       "213447      NDF\n",
       "213448      NDF\n",
       "213449      NDF\n",
       "213450      NDF\n",
       "Name: country_destination, dtype: object"
      ]
     },
     "execution_count": 527,
     "metadata": {},
     "output_type": "execute_result"
    }
   ],
   "source": [
    "y_train_wo_sess"
   ]
  },
  {
   "cell_type": "code",
   "execution_count": 500,
   "metadata": {
    "collapsed": false
   },
   "outputs": [],
   "source": [
    "x_train_wo_sess_imp=x_train_wo_sess_imp.fillna(-1)"
   ]
  },
  {
   "cell_type": "code",
   "execution_count": 504,
   "metadata": {
    "collapsed": false
   },
   "outputs": [
    {
     "data": {
      "text/html": [
       "<div>\n",
       "<table border=\"1\" class=\"dataframe\">\n",
       "  <thead>\n",
       "    <tr style=\"text-align: right;\">\n",
       "      <th></th>\n",
       "      <th>Unnamed: 0</th>\n",
       "      <th>Feature</th>\n",
       "      <th>Importance</th>\n",
       "    </tr>\n",
       "  </thead>\n",
       "  <tbody>\n",
       "    <tr>\n",
       "      <th>0</th>\n",
       "      <td>date_first_booking_year</td>\n",
       "      <td>date_first_booking_year</td>\n",
       "      <td>7.320709e-02</td>\n",
       "    </tr>\n",
       "    <tr>\n",
       "      <th>1</th>\n",
       "      <td>date_first_booking_day</td>\n",
       "      <td>date_first_booking_day</td>\n",
       "      <td>6.500018e-02</td>\n",
       "    </tr>\n",
       "    <tr>\n",
       "      <th>2</th>\n",
       "      <td>date_first_booking_dayofweek</td>\n",
       "      <td>date_first_booking_dayofweek</td>\n",
       "      <td>6.373908e-02</td>\n",
       "    </tr>\n",
       "    <tr>\n",
       "      <th>3</th>\n",
       "      <td>age</td>\n",
       "      <td>age</td>\n",
       "      <td>5.823781e-02</td>\n",
       "    </tr>\n",
       "    <tr>\n",
       "      <th>4</th>\n",
       "      <td>timestamp_first_active_day</td>\n",
       "      <td>timestamp_first_active_day</td>\n",
       "      <td>5.740415e-02</td>\n",
       "    </tr>\n",
       "    <tr>\n",
       "      <th>5</th>\n",
       "      <td>date_accnt_created_day</td>\n",
       "      <td>date_accnt_created_day</td>\n",
       "      <td>5.718856e-02</td>\n",
       "    </tr>\n",
       "    <tr>\n",
       "      <th>6</th>\n",
       "      <td>timestamp_first_active_dayofweek</td>\n",
       "      <td>timestamp_first_active_dayofweek</td>\n",
       "      <td>4.889437e-02</td>\n",
       "    </tr>\n",
       "    <tr>\n",
       "      <th>7</th>\n",
       "      <td>date_accnt_created_dayofweek</td>\n",
       "      <td>date_accnt_created_dayofweek</td>\n",
       "      <td>4.817646e-02</td>\n",
       "    </tr>\n",
       "    <tr>\n",
       "      <th>8</th>\n",
       "      <td>date_first_booking_month</td>\n",
       "      <td>date_first_booking_month</td>\n",
       "      <td>4.399646e-02</td>\n",
       "    </tr>\n",
       "    <tr>\n",
       "      <th>9</th>\n",
       "      <td>date_first_booking_quarter</td>\n",
       "      <td>date_first_booking_quarter</td>\n",
       "      <td>4.258762e-02</td>\n",
       "    </tr>\n",
       "    <tr>\n",
       "      <th>10</th>\n",
       "      <td>timestamp_first_active_month</td>\n",
       "      <td>timestamp_first_active_month</td>\n",
       "      <td>3.301545e-02</td>\n",
       "    </tr>\n",
       "    <tr>\n",
       "      <th>11</th>\n",
       "      <td>date_accnt_created_month</td>\n",
       "      <td>date_accnt_created_month</td>\n",
       "      <td>3.297459e-02</td>\n",
       "    </tr>\n",
       "    <tr>\n",
       "      <th>12</th>\n",
       "      <td>first_browser_Chrome</td>\n",
       "      <td>first_browser_Chrome</td>\n",
       "      <td>1.960934e-02</td>\n",
       "    </tr>\n",
       "    <tr>\n",
       "      <th>13</th>\n",
       "      <td>first_affiliate_tracked_untracked</td>\n",
       "      <td>first_affiliate_tracked_untracked</td>\n",
       "      <td>1.918180e-02</td>\n",
       "    </tr>\n",
       "    <tr>\n",
       "      <th>14</th>\n",
       "      <td>gender_MALE</td>\n",
       "      <td>gender_MALE</td>\n",
       "      <td>1.902089e-02</td>\n",
       "    </tr>\n",
       "    <tr>\n",
       "      <th>15</th>\n",
       "      <td>gender_FEMALE</td>\n",
       "      <td>gender_FEMALE</td>\n",
       "      <td>1.898701e-02</td>\n",
       "    </tr>\n",
       "    <tr>\n",
       "      <th>16</th>\n",
       "      <td>timestamp_first_active_year</td>\n",
       "      <td>timestamp_first_active_year</td>\n",
       "      <td>1.819619e-02</td>\n",
       "    </tr>\n",
       "    <tr>\n",
       "      <th>17</th>\n",
       "      <td>date_accnt_created_year</td>\n",
       "      <td>date_accnt_created_year</td>\n",
       "      <td>1.793465e-02</td>\n",
       "    </tr>\n",
       "    <tr>\n",
       "      <th>18</th>\n",
       "      <td>first_affiliate_tracked_linked</td>\n",
       "      <td>first_affiliate_tracked_linked</td>\n",
       "      <td>1.645594e-02</td>\n",
       "    </tr>\n",
       "    <tr>\n",
       "      <th>19</th>\n",
       "      <td>first_browser_Firefox</td>\n",
       "      <td>first_browser_Firefox</td>\n",
       "      <td>1.511368e-02</td>\n",
       "    </tr>\n",
       "    <tr>\n",
       "      <th>20</th>\n",
       "      <td>signup_method_facebook</td>\n",
       "      <td>signup_method_facebook</td>\n",
       "      <td>1.357812e-02</td>\n",
       "    </tr>\n",
       "    <tr>\n",
       "      <th>21</th>\n",
       "      <td>first_browser_Safari</td>\n",
       "      <td>first_browser_Safari</td>\n",
       "      <td>1.343359e-02</td>\n",
       "    </tr>\n",
       "    <tr>\n",
       "      <th>22</th>\n",
       "      <td>signup_method_basic</td>\n",
       "      <td>signup_method_basic</td>\n",
       "      <td>1.256272e-02</td>\n",
       "    </tr>\n",
       "    <tr>\n",
       "      <th>23</th>\n",
       "      <td>first_device_type_Windows Desktop</td>\n",
       "      <td>first_device_type_Windows Desktop</td>\n",
       "      <td>1.245833e-02</td>\n",
       "    </tr>\n",
       "    <tr>\n",
       "      <th>24</th>\n",
       "      <td>timestamp_first_active_quarter</td>\n",
       "      <td>timestamp_first_active_quarter</td>\n",
       "      <td>1.216121e-02</td>\n",
       "    </tr>\n",
       "    <tr>\n",
       "      <th>25</th>\n",
       "      <td>first_device_type_Mac Desktop</td>\n",
       "      <td>first_device_type_Mac Desktop</td>\n",
       "      <td>1.206911e-02</td>\n",
       "    </tr>\n",
       "    <tr>\n",
       "      <th>26</th>\n",
       "      <td>first_affiliate_tracked_omg</td>\n",
       "      <td>first_affiliate_tracked_omg</td>\n",
       "      <td>1.173338e-02</td>\n",
       "    </tr>\n",
       "    <tr>\n",
       "      <th>27</th>\n",
       "      <td>date_accnt_created_quarter</td>\n",
       "      <td>date_accnt_created_quarter</td>\n",
       "      <td>1.139317e-02</td>\n",
       "    </tr>\n",
       "    <tr>\n",
       "      <th>28</th>\n",
       "      <td>first_browser_IE</td>\n",
       "      <td>first_browser_IE</td>\n",
       "      <td>8.391281e-03</td>\n",
       "    </tr>\n",
       "    <tr>\n",
       "      <th>29</th>\n",
       "      <td>affiliate_provider_google</td>\n",
       "      <td>affiliate_provider_google</td>\n",
       "      <td>8.105322e-03</td>\n",
       "    </tr>\n",
       "    <tr>\n",
       "      <th>...</th>\n",
       "      <td>...</td>\n",
       "      <td>...</td>\n",
       "      <td>...</td>\n",
       "    </tr>\n",
       "    <tr>\n",
       "      <th>136</th>\n",
       "      <td>signup_flow_20</td>\n",
       "      <td>signup_flow_20</td>\n",
       "      <td>5.146792e-07</td>\n",
       "    </tr>\n",
       "    <tr>\n",
       "      <th>137</th>\n",
       "      <td>first_browser_TenFourFox</td>\n",
       "      <td>first_browser_TenFourFox</td>\n",
       "      <td>4.588707e-07</td>\n",
       "    </tr>\n",
       "    <tr>\n",
       "      <th>138</th>\n",
       "      <td>language_ca</td>\n",
       "      <td>language_ca</td>\n",
       "      <td>4.411271e-07</td>\n",
       "    </tr>\n",
       "    <tr>\n",
       "      <th>139</th>\n",
       "      <td>first_browser_CometBird</td>\n",
       "      <td>first_browser_CometBird</td>\n",
       "      <td>4.177025e-07</td>\n",
       "    </tr>\n",
       "    <tr>\n",
       "      <th>140</th>\n",
       "      <td>first_browser_Mozilla</td>\n",
       "      <td>first_browser_Mozilla</td>\n",
       "      <td>3.963034e-07</td>\n",
       "    </tr>\n",
       "    <tr>\n",
       "      <th>141</th>\n",
       "      <td>first_browser_Stainless</td>\n",
       "      <td>first_browser_Stainless</td>\n",
       "      <td>2.715717e-07</td>\n",
       "    </tr>\n",
       "    <tr>\n",
       "      <th>142</th>\n",
       "      <td>first_browser_NetNewsWire</td>\n",
       "      <td>first_browser_NetNewsWire</td>\n",
       "      <td>1.781512e-07</td>\n",
       "    </tr>\n",
       "    <tr>\n",
       "      <th>143</th>\n",
       "      <td>signup_flow_10</td>\n",
       "      <td>signup_flow_10</td>\n",
       "      <td>1.414607e-07</td>\n",
       "    </tr>\n",
       "    <tr>\n",
       "      <th>144</th>\n",
       "      <td>first_browser_Crazy Browser</td>\n",
       "      <td>first_browser_Crazy Browser</td>\n",
       "      <td>3.889027e-08</td>\n",
       "    </tr>\n",
       "    <tr>\n",
       "      <th>145</th>\n",
       "      <td>language_id</td>\n",
       "      <td>language_id</td>\n",
       "      <td>9.618129e-09</td>\n",
       "    </tr>\n",
       "    <tr>\n",
       "      <th>146</th>\n",
       "      <td>first_browser_Yandex.Browser</td>\n",
       "      <td>first_browser_Yandex.Browser</td>\n",
       "      <td>0.000000e+00</td>\n",
       "    </tr>\n",
       "    <tr>\n",
       "      <th>147</th>\n",
       "      <td>first_browser_UC Browser</td>\n",
       "      <td>first_browser_UC Browser</td>\n",
       "      <td>0.000000e+00</td>\n",
       "    </tr>\n",
       "    <tr>\n",
       "      <th>148</th>\n",
       "      <td>affiliate_provider_wayn</td>\n",
       "      <td>affiliate_provider_wayn</td>\n",
       "      <td>0.000000e+00</td>\n",
       "    </tr>\n",
       "    <tr>\n",
       "      <th>149</th>\n",
       "      <td>first_browser_Comodo Dragon</td>\n",
       "      <td>first_browser_Comodo Dragon</td>\n",
       "      <td>0.000000e+00</td>\n",
       "    </tr>\n",
       "    <tr>\n",
       "      <th>150</th>\n",
       "      <td>first_browser_Conkeror</td>\n",
       "      <td>first_browser_Conkeror</td>\n",
       "      <td>0.000000e+00</td>\n",
       "    </tr>\n",
       "    <tr>\n",
       "      <th>151</th>\n",
       "      <td>signup_method_weibo</td>\n",
       "      <td>signup_method_weibo</td>\n",
       "      <td>0.000000e+00</td>\n",
       "    </tr>\n",
       "    <tr>\n",
       "      <th>152</th>\n",
       "      <td>signup_flow_4</td>\n",
       "      <td>signup_flow_4</td>\n",
       "      <td>0.000000e+00</td>\n",
       "    </tr>\n",
       "    <tr>\n",
       "      <th>153</th>\n",
       "      <td>first_browser_IceDragon</td>\n",
       "      <td>first_browser_IceDragon</td>\n",
       "      <td>0.000000e+00</td>\n",
       "    </tr>\n",
       "    <tr>\n",
       "      <th>154</th>\n",
       "      <td>first_browser_Epic</td>\n",
       "      <td>first_browser_Epic</td>\n",
       "      <td>0.000000e+00</td>\n",
       "    </tr>\n",
       "    <tr>\n",
       "      <th>155</th>\n",
       "      <td>first_browser_Arora</td>\n",
       "      <td>first_browser_Arora</td>\n",
       "      <td>0.000000e+00</td>\n",
       "    </tr>\n",
       "    <tr>\n",
       "      <th>156</th>\n",
       "      <td>first_browser_PS Vita browser</td>\n",
       "      <td>first_browser_PS Vita browser</td>\n",
       "      <td>0.000000e+00</td>\n",
       "    </tr>\n",
       "    <tr>\n",
       "      <th>157</th>\n",
       "      <td>first_browser_Outlook 2007</td>\n",
       "      <td>first_browser_Outlook 2007</td>\n",
       "      <td>0.000000e+00</td>\n",
       "    </tr>\n",
       "    <tr>\n",
       "      <th>158</th>\n",
       "      <td>first_browser_Opera Mobile</td>\n",
       "      <td>first_browser_Opera Mobile</td>\n",
       "      <td>0.000000e+00</td>\n",
       "    </tr>\n",
       "    <tr>\n",
       "      <th>159</th>\n",
       "      <td>first_browser_Google Earth</td>\n",
       "      <td>first_browser_Google Earth</td>\n",
       "      <td>0.000000e+00</td>\n",
       "    </tr>\n",
       "    <tr>\n",
       "      <th>160</th>\n",
       "      <td>first_browser_IBrowse</td>\n",
       "      <td>first_browser_IBrowse</td>\n",
       "      <td>0.000000e+00</td>\n",
       "    </tr>\n",
       "    <tr>\n",
       "      <th>161</th>\n",
       "      <td>first_browser_OmniWeb</td>\n",
       "      <td>first_browser_OmniWeb</td>\n",
       "      <td>0.000000e+00</td>\n",
       "    </tr>\n",
       "    <tr>\n",
       "      <th>162</th>\n",
       "      <td>first_browser_Nintendo Browser</td>\n",
       "      <td>first_browser_Nintendo Browser</td>\n",
       "      <td>0.000000e+00</td>\n",
       "    </tr>\n",
       "    <tr>\n",
       "      <th>163</th>\n",
       "      <td>signup_flow_14</td>\n",
       "      <td>signup_flow_14</td>\n",
       "      <td>0.000000e+00</td>\n",
       "    </tr>\n",
       "    <tr>\n",
       "      <th>164</th>\n",
       "      <td>language_hr</td>\n",
       "      <td>language_hr</td>\n",
       "      <td>0.000000e+00</td>\n",
       "    </tr>\n",
       "    <tr>\n",
       "      <th>165</th>\n",
       "      <td>first_browser_Flock</td>\n",
       "      <td>first_browser_Flock</td>\n",
       "      <td>0.000000e+00</td>\n",
       "    </tr>\n",
       "  </tbody>\n",
       "</table>\n",
       "<p>166 rows × 3 columns</p>\n",
       "</div>"
      ],
      "text/plain": [
       "                            Unnamed: 0                            Feature  \\\n",
       "0              date_first_booking_year            date_first_booking_year   \n",
       "1               date_first_booking_day             date_first_booking_day   \n",
       "2         date_first_booking_dayofweek       date_first_booking_dayofweek   \n",
       "3                                  age                                age   \n",
       "4           timestamp_first_active_day         timestamp_first_active_day   \n",
       "5               date_accnt_created_day             date_accnt_created_day   \n",
       "6     timestamp_first_active_dayofweek   timestamp_first_active_dayofweek   \n",
       "7         date_accnt_created_dayofweek       date_accnt_created_dayofweek   \n",
       "8             date_first_booking_month           date_first_booking_month   \n",
       "9           date_first_booking_quarter         date_first_booking_quarter   \n",
       "10        timestamp_first_active_month       timestamp_first_active_month   \n",
       "11            date_accnt_created_month           date_accnt_created_month   \n",
       "12                first_browser_Chrome               first_browser_Chrome   \n",
       "13   first_affiliate_tracked_untracked  first_affiliate_tracked_untracked   \n",
       "14                         gender_MALE                        gender_MALE   \n",
       "15                       gender_FEMALE                      gender_FEMALE   \n",
       "16         timestamp_first_active_year        timestamp_first_active_year   \n",
       "17             date_accnt_created_year            date_accnt_created_year   \n",
       "18      first_affiliate_tracked_linked     first_affiliate_tracked_linked   \n",
       "19               first_browser_Firefox              first_browser_Firefox   \n",
       "20              signup_method_facebook             signup_method_facebook   \n",
       "21                first_browser_Safari               first_browser_Safari   \n",
       "22                 signup_method_basic                signup_method_basic   \n",
       "23   first_device_type_Windows Desktop  first_device_type_Windows Desktop   \n",
       "24      timestamp_first_active_quarter     timestamp_first_active_quarter   \n",
       "25       first_device_type_Mac Desktop      first_device_type_Mac Desktop   \n",
       "26         first_affiliate_tracked_omg        first_affiliate_tracked_omg   \n",
       "27          date_accnt_created_quarter         date_accnt_created_quarter   \n",
       "28                    first_browser_IE                   first_browser_IE   \n",
       "29           affiliate_provider_google          affiliate_provider_google   \n",
       "..                                 ...                                ...   \n",
       "136                     signup_flow_20                     signup_flow_20   \n",
       "137           first_browser_TenFourFox           first_browser_TenFourFox   \n",
       "138                        language_ca                        language_ca   \n",
       "139            first_browser_CometBird            first_browser_CometBird   \n",
       "140              first_browser_Mozilla              first_browser_Mozilla   \n",
       "141            first_browser_Stainless            first_browser_Stainless   \n",
       "142          first_browser_NetNewsWire          first_browser_NetNewsWire   \n",
       "143                     signup_flow_10                     signup_flow_10   \n",
       "144        first_browser_Crazy Browser        first_browser_Crazy Browser   \n",
       "145                        language_id                        language_id   \n",
       "146       first_browser_Yandex.Browser       first_browser_Yandex.Browser   \n",
       "147           first_browser_UC Browser           first_browser_UC Browser   \n",
       "148            affiliate_provider_wayn            affiliate_provider_wayn   \n",
       "149        first_browser_Comodo Dragon        first_browser_Comodo Dragon   \n",
       "150             first_browser_Conkeror             first_browser_Conkeror   \n",
       "151                signup_method_weibo                signup_method_weibo   \n",
       "152                      signup_flow_4                      signup_flow_4   \n",
       "153            first_browser_IceDragon            first_browser_IceDragon   \n",
       "154                 first_browser_Epic                 first_browser_Epic   \n",
       "155                first_browser_Arora                first_browser_Arora   \n",
       "156      first_browser_PS Vita browser      first_browser_PS Vita browser   \n",
       "157         first_browser_Outlook 2007         first_browser_Outlook 2007   \n",
       "158         first_browser_Opera Mobile         first_browser_Opera Mobile   \n",
       "159         first_browser_Google Earth         first_browser_Google Earth   \n",
       "160              first_browser_IBrowse              first_browser_IBrowse   \n",
       "161              first_browser_OmniWeb              first_browser_OmniWeb   \n",
       "162     first_browser_Nintendo Browser     first_browser_Nintendo Browser   \n",
       "163                     signup_flow_14                     signup_flow_14   \n",
       "164                        language_hr                        language_hr   \n",
       "165                first_browser_Flock                first_browser_Flock   \n",
       "\n",
       "       Importance  \n",
       "0    7.320709e-02  \n",
       "1    6.500018e-02  \n",
       "2    6.373908e-02  \n",
       "3    5.823781e-02  \n",
       "4    5.740415e-02  \n",
       "5    5.718856e-02  \n",
       "6    4.889437e-02  \n",
       "7    4.817646e-02  \n",
       "8    4.399646e-02  \n",
       "9    4.258762e-02  \n",
       "10   3.301545e-02  \n",
       "11   3.297459e-02  \n",
       "12   1.960934e-02  \n",
       "13   1.918180e-02  \n",
       "14   1.902089e-02  \n",
       "15   1.898701e-02  \n",
       "16   1.819619e-02  \n",
       "17   1.793465e-02  \n",
       "18   1.645594e-02  \n",
       "19   1.511368e-02  \n",
       "20   1.357812e-02  \n",
       "21   1.343359e-02  \n",
       "22   1.256272e-02  \n",
       "23   1.245833e-02  \n",
       "24   1.216121e-02  \n",
       "25   1.206911e-02  \n",
       "26   1.173338e-02  \n",
       "27   1.139317e-02  \n",
       "28   8.391281e-03  \n",
       "29   8.105322e-03  \n",
       "..            ...  \n",
       "136  5.146792e-07  \n",
       "137  4.588707e-07  \n",
       "138  4.411271e-07  \n",
       "139  4.177025e-07  \n",
       "140  3.963034e-07  \n",
       "141  2.715717e-07  \n",
       "142  1.781512e-07  \n",
       "143  1.414607e-07  \n",
       "144  3.889027e-08  \n",
       "145  9.618129e-09  \n",
       "146  0.000000e+00  \n",
       "147  0.000000e+00  \n",
       "148  0.000000e+00  \n",
       "149  0.000000e+00  \n",
       "150  0.000000e+00  \n",
       "151  0.000000e+00  \n",
       "152  0.000000e+00  \n",
       "153  0.000000e+00  \n",
       "154  0.000000e+00  \n",
       "155  0.000000e+00  \n",
       "156  0.000000e+00  \n",
       "157  0.000000e+00  \n",
       "158  0.000000e+00  \n",
       "159  0.000000e+00  \n",
       "160  0.000000e+00  \n",
       "161  0.000000e+00  \n",
       "162  0.000000e+00  \n",
       "163  0.000000e+00  \n",
       "164  0.000000e+00  \n",
       "165  0.000000e+00  \n",
       "\n",
       "[166 rows x 3 columns]"
      ]
     },
     "execution_count": 504,
     "metadata": {},
     "output_type": "execute_result"
    }
   ],
   "source": [
    "import_features"
   ]
  },
  {
   "cell_type": "code",
   "execution_count": 540,
   "metadata": {
    "collapsed": false
   },
   "outputs": [],
   "source": [
    "from sklearn.neural_network import BernoulliRBM"
   ]
  },
  {
   "cell_type": "code",
   "execution_count": 541,
   "metadata": {
    "collapsed": false
   },
   "outputs": [],
   "source": [
    "rbm = BernoulliRBM(n_components=256, learning_rate=0.1, batch_size=10, n_iter=10, verbose=0, random_state=None)"
   ]
  },
  {
   "cell_type": "code",
   "execution_count": 542,
   "metadata": {
    "collapsed": true
   },
   "outputs": [],
   "source": [
    "from sklearn.preprocessing import LabelEncoder\n",
    "label_encoder_rbm = LabelEncoder()\n",
    "y_train_sess = label_encoder.fit_transform(y_train_sess)"
   ]
  },
  {
   "cell_type": "code",
   "execution_count": 543,
   "metadata": {
    "collapsed": false
   },
   "outputs": [
    {
     "data": {
      "text/plain": [
       "BernoulliRBM(batch_size=10, learning_rate=0.1, n_components=256, n_iter=10,\n",
       "       random_state=None, verbose=0)"
      ]
     },
     "execution_count": 543,
     "metadata": {},
     "output_type": "execute_result"
    }
   ],
   "source": [
    "rbm.fit(x_train_sess,encoded_y_train_sess)"
   ]
  },
  {
   "cell_type": "code",
   "execution_count": 544,
   "metadata": {
    "collapsed": true
   },
   "outputs": [],
   "source": [
    "from sklearn.pipeline import Pipeline\n",
    "from sklearn.linear_model import LogisticRegression"
   ]
  },
  {
   "cell_type": "code",
   "execution_count": 546,
   "metadata": {
    "collapsed": false
   },
   "outputs": [],
   "source": [
    "logistic = LogisticRegression()"
   ]
  },
  {
   "cell_type": "code",
   "execution_count": 548,
   "metadata": {
    "collapsed": true
   },
   "outputs": [],
   "source": [
    "classifier = Pipeline(steps=[('rbm', rbm), ('logistic', logistic)])"
   ]
  },
  {
   "cell_type": "code",
   "execution_count": 550,
   "metadata": {
    "collapsed": false
   },
   "outputs": [
    {
     "ename": "NameError",
     "evalue": "name 'linear_model' is not defined",
     "output_type": "error",
     "traceback": [
      "\u001b[0;31m---------------------------------------------------------------------------\u001b[0m",
      "\u001b[0;31mNameError\u001b[0m                                 Traceback (most recent call last)",
      "\u001b[0;32m<ipython-input-550-9f4076acb06f>\u001b[0m in \u001b[0;36m<module>\u001b[0;34m()\u001b[0m\n\u001b[1;32m     10\u001b[0m \u001b[0;34m\u001b[0m\u001b[0m\n\u001b[1;32m     11\u001b[0m \u001b[0;31m# Training Logistic regression\u001b[0m\u001b[0;34m\u001b[0m\u001b[0;34m\u001b[0m\u001b[0m\n\u001b[0;32m---> 12\u001b[0;31m \u001b[0mlogistic_classifier\u001b[0m \u001b[0;34m=\u001b[0m \u001b[0mlinear_model\u001b[0m\u001b[0;34m.\u001b[0m\u001b[0mLogisticRegression\u001b[0m\u001b[0;34m(\u001b[0m\u001b[0mC\u001b[0m\u001b[0;34m=\u001b[0m\u001b[0;36m100.0\u001b[0m\u001b[0;34m)\u001b[0m\u001b[0;34m\u001b[0m\u001b[0m\n\u001b[0m\u001b[1;32m     13\u001b[0m \u001b[0mlogistic_classifier\u001b[0m\u001b[0;34m.\u001b[0m\u001b[0mfit\u001b[0m\u001b[0;34m(\u001b[0m\u001b[0mx_train_sess\u001b[0m\u001b[0;34m,\u001b[0m\u001b[0mencoded_y_train_sess\u001b[0m\u001b[0;34m)\u001b[0m\u001b[0;34m\u001b[0m\u001b[0m\n",
      "\u001b[0;31mNameError\u001b[0m: name 'linear_model' is not defined"
     ]
    }
   ],
   "source": [
    "rbm.learning_rate = 0.06\n",
    "rbm.n_iter = 20\n",
    "# More components tend to give better prediction performance, but larger\n",
    "# fitting time\n",
    "rbm.n_components = 100\n",
    "logistic.C = 6000.0\n",
    "\n",
    "# Training RBM-Logistic Pipeline\n",
    "classifier.fit(x_train_sess,encoded_y_train_sess)\n",
    "\n",
    "# Training Logistic regression\n",
    "logistic_classifier = linear_model.LogisticRegression(C=100.0)\n",
    "logistic_classifier.fit(x_train_sess,encoded_y_train_sess)"
   ]
  },
  {
   "cell_type": "code",
   "execution_count": 551,
   "metadata": {
    "collapsed": false
   },
   "outputs": [
    {
     "data": {
      "text/plain": [
       "LogisticRegression(C=100.0, class_weight=None, dual=False, fit_intercept=True,\n",
       "          intercept_scaling=1, max_iter=100, multi_class='ovr', n_jobs=1,\n",
       "          penalty='l2', random_state=None, solver='liblinear', tol=0.0001,\n",
       "          verbose=0, warm_start=False)"
      ]
     },
     "execution_count": 551,
     "metadata": {},
     "output_type": "execute_result"
    }
   ],
   "source": [
    "logistic_classifier = LogisticRegression(C=100.0)\n",
    "logistic_classifier.fit(x_train_sess,encoded_y_train_sess)"
   ]
  },
  {
   "cell_type": "code",
   "execution_count": 553,
   "metadata": {
    "collapsed": false
   },
   "outputs": [],
   "source": [
    "pred_neural=classifier.predict_proba(test_final_sess)"
   ]
  },
  {
   "cell_type": "code",
   "execution_count": 555,
   "metadata": {
    "collapsed": true
   },
   "outputs": [],
   "source": [
    "pred_final_neu = pd.DataFrame(np.column_stack((ids, cts)), columns=['id', 'country'])"
   ]
  },
  {
   "cell_type": "code",
   "execution_count": 557,
   "metadata": {
    "collapsed": true
   },
   "outputs": [],
   "source": [
    "pred_final_neu.to_csv(\"neu_amit_w_sess.csv\", index=False)"
   ]
  },
  {
   "cell_type": "code",
   "execution_count": null,
   "metadata": {
    "collapsed": true
   },
   "outputs": [],
   "source": [
    "ids_t = []  #list of ids\n",
    "cts = []  #list of countries\n",
    "for i in range(len(id_test)):\n",
    "    idx = id_test[i]\n",
    "    ids_t += [idx] * 5\n",
    "    cts += label_encoder_vtng.inverse_transform(np.argsort(vtng_class_pred[i])[::-1])[:5].tolist()"
   ]
  },
  {
   "cell_type": "code",
   "execution_count": 114,
   "metadata": {
    "collapsed": false
   },
   "outputs": [],
   "source": [
    "ids_t=[]\n",
    "idx=id_test[0]"
   ]
  },
  {
   "cell_type": "code",
   "execution_count": 115,
   "metadata": {
    "collapsed": false
   },
   "outputs": [],
   "source": [
    "ids_t = ids_t +([idx] * 5) "
   ]
  },
  {
   "cell_type": "code",
   "execution_count": 116,
   "metadata": {
    "collapsed": false
   },
   "outputs": [
    {
     "data": {
      "text/plain": [
       "['5uwns89zht', '5uwns89zht', '5uwns89zht', '5uwns89zht', '5uwns89zht']"
      ]
     },
     "execution_count": 116,
     "metadata": {},
     "output_type": "execute_result"
    }
   ],
   "source": [
    "ids_t"
   ]
  },
  {
   "cell_type": "code",
   "execution_count": null,
   "metadata": {
    "collapsed": true
   },
   "outputs": [],
   "source": []
  }
 ],
 "metadata": {
  "kernelspec": {
   "display_name": "Python [default]",
   "language": "python",
   "name": "python2"
  },
  "language_info": {
   "codemirror_mode": {
    "name": "ipython",
    "version": 2
   },
   "file_extension": ".py",
   "mimetype": "text/x-python",
   "name": "python",
   "nbconvert_exporter": "python",
   "pygments_lexer": "ipython2",
   "version": "2.7.13"
  }
 },
 "nbformat": 4,
 "nbformat_minor": 2
}
