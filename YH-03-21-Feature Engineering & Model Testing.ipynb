{
 "cells": [
  {
   "cell_type": "code",
   "execution_count": 1,
   "metadata": {
    "collapsed": true
   },
   "outputs": [],
   "source": [
    "import pandas as pd\n",
    "data = pd.read_csv('CleanedAirBnb.csv')"
   ]
  },
  {
   "cell_type": "code",
   "execution_count": 61,
   "metadata": {
    "collapsed": false
   },
   "outputs": [
    {
     "data": {
      "text/html": [
       "<div>\n",
       "<table border=\"1\" class=\"dataframe\">\n",
       "  <thead>\n",
       "    <tr style=\"text-align: right;\">\n",
       "      <th></th>\n",
       "      <th>Unnamed: 0</th>\n",
       "      <th>id</th>\n",
       "      <th>date_account_created</th>\n",
       "      <th>timestamp_first_active</th>\n",
       "      <th>date_first_booking</th>\n",
       "      <th>gender</th>\n",
       "      <th>age</th>\n",
       "      <th>signup_method</th>\n",
       "      <th>signup_flow</th>\n",
       "      <th>language</th>\n",
       "      <th>affiliate_channel</th>\n",
       "      <th>affiliate_provider</th>\n",
       "      <th>first_affiliate_tracked</th>\n",
       "      <th>signup_app</th>\n",
       "      <th>first_device_type</th>\n",
       "      <th>first_browser</th>\n",
       "      <th>country_destination</th>\n",
       "    </tr>\n",
       "  </thead>\n",
       "  <tbody>\n",
       "    <tr>\n",
       "      <th>0</th>\n",
       "      <td>0</td>\n",
       "      <td>gxn3p5htnn</td>\n",
       "      <td>2010-06-28</td>\n",
       "      <td>20090319043255</td>\n",
       "      <td>NaN</td>\n",
       "      <td>NaN</td>\n",
       "      <td>NaN</td>\n",
       "      <td>facebook</td>\n",
       "      <td>0</td>\n",
       "      <td>en</td>\n",
       "      <td>direct</td>\n",
       "      <td>direct</td>\n",
       "      <td>untracked</td>\n",
       "      <td>Web</td>\n",
       "      <td>Mac Desktop</td>\n",
       "      <td>Chrome</td>\n",
       "      <td>NDF</td>\n",
       "    </tr>\n",
       "    <tr>\n",
       "      <th>1</th>\n",
       "      <td>1</td>\n",
       "      <td>820tgsjxq7</td>\n",
       "      <td>2011-05-25</td>\n",
       "      <td>20090523174809</td>\n",
       "      <td>NaN</td>\n",
       "      <td>MALE</td>\n",
       "      <td>38.0</td>\n",
       "      <td>facebook</td>\n",
       "      <td>0</td>\n",
       "      <td>en</td>\n",
       "      <td>seo</td>\n",
       "      <td>google</td>\n",
       "      <td>untracked</td>\n",
       "      <td>Web</td>\n",
       "      <td>Mac Desktop</td>\n",
       "      <td>Chrome</td>\n",
       "      <td>NDF</td>\n",
       "    </tr>\n",
       "    <tr>\n",
       "      <th>2</th>\n",
       "      <td>2</td>\n",
       "      <td>4ft3gnwmtx</td>\n",
       "      <td>2010-09-28</td>\n",
       "      <td>20090609231247</td>\n",
       "      <td>2010-08-02</td>\n",
       "      <td>FEMALE</td>\n",
       "      <td>56.0</td>\n",
       "      <td>basic</td>\n",
       "      <td>3</td>\n",
       "      <td>en</td>\n",
       "      <td>direct</td>\n",
       "      <td>direct</td>\n",
       "      <td>untracked</td>\n",
       "      <td>Web</td>\n",
       "      <td>Windows Desktop</td>\n",
       "      <td>IE</td>\n",
       "      <td>US</td>\n",
       "    </tr>\n",
       "    <tr>\n",
       "      <th>3</th>\n",
       "      <td>3</td>\n",
       "      <td>bjjt8pjhuk</td>\n",
       "      <td>2011-12-05</td>\n",
       "      <td>20091031060129</td>\n",
       "      <td>2012-09-08</td>\n",
       "      <td>FEMALE</td>\n",
       "      <td>42.0</td>\n",
       "      <td>facebook</td>\n",
       "      <td>0</td>\n",
       "      <td>en</td>\n",
       "      <td>direct</td>\n",
       "      <td>direct</td>\n",
       "      <td>untracked</td>\n",
       "      <td>Web</td>\n",
       "      <td>Mac Desktop</td>\n",
       "      <td>Firefox</td>\n",
       "      <td>other</td>\n",
       "    </tr>\n",
       "    <tr>\n",
       "      <th>4</th>\n",
       "      <td>4</td>\n",
       "      <td>87mebub9p4</td>\n",
       "      <td>2010-09-14</td>\n",
       "      <td>20091208061105</td>\n",
       "      <td>2010-02-18</td>\n",
       "      <td>NaN</td>\n",
       "      <td>41.0</td>\n",
       "      <td>basic</td>\n",
       "      <td>0</td>\n",
       "      <td>en</td>\n",
       "      <td>direct</td>\n",
       "      <td>direct</td>\n",
       "      <td>untracked</td>\n",
       "      <td>Web</td>\n",
       "      <td>Mac Desktop</td>\n",
       "      <td>Chrome</td>\n",
       "      <td>US</td>\n",
       "    </tr>\n",
       "  </tbody>\n",
       "</table>\n",
       "</div>"
      ],
      "text/plain": [
       "   Unnamed: 0          id date_account_created  timestamp_first_active  \\\n",
       "0           0  gxn3p5htnn           2010-06-28          20090319043255   \n",
       "1           1  820tgsjxq7           2011-05-25          20090523174809   \n",
       "2           2  4ft3gnwmtx           2010-09-28          20090609231247   \n",
       "3           3  bjjt8pjhuk           2011-12-05          20091031060129   \n",
       "4           4  87mebub9p4           2010-09-14          20091208061105   \n",
       "\n",
       "  date_first_booking  gender   age signup_method  signup_flow language  \\\n",
       "0                NaN     NaN   NaN      facebook            0       en   \n",
       "1                NaN    MALE  38.0      facebook            0       en   \n",
       "2         2010-08-02  FEMALE  56.0         basic            3       en   \n",
       "3         2012-09-08  FEMALE  42.0      facebook            0       en   \n",
       "4         2010-02-18     NaN  41.0         basic            0       en   \n",
       "\n",
       "  affiliate_channel affiliate_provider first_affiliate_tracked signup_app  \\\n",
       "0            direct             direct               untracked        Web   \n",
       "1               seo             google               untracked        Web   \n",
       "2            direct             direct               untracked        Web   \n",
       "3            direct             direct               untracked        Web   \n",
       "4            direct             direct               untracked        Web   \n",
       "\n",
       "  first_device_type first_browser country_destination  \n",
       "0       Mac Desktop        Chrome                 NDF  \n",
       "1       Mac Desktop        Chrome                 NDF  \n",
       "2   Windows Desktop            IE                  US  \n",
       "3       Mac Desktop       Firefox               other  \n",
       "4       Mac Desktop        Chrome                  US  "
      ]
     },
     "execution_count": 61,
     "metadata": {},
     "output_type": "execute_result"
    }
   ],
   "source": [
    "data.head()"
   ]
  },
  {
   "cell_type": "code",
   "execution_count": 62,
   "metadata": {
    "collapsed": false
   },
   "outputs": [],
   "source": [
    "Dummies = pd.get_dummies(data[['gender','signup_method','signup_app','first_device_type','first_browser']])"
   ]
  },
  {
   "cell_type": "code",
   "execution_count": 63,
   "metadata": {
    "collapsed": false
   },
   "outputs": [
    {
     "data": {
      "text/html": [
       "<div>\n",
       "<table border=\"1\" class=\"dataframe\">\n",
       "  <thead>\n",
       "    <tr style=\"text-align: right;\">\n",
       "      <th></th>\n",
       "      <th>gender_FEMALE</th>\n",
       "      <th>gender_MALE</th>\n",
       "      <th>gender_OTHER</th>\n",
       "      <th>signup_method_basic</th>\n",
       "      <th>signup_method_facebook</th>\n",
       "      <th>signup_method_google</th>\n",
       "      <th>signup_app_Android</th>\n",
       "      <th>signup_app_Moweb</th>\n",
       "      <th>signup_app_Web</th>\n",
       "      <th>signup_app_iOS</th>\n",
       "      <th>...</th>\n",
       "      <th>first_browser_SeaMonkey</th>\n",
       "      <th>first_browser_Silk</th>\n",
       "      <th>first_browser_SiteKiosk</th>\n",
       "      <th>first_browser_SlimBrowser</th>\n",
       "      <th>first_browser_Sogou Explorer</th>\n",
       "      <th>first_browser_Stainless</th>\n",
       "      <th>first_browser_TenFourFox</th>\n",
       "      <th>first_browser_TheWorld Browser</th>\n",
       "      <th>first_browser_Yandex.Browser</th>\n",
       "      <th>first_browser_wOSBrowser</th>\n",
       "    </tr>\n",
       "  </thead>\n",
       "  <tbody>\n",
       "    <tr>\n",
       "      <th>0</th>\n",
       "      <td>0.0</td>\n",
       "      <td>0.0</td>\n",
       "      <td>0.0</td>\n",
       "      <td>0.0</td>\n",
       "      <td>1.0</td>\n",
       "      <td>0.0</td>\n",
       "      <td>0.0</td>\n",
       "      <td>0.0</td>\n",
       "      <td>1.0</td>\n",
       "      <td>0.0</td>\n",
       "      <td>...</td>\n",
       "      <td>0.0</td>\n",
       "      <td>0.0</td>\n",
       "      <td>0.0</td>\n",
       "      <td>0.0</td>\n",
       "      <td>0.0</td>\n",
       "      <td>0.0</td>\n",
       "      <td>0.0</td>\n",
       "      <td>0.0</td>\n",
       "      <td>0.0</td>\n",
       "      <td>0.0</td>\n",
       "    </tr>\n",
       "    <tr>\n",
       "      <th>1</th>\n",
       "      <td>0.0</td>\n",
       "      <td>1.0</td>\n",
       "      <td>0.0</td>\n",
       "      <td>0.0</td>\n",
       "      <td>1.0</td>\n",
       "      <td>0.0</td>\n",
       "      <td>0.0</td>\n",
       "      <td>0.0</td>\n",
       "      <td>1.0</td>\n",
       "      <td>0.0</td>\n",
       "      <td>...</td>\n",
       "      <td>0.0</td>\n",
       "      <td>0.0</td>\n",
       "      <td>0.0</td>\n",
       "      <td>0.0</td>\n",
       "      <td>0.0</td>\n",
       "      <td>0.0</td>\n",
       "      <td>0.0</td>\n",
       "      <td>0.0</td>\n",
       "      <td>0.0</td>\n",
       "      <td>0.0</td>\n",
       "    </tr>\n",
       "    <tr>\n",
       "      <th>2</th>\n",
       "      <td>1.0</td>\n",
       "      <td>0.0</td>\n",
       "      <td>0.0</td>\n",
       "      <td>1.0</td>\n",
       "      <td>0.0</td>\n",
       "      <td>0.0</td>\n",
       "      <td>0.0</td>\n",
       "      <td>0.0</td>\n",
       "      <td>1.0</td>\n",
       "      <td>0.0</td>\n",
       "      <td>...</td>\n",
       "      <td>0.0</td>\n",
       "      <td>0.0</td>\n",
       "      <td>0.0</td>\n",
       "      <td>0.0</td>\n",
       "      <td>0.0</td>\n",
       "      <td>0.0</td>\n",
       "      <td>0.0</td>\n",
       "      <td>0.0</td>\n",
       "      <td>0.0</td>\n",
       "      <td>0.0</td>\n",
       "    </tr>\n",
       "    <tr>\n",
       "      <th>3</th>\n",
       "      <td>1.0</td>\n",
       "      <td>0.0</td>\n",
       "      <td>0.0</td>\n",
       "      <td>0.0</td>\n",
       "      <td>1.0</td>\n",
       "      <td>0.0</td>\n",
       "      <td>0.0</td>\n",
       "      <td>0.0</td>\n",
       "      <td>1.0</td>\n",
       "      <td>0.0</td>\n",
       "      <td>...</td>\n",
       "      <td>0.0</td>\n",
       "      <td>0.0</td>\n",
       "      <td>0.0</td>\n",
       "      <td>0.0</td>\n",
       "      <td>0.0</td>\n",
       "      <td>0.0</td>\n",
       "      <td>0.0</td>\n",
       "      <td>0.0</td>\n",
       "      <td>0.0</td>\n",
       "      <td>0.0</td>\n",
       "    </tr>\n",
       "    <tr>\n",
       "      <th>4</th>\n",
       "      <td>0.0</td>\n",
       "      <td>0.0</td>\n",
       "      <td>0.0</td>\n",
       "      <td>1.0</td>\n",
       "      <td>0.0</td>\n",
       "      <td>0.0</td>\n",
       "      <td>0.0</td>\n",
       "      <td>0.0</td>\n",
       "      <td>1.0</td>\n",
       "      <td>0.0</td>\n",
       "      <td>...</td>\n",
       "      <td>0.0</td>\n",
       "      <td>0.0</td>\n",
       "      <td>0.0</td>\n",
       "      <td>0.0</td>\n",
       "      <td>0.0</td>\n",
       "      <td>0.0</td>\n",
       "      <td>0.0</td>\n",
       "      <td>0.0</td>\n",
       "      <td>0.0</td>\n",
       "      <td>0.0</td>\n",
       "    </tr>\n",
       "  </tbody>\n",
       "</table>\n",
       "<p>5 rows × 70 columns</p>\n",
       "</div>"
      ],
      "text/plain": [
       "   gender_FEMALE  gender_MALE  gender_OTHER  signup_method_basic  \\\n",
       "0            0.0          0.0           0.0                  0.0   \n",
       "1            0.0          1.0           0.0                  0.0   \n",
       "2            1.0          0.0           0.0                  1.0   \n",
       "3            1.0          0.0           0.0                  0.0   \n",
       "4            0.0          0.0           0.0                  1.0   \n",
       "\n",
       "   signup_method_facebook  signup_method_google  signup_app_Android  \\\n",
       "0                     1.0                   0.0                 0.0   \n",
       "1                     1.0                   0.0                 0.0   \n",
       "2                     0.0                   0.0                 0.0   \n",
       "3                     1.0                   0.0                 0.0   \n",
       "4                     0.0                   0.0                 0.0   \n",
       "\n",
       "   signup_app_Moweb  signup_app_Web  signup_app_iOS            ...             \\\n",
       "0               0.0             1.0             0.0            ...              \n",
       "1               0.0             1.0             0.0            ...              \n",
       "2               0.0             1.0             0.0            ...              \n",
       "3               0.0             1.0             0.0            ...              \n",
       "4               0.0             1.0             0.0            ...              \n",
       "\n",
       "   first_browser_SeaMonkey  first_browser_Silk  first_browser_SiteKiosk  \\\n",
       "0                      0.0                 0.0                      0.0   \n",
       "1                      0.0                 0.0                      0.0   \n",
       "2                      0.0                 0.0                      0.0   \n",
       "3                      0.0                 0.0                      0.0   \n",
       "4                      0.0                 0.0                      0.0   \n",
       "\n",
       "   first_browser_SlimBrowser  first_browser_Sogou Explorer  \\\n",
       "0                        0.0                           0.0   \n",
       "1                        0.0                           0.0   \n",
       "2                        0.0                           0.0   \n",
       "3                        0.0                           0.0   \n",
       "4                        0.0                           0.0   \n",
       "\n",
       "   first_browser_Stainless  first_browser_TenFourFox  \\\n",
       "0                      0.0                       0.0   \n",
       "1                      0.0                       0.0   \n",
       "2                      0.0                       0.0   \n",
       "3                      0.0                       0.0   \n",
       "4                      0.0                       0.0   \n",
       "\n",
       "   first_browser_TheWorld Browser  first_browser_Yandex.Browser  \\\n",
       "0                             0.0                           0.0   \n",
       "1                             0.0                           0.0   \n",
       "2                             0.0                           0.0   \n",
       "3                             0.0                           0.0   \n",
       "4                             0.0                           0.0   \n",
       "\n",
       "   first_browser_wOSBrowser  \n",
       "0                       0.0  \n",
       "1                       0.0  \n",
       "2                       0.0  \n",
       "3                       0.0  \n",
       "4                       0.0  \n",
       "\n",
       "[5 rows x 70 columns]"
      ]
     },
     "execution_count": 63,
     "metadata": {},
     "output_type": "execute_result"
    }
   ],
   "source": [
    "Dummies.head()"
   ]
  },
  {
   "cell_type": "code",
   "execution_count": 64,
   "metadata": {
    "collapsed": false
   },
   "outputs": [],
   "source": [
    "data1=data[['age','signup_flow','language','affiliate_channel','affiliate_provider','first_affiliate_tracked']]"
   ]
  },
  {
   "cell_type": "code",
   "execution_count": 65,
   "metadata": {
    "collapsed": false
   },
   "outputs": [
    {
     "name": "stderr",
     "output_type": "stream",
     "text": [
      "/Users/tommyhuang/anaconda/lib/python2.7/site-packages/ipykernel/__main__.py:1: SettingWithCopyWarning: \n",
      "A value is trying to be set on a copy of a slice from a DataFrame.\n",
      "Try using .loc[row_indexer,col_indexer] = value instead\n",
      "\n",
      "See the caveats in the documentation: http://pandas.pydata.org/pandas-docs/stable/indexing.html#indexing-view-versus-copy\n",
      "  if __name__ == '__main__':\n"
     ]
    }
   ],
   "source": [
    "data1['language1']=10"
   ]
  },
  {
   "cell_type": "code",
   "execution_count": 66,
   "metadata": {
    "collapsed": false
   },
   "outputs": [
    {
     "name": "stderr",
     "output_type": "stream",
     "text": [
      "/Users/tommyhuang/anaconda/lib/python2.7/site-packages/ipykernel/__main__.py:1: SettingWithCopyWarning: \n",
      "A value is trying to be set on a copy of a slice from a DataFrame.\n",
      "Try using .loc[row_indexer,col_indexer] = value instead\n",
      "\n",
      "See the caveats in the documentation: http://pandas.pydata.org/pandas-docs/stable/indexing.html#indexing-view-versus-copy\n",
      "  if __name__ == '__main__':\n"
     ]
    }
   ],
   "source": [
    "data1['language1'] = [1 if x == 'en' else 0 for x in data1['language']]"
   ]
  },
  {
   "cell_type": "code",
   "execution_count": 67,
   "metadata": {
    "collapsed": false
   },
   "outputs": [
    {
     "name": "stderr",
     "output_type": "stream",
     "text": [
      "/Users/tommyhuang/anaconda/lib/python2.7/site-packages/ipykernel/__main__.py:1: SettingWithCopyWarning: \n",
      "A value is trying to be set on a copy of a slice from a DataFrame.\n",
      "Try using .loc[row_indexer,col_indexer] = value instead\n",
      "\n",
      "See the caveats in the documentation: http://pandas.pydata.org/pandas-docs/stable/indexing.html#indexing-view-versus-copy\n",
      "  if __name__ == '__main__':\n"
     ]
    }
   ],
   "source": [
    "data1['affiliate_channel1']=10"
   ]
  },
  {
   "cell_type": "code",
   "execution_count": 68,
   "metadata": {
    "collapsed": false
   },
   "outputs": [
    {
     "name": "stderr",
     "output_type": "stream",
     "text": [
      "/Users/tommyhuang/anaconda/lib/python2.7/site-packages/ipykernel/__main__.py:1: SettingWithCopyWarning: \n",
      "A value is trying to be set on a copy of a slice from a DataFrame.\n",
      "Try using .loc[row_indexer,col_indexer] = value instead\n",
      "\n",
      "See the caveats in the documentation: http://pandas.pydata.org/pandas-docs/stable/indexing.html#indexing-view-versus-copy\n",
      "  if __name__ == '__main__':\n"
     ]
    }
   ],
   "source": [
    "data1['affiliate_channel1'] = [1 if x == 'direct' else 0 for x in data1['affiliate_channel']]"
   ]
  },
  {
   "cell_type": "code",
   "execution_count": 69,
   "metadata": {
    "collapsed": false
   },
   "outputs": [
    {
     "name": "stderr",
     "output_type": "stream",
     "text": [
      "/Users/tommyhuang/anaconda/lib/python2.7/site-packages/ipykernel/__main__.py:1: SettingWithCopyWarning: \n",
      "A value is trying to be set on a copy of a slice from a DataFrame.\n",
      "Try using .loc[row_indexer,col_indexer] = value instead\n",
      "\n",
      "See the caveats in the documentation: http://pandas.pydata.org/pandas-docs/stable/indexing.html#indexing-view-versus-copy\n",
      "  if __name__ == '__main__':\n"
     ]
    }
   ],
   "source": [
    "data1['affiliate_provider1']=10"
   ]
  },
  {
   "cell_type": "code",
   "execution_count": 71,
   "metadata": {
    "collapsed": false
   },
   "outputs": [
    {
     "name": "stderr",
     "output_type": "stream",
     "text": [
      "/Users/tommyhuang/anaconda/lib/python2.7/site-packages/ipykernel/__main__.py:1: SettingWithCopyWarning: \n",
      "A value is trying to be set on a copy of a slice from a DataFrame.\n",
      "Try using .loc[row_indexer,col_indexer] = value instead\n",
      "\n",
      "See the caveats in the documentation: http://pandas.pydata.org/pandas-docs/stable/indexing.html#indexing-view-versus-copy\n",
      "  if __name__ == '__main__':\n"
     ]
    }
   ],
   "source": [
    "data1['affiliate_provider1'] = [1 if x == 'direct' else 0 for x in data1['affiliate_provider']]"
   ]
  },
  {
   "cell_type": "code",
   "execution_count": 73,
   "metadata": {
    "collapsed": false
   },
   "outputs": [
    {
     "name": "stderr",
     "output_type": "stream",
     "text": [
      "/Users/tommyhuang/anaconda/lib/python2.7/site-packages/ipykernel/__main__.py:1: SettingWithCopyWarning: \n",
      "A value is trying to be set on a copy of a slice from a DataFrame.\n",
      "Try using .loc[row_indexer,col_indexer] = value instead\n",
      "\n",
      "See the caveats in the documentation: http://pandas.pydata.org/pandas-docs/stable/indexing.html#indexing-view-versus-copy\n",
      "  if __name__ == '__main__':\n"
     ]
    }
   ],
   "source": [
    "data1['first_affiliate_tracked1']=10"
   ]
  },
  {
   "cell_type": "code",
   "execution_count": 74,
   "metadata": {
    "collapsed": false
   },
   "outputs": [
    {
     "name": "stderr",
     "output_type": "stream",
     "text": [
      "/Users/tommyhuang/anaconda/lib/python2.7/site-packages/ipykernel/__main__.py:1: SettingWithCopyWarning: \n",
      "A value is trying to be set on a copy of a slice from a DataFrame.\n",
      "Try using .loc[row_indexer,col_indexer] = value instead\n",
      "\n",
      "See the caveats in the documentation: http://pandas.pydata.org/pandas-docs/stable/indexing.html#indexing-view-versus-copy\n",
      "  if __name__ == '__main__':\n"
     ]
    }
   ],
   "source": [
    "data1['first_affiliate_tracked1'] = [0 if x == 'untracked' else 1 for x in data1['first_affiliate_tracked']]"
   ]
  },
  {
   "cell_type": "code",
   "execution_count": 75,
   "metadata": {
    "collapsed": false
   },
   "outputs": [
    {
     "data": {
      "text/html": [
       "<div>\n",
       "<table border=\"1\" class=\"dataframe\">\n",
       "  <thead>\n",
       "    <tr style=\"text-align: right;\">\n",
       "      <th></th>\n",
       "      <th>age</th>\n",
       "      <th>signup_flow</th>\n",
       "      <th>language</th>\n",
       "      <th>affiliate_channel</th>\n",
       "      <th>affiliate_provider</th>\n",
       "      <th>first_affiliate_tracked</th>\n",
       "      <th>language1</th>\n",
       "      <th>affiliate_channel1</th>\n",
       "      <th>affiliate_provider1</th>\n",
       "      <th>first_affiliate_tracked1</th>\n",
       "    </tr>\n",
       "  </thead>\n",
       "  <tbody>\n",
       "    <tr>\n",
       "      <th>213446</th>\n",
       "      <td>32.0</td>\n",
       "      <td>0</td>\n",
       "      <td>en</td>\n",
       "      <td>sem-brand</td>\n",
       "      <td>google</td>\n",
       "      <td>omg</td>\n",
       "      <td>1</td>\n",
       "      <td>0</td>\n",
       "      <td>0</td>\n",
       "      <td>1</td>\n",
       "    </tr>\n",
       "    <tr>\n",
       "      <th>213447</th>\n",
       "      <td>NaN</td>\n",
       "      <td>0</td>\n",
       "      <td>en</td>\n",
       "      <td>direct</td>\n",
       "      <td>direct</td>\n",
       "      <td>linked</td>\n",
       "      <td>1</td>\n",
       "      <td>1</td>\n",
       "      <td>1</td>\n",
       "      <td>1</td>\n",
       "    </tr>\n",
       "    <tr>\n",
       "      <th>213448</th>\n",
       "      <td>32.0</td>\n",
       "      <td>0</td>\n",
       "      <td>en</td>\n",
       "      <td>direct</td>\n",
       "      <td>direct</td>\n",
       "      <td>untracked</td>\n",
       "      <td>1</td>\n",
       "      <td>1</td>\n",
       "      <td>1</td>\n",
       "      <td>0</td>\n",
       "    </tr>\n",
       "    <tr>\n",
       "      <th>213449</th>\n",
       "      <td>NaN</td>\n",
       "      <td>25</td>\n",
       "      <td>en</td>\n",
       "      <td>other</td>\n",
       "      <td>other</td>\n",
       "      <td>tracked-other</td>\n",
       "      <td>1</td>\n",
       "      <td>0</td>\n",
       "      <td>0</td>\n",
       "      <td>1</td>\n",
       "    </tr>\n",
       "    <tr>\n",
       "      <th>213450</th>\n",
       "      <td>NaN</td>\n",
       "      <td>25</td>\n",
       "      <td>en</td>\n",
       "      <td>direct</td>\n",
       "      <td>direct</td>\n",
       "      <td>untracked</td>\n",
       "      <td>1</td>\n",
       "      <td>1</td>\n",
       "      <td>1</td>\n",
       "      <td>0</td>\n",
       "    </tr>\n",
       "  </tbody>\n",
       "</table>\n",
       "</div>"
      ],
      "text/plain": [
       "         age  signup_flow language affiliate_channel affiliate_provider  \\\n",
       "213446  32.0            0       en         sem-brand             google   \n",
       "213447   NaN            0       en            direct             direct   \n",
       "213448  32.0            0       en            direct             direct   \n",
       "213449   NaN           25       en             other              other   \n",
       "213450   NaN           25       en            direct             direct   \n",
       "\n",
       "       first_affiliate_tracked  language1  affiliate_channel1  \\\n",
       "213446                     omg          1                   0   \n",
       "213447                  linked          1                   1   \n",
       "213448               untracked          1                   1   \n",
       "213449           tracked-other          1                   0   \n",
       "213450               untracked          1                   1   \n",
       "\n",
       "        affiliate_provider1  first_affiliate_tracked1  \n",
       "213446                    0                         1  \n",
       "213447                    1                         1  \n",
       "213448                    1                         0  \n",
       "213449                    0                         1  \n",
       "213450                    1                         0  "
      ]
     },
     "execution_count": 75,
     "metadata": {},
     "output_type": "execute_result"
    }
   ],
   "source": [
    "data1.tail()"
   ]
  },
  {
   "cell_type": "code",
   "execution_count": 87,
   "metadata": {
    "collapsed": false
   },
   "outputs": [],
   "source": [
    "a = pd.concat([data1, Dummies], axis=1, join='inner')"
   ]
  },
  {
   "cell_type": "code",
   "execution_count": 88,
   "metadata": {
    "collapsed": false
   },
   "outputs": [
    {
     "data": {
      "text/plain": [
       "(213451, 80)"
      ]
     },
     "execution_count": 88,
     "metadata": {},
     "output_type": "execute_result"
    }
   ],
   "source": [
    "a.shape"
   ]
  },
  {
   "cell_type": "code",
   "execution_count": 94,
   "metadata": {
    "collapsed": false
   },
   "outputs": [],
   "source": [
    "del a['first_affiliate_tracked']"
   ]
  },
  {
   "cell_type": "code",
   "execution_count": 95,
   "metadata": {
    "collapsed": false
   },
   "outputs": [
    {
     "data": {
      "text/html": [
       "<div>\n",
       "<table border=\"1\" class=\"dataframe\">\n",
       "  <thead>\n",
       "    <tr style=\"text-align: right;\">\n",
       "      <th></th>\n",
       "      <th>age</th>\n",
       "      <th>signup_flow</th>\n",
       "      <th>language1</th>\n",
       "      <th>affiliate_channel1</th>\n",
       "      <th>affiliate_provider1</th>\n",
       "      <th>first_affiliate_tracked1</th>\n",
       "      <th>gender_FEMALE</th>\n",
       "      <th>gender_MALE</th>\n",
       "      <th>gender_OTHER</th>\n",
       "      <th>signup_method_basic</th>\n",
       "      <th>...</th>\n",
       "      <th>first_browser_SeaMonkey</th>\n",
       "      <th>first_browser_Silk</th>\n",
       "      <th>first_browser_SiteKiosk</th>\n",
       "      <th>first_browser_SlimBrowser</th>\n",
       "      <th>first_browser_Sogou Explorer</th>\n",
       "      <th>first_browser_Stainless</th>\n",
       "      <th>first_browser_TenFourFox</th>\n",
       "      <th>first_browser_TheWorld Browser</th>\n",
       "      <th>first_browser_Yandex.Browser</th>\n",
       "      <th>first_browser_wOSBrowser</th>\n",
       "    </tr>\n",
       "  </thead>\n",
       "  <tbody>\n",
       "    <tr>\n",
       "      <th>0</th>\n",
       "      <td>NaN</td>\n",
       "      <td>0</td>\n",
       "      <td>1</td>\n",
       "      <td>1</td>\n",
       "      <td>1</td>\n",
       "      <td>0</td>\n",
       "      <td>0.0</td>\n",
       "      <td>0.0</td>\n",
       "      <td>0.0</td>\n",
       "      <td>0.0</td>\n",
       "      <td>...</td>\n",
       "      <td>0.0</td>\n",
       "      <td>0.0</td>\n",
       "      <td>0.0</td>\n",
       "      <td>0.0</td>\n",
       "      <td>0.0</td>\n",
       "      <td>0.0</td>\n",
       "      <td>0.0</td>\n",
       "      <td>0.0</td>\n",
       "      <td>0.0</td>\n",
       "      <td>0.0</td>\n",
       "    </tr>\n",
       "    <tr>\n",
       "      <th>1</th>\n",
       "      <td>38.0</td>\n",
       "      <td>0</td>\n",
       "      <td>1</td>\n",
       "      <td>0</td>\n",
       "      <td>0</td>\n",
       "      <td>0</td>\n",
       "      <td>0.0</td>\n",
       "      <td>1.0</td>\n",
       "      <td>0.0</td>\n",
       "      <td>0.0</td>\n",
       "      <td>...</td>\n",
       "      <td>0.0</td>\n",
       "      <td>0.0</td>\n",
       "      <td>0.0</td>\n",
       "      <td>0.0</td>\n",
       "      <td>0.0</td>\n",
       "      <td>0.0</td>\n",
       "      <td>0.0</td>\n",
       "      <td>0.0</td>\n",
       "      <td>0.0</td>\n",
       "      <td>0.0</td>\n",
       "    </tr>\n",
       "    <tr>\n",
       "      <th>2</th>\n",
       "      <td>56.0</td>\n",
       "      <td>3</td>\n",
       "      <td>1</td>\n",
       "      <td>1</td>\n",
       "      <td>1</td>\n",
       "      <td>0</td>\n",
       "      <td>1.0</td>\n",
       "      <td>0.0</td>\n",
       "      <td>0.0</td>\n",
       "      <td>1.0</td>\n",
       "      <td>...</td>\n",
       "      <td>0.0</td>\n",
       "      <td>0.0</td>\n",
       "      <td>0.0</td>\n",
       "      <td>0.0</td>\n",
       "      <td>0.0</td>\n",
       "      <td>0.0</td>\n",
       "      <td>0.0</td>\n",
       "      <td>0.0</td>\n",
       "      <td>0.0</td>\n",
       "      <td>0.0</td>\n",
       "    </tr>\n",
       "    <tr>\n",
       "      <th>3</th>\n",
       "      <td>42.0</td>\n",
       "      <td>0</td>\n",
       "      <td>1</td>\n",
       "      <td>1</td>\n",
       "      <td>1</td>\n",
       "      <td>0</td>\n",
       "      <td>1.0</td>\n",
       "      <td>0.0</td>\n",
       "      <td>0.0</td>\n",
       "      <td>0.0</td>\n",
       "      <td>...</td>\n",
       "      <td>0.0</td>\n",
       "      <td>0.0</td>\n",
       "      <td>0.0</td>\n",
       "      <td>0.0</td>\n",
       "      <td>0.0</td>\n",
       "      <td>0.0</td>\n",
       "      <td>0.0</td>\n",
       "      <td>0.0</td>\n",
       "      <td>0.0</td>\n",
       "      <td>0.0</td>\n",
       "    </tr>\n",
       "    <tr>\n",
       "      <th>4</th>\n",
       "      <td>41.0</td>\n",
       "      <td>0</td>\n",
       "      <td>1</td>\n",
       "      <td>1</td>\n",
       "      <td>1</td>\n",
       "      <td>0</td>\n",
       "      <td>0.0</td>\n",
       "      <td>0.0</td>\n",
       "      <td>0.0</td>\n",
       "      <td>1.0</td>\n",
       "      <td>...</td>\n",
       "      <td>0.0</td>\n",
       "      <td>0.0</td>\n",
       "      <td>0.0</td>\n",
       "      <td>0.0</td>\n",
       "      <td>0.0</td>\n",
       "      <td>0.0</td>\n",
       "      <td>0.0</td>\n",
       "      <td>0.0</td>\n",
       "      <td>0.0</td>\n",
       "      <td>0.0</td>\n",
       "    </tr>\n",
       "  </tbody>\n",
       "</table>\n",
       "<p>5 rows × 76 columns</p>\n",
       "</div>"
      ],
      "text/plain": [
       "    age  signup_flow  language1  affiliate_channel1  affiliate_provider1  \\\n",
       "0   NaN            0          1                   1                    1   \n",
       "1  38.0            0          1                   0                    0   \n",
       "2  56.0            3          1                   1                    1   \n",
       "3  42.0            0          1                   1                    1   \n",
       "4  41.0            0          1                   1                    1   \n",
       "\n",
       "   first_affiliate_tracked1  gender_FEMALE  gender_MALE  gender_OTHER  \\\n",
       "0                         0            0.0          0.0           0.0   \n",
       "1                         0            0.0          1.0           0.0   \n",
       "2                         0            1.0          0.0           0.0   \n",
       "3                         0            1.0          0.0           0.0   \n",
       "4                         0            0.0          0.0           0.0   \n",
       "\n",
       "   signup_method_basic            ...             first_browser_SeaMonkey  \\\n",
       "0                  0.0            ...                                 0.0   \n",
       "1                  0.0            ...                                 0.0   \n",
       "2                  1.0            ...                                 0.0   \n",
       "3                  0.0            ...                                 0.0   \n",
       "4                  1.0            ...                                 0.0   \n",
       "\n",
       "   first_browser_Silk  first_browser_SiteKiosk  first_browser_SlimBrowser  \\\n",
       "0                 0.0                      0.0                        0.0   \n",
       "1                 0.0                      0.0                        0.0   \n",
       "2                 0.0                      0.0                        0.0   \n",
       "3                 0.0                      0.0                        0.0   \n",
       "4                 0.0                      0.0                        0.0   \n",
       "\n",
       "   first_browser_Sogou Explorer  first_browser_Stainless  \\\n",
       "0                           0.0                      0.0   \n",
       "1                           0.0                      0.0   \n",
       "2                           0.0                      0.0   \n",
       "3                           0.0                      0.0   \n",
       "4                           0.0                      0.0   \n",
       "\n",
       "   first_browser_TenFourFox  first_browser_TheWorld Browser  \\\n",
       "0                       0.0                             0.0   \n",
       "1                       0.0                             0.0   \n",
       "2                       0.0                             0.0   \n",
       "3                       0.0                             0.0   \n",
       "4                       0.0                             0.0   \n",
       "\n",
       "   first_browser_Yandex.Browser  first_browser_wOSBrowser  \n",
       "0                           0.0                       0.0  \n",
       "1                           0.0                       0.0  \n",
       "2                           0.0                       0.0  \n",
       "3                           0.0                       0.0  \n",
       "4                           0.0                       0.0  \n",
       "\n",
       "[5 rows x 76 columns]"
      ]
     },
     "execution_count": 95,
     "metadata": {},
     "output_type": "execute_result"
    }
   ],
   "source": [
    "a.head()"
   ]
  },
  {
   "cell_type": "code",
   "execution_count": 104,
   "metadata": {
    "collapsed": false
   },
   "outputs": [
    {
     "data": {
      "text/plain": [
       "{'AU', 'CA', 'DE', 'ES', 'FR', 'GB', 'IT', 'NDF', 'NL', 'PT', 'US', 'other'}"
      ]
     },
     "execution_count": 104,
     "metadata": {},
     "output_type": "execute_result"
    }
   ],
   "source": [
    "set(data.country_destination)"
   ]
  },
  {
   "cell_type": "code",
   "execution_count": 100,
   "metadata": {
    "collapsed": false
   },
   "outputs": [
    {
     "data": {
      "text/plain": [
       "0      NDF\n",
       "1      NDF\n",
       "2       US\n",
       "3    other\n",
       "4       US\n",
       "Name: country_destination, dtype: object"
      ]
     },
     "execution_count": 100,
     "metadata": {},
     "output_type": "execute_result"
    }
   ],
   "source": [
    "data.country_destination1.head()"
   ]
  },
  {
   "cell_type": "code",
   "execution_count": 105,
   "metadata": {
    "collapsed": false
   },
   "outputs": [],
   "source": [
    "data.country_destination1= 6\n",
    "\n"
   ]
  },
  {
   "cell_type": "code",
   "execution_count": 109,
   "metadata": {
    "collapsed": false
   },
   "outputs": [
    {
     "data": {
      "text/html": [
       "<div>\n",
       "<table border=\"1\" class=\"dataframe\">\n",
       "  <thead>\n",
       "    <tr style=\"text-align: right;\">\n",
       "      <th></th>\n",
       "      <th>Unnamed: 0</th>\n",
       "      <th>id</th>\n",
       "      <th>date_account_created</th>\n",
       "      <th>timestamp_first_active</th>\n",
       "      <th>date_first_booking</th>\n",
       "      <th>gender</th>\n",
       "      <th>age</th>\n",
       "      <th>signup_method</th>\n",
       "      <th>signup_flow</th>\n",
       "      <th>language</th>\n",
       "      <th>affiliate_channel</th>\n",
       "      <th>affiliate_provider</th>\n",
       "      <th>first_affiliate_tracked</th>\n",
       "      <th>signup_app</th>\n",
       "      <th>first_device_type</th>\n",
       "      <th>first_browser</th>\n",
       "      <th>country_destination</th>\n",
       "    </tr>\n",
       "  </thead>\n",
       "  <tbody>\n",
       "    <tr>\n",
       "      <th>213447</th>\n",
       "      <td>213447</td>\n",
       "      <td>mhewnxesx9</td>\n",
       "      <td>2014-06-30</td>\n",
       "      <td>20140630235719</td>\n",
       "      <td>NaN</td>\n",
       "      <td>NaN</td>\n",
       "      <td>NaN</td>\n",
       "      <td>basic</td>\n",
       "      <td>0</td>\n",
       "      <td>en</td>\n",
       "      <td>direct</td>\n",
       "      <td>direct</td>\n",
       "      <td>linked</td>\n",
       "      <td>Web</td>\n",
       "      <td>Windows Desktop</td>\n",
       "      <td>Chrome</td>\n",
       "      <td>NDF</td>\n",
       "    </tr>\n",
       "    <tr>\n",
       "      <th>213448</th>\n",
       "      <td>213448</td>\n",
       "      <td>6o3arsjbb4</td>\n",
       "      <td>2014-06-30</td>\n",
       "      <td>20140630235754</td>\n",
       "      <td>NaN</td>\n",
       "      <td>NaN</td>\n",
       "      <td>32.0</td>\n",
       "      <td>basic</td>\n",
       "      <td>0</td>\n",
       "      <td>en</td>\n",
       "      <td>direct</td>\n",
       "      <td>direct</td>\n",
       "      <td>untracked</td>\n",
       "      <td>Web</td>\n",
       "      <td>Mac Desktop</td>\n",
       "      <td>Firefox</td>\n",
       "      <td>NDF</td>\n",
       "    </tr>\n",
       "    <tr>\n",
       "      <th>213449</th>\n",
       "      <td>213449</td>\n",
       "      <td>jh95kwisub</td>\n",
       "      <td>2014-06-30</td>\n",
       "      <td>20140630235822</td>\n",
       "      <td>NaN</td>\n",
       "      <td>NaN</td>\n",
       "      <td>NaN</td>\n",
       "      <td>basic</td>\n",
       "      <td>25</td>\n",
       "      <td>en</td>\n",
       "      <td>other</td>\n",
       "      <td>other</td>\n",
       "      <td>tracked-other</td>\n",
       "      <td>iOS</td>\n",
       "      <td>iPhone</td>\n",
       "      <td>Mobile Safari</td>\n",
       "      <td>NDF</td>\n",
       "    </tr>\n",
       "    <tr>\n",
       "      <th>213450</th>\n",
       "      <td>213450</td>\n",
       "      <td>nw9fwlyb5f</td>\n",
       "      <td>2014-06-30</td>\n",
       "      <td>20140630235824</td>\n",
       "      <td>NaN</td>\n",
       "      <td>NaN</td>\n",
       "      <td>NaN</td>\n",
       "      <td>basic</td>\n",
       "      <td>25</td>\n",
       "      <td>en</td>\n",
       "      <td>direct</td>\n",
       "      <td>direct</td>\n",
       "      <td>untracked</td>\n",
       "      <td>iOS</td>\n",
       "      <td>iPhone</td>\n",
       "      <td>NaN</td>\n",
       "      <td>NDF</td>\n",
       "    </tr>\n",
       "  </tbody>\n",
       "</table>\n",
       "</div>"
      ],
      "text/plain": [
       "        Unnamed: 0          id date_account_created  timestamp_first_active  \\\n",
       "213447      213447  mhewnxesx9           2014-06-30          20140630235719   \n",
       "213448      213448  6o3arsjbb4           2014-06-30          20140630235754   \n",
       "213449      213449  jh95kwisub           2014-06-30          20140630235822   \n",
       "213450      213450  nw9fwlyb5f           2014-06-30          20140630235824   \n",
       "\n",
       "       date_first_booking gender   age signup_method  signup_flow language  \\\n",
       "213447                NaN    NaN   NaN         basic            0       en   \n",
       "213448                NaN    NaN  32.0         basic            0       en   \n",
       "213449                NaN    NaN   NaN         basic           25       en   \n",
       "213450                NaN    NaN   NaN         basic           25       en   \n",
       "\n",
       "       affiliate_channel affiliate_provider first_affiliate_tracked  \\\n",
       "213447            direct             direct                  linked   \n",
       "213448            direct             direct               untracked   \n",
       "213449             other              other           tracked-other   \n",
       "213450            direct             direct               untracked   \n",
       "\n",
       "       signup_app first_device_type  first_browser country_destination  \n",
       "213447        Web   Windows Desktop         Chrome                 NDF  \n",
       "213448        Web       Mac Desktop        Firefox                 NDF  \n",
       "213449        iOS            iPhone  Mobile Safari                 NDF  \n",
       "213450        iOS            iPhone            NaN                 NDF  "
      ]
     },
     "execution_count": 109,
     "metadata": {},
     "output_type": "execute_result"
    }
   ],
   "source": [
    "data.tail(4)"
   ]
  },
  {
   "cell_type": "code",
   "execution_count": 147,
   "metadata": {
    "collapsed": false
   },
   "outputs": [],
   "source": [
    "m= pd.read_csv('train_test1.csv')"
   ]
  },
  {
   "cell_type": "code",
   "execution_count": 148,
   "metadata": {
    "collapsed": false
   },
   "outputs": [
    {
     "data": {
      "text/plain": [
       "(275547, 169)"
      ]
     },
     "execution_count": 148,
     "metadata": {},
     "output_type": "execute_result"
    }
   ],
   "source": [
    "m.shape"
   ]
  },
  {
   "cell_type": "code",
   "execution_count": 149,
   "metadata": {
    "collapsed": false
   },
   "outputs": [
    {
     "data": {
      "text/html": [
       "<div>\n",
       "<table border=\"1\" class=\"dataframe\">\n",
       "  <thead>\n",
       "    <tr style=\"text-align: right;\">\n",
       "      <th></th>\n",
       "      <th>Unnamed: 0</th>\n",
       "      <th>id</th>\n",
       "      <th>age</th>\n",
       "      <th>country_destination</th>\n",
       "      <th>date_accnt_created_month</th>\n",
       "      <th>timestamp_first_active_month</th>\n",
       "      <th>date_first_booking_month</th>\n",
       "      <th>date_accnt_created_year</th>\n",
       "      <th>timestamp_first_active_year</th>\n",
       "      <th>date_first_booking_year</th>\n",
       "      <th>...</th>\n",
       "      <th>first_browser_Silk</th>\n",
       "      <th>first_browser_SiteKiosk</th>\n",
       "      <th>first_browser_SlimBrowser</th>\n",
       "      <th>first_browser_Sogou Explorer</th>\n",
       "      <th>first_browser_Stainless</th>\n",
       "      <th>first_browser_TenFourFox</th>\n",
       "      <th>first_browser_TheWorld Browser</th>\n",
       "      <th>first_browser_UC Browser</th>\n",
       "      <th>first_browser_Yandex.Browser</th>\n",
       "      <th>first_browser_wOSBrowser</th>\n",
       "    </tr>\n",
       "  </thead>\n",
       "  <tbody>\n",
       "    <tr>\n",
       "      <th>0</th>\n",
       "      <td>0</td>\n",
       "      <td>gxn3p5htnn</td>\n",
       "      <td>NaN</td>\n",
       "      <td>NDF</td>\n",
       "      <td>6</td>\n",
       "      <td>3</td>\n",
       "      <td>NaN</td>\n",
       "      <td>2010</td>\n",
       "      <td>2009</td>\n",
       "      <td>NaN</td>\n",
       "      <td>...</td>\n",
       "      <td>0</td>\n",
       "      <td>0</td>\n",
       "      <td>0</td>\n",
       "      <td>0</td>\n",
       "      <td>0</td>\n",
       "      <td>0</td>\n",
       "      <td>0</td>\n",
       "      <td>0</td>\n",
       "      <td>0</td>\n",
       "      <td>0</td>\n",
       "    </tr>\n",
       "    <tr>\n",
       "      <th>1</th>\n",
       "      <td>1</td>\n",
       "      <td>820tgsjxq7</td>\n",
       "      <td>38.0</td>\n",
       "      <td>NDF</td>\n",
       "      <td>5</td>\n",
       "      <td>5</td>\n",
       "      <td>NaN</td>\n",
       "      <td>2011</td>\n",
       "      <td>2009</td>\n",
       "      <td>NaN</td>\n",
       "      <td>...</td>\n",
       "      <td>0</td>\n",
       "      <td>0</td>\n",
       "      <td>0</td>\n",
       "      <td>0</td>\n",
       "      <td>0</td>\n",
       "      <td>0</td>\n",
       "      <td>0</td>\n",
       "      <td>0</td>\n",
       "      <td>0</td>\n",
       "      <td>0</td>\n",
       "    </tr>\n",
       "    <tr>\n",
       "      <th>2</th>\n",
       "      <td>2</td>\n",
       "      <td>4ft3gnwmtx</td>\n",
       "      <td>56.0</td>\n",
       "      <td>US</td>\n",
       "      <td>9</td>\n",
       "      <td>6</td>\n",
       "      <td>8.0</td>\n",
       "      <td>2010</td>\n",
       "      <td>2009</td>\n",
       "      <td>2010.0</td>\n",
       "      <td>...</td>\n",
       "      <td>0</td>\n",
       "      <td>0</td>\n",
       "      <td>0</td>\n",
       "      <td>0</td>\n",
       "      <td>0</td>\n",
       "      <td>0</td>\n",
       "      <td>0</td>\n",
       "      <td>0</td>\n",
       "      <td>0</td>\n",
       "      <td>0</td>\n",
       "    </tr>\n",
       "    <tr>\n",
       "      <th>3</th>\n",
       "      <td>3</td>\n",
       "      <td>bjjt8pjhuk</td>\n",
       "      <td>42.0</td>\n",
       "      <td>other</td>\n",
       "      <td>12</td>\n",
       "      <td>10</td>\n",
       "      <td>9.0</td>\n",
       "      <td>2011</td>\n",
       "      <td>2009</td>\n",
       "      <td>2012.0</td>\n",
       "      <td>...</td>\n",
       "      <td>0</td>\n",
       "      <td>0</td>\n",
       "      <td>0</td>\n",
       "      <td>0</td>\n",
       "      <td>0</td>\n",
       "      <td>0</td>\n",
       "      <td>0</td>\n",
       "      <td>0</td>\n",
       "      <td>0</td>\n",
       "      <td>0</td>\n",
       "    </tr>\n",
       "    <tr>\n",
       "      <th>4</th>\n",
       "      <td>4</td>\n",
       "      <td>87mebub9p4</td>\n",
       "      <td>41.0</td>\n",
       "      <td>US</td>\n",
       "      <td>9</td>\n",
       "      <td>12</td>\n",
       "      <td>2.0</td>\n",
       "      <td>2010</td>\n",
       "      <td>2009</td>\n",
       "      <td>2010.0</td>\n",
       "      <td>...</td>\n",
       "      <td>0</td>\n",
       "      <td>0</td>\n",
       "      <td>0</td>\n",
       "      <td>0</td>\n",
       "      <td>0</td>\n",
       "      <td>0</td>\n",
       "      <td>0</td>\n",
       "      <td>0</td>\n",
       "      <td>0</td>\n",
       "      <td>0</td>\n",
       "    </tr>\n",
       "  </tbody>\n",
       "</table>\n",
       "<p>5 rows × 169 columns</p>\n",
       "</div>"
      ],
      "text/plain": [
       "   Unnamed: 0          id   age country_destination  date_accnt_created_month  \\\n",
       "0           0  gxn3p5htnn   NaN                 NDF                         6   \n",
       "1           1  820tgsjxq7  38.0                 NDF                         5   \n",
       "2           2  4ft3gnwmtx  56.0                  US                         9   \n",
       "3           3  bjjt8pjhuk  42.0               other                        12   \n",
       "4           4  87mebub9p4  41.0                  US                         9   \n",
       "\n",
       "   timestamp_first_active_month  date_first_booking_month  \\\n",
       "0                             3                       NaN   \n",
       "1                             5                       NaN   \n",
       "2                             6                       8.0   \n",
       "3                            10                       9.0   \n",
       "4                            12                       2.0   \n",
       "\n",
       "   date_accnt_created_year  timestamp_first_active_year  \\\n",
       "0                     2010                         2009   \n",
       "1                     2011                         2009   \n",
       "2                     2010                         2009   \n",
       "3                     2011                         2009   \n",
       "4                     2010                         2009   \n",
       "\n",
       "   date_first_booking_year            ...             first_browser_Silk  \\\n",
       "0                      NaN            ...                              0   \n",
       "1                      NaN            ...                              0   \n",
       "2                   2010.0            ...                              0   \n",
       "3                   2012.0            ...                              0   \n",
       "4                   2010.0            ...                              0   \n",
       "\n",
       "   first_browser_SiteKiosk  first_browser_SlimBrowser  \\\n",
       "0                        0                          0   \n",
       "1                        0                          0   \n",
       "2                        0                          0   \n",
       "3                        0                          0   \n",
       "4                        0                          0   \n",
       "\n",
       "   first_browser_Sogou Explorer  first_browser_Stainless  \\\n",
       "0                             0                        0   \n",
       "1                             0                        0   \n",
       "2                             0                        0   \n",
       "3                             0                        0   \n",
       "4                             0                        0   \n",
       "\n",
       "   first_browser_TenFourFox  first_browser_TheWorld Browser  \\\n",
       "0                         0                               0   \n",
       "1                         0                               0   \n",
       "2                         0                               0   \n",
       "3                         0                               0   \n",
       "4                         0                               0   \n",
       "\n",
       "   first_browser_UC Browser  first_browser_Yandex.Browser  \\\n",
       "0                         0                             0   \n",
       "1                         0                             0   \n",
       "2                         0                             0   \n",
       "3                         0                             0   \n",
       "4                         0                             0   \n",
       "\n",
       "   first_browser_wOSBrowser  \n",
       "0                         0  \n",
       "1                         0  \n",
       "2                         0  \n",
       "3                         0  \n",
       "4                         0  \n",
       "\n",
       "[5 rows x 169 columns]"
      ]
     },
     "execution_count": 149,
     "metadata": {},
     "output_type": "execute_result"
    }
   ],
   "source": [
    "m.head()"
   ]
  },
  {
   "cell_type": "code",
   "execution_count": 150,
   "metadata": {
    "collapsed": false
   },
   "outputs": [],
   "source": [
    "training = m[m['country_destination'].notnull()] #Original train dataset with dummy variables and section info"
   ]
  },
  {
   "cell_type": "code",
   "execution_count": 151,
   "metadata": {
    "collapsed": false
   },
   "outputs": [
    {
     "data": {
      "text/html": [
       "<div>\n",
       "<table border=\"1\" class=\"dataframe\">\n",
       "  <thead>\n",
       "    <tr style=\"text-align: right;\">\n",
       "      <th></th>\n",
       "      <th>Unnamed: 0</th>\n",
       "      <th>id</th>\n",
       "      <th>age</th>\n",
       "      <th>country_destination</th>\n",
       "      <th>date_accnt_created_month</th>\n",
       "      <th>timestamp_first_active_month</th>\n",
       "      <th>date_first_booking_month</th>\n",
       "      <th>date_accnt_created_year</th>\n",
       "      <th>timestamp_first_active_year</th>\n",
       "      <th>date_first_booking_year</th>\n",
       "      <th>...</th>\n",
       "      <th>first_browser_Silk</th>\n",
       "      <th>first_browser_SiteKiosk</th>\n",
       "      <th>first_browser_SlimBrowser</th>\n",
       "      <th>first_browser_Sogou Explorer</th>\n",
       "      <th>first_browser_Stainless</th>\n",
       "      <th>first_browser_TenFourFox</th>\n",
       "      <th>first_browser_TheWorld Browser</th>\n",
       "      <th>first_browser_UC Browser</th>\n",
       "      <th>first_browser_Yandex.Browser</th>\n",
       "      <th>first_browser_wOSBrowser</th>\n",
       "    </tr>\n",
       "  </thead>\n",
       "  <tbody>\n",
       "    <tr>\n",
       "      <th>0</th>\n",
       "      <td>0</td>\n",
       "      <td>gxn3p5htnn</td>\n",
       "      <td>NaN</td>\n",
       "      <td>NDF</td>\n",
       "      <td>6</td>\n",
       "      <td>3</td>\n",
       "      <td>NaN</td>\n",
       "      <td>2010</td>\n",
       "      <td>2009</td>\n",
       "      <td>NaN</td>\n",
       "      <td>...</td>\n",
       "      <td>0</td>\n",
       "      <td>0</td>\n",
       "      <td>0</td>\n",
       "      <td>0</td>\n",
       "      <td>0</td>\n",
       "      <td>0</td>\n",
       "      <td>0</td>\n",
       "      <td>0</td>\n",
       "      <td>0</td>\n",
       "      <td>0</td>\n",
       "    </tr>\n",
       "    <tr>\n",
       "      <th>1</th>\n",
       "      <td>1</td>\n",
       "      <td>820tgsjxq7</td>\n",
       "      <td>38.0</td>\n",
       "      <td>NDF</td>\n",
       "      <td>5</td>\n",
       "      <td>5</td>\n",
       "      <td>NaN</td>\n",
       "      <td>2011</td>\n",
       "      <td>2009</td>\n",
       "      <td>NaN</td>\n",
       "      <td>...</td>\n",
       "      <td>0</td>\n",
       "      <td>0</td>\n",
       "      <td>0</td>\n",
       "      <td>0</td>\n",
       "      <td>0</td>\n",
       "      <td>0</td>\n",
       "      <td>0</td>\n",
       "      <td>0</td>\n",
       "      <td>0</td>\n",
       "      <td>0</td>\n",
       "    </tr>\n",
       "    <tr>\n",
       "      <th>2</th>\n",
       "      <td>2</td>\n",
       "      <td>4ft3gnwmtx</td>\n",
       "      <td>56.0</td>\n",
       "      <td>US</td>\n",
       "      <td>9</td>\n",
       "      <td>6</td>\n",
       "      <td>8.0</td>\n",
       "      <td>2010</td>\n",
       "      <td>2009</td>\n",
       "      <td>2010.0</td>\n",
       "      <td>...</td>\n",
       "      <td>0</td>\n",
       "      <td>0</td>\n",
       "      <td>0</td>\n",
       "      <td>0</td>\n",
       "      <td>0</td>\n",
       "      <td>0</td>\n",
       "      <td>0</td>\n",
       "      <td>0</td>\n",
       "      <td>0</td>\n",
       "      <td>0</td>\n",
       "    </tr>\n",
       "    <tr>\n",
       "      <th>3</th>\n",
       "      <td>3</td>\n",
       "      <td>bjjt8pjhuk</td>\n",
       "      <td>42.0</td>\n",
       "      <td>other</td>\n",
       "      <td>12</td>\n",
       "      <td>10</td>\n",
       "      <td>9.0</td>\n",
       "      <td>2011</td>\n",
       "      <td>2009</td>\n",
       "      <td>2012.0</td>\n",
       "      <td>...</td>\n",
       "      <td>0</td>\n",
       "      <td>0</td>\n",
       "      <td>0</td>\n",
       "      <td>0</td>\n",
       "      <td>0</td>\n",
       "      <td>0</td>\n",
       "      <td>0</td>\n",
       "      <td>0</td>\n",
       "      <td>0</td>\n",
       "      <td>0</td>\n",
       "    </tr>\n",
       "    <tr>\n",
       "      <th>4</th>\n",
       "      <td>4</td>\n",
       "      <td>87mebub9p4</td>\n",
       "      <td>41.0</td>\n",
       "      <td>US</td>\n",
       "      <td>9</td>\n",
       "      <td>12</td>\n",
       "      <td>2.0</td>\n",
       "      <td>2010</td>\n",
       "      <td>2009</td>\n",
       "      <td>2010.0</td>\n",
       "      <td>...</td>\n",
       "      <td>0</td>\n",
       "      <td>0</td>\n",
       "      <td>0</td>\n",
       "      <td>0</td>\n",
       "      <td>0</td>\n",
       "      <td>0</td>\n",
       "      <td>0</td>\n",
       "      <td>0</td>\n",
       "      <td>0</td>\n",
       "      <td>0</td>\n",
       "    </tr>\n",
       "  </tbody>\n",
       "</table>\n",
       "<p>5 rows × 169 columns</p>\n",
       "</div>"
      ],
      "text/plain": [
       "   Unnamed: 0          id   age country_destination  date_accnt_created_month  \\\n",
       "0           0  gxn3p5htnn   NaN                 NDF                         6   \n",
       "1           1  820tgsjxq7  38.0                 NDF                         5   \n",
       "2           2  4ft3gnwmtx  56.0                  US                         9   \n",
       "3           3  bjjt8pjhuk  42.0               other                        12   \n",
       "4           4  87mebub9p4  41.0                  US                         9   \n",
       "\n",
       "   timestamp_first_active_month  date_first_booking_month  \\\n",
       "0                             3                       NaN   \n",
       "1                             5                       NaN   \n",
       "2                             6                       8.0   \n",
       "3                            10                       9.0   \n",
       "4                            12                       2.0   \n",
       "\n",
       "   date_accnt_created_year  timestamp_first_active_year  \\\n",
       "0                     2010                         2009   \n",
       "1                     2011                         2009   \n",
       "2                     2010                         2009   \n",
       "3                     2011                         2009   \n",
       "4                     2010                         2009   \n",
       "\n",
       "   date_first_booking_year            ...             first_browser_Silk  \\\n",
       "0                      NaN            ...                              0   \n",
       "1                      NaN            ...                              0   \n",
       "2                   2010.0            ...                              0   \n",
       "3                   2012.0            ...                              0   \n",
       "4                   2010.0            ...                              0   \n",
       "\n",
       "   first_browser_SiteKiosk  first_browser_SlimBrowser  \\\n",
       "0                        0                          0   \n",
       "1                        0                          0   \n",
       "2                        0                          0   \n",
       "3                        0                          0   \n",
       "4                        0                          0   \n",
       "\n",
       "   first_browser_Sogou Explorer  first_browser_Stainless  \\\n",
       "0                             0                        0   \n",
       "1                             0                        0   \n",
       "2                             0                        0   \n",
       "3                             0                        0   \n",
       "4                             0                        0   \n",
       "\n",
       "   first_browser_TenFourFox  first_browser_TheWorld Browser  \\\n",
       "0                         0                               0   \n",
       "1                         0                               0   \n",
       "2                         0                               0   \n",
       "3                         0                               0   \n",
       "4                         0                               0   \n",
       "\n",
       "   first_browser_UC Browser  first_browser_Yandex.Browser  \\\n",
       "0                         0                             0   \n",
       "1                         0                             0   \n",
       "2                         0                             0   \n",
       "3                         0                             0   \n",
       "4                         0                             0   \n",
       "\n",
       "   first_browser_wOSBrowser  \n",
       "0                         0  \n",
       "1                         0  \n",
       "2                         0  \n",
       "3                         0  \n",
       "4                         0  \n",
       "\n",
       "[5 rows x 169 columns]"
      ]
     },
     "execution_count": 151,
     "metadata": {},
     "output_type": "execute_result"
    }
   ],
   "source": [
    "training.head()"
   ]
  },
  {
   "cell_type": "code",
   "execution_count": 152,
   "metadata": {
    "collapsed": true
   },
   "outputs": [],
   "source": [
    "del training['Unnamed: 0']"
   ]
  },
  {
   "cell_type": "code",
   "execution_count": 153,
   "metadata": {
    "collapsed": true
   },
   "outputs": [],
   "source": [
    "del training['id']"
   ]
  },
  {
   "cell_type": "code",
   "execution_count": 154,
   "metadata": {
    "collapsed": false
   },
   "outputs": [
    {
     "data": {
      "text/html": [
       "<div>\n",
       "<table border=\"1\" class=\"dataframe\">\n",
       "  <thead>\n",
       "    <tr style=\"text-align: right;\">\n",
       "      <th></th>\n",
       "      <th>age</th>\n",
       "      <th>country_destination</th>\n",
       "      <th>date_accnt_created_month</th>\n",
       "      <th>timestamp_first_active_month</th>\n",
       "      <th>date_first_booking_month</th>\n",
       "      <th>date_accnt_created_year</th>\n",
       "      <th>timestamp_first_active_year</th>\n",
       "      <th>date_first_booking_year</th>\n",
       "      <th>date_accnt_created_day</th>\n",
       "      <th>timestamp_first_active_day</th>\n",
       "      <th>...</th>\n",
       "      <th>first_browser_Silk</th>\n",
       "      <th>first_browser_SiteKiosk</th>\n",
       "      <th>first_browser_SlimBrowser</th>\n",
       "      <th>first_browser_Sogou Explorer</th>\n",
       "      <th>first_browser_Stainless</th>\n",
       "      <th>first_browser_TenFourFox</th>\n",
       "      <th>first_browser_TheWorld Browser</th>\n",
       "      <th>first_browser_UC Browser</th>\n",
       "      <th>first_browser_Yandex.Browser</th>\n",
       "      <th>first_browser_wOSBrowser</th>\n",
       "    </tr>\n",
       "  </thead>\n",
       "  <tbody>\n",
       "    <tr>\n",
       "      <th>0</th>\n",
       "      <td>NaN</td>\n",
       "      <td>NDF</td>\n",
       "      <td>6</td>\n",
       "      <td>3</td>\n",
       "      <td>NaN</td>\n",
       "      <td>2010</td>\n",
       "      <td>2009</td>\n",
       "      <td>NaN</td>\n",
       "      <td>28</td>\n",
       "      <td>19</td>\n",
       "      <td>...</td>\n",
       "      <td>0</td>\n",
       "      <td>0</td>\n",
       "      <td>0</td>\n",
       "      <td>0</td>\n",
       "      <td>0</td>\n",
       "      <td>0</td>\n",
       "      <td>0</td>\n",
       "      <td>0</td>\n",
       "      <td>0</td>\n",
       "      <td>0</td>\n",
       "    </tr>\n",
       "    <tr>\n",
       "      <th>1</th>\n",
       "      <td>38.0</td>\n",
       "      <td>NDF</td>\n",
       "      <td>5</td>\n",
       "      <td>5</td>\n",
       "      <td>NaN</td>\n",
       "      <td>2011</td>\n",
       "      <td>2009</td>\n",
       "      <td>NaN</td>\n",
       "      <td>25</td>\n",
       "      <td>23</td>\n",
       "      <td>...</td>\n",
       "      <td>0</td>\n",
       "      <td>0</td>\n",
       "      <td>0</td>\n",
       "      <td>0</td>\n",
       "      <td>0</td>\n",
       "      <td>0</td>\n",
       "      <td>0</td>\n",
       "      <td>0</td>\n",
       "      <td>0</td>\n",
       "      <td>0</td>\n",
       "    </tr>\n",
       "    <tr>\n",
       "      <th>2</th>\n",
       "      <td>56.0</td>\n",
       "      <td>US</td>\n",
       "      <td>9</td>\n",
       "      <td>6</td>\n",
       "      <td>8.0</td>\n",
       "      <td>2010</td>\n",
       "      <td>2009</td>\n",
       "      <td>2010.0</td>\n",
       "      <td>28</td>\n",
       "      <td>9</td>\n",
       "      <td>...</td>\n",
       "      <td>0</td>\n",
       "      <td>0</td>\n",
       "      <td>0</td>\n",
       "      <td>0</td>\n",
       "      <td>0</td>\n",
       "      <td>0</td>\n",
       "      <td>0</td>\n",
       "      <td>0</td>\n",
       "      <td>0</td>\n",
       "      <td>0</td>\n",
       "    </tr>\n",
       "    <tr>\n",
       "      <th>3</th>\n",
       "      <td>42.0</td>\n",
       "      <td>other</td>\n",
       "      <td>12</td>\n",
       "      <td>10</td>\n",
       "      <td>9.0</td>\n",
       "      <td>2011</td>\n",
       "      <td>2009</td>\n",
       "      <td>2012.0</td>\n",
       "      <td>5</td>\n",
       "      <td>31</td>\n",
       "      <td>...</td>\n",
       "      <td>0</td>\n",
       "      <td>0</td>\n",
       "      <td>0</td>\n",
       "      <td>0</td>\n",
       "      <td>0</td>\n",
       "      <td>0</td>\n",
       "      <td>0</td>\n",
       "      <td>0</td>\n",
       "      <td>0</td>\n",
       "      <td>0</td>\n",
       "    </tr>\n",
       "    <tr>\n",
       "      <th>4</th>\n",
       "      <td>41.0</td>\n",
       "      <td>US</td>\n",
       "      <td>9</td>\n",
       "      <td>12</td>\n",
       "      <td>2.0</td>\n",
       "      <td>2010</td>\n",
       "      <td>2009</td>\n",
       "      <td>2010.0</td>\n",
       "      <td>14</td>\n",
       "      <td>8</td>\n",
       "      <td>...</td>\n",
       "      <td>0</td>\n",
       "      <td>0</td>\n",
       "      <td>0</td>\n",
       "      <td>0</td>\n",
       "      <td>0</td>\n",
       "      <td>0</td>\n",
       "      <td>0</td>\n",
       "      <td>0</td>\n",
       "      <td>0</td>\n",
       "      <td>0</td>\n",
       "    </tr>\n",
       "  </tbody>\n",
       "</table>\n",
       "<p>5 rows × 167 columns</p>\n",
       "</div>"
      ],
      "text/plain": [
       "    age country_destination  date_accnt_created_month  \\\n",
       "0   NaN                 NDF                         6   \n",
       "1  38.0                 NDF                         5   \n",
       "2  56.0                  US                         9   \n",
       "3  42.0               other                        12   \n",
       "4  41.0                  US                         9   \n",
       "\n",
       "   timestamp_first_active_month  date_first_booking_month  \\\n",
       "0                             3                       NaN   \n",
       "1                             5                       NaN   \n",
       "2                             6                       8.0   \n",
       "3                            10                       9.0   \n",
       "4                            12                       2.0   \n",
       "\n",
       "   date_accnt_created_year  timestamp_first_active_year  \\\n",
       "0                     2010                         2009   \n",
       "1                     2011                         2009   \n",
       "2                     2010                         2009   \n",
       "3                     2011                         2009   \n",
       "4                     2010                         2009   \n",
       "\n",
       "   date_first_booking_year  date_accnt_created_day  \\\n",
       "0                      NaN                      28   \n",
       "1                      NaN                      25   \n",
       "2                   2010.0                      28   \n",
       "3                   2012.0                       5   \n",
       "4                   2010.0                      14   \n",
       "\n",
       "   timestamp_first_active_day            ...             first_browser_Silk  \\\n",
       "0                          19            ...                              0   \n",
       "1                          23            ...                              0   \n",
       "2                           9            ...                              0   \n",
       "3                          31            ...                              0   \n",
       "4                           8            ...                              0   \n",
       "\n",
       "   first_browser_SiteKiosk  first_browser_SlimBrowser  \\\n",
       "0                        0                          0   \n",
       "1                        0                          0   \n",
       "2                        0                          0   \n",
       "3                        0                          0   \n",
       "4                        0                          0   \n",
       "\n",
       "   first_browser_Sogou Explorer  first_browser_Stainless  \\\n",
       "0                             0                        0   \n",
       "1                             0                        0   \n",
       "2                             0                        0   \n",
       "3                             0                        0   \n",
       "4                             0                        0   \n",
       "\n",
       "   first_browser_TenFourFox  first_browser_TheWorld Browser  \\\n",
       "0                         0                               0   \n",
       "1                         0                               0   \n",
       "2                         0                               0   \n",
       "3                         0                               0   \n",
       "4                         0                               0   \n",
       "\n",
       "   first_browser_UC Browser  first_browser_Yandex.Browser  \\\n",
       "0                         0                             0   \n",
       "1                         0                             0   \n",
       "2                         0                             0   \n",
       "3                         0                             0   \n",
       "4                         0                             0   \n",
       "\n",
       "   first_browser_wOSBrowser  \n",
       "0                         0  \n",
       "1                         0  \n",
       "2                         0  \n",
       "3                         0  \n",
       "4                         0  \n",
       "\n",
       "[5 rows x 167 columns]"
      ]
     },
     "execution_count": 154,
     "metadata": {},
     "output_type": "execute_result"
    }
   ],
   "source": [
    "training.head()"
   ]
  },
  {
   "cell_type": "code",
   "execution_count": 155,
   "metadata": {
    "collapsed": false
   },
   "outputs": [],
   "source": [
    "training.NoMissing = training.dropna() #Drop the rows with NAN values"
   ]
  },
  {
   "cell_type": "code",
   "execution_count": 156,
   "metadata": {
    "collapsed": false
   },
   "outputs": [],
   "source": [
    "training_Y = training.NoMissing.loc[:,'country_destination']"
   ]
  },
  {
   "cell_type": "code",
   "execution_count": 157,
   "metadata": {
    "collapsed": true
   },
   "outputs": [],
   "source": [
    "training_X = training.NoMissing.drop(['country_destination'], axis=1)"
   ]
  },
  {
   "cell_type": "code",
   "execution_count": 158,
   "metadata": {
    "collapsed": false
   },
   "outputs": [
    {
     "data": {
      "text/plain": [
       "ExtraTreesClassifier(bootstrap=False, class_weight=None, criterion='gini',\n",
       "           max_depth=None, max_features='auto', max_leaf_nodes=None,\n",
       "           min_impurity_split=1e-07, min_samples_leaf=1,\n",
       "           min_samples_split=2, min_weight_fraction_leaf=0.0,\n",
       "           n_estimators=10, n_jobs=1, oob_score=False, random_state=None,\n",
       "           verbose=0, warm_start=False)"
      ]
     },
     "execution_count": 158,
     "metadata": {},
     "output_type": "execute_result"
    }
   ],
   "source": [
    "from sklearn import metrics\n",
    "from sklearn.ensemble import ExtraTreesClassifier\n",
    "\n",
    "\n",
    "# fit an Extra Trees model to the data\n",
    "model = ExtraTreesClassifier()\n",
    "model.fit(training_X, training_Y)"
   ]
  },
  {
   "cell_type": "code",
   "execution_count": 207,
   "metadata": {
    "collapsed": false
   },
   "outputs": [
    {
     "data": {
      "image/png": "[encoded data removed]",
      "text/plain": [
       "<matplotlib.figure.Figure at 0x1453fb110>"
      ]
     },
     "metadata": {},
     "output_type": "display_data"
    }
   ],
   "source": [
    "d3 = {'Feature':list(training_X),'Importance': list(model.feature_importances_)}\n",
    "d4 = pd.DataFrame(d3,index = list(training_X))\n",
    "import seaborn as sn\n",
    "import matplotlib.pyplot as plt\n",
    "d4.sort_values(\"Importance\", ascending=False).head(30).plot(fontsize=22,kind = 'barh',color = 'g',figsize=(20,15))\n",
    "plt.title('Feature Importance',fontsize= 30)\n",
    "plt.xlabel('Importance', fontsize=25)\n",
    "plt.ylabel('Feature', fontsize=25)\n",
    "plt.show()"
   ]
  },
  {
   "cell_type": "code",
   "execution_count": 256,
   "metadata": {
    "collapsed": false
   },
   "outputs": [
    {
     "data": {
      "text/html": [
       "<div>\n",
       "<table border=\"1\" class=\"dataframe\">\n",
       "  <thead>\n",
       "    <tr style=\"text-align: right;\">\n",
       "      <th></th>\n",
       "      <th>Feature</th>\n",
       "      <th>Importance</th>\n",
       "    </tr>\n",
       "  </thead>\n",
       "  <tbody>\n",
       "    <tr>\n",
       "      <th>signup_flow_25</th>\n",
       "      <td>signup_flow_25</td>\n",
       "      <td>6.899971e-04</td>\n",
       "    </tr>\n",
       "    <tr>\n",
       "      <th>language_it</th>\n",
       "      <td>language_it</td>\n",
       "      <td>6.688121e-04</td>\n",
       "    </tr>\n",
       "    <tr>\n",
       "      <th>signup_flow_24</th>\n",
       "      <td>signup_flow_24</td>\n",
       "      <td>6.436777e-04</td>\n",
       "    </tr>\n",
       "    <tr>\n",
       "      <th>signup_flow_1</th>\n",
       "      <td>signup_flow_1</td>\n",
       "      <td>5.994053e-04</td>\n",
       "    </tr>\n",
       "    <tr>\n",
       "      <th>affiliate_channel_api</th>\n",
       "      <td>affiliate_channel_api</td>\n",
       "      <td>5.914166e-04</td>\n",
       "    </tr>\n",
       "    <tr>\n",
       "      <th>signup_flow_12</th>\n",
       "      <td>signup_flow_12</td>\n",
       "      <td>5.807151e-04</td>\n",
       "    </tr>\n",
       "    <tr>\n",
       "      <th>language_ru</th>\n",
       "      <td>language_ru</td>\n",
       "      <td>5.508926e-04</td>\n",
       "    </tr>\n",
       "    <tr>\n",
       "      <th>signup_flow_21</th>\n",
       "      <td>signup_flow_21</td>\n",
       "      <td>5.476156e-04</td>\n",
       "    </tr>\n",
       "    <tr>\n",
       "      <th>affiliate_provider_vast</th>\n",
       "      <td>affiliate_provider_vast</td>\n",
       "      <td>5.295554e-04</td>\n",
       "    </tr>\n",
       "    <tr>\n",
       "      <th>signup_app_Android</th>\n",
       "      <td>signup_app_Android</td>\n",
       "      <td>4.984392e-04</td>\n",
       "    </tr>\n",
       "    <tr>\n",
       "      <th>affiliate_provider_yahoo</th>\n",
       "      <td>affiliate_provider_yahoo</td>\n",
       "      <td>4.952199e-04</td>\n",
       "    </tr>\n",
       "    <tr>\n",
       "      <th>first_browser_Android Browser</th>\n",
       "      <td>first_browser_Android Browser</td>\n",
       "      <td>4.749364e-04</td>\n",
       "    </tr>\n",
       "    <tr>\n",
       "      <th>language_pt</th>\n",
       "      <td>language_pt</td>\n",
       "      <td>3.777582e-04</td>\n",
       "    </tr>\n",
       "    <tr>\n",
       "      <th>first_browser_Opera</th>\n",
       "      <td>first_browser_Opera</td>\n",
       "      <td>3.379701e-04</td>\n",
       "    </tr>\n",
       "    <tr>\n",
       "      <th>language_ja</th>\n",
       "      <td>language_ja</td>\n",
       "      <td>3.318876e-04</td>\n",
       "    </tr>\n",
       "    <tr>\n",
       "      <th>affiliate_provider_facebook-open-graph</th>\n",
       "      <td>affiliate_provider_facebook-open-graph</td>\n",
       "      <td>3.284377e-04</td>\n",
       "    </tr>\n",
       "    <tr>\n",
       "      <th>signup_flow_23</th>\n",
       "      <td>signup_flow_23</td>\n",
       "      <td>2.926046e-04</td>\n",
       "    </tr>\n",
       "    <tr>\n",
       "      <th>first_browser_AOL Explorer</th>\n",
       "      <td>first_browser_AOL Explorer</td>\n",
       "      <td>2.793342e-04</td>\n",
       "    </tr>\n",
       "    <tr>\n",
       "      <th>signup_flow_6</th>\n",
       "      <td>signup_flow_6</td>\n",
       "      <td>2.561295e-04</td>\n",
       "    </tr>\n",
       "    <tr>\n",
       "      <th>affiliate_provider_padmapper</th>\n",
       "      <td>affiliate_provider_padmapper</td>\n",
       "      <td>2.493917e-04</td>\n",
       "    </tr>\n",
       "    <tr>\n",
       "      <th>language_nl</th>\n",
       "      <td>language_nl</td>\n",
       "      <td>2.281963e-04</td>\n",
       "    </tr>\n",
       "    <tr>\n",
       "      <th>first_browser_Chromium</th>\n",
       "      <td>first_browser_Chromium</td>\n",
       "      <td>2.255086e-04</td>\n",
       "    </tr>\n",
       "    <tr>\n",
       "      <th>language_sv</th>\n",
       "      <td>language_sv</td>\n",
       "      <td>2.182181e-04</td>\n",
       "    </tr>\n",
       "    <tr>\n",
       "      <th>language_pl</th>\n",
       "      <td>language_pl</td>\n",
       "      <td>1.827963e-04</td>\n",
       "    </tr>\n",
       "    <tr>\n",
       "      <th>first_affiliate_tracked_marketing</th>\n",
       "      <td>first_affiliate_tracked_marketing</td>\n",
       "      <td>1.793292e-04</td>\n",
       "    </tr>\n",
       "    <tr>\n",
       "      <th>language_tr</th>\n",
       "      <td>language_tr</td>\n",
       "      <td>1.785981e-04</td>\n",
       "    </tr>\n",
       "    <tr>\n",
       "      <th>affiliate_provider_meetup</th>\n",
       "      <td>affiliate_provider_meetup</td>\n",
       "      <td>1.373572e-04</td>\n",
       "    </tr>\n",
       "    <tr>\n",
       "      <th>first_browser_Iron</th>\n",
       "      <td>first_browser_Iron</td>\n",
       "      <td>1.323379e-04</td>\n",
       "    </tr>\n",
       "    <tr>\n",
       "      <th>language_da</th>\n",
       "      <td>language_da</td>\n",
       "      <td>1.282120e-04</td>\n",
       "    </tr>\n",
       "    <tr>\n",
       "      <th>first_browser_Silk</th>\n",
       "      <td>first_browser_Silk</td>\n",
       "      <td>1.240100e-04</td>\n",
       "    </tr>\n",
       "    <tr>\n",
       "      <th>...</th>\n",
       "      <td>...</td>\n",
       "      <td>...</td>\n",
       "    </tr>\n",
       "    <tr>\n",
       "      <th>language_th</th>\n",
       "      <td>language_th</td>\n",
       "      <td>6.706659e-07</td>\n",
       "    </tr>\n",
       "    <tr>\n",
       "      <th>first_browser_Opera Mini</th>\n",
       "      <td>first_browser_Opera Mini</td>\n",
       "      <td>5.874819e-07</td>\n",
       "    </tr>\n",
       "    <tr>\n",
       "      <th>first_browser_SlimBrowser</th>\n",
       "      <td>first_browser_SlimBrowser</td>\n",
       "      <td>4.888907e-07</td>\n",
       "    </tr>\n",
       "    <tr>\n",
       "      <th>signup_flow_10</th>\n",
       "      <td>signup_flow_10</td>\n",
       "      <td>3.096016e-07</td>\n",
       "    </tr>\n",
       "    <tr>\n",
       "      <th>first_browser_PS Vita browser</th>\n",
       "      <td>first_browser_PS Vita browser</td>\n",
       "      <td>0.000000e+00</td>\n",
       "    </tr>\n",
       "    <tr>\n",
       "      <th>first_browser_Palm Pre web browser</th>\n",
       "      <td>first_browser_Palm Pre web browser</td>\n",
       "      <td>0.000000e+00</td>\n",
       "    </tr>\n",
       "    <tr>\n",
       "      <th>signup_method_weibo</th>\n",
       "      <td>signup_method_weibo</td>\n",
       "      <td>0.000000e+00</td>\n",
       "    </tr>\n",
       "    <tr>\n",
       "      <th>first_browser_UC Browser</th>\n",
       "      <td>first_browser_UC Browser</td>\n",
       "      <td>0.000000e+00</td>\n",
       "    </tr>\n",
       "    <tr>\n",
       "      <th>first_browser_Outlook 2007</th>\n",
       "      <td>first_browser_Outlook 2007</td>\n",
       "      <td>0.000000e+00</td>\n",
       "    </tr>\n",
       "    <tr>\n",
       "      <th>first_browser_Opera Mobile</th>\n",
       "      <td>first_browser_Opera Mobile</td>\n",
       "      <td>0.000000e+00</td>\n",
       "    </tr>\n",
       "    <tr>\n",
       "      <th>signup_flow_14</th>\n",
       "      <td>signup_flow_14</td>\n",
       "      <td>0.000000e+00</td>\n",
       "    </tr>\n",
       "    <tr>\n",
       "      <th>signup_flow_4</th>\n",
       "      <td>signup_flow_4</td>\n",
       "      <td>0.000000e+00</td>\n",
       "    </tr>\n",
       "    <tr>\n",
       "      <th>first_browser_Conkeror</th>\n",
       "      <td>first_browser_Conkeror</td>\n",
       "      <td>0.000000e+00</td>\n",
       "    </tr>\n",
       "    <tr>\n",
       "      <th>affiliate_provider_wayn</th>\n",
       "      <td>affiliate_provider_wayn</td>\n",
       "      <td>0.000000e+00</td>\n",
       "    </tr>\n",
       "    <tr>\n",
       "      <th>affiliate_provider_daum</th>\n",
       "      <td>affiliate_provider_daum</td>\n",
       "      <td>0.000000e+00</td>\n",
       "    </tr>\n",
       "    <tr>\n",
       "      <th>language_id</th>\n",
       "      <td>language_id</td>\n",
       "      <td>0.000000e+00</td>\n",
       "    </tr>\n",
       "    <tr>\n",
       "      <th>language_hr</th>\n",
       "      <td>language_hr</td>\n",
       "      <td>0.000000e+00</td>\n",
       "    </tr>\n",
       "    <tr>\n",
       "      <th>first_browser_Arora</th>\n",
       "      <td>first_browser_Arora</td>\n",
       "      <td>0.000000e+00</td>\n",
       "    </tr>\n",
       "    <tr>\n",
       "      <th>first_browser_CometBird</th>\n",
       "      <td>first_browser_CometBird</td>\n",
       "      <td>0.000000e+00</td>\n",
       "    </tr>\n",
       "    <tr>\n",
       "      <th>first_browser_Comodo Dragon</th>\n",
       "      <td>first_browser_Comodo Dragon</td>\n",
       "      <td>0.000000e+00</td>\n",
       "    </tr>\n",
       "    <tr>\n",
       "      <th>first_browser_Crazy Browser</th>\n",
       "      <td>first_browser_Crazy Browser</td>\n",
       "      <td>0.000000e+00</td>\n",
       "    </tr>\n",
       "    <tr>\n",
       "      <th>first_browser_OmniWeb</th>\n",
       "      <td>first_browser_OmniWeb</td>\n",
       "      <td>0.000000e+00</td>\n",
       "    </tr>\n",
       "    <tr>\n",
       "      <th>first_browser_Epic</th>\n",
       "      <td>first_browser_Epic</td>\n",
       "      <td>0.000000e+00</td>\n",
       "    </tr>\n",
       "    <tr>\n",
       "      <th>first_browser_Flock</th>\n",
       "      <td>first_browser_Flock</td>\n",
       "      <td>0.000000e+00</td>\n",
       "    </tr>\n",
       "    <tr>\n",
       "      <th>first_browser_Google Earth</th>\n",
       "      <td>first_browser_Google Earth</td>\n",
       "      <td>0.000000e+00</td>\n",
       "    </tr>\n",
       "    <tr>\n",
       "      <th>first_browser_Googlebot</th>\n",
       "      <td>first_browser_Googlebot</td>\n",
       "      <td>0.000000e+00</td>\n",
       "    </tr>\n",
       "    <tr>\n",
       "      <th>first_browser_IBrowse</th>\n",
       "      <td>first_browser_IBrowse</td>\n",
       "      <td>0.000000e+00</td>\n",
       "    </tr>\n",
       "    <tr>\n",
       "      <th>first_browser_IceDragon</th>\n",
       "      <td>first_browser_IceDragon</td>\n",
       "      <td>0.000000e+00</td>\n",
       "    </tr>\n",
       "    <tr>\n",
       "      <th>first_browser_Nintendo Browser</th>\n",
       "      <td>first_browser_Nintendo Browser</td>\n",
       "      <td>0.000000e+00</td>\n",
       "    </tr>\n",
       "    <tr>\n",
       "      <th>first_browser_wOSBrowser</th>\n",
       "      <td>first_browser_wOSBrowser</td>\n",
       "      <td>0.000000e+00</td>\n",
       "    </tr>\n",
       "  </tbody>\n",
       "</table>\n",
       "<p>100 rows × 2 columns</p>\n",
       "</div>"
      ],
      "text/plain": [
       "                                                                       Feature  \\\n",
       "signup_flow_25                                                  signup_flow_25   \n",
       "language_it                                                        language_it   \n",
       "signup_flow_24                                                  signup_flow_24   \n",
       "signup_flow_1                                                    signup_flow_1   \n",
       "affiliate_channel_api                                    affiliate_channel_api   \n",
       "signup_flow_12                                                  signup_flow_12   \n",
       "language_ru                                                        language_ru   \n",
       "signup_flow_21                                                  signup_flow_21   \n",
       "affiliate_provider_vast                                affiliate_provider_vast   \n",
       "signup_app_Android                                          signup_app_Android   \n",
       "affiliate_provider_yahoo                              affiliate_provider_yahoo   \n",
       "first_browser_Android Browser                    first_browser_Android Browser   \n",
       "language_pt                                                        language_pt   \n",
       "first_browser_Opera                                        first_browser_Opera   \n",
       "language_ja                                                        language_ja   \n",
       "affiliate_provider_facebook-open-graph  affiliate_provider_facebook-open-graph   \n",
       "signup_flow_23                                                  signup_flow_23   \n",
       "first_browser_AOL Explorer                          first_browser_AOL Explorer   \n",
       "signup_flow_6                                                    signup_flow_6   \n",
       "affiliate_provider_padmapper                      affiliate_provider_padmapper   \n",
       "language_nl                                                        language_nl   \n",
       "first_browser_Chromium                                  first_browser_Chromium   \n",
       "language_sv                                                        language_sv   \n",
       "language_pl                                                        language_pl   \n",
       "first_affiliate_tracked_marketing            first_affiliate_tracked_marketing   \n",
       "language_tr                                                        language_tr   \n",
       "affiliate_provider_meetup                            affiliate_provider_meetup   \n",
       "first_browser_Iron                                          first_browser_Iron   \n",
       "language_da                                                        language_da   \n",
       "first_browser_Silk                                          first_browser_Silk   \n",
       "...                                                                        ...   \n",
       "language_th                                                        language_th   \n",
       "first_browser_Opera Mini                              first_browser_Opera Mini   \n",
       "first_browser_SlimBrowser                            first_browser_SlimBrowser   \n",
       "signup_flow_10                                                  signup_flow_10   \n",
       "first_browser_PS Vita browser                    first_browser_PS Vita browser   \n",
       "first_browser_Palm Pre web browser          first_browser_Palm Pre web browser   \n",
       "signup_method_weibo                                        signup_method_weibo   \n",
       "first_browser_UC Browser                              first_browser_UC Browser   \n",
       "first_browser_Outlook 2007                          first_browser_Outlook 2007   \n",
       "first_browser_Opera Mobile                          first_browser_Opera Mobile   \n",
       "signup_flow_14                                                  signup_flow_14   \n",
       "signup_flow_4                                                    signup_flow_4   \n",
       "first_browser_Conkeror                                  first_browser_Conkeror   \n",
       "affiliate_provider_wayn                                affiliate_provider_wayn   \n",
       "affiliate_provider_daum                                affiliate_provider_daum   \n",
       "language_id                                                        language_id   \n",
       "language_hr                                                        language_hr   \n",
       "first_browser_Arora                                        first_browser_Arora   \n",
       "first_browser_CometBird                                first_browser_CometBird   \n",
       "first_browser_Comodo Dragon                        first_browser_Comodo Dragon   \n",
       "first_browser_Crazy Browser                        first_browser_Crazy Browser   \n",
       "first_browser_OmniWeb                                    first_browser_OmniWeb   \n",
       "first_browser_Epic                                          first_browser_Epic   \n",
       "first_browser_Flock                                        first_browser_Flock   \n",
       "first_browser_Google Earth                          first_browser_Google Earth   \n",
       "first_browser_Googlebot                                first_browser_Googlebot   \n",
       "first_browser_IBrowse                                    first_browser_IBrowse   \n",
       "first_browser_IceDragon                                first_browser_IceDragon   \n",
       "first_browser_Nintendo Browser                  first_browser_Nintendo Browser   \n",
       "first_browser_wOSBrowser                              first_browser_wOSBrowser   \n",
       "\n",
       "                                          Importance  \n",
       "signup_flow_25                          6.899971e-04  \n",
       "language_it                             6.688121e-04  \n",
       "signup_flow_24                          6.436777e-04  \n",
       "signup_flow_1                           5.994053e-04  \n",
       "affiliate_channel_api                   5.914166e-04  \n",
       "signup_flow_12                          5.807151e-04  \n",
       "language_ru                             5.508926e-04  \n",
       "signup_flow_21                          5.476156e-04  \n",
       "affiliate_provider_vast                 5.295554e-04  \n",
       "signup_app_Android                      4.984392e-04  \n",
       "affiliate_provider_yahoo                4.952199e-04  \n",
       "first_browser_Android Browser           4.749364e-04  \n",
       "language_pt                             3.777582e-04  \n",
       "first_browser_Opera                     3.379701e-04  \n",
       "language_ja                             3.318876e-04  \n",
       "affiliate_provider_facebook-open-graph  3.284377e-04  \n",
       "signup_flow_23                          2.926046e-04  \n",
       "first_browser_AOL Explorer              2.793342e-04  \n",
       "signup_flow_6                           2.561295e-04  \n",
       "affiliate_provider_padmapper            2.493917e-04  \n",
       "language_nl                             2.281963e-04  \n",
       "first_browser_Chromium                  2.255086e-04  \n",
       "language_sv                             2.182181e-04  \n",
       "language_pl                             1.827963e-04  \n",
       "first_affiliate_tracked_marketing       1.793292e-04  \n",
       "language_tr                             1.785981e-04  \n",
       "affiliate_provider_meetup               1.373572e-04  \n",
       "first_browser_Iron                      1.323379e-04  \n",
       "language_da                             1.282120e-04  \n",
       "first_browser_Silk                      1.240100e-04  \n",
       "...                                              ...  \n",
       "language_th                             6.706659e-07  \n",
       "first_browser_Opera Mini                5.874819e-07  \n",
       "first_browser_SlimBrowser               4.888907e-07  \n",
       "signup_flow_10                          3.096016e-07  \n",
       "first_browser_PS Vita browser           0.000000e+00  \n",
       "first_browser_Palm Pre web browser      0.000000e+00  \n",
       "signup_method_weibo                     0.000000e+00  \n",
       "first_browser_UC Browser                0.000000e+00  \n",
       "first_browser_Outlook 2007              0.000000e+00  \n",
       "first_browser_Opera Mobile              0.000000e+00  \n",
       "signup_flow_14                          0.000000e+00  \n",
       "signup_flow_4                           0.000000e+00  \n",
       "first_browser_Conkeror                  0.000000e+00  \n",
       "affiliate_provider_wayn                 0.000000e+00  \n",
       "affiliate_provider_daum                 0.000000e+00  \n",
       "language_id                             0.000000e+00  \n",
       "language_hr                             0.000000e+00  \n",
       "first_browser_Arora                     0.000000e+00  \n",
       "first_browser_CometBird                 0.000000e+00  \n",
       "first_browser_Comodo Dragon             0.000000e+00  \n",
       "first_browser_Crazy Browser             0.000000e+00  \n",
       "first_browser_OmniWeb                   0.000000e+00  \n",
       "first_browser_Epic                      0.000000e+00  \n",
       "first_browser_Flock                     0.000000e+00  \n",
       "first_browser_Google Earth              0.000000e+00  \n",
       "first_browser_Googlebot                 0.000000e+00  \n",
       "first_browser_IBrowse                   0.000000e+00  \n",
       "first_browser_IceDragon                 0.000000e+00  \n",
       "first_browser_Nintendo Browser          0.000000e+00  \n",
       "first_browser_wOSBrowser                0.000000e+00  \n",
       "\n",
       "[100 rows x 2 columns]"
      ]
     },
     "execution_count": 256,
     "metadata": {},
     "output_type": "execute_result"
    }
   ],
   "source": [
    "d4.sort_values(\"Importance\", ascending=False)"
   ]
  },
  {
   "cell_type": "markdown",
   "metadata": {},
   "source": [
    "# Logistic Regression"
   ]
  },
  {
   "cell_type": "code",
   "execution_count": 209,
   "metadata": {
    "collapsed": false
   },
   "outputs": [],
   "source": [
    "from sklearn import linear_model\n",
    "logit_1 = linear_model.LogisticRegression()"
   ]
  },
  {
   "cell_type": "code",
   "execution_count": 261,
   "metadata": {
    "collapsed": false
   },
   "outputs": [],
   "source": [
    "GoodFeature=d4[d4.Importance>0].index.tolist()"
   ]
  },
  {
   "cell_type": "code",
   "execution_count": 262,
   "metadata": {
    "collapsed": false
   },
   "outputs": [
    {
     "data": {
      "text/plain": [
       "LogisticRegression(C=10000.0, class_weight=None, dual=False,\n",
       "          fit_intercept=True, intercept_scaling=1, max_iter=100,\n",
       "          multi_class='ovr', n_jobs=1, penalty='l2', random_state=None,\n",
       "          solver='liblinear', tol=0.0001, verbose=0, warm_start=False)"
      ]
     },
     "execution_count": 262,
     "metadata": {},
     "output_type": "execute_result"
    }
   ],
   "source": [
    "logit_1.set_params(C=1e4)\n",
    "logit_1.fit(training_X[GoodFeature], training_Y)"
   ]
  },
  {
   "cell_type": "code",
   "execution_count": 263,
   "metadata": {
    "collapsed": false
   },
   "outputs": [
    {
     "name": "stdout",
     "output_type": "stream",
     "text": [
      "0.709377791009\n"
     ]
    }
   ],
   "source": [
    "logit_1.set_params(C=1e4)\n",
    "logit_1.fit(training_X[GoodFeature], training_Y)\n",
    "print logit_1.score(training_X[GoodFeature],training_Y)"
   ]
  },
  {
   "cell_type": "code",
   "execution_count": 221,
   "metadata": {
    "collapsed": false
   },
   "outputs": [
    {
     "name": "stdout",
     "output_type": "stream",
     "text": [
      "0.709377791009\n"
     ]
    }
   ],
   "source": [
    "logit_1.set_params(C=1e4)\n",
    "logit_1.fit(training_X,training_Y)\n",
    "print logit_1.score(training_X,training_Y)"
   ]
  },
  {
   "cell_type": "code",
   "execution_count": 265,
   "metadata": {
    "collapsed": false
   },
   "outputs": [
    {
     "name": "stdout",
     "output_type": "stream",
     "text": [
      "0.708395355761\n"
     ]
    }
   ],
   "source": [
    "from sklearn.model_selection import train_test_split\n",
    "X_train, X_test, y_train, y_test = train_test_split(training_X[GoodFeature], training_Y, test_size=0.2)\n",
    "logit_1.set_params(C=1e4)\n",
    "logit_1.fit(X_train, y_train)\n",
    "print logit_1.score(X_train,y_train)"
   ]
  },
  {
   "cell_type": "code",
   "execution_count": 266,
   "metadata": {
    "collapsed": false
   },
   "outputs": [],
   "source": [
    "a = logit_1.predict(X_test)"
   ]
  },
  {
   "cell_type": "code",
   "execution_count": 267,
   "metadata": {
    "collapsed": false
   },
   "outputs": [
    {
     "data": {
      "text/plain": [
       "0.71330753200357244"
      ]
     },
     "execution_count": 267,
     "metadata": {},
     "output_type": "execute_result"
    }
   ],
   "source": [
    "from sklearn.metrics import accuracy_score\n",
    "accuracy_score(y_test, a)"
   ]
  },
  {
   "cell_type": "code",
   "execution_count": null,
   "metadata": {
    "collapsed": true
   },
   "outputs": [],
   "source": [
    "#There are not much improvement on the feature engineering for the model"
   ]
  },
  {
   "cell_type": "markdown",
   "metadata": {},
   "source": [
    "# Naive Bayes"
   ]
  },
  {
   "cell_type": "code",
   "execution_count": 268,
   "metadata": {
    "collapsed": false
   },
   "outputs": [
    {
     "data": {
      "text/plain": [
       "0.70690681750520989"
      ]
     },
     "execution_count": 268,
     "metadata": {},
     "output_type": "execute_result"
    }
   ],
   "source": [
    "from sklearn import naive_bayes\n",
    "mnb = naive_bayes.MultinomialNB()\n",
    "mnb.fit(X_train,y_train)\n",
    "mnb.score(X_train,y_train)"
   ]
  },
  {
   "cell_type": "code",
   "execution_count": 270,
   "metadata": {
    "collapsed": false
   },
   "outputs": [
    {
     "data": {
      "text/plain": [
       "0.71040488240547783"
      ]
     },
     "execution_count": 270,
     "metadata": {},
     "output_type": "execute_result"
    }
   ],
   "source": [
    "b = mnb.predict(X_test)\n",
    "from sklearn.metrics import accuracy_score\n",
    "accuracy_score(y_test, b)"
   ]
  },
  {
   "cell_type": "markdown",
   "metadata": {},
   "source": [
    "# K Nearest Neighbor"
   ]
  },
  {
   "cell_type": "code",
   "execution_count": 271,
   "metadata": {
    "collapsed": false
   },
   "outputs": [
    {
     "data": {
      "text/plain": [
       "0.71773593331348617"
      ]
     },
     "execution_count": 271,
     "metadata": {},
     "output_type": "execute_result"
    }
   ],
   "source": [
    "from sklearn import neighbors\n",
    "knn=neighbors.KNeighborsClassifier()\n",
    "knn.fit(X_train,y_train)\n",
    "knn.score(X_train,y_train)"
   ]
  },
  {
   "cell_type": "code",
   "execution_count": 272,
   "metadata": {
    "collapsed": false
   },
   "outputs": [
    {
     "data": {
      "text/plain": [
       "0.67512652575171184"
      ]
     },
     "execution_count": 272,
     "metadata": {},
     "output_type": "execute_result"
    }
   ],
   "source": [
    "c = knn.predict(X_test)\n",
    "from sklearn.metrics import accuracy_score\n",
    "accuracy_score(y_test, c)"
   ]
  },
  {
   "cell_type": "markdown",
   "metadata": {},
   "source": [
    "# Random Forest"
   ]
  },
  {
   "cell_type": "code",
   "execution_count": 287,
   "metadata": {
    "collapsed": false
   },
   "outputs": [
    {
     "data": {
      "text/plain": [
       "0.70839535576064305"
      ]
     },
     "execution_count": 287,
     "metadata": {},
     "output_type": "execute_result"
    }
   ],
   "source": [
    "from sklearn import ensemble\n",
    "randomForest = ensemble.RandomForestClassifier(min_samples_leaf =150)\n",
    "np.random.seed(1)\n",
    "randomForest.fit(X_train, y_train) # fit \n",
    "randomForest.score(X_train, y_train)"
   ]
  },
  {
   "cell_type": "code",
   "execution_count": 288,
   "metadata": {
    "collapsed": false
   },
   "outputs": [
    {
     "data": {
      "text/plain": [
       "0.71330753200357244"
      ]
     },
     "execution_count": 288,
     "metadata": {},
     "output_type": "execute_result"
    }
   ],
   "source": [
    "d = randomForest.predict(X_test)\n",
    "from sklearn.metrics import accuracy_score\n",
    "accuracy_score(y_test, d)"
   ]
  },
  {
   "cell_type": "markdown",
   "metadata": {},
   "source": [
    "# Decision Tree"
   ]
  },
  {
   "cell_type": "code",
   "execution_count": 308,
   "metadata": {
    "collapsed": false
   },
   "outputs": [
    {
     "data": {
      "text/plain": [
       "0.72782077999404582"
      ]
     },
     "execution_count": 308,
     "metadata": {},
     "output_type": "execute_result"
    }
   ],
   "source": [
    "from sklearn import tree\n",
    "clf = tree.DecisionTreeClassifier(max_features= 20, max_depth=15)\n",
    "clf = clf.fit(X_train, y_train)\n",
    "clf.score(X_train, y_train)"
   ]
  },
  {
   "cell_type": "code",
   "execution_count": 309,
   "metadata": {
    "collapsed": false
   },
   "outputs": [
    {
     "data": {
      "text/plain": [
       "0.71330753200357244"
      ]
     },
     "execution_count": 309,
     "metadata": {},
     "output_type": "execute_result"
    }
   ],
   "source": [
    "e = randomForest.predict(X_test)\n",
    "from sklearn.metrics import accuracy_score\n",
    "accuracy_score(y_test, e)"
   ]
  },
  {
   "cell_type": "code",
   "execution_count": null,
   "metadata": {
    "collapsed": true
   },
   "outputs": [],
   "source": []
  }
 ],
 "metadata": {
  "anaconda-cloud": {},
  "kernelspec": {
   "display_name": "Python [default]",
   "language": "python",
   "name": "python2"
  },
  "language_info": {
   "codemirror_mode": {
    "name": "ipython",
    "version": 2
   },
   "file_extension": ".py",
   "mimetype": "text/x-python",
   "name": "python",
   "nbconvert_exporter": "python",
   "pygments_lexer": "ipython2",
   "version": "2.7.12"
  }
 },
 "nbformat": 4,
 "nbformat_minor": 1
}
